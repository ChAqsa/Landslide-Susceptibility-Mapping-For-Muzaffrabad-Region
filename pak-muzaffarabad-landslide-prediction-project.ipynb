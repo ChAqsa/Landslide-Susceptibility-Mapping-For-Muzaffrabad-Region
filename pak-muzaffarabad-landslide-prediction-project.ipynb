{
 "cells": [
  {
   "cell_type": "markdown",
   "id": "82f67f2b",
   "metadata": {
    "_cell_guid": "b1076dfc-b9ad-4769-8c92-a6c4dae69d19",
    "_uuid": "8f2839f25d086af736a60e9eeb907d3b93b6e0e5",
    "papermill": {
     "duration": 0.116559,
     "end_time": "2022-02-26T18:20:29.476350",
     "exception": false,
     "start_time": "2022-02-26T18:20:29.359791",
     "status": "completed"
    },
    "tags": []
   },
   "source": [
    "# **Import Libraries**"
   ]
  },
  {
   "cell_type": "code",
   "execution_count": 1,
   "id": "e6bbc2e9",
   "metadata": {
    "execution": {
     "iopub.execute_input": "2022-02-26T18:20:29.719107Z",
     "iopub.status.busy": "2022-02-26T18:20:29.718411Z",
     "iopub.status.idle": "2022-02-26T18:20:53.945948Z",
     "shell.execute_reply": "2022-02-26T18:20:53.945269Z",
     "shell.execute_reply.started": "2022-02-26T18:11:59.628839Z"
    },
    "papermill": {
     "duration": 24.350963,
     "end_time": "2022-02-26T18:20:53.946121",
     "exception": false,
     "start_time": "2022-02-26T18:20:29.595158",
     "status": "completed"
    },
    "tags": []
   },
   "outputs": [
    {
     "name": "stdout",
     "output_type": "stream",
     "text": [
      "Collecting openpyxl\r\n",
      "  Downloading openpyxl-3.0.9-py2.py3-none-any.whl (242 kB)\r\n",
      "     |████████████████████████████████| 242 kB 797 kB/s            \r\n",
      "\u001b[?25hCollecting et-xmlfile\r\n",
      "  Downloading et_xmlfile-1.1.0-py3-none-any.whl (4.7 kB)\r\n",
      "Installing collected packages: et-xmlfile, openpyxl\r\n",
      "Successfully installed et-xmlfile-1.1.0 openpyxl-3.0.9\r\n",
      "\u001b[33mWARNING: Running pip as the 'root' user can result in broken permissions and conflicting behaviour with the system package manager. It is recommended to use a virtual environment instead: https://pip.pypa.io/warnings/venv\u001b[0m\r\n",
      "Collecting seaborn==0.11.0\r\n",
      "  Downloading seaborn-0.11.0-py3-none-any.whl (283 kB)\r\n",
      "     |████████████████████████████████| 283 kB 774 kB/s            \r\n",
      "\u001b[?25hRequirement already satisfied: scipy>=1.0 in /opt/conda/lib/python3.7/site-packages (from seaborn==0.11.0) (1.7.3)\r\n",
      "Requirement already satisfied: pandas>=0.23 in /opt/conda/lib/python3.7/site-packages (from seaborn==0.11.0) (1.3.5)\r\n",
      "Requirement already satisfied: numpy>=1.15 in /opt/conda/lib/python3.7/site-packages (from seaborn==0.11.0) (1.20.3)\r\n",
      "Requirement already satisfied: matplotlib>=2.2 in /opt/conda/lib/python3.7/site-packages (from seaborn==0.11.0) (3.5.1)\r\n",
      "Requirement already satisfied: fonttools>=4.22.0 in /opt/conda/lib/python3.7/site-packages (from matplotlib>=2.2->seaborn==0.11.0) (4.28.4)\r\n",
      "Requirement already satisfied: packaging>=20.0 in /opt/conda/lib/python3.7/site-packages (from matplotlib>=2.2->seaborn==0.11.0) (21.3)\r\n",
      "Requirement already satisfied: cycler>=0.10 in /opt/conda/lib/python3.7/site-packages (from matplotlib>=2.2->seaborn==0.11.0) (0.11.0)\r\n",
      "Requirement already satisfied: python-dateutil>=2.7 in /opt/conda/lib/python3.7/site-packages (from matplotlib>=2.2->seaborn==0.11.0) (2.8.2)\r\n",
      "Requirement already satisfied: pillow>=6.2.0 in /opt/conda/lib/python3.7/site-packages (from matplotlib>=2.2->seaborn==0.11.0) (8.2.0)\r\n",
      "Requirement already satisfied: pyparsing>=2.2.1 in /opt/conda/lib/python3.7/site-packages (from matplotlib>=2.2->seaborn==0.11.0) (3.0.6)\r\n",
      "Requirement already satisfied: kiwisolver>=1.0.1 in /opt/conda/lib/python3.7/site-packages (from matplotlib>=2.2->seaborn==0.11.0) (1.3.2)\r\n",
      "Requirement already satisfied: pytz>=2017.3 in /opt/conda/lib/python3.7/site-packages (from pandas>=0.23->seaborn==0.11.0) (2021.3)\r\n",
      "Requirement already satisfied: six>=1.5 in /opt/conda/lib/python3.7/site-packages (from python-dateutil>=2.7->matplotlib>=2.2->seaborn==0.11.0) (1.16.0)\r\n",
      "Installing collected packages: seaborn\r\n",
      "  Attempting uninstall: seaborn\r\n",
      "    Found existing installation: seaborn 0.11.2\r\n",
      "    Uninstalling seaborn-0.11.2:\r\n",
      "      Successfully uninstalled seaborn-0.11.2\r\n",
      "Successfully installed seaborn-0.11.0\r\n",
      "\u001b[33mWARNING: Running pip as the 'root' user can result in broken permissions and conflicting behaviour with the system package manager. It is recommended to use a virtual environment instead: https://pip.pypa.io/warnings/venv\u001b[0m\r\n",
      "/kaggle/input/landslide-prediction-for-muzaffarabadpakistan/Complete-data.csv\n"
     ]
    }
   ],
   "source": [
    "!pip install openpyxl\n",
    "!pip install seaborn==0.11.0\n",
    "# This Python 3 environment comes with many helpful analytics libraries installed\n",
    "# It is defined by the kaggle/python Docker image: https://github.com/kaggle/docker-python\n",
    "# For example, here's several helpful packages to load\n",
    "\n",
    "import numpy as np # linear algebra\n",
    "import pandas as pd # data processing, CSV file I/O (e.g. pd.read_csv)\n",
    "import openpyxl\n",
    "import matplotlib\n",
    "import matplotlib.pyplot as plt\n",
    "import seaborn as sns\n",
    "import plotly.express as px\n",
    "import missingno\n",
    "import warnings\n",
    "import seaborn as sns\n",
    "from sklearn.metrics import accuracy_score, f1_score,confusion_matrix, recall_score, precision_score, classification_report\n",
    "from sklearn.metrics import confusion_matrix\n",
    "from sklearn.metrics import accuracy_score, f1_score,confusion_matrix, recall_score, precision_score, classification_report\n",
    "from sklearn.metrics import average_precision_score\n",
    "from sklearn.model_selection import GridSearchCV, RandomizedSearchCV\n",
    "from mlxtend.feature_selection import SequentialFeatureSelector as SFS\n",
    "from sklearn.linear_model import LogisticRegression\n",
    "from sklearn.tree import DecisionTreeClassifier\n",
    "from sklearn.neural_network import MLPClassifier\n",
    "from sklearn.neighbors import KNeighborsClassifier\n",
    "from sklearn.svm import SVC\n",
    "from sklearn.ensemble import ExtraTreesClassifier, GradientBoostingClassifier, StackingClassifier, RandomForestClassifier\n",
    "warnings.filterwarnings(\"ignore\")\n",
    "#matplotlib inline\n",
    "import re\n",
    "# Input data files are available in the read-only \"../input/\" directory\n",
    "# For example, running this (by clicking run or pressing Shift+Enter) will list all files under the input directory\n",
    "\n",
    "import os\n",
    "for dirname, _, filenames in os.walk('/kaggle/input'):\n",
    "    for filename in filenames:\n",
    "        print(os.path.join(dirname, filename))\n",
    " # You can write up to 20GB to the current directory (/kaggle/working/) that gets preserved as output when you create a version using \"Save & Run All\" \n",
    "# You can also write temporary files to /kaggle/temp/, but they won't be saved outside of the current session"
   ]
  },
  {
   "cell_type": "markdown",
   "id": "b001d203",
   "metadata": {
    "papermill": {
     "duration": 0.122778,
     "end_time": "2022-02-26T18:20:54.194105",
     "exception": false,
     "start_time": "2022-02-26T18:20:54.071327",
     "status": "completed"
    },
    "tags": []
   },
   "source": [
    "# **EDA(Exploratory Data Analysis)**"
   ]
  },
  {
   "cell_type": "code",
   "execution_count": 2,
   "id": "17afc07e",
   "metadata": {
    "execution": {
     "iopub.execute_input": "2022-02-26T18:20:54.445256Z",
     "iopub.status.busy": "2022-02-26T18:20:54.444584Z",
     "iopub.status.idle": "2022-02-26T18:20:54.460373Z",
     "shell.execute_reply": "2022-02-26T18:20:54.460993Z",
     "shell.execute_reply.started": "2022-02-26T18:12:18.341235Z"
    },
    "papermill": {
     "duration": 0.144083,
     "end_time": "2022-02-26T18:20:54.461177",
     "exception": false,
     "start_time": "2022-02-26T18:20:54.317094",
     "status": "completed"
    },
    "tags": []
   },
   "outputs": [],
   "source": [
    "LS_df = pd.read_csv(\"../input/landslide-prediction-for-muzaffarabadpakistan/Complete-data.csv\")"
   ]
  },
  {
   "cell_type": "code",
   "execution_count": 3,
   "id": "8941fcf1",
   "metadata": {
    "execution": {
     "iopub.execute_input": "2022-02-26T18:20:54.718330Z",
     "iopub.status.busy": "2022-02-26T18:20:54.712163Z",
     "iopub.status.idle": "2022-02-26T18:20:54.735921Z",
     "shell.execute_reply": "2022-02-26T18:20:54.736419Z",
     "shell.execute_reply.started": "2022-02-26T18:12:18.361988Z"
    },
    "papermill": {
     "duration": 0.150556,
     "end_time": "2022-02-26T18:20:54.736617",
     "exception": false,
     "start_time": "2022-02-26T18:20:54.586061",
     "status": "completed"
    },
    "tags": []
   },
   "outputs": [
    {
     "data": {
      "text/html": [
       "<div>\n",
       "<style scoped>\n",
       "    .dataframe tbody tr th:only-of-type {\n",
       "        vertical-align: middle;\n",
       "    }\n",
       "\n",
       "    .dataframe tbody tr th {\n",
       "        vertical-align: top;\n",
       "    }\n",
       "\n",
       "    .dataframe thead th {\n",
       "        text-align: right;\n",
       "    }\n",
       "</style>\n",
       "<table border=\"1\" class=\"dataframe\">\n",
       "  <thead>\n",
       "    <tr style=\"text-align: right;\">\n",
       "      <th></th>\n",
       "      <th>Landslide</th>\n",
       "      <th>Aspect</th>\n",
       "      <th>Curvature</th>\n",
       "      <th>Earthquake</th>\n",
       "      <th>Elevation</th>\n",
       "      <th>Flow</th>\n",
       "      <th>Lithology</th>\n",
       "      <th>NDVI</th>\n",
       "      <th>NDWI</th>\n",
       "      <th>Plan</th>\n",
       "      <th>Precipitation</th>\n",
       "      <th>Profile</th>\n",
       "      <th>Slope</th>\n",
       "    </tr>\n",
       "  </thead>\n",
       "  <tbody>\n",
       "    <tr>\n",
       "      <th>0</th>\n",
       "      <td>0</td>\n",
       "      <td>3</td>\n",
       "      <td>3</td>\n",
       "      <td>2</td>\n",
       "      <td>2</td>\n",
       "      <td>2</td>\n",
       "      <td>1</td>\n",
       "      <td>4</td>\n",
       "      <td>2</td>\n",
       "      <td>2</td>\n",
       "      <td>3</td>\n",
       "      <td>3</td>\n",
       "      <td>2</td>\n",
       "    </tr>\n",
       "    <tr>\n",
       "      <th>1</th>\n",
       "      <td>0</td>\n",
       "      <td>1</td>\n",
       "      <td>5</td>\n",
       "      <td>2</td>\n",
       "      <td>3</td>\n",
       "      <td>1</td>\n",
       "      <td>1</td>\n",
       "      <td>4</td>\n",
       "      <td>2</td>\n",
       "      <td>5</td>\n",
       "      <td>5</td>\n",
       "      <td>2</td>\n",
       "      <td>2</td>\n",
       "    </tr>\n",
       "    <tr>\n",
       "      <th>2</th>\n",
       "      <td>0</td>\n",
       "      <td>3</td>\n",
       "      <td>4</td>\n",
       "      <td>3</td>\n",
       "      <td>2</td>\n",
       "      <td>2</td>\n",
       "      <td>4</td>\n",
       "      <td>3</td>\n",
       "      <td>2</td>\n",
       "      <td>4</td>\n",
       "      <td>5</td>\n",
       "      <td>2</td>\n",
       "      <td>2</td>\n",
       "    </tr>\n",
       "    <tr>\n",
       "      <th>3</th>\n",
       "      <td>0</td>\n",
       "      <td>1</td>\n",
       "      <td>3</td>\n",
       "      <td>3</td>\n",
       "      <td>3</td>\n",
       "      <td>5</td>\n",
       "      <td>1</td>\n",
       "      <td>2</td>\n",
       "      <td>4</td>\n",
       "      <td>3</td>\n",
       "      <td>5</td>\n",
       "      <td>3</td>\n",
       "      <td>3</td>\n",
       "    </tr>\n",
       "    <tr>\n",
       "      <th>4</th>\n",
       "      <td>0</td>\n",
       "      <td>5</td>\n",
       "      <td>4</td>\n",
       "      <td>2</td>\n",
       "      <td>1</td>\n",
       "      <td>4</td>\n",
       "      <td>1</td>\n",
       "      <td>2</td>\n",
       "      <td>4</td>\n",
       "      <td>3</td>\n",
       "      <td>3</td>\n",
       "      <td>1</td>\n",
       "      <td>4</td>\n",
       "    </tr>\n",
       "  </tbody>\n",
       "</table>\n",
       "</div>"
      ],
      "text/plain": [
       "   Landslide  Aspect  Curvature  Earthquake  Elevation  Flow  Lithology  NDVI  \\\n",
       "0          0       3          3           2          2     2          1     4   \n",
       "1          0       1          5           2          3     1          1     4   \n",
       "2          0       3          4           3          2     2          4     3   \n",
       "3          0       1          3           3          3     5          1     2   \n",
       "4          0       5          4           2          1     4          1     2   \n",
       "\n",
       "   NDWI  Plan  Precipitation  Profile  Slope  \n",
       "0     2     2              3        3      2  \n",
       "1     2     5              5        2      2  \n",
       "2     2     4              5        2      2  \n",
       "3     4     3              5        3      3  \n",
       "4     4     3              3        1      4  "
      ]
     },
     "execution_count": 3,
     "metadata": {},
     "output_type": "execute_result"
    }
   ],
   "source": [
    "LS_df.head()"
   ]
  },
  {
   "cell_type": "code",
   "execution_count": 4,
   "id": "7263aeb3",
   "metadata": {
    "execution": {
     "iopub.execute_input": "2022-02-26T18:20:54.995802Z",
     "iopub.status.busy": "2022-02-26T18:20:54.995093Z",
     "iopub.status.idle": "2022-02-26T18:20:54.999842Z",
     "shell.execute_reply": "2022-02-26T18:20:55.000347Z",
     "shell.execute_reply.started": "2022-02-26T18:12:18.381262Z"
    },
    "papermill": {
     "duration": 0.140361,
     "end_time": "2022-02-26T18:20:55.000532",
     "exception": false,
     "start_time": "2022-02-26T18:20:54.860171",
     "status": "completed"
    },
    "tags": []
   },
   "outputs": [
    {
     "data": {
      "text/html": [
       "<div>\n",
       "<style scoped>\n",
       "    .dataframe tbody tr th:only-of-type {\n",
       "        vertical-align: middle;\n",
       "    }\n",
       "\n",
       "    .dataframe tbody tr th {\n",
       "        vertical-align: top;\n",
       "    }\n",
       "\n",
       "    .dataframe thead th {\n",
       "        text-align: right;\n",
       "    }\n",
       "</style>\n",
       "<table border=\"1\" class=\"dataframe\">\n",
       "  <thead>\n",
       "    <tr style=\"text-align: right;\">\n",
       "      <th></th>\n",
       "      <th>Landslide</th>\n",
       "      <th>Aspect</th>\n",
       "      <th>Curvature</th>\n",
       "      <th>Earthquake</th>\n",
       "      <th>Elevation</th>\n",
       "      <th>Flow</th>\n",
       "      <th>Lithology</th>\n",
       "      <th>NDVI</th>\n",
       "      <th>NDWI</th>\n",
       "      <th>Plan</th>\n",
       "      <th>Precipitation</th>\n",
       "      <th>Profile</th>\n",
       "      <th>Slope</th>\n",
       "    </tr>\n",
       "  </thead>\n",
       "  <tbody>\n",
       "    <tr>\n",
       "      <th>1207</th>\n",
       "      <td>1</td>\n",
       "      <td>4</td>\n",
       "      <td>2</td>\n",
       "      <td>1</td>\n",
       "      <td>4</td>\n",
       "      <td>2</td>\n",
       "      <td>5</td>\n",
       "      <td>1</td>\n",
       "      <td>5</td>\n",
       "      <td>3</td>\n",
       "      <td>2</td>\n",
       "      <td>4</td>\n",
       "      <td>2</td>\n",
       "    </tr>\n",
       "    <tr>\n",
       "      <th>1208</th>\n",
       "      <td>1</td>\n",
       "      <td>4</td>\n",
       "      <td>5</td>\n",
       "      <td>1</td>\n",
       "      <td>5</td>\n",
       "      <td>3</td>\n",
       "      <td>5</td>\n",
       "      <td>1</td>\n",
       "      <td>5</td>\n",
       "      <td>5</td>\n",
       "      <td>2</td>\n",
       "      <td>1</td>\n",
       "      <td>5</td>\n",
       "    </tr>\n",
       "    <tr>\n",
       "      <th>1209</th>\n",
       "      <td>1</td>\n",
       "      <td>3</td>\n",
       "      <td>4</td>\n",
       "      <td>1</td>\n",
       "      <td>5</td>\n",
       "      <td>2</td>\n",
       "      <td>5</td>\n",
       "      <td>2</td>\n",
       "      <td>3</td>\n",
       "      <td>3</td>\n",
       "      <td>2</td>\n",
       "      <td>2</td>\n",
       "      <td>5</td>\n",
       "    </tr>\n",
       "    <tr>\n",
       "      <th>1210</th>\n",
       "      <td>1</td>\n",
       "      <td>2</td>\n",
       "      <td>2</td>\n",
       "      <td>1</td>\n",
       "      <td>3</td>\n",
       "      <td>1</td>\n",
       "      <td>1</td>\n",
       "      <td>5</td>\n",
       "      <td>1</td>\n",
       "      <td>1</td>\n",
       "      <td>1</td>\n",
       "      <td>3</td>\n",
       "      <td>3</td>\n",
       "    </tr>\n",
       "    <tr>\n",
       "      <th>1211</th>\n",
       "      <td>1</td>\n",
       "      <td>3</td>\n",
       "      <td>4</td>\n",
       "      <td>1</td>\n",
       "      <td>3</td>\n",
       "      <td>2</td>\n",
       "      <td>1</td>\n",
       "      <td>4</td>\n",
       "      <td>1</td>\n",
       "      <td>4</td>\n",
       "      <td>1</td>\n",
       "      <td>2</td>\n",
       "      <td>3</td>\n",
       "    </tr>\n",
       "  </tbody>\n",
       "</table>\n",
       "</div>"
      ],
      "text/plain": [
       "      Landslide  Aspect  Curvature  Earthquake  Elevation  Flow  Lithology  \\\n",
       "1207          1       4          2           1          4     2          5   \n",
       "1208          1       4          5           1          5     3          5   \n",
       "1209          1       3          4           1          5     2          5   \n",
       "1210          1       2          2           1          3     1          1   \n",
       "1211          1       3          4           1          3     2          1   \n",
       "\n",
       "      NDVI  NDWI  Plan  Precipitation  Profile  Slope  \n",
       "1207     1     5     3              2        4      2  \n",
       "1208     1     5     5              2        1      5  \n",
       "1209     2     3     3              2        2      5  \n",
       "1210     5     1     1              1        3      3  \n",
       "1211     4     1     4              1        2      3  "
      ]
     },
     "execution_count": 4,
     "metadata": {},
     "output_type": "execute_result"
    }
   ],
   "source": [
    "LS_df.tail()"
   ]
  },
  {
   "cell_type": "code",
   "execution_count": 5,
   "id": "513025ac",
   "metadata": {
    "execution": {
     "iopub.execute_input": "2022-02-26T18:20:55.257200Z",
     "iopub.status.busy": "2022-02-26T18:20:55.256449Z",
     "iopub.status.idle": "2022-02-26T18:20:55.262122Z",
     "shell.execute_reply": "2022-02-26T18:20:55.261391Z",
     "shell.execute_reply.started": "2022-02-26T18:12:18.405309Z"
    },
    "papermill": {
     "duration": 0.134785,
     "end_time": "2022-02-26T18:20:55.262273",
     "exception": false,
     "start_time": "2022-02-26T18:20:55.127488",
     "status": "completed"
    },
    "tags": []
   },
   "outputs": [
    {
     "name": "stdout",
     "output_type": "stream",
     "text": [
      "Shape of DataFrame: (1212, 13)\n"
     ]
    }
   ],
   "source": [
    "print( 'Shape of DataFrame: {}'.format(LS_df.shape))"
   ]
  },
  {
   "cell_type": "code",
   "execution_count": 6,
   "id": "f8b940a8",
   "metadata": {
    "execution": {
     "iopub.execute_input": "2022-02-26T18:20:55.520593Z",
     "iopub.status.busy": "2022-02-26T18:20:55.519866Z",
     "iopub.status.idle": "2022-02-26T18:20:55.524529Z",
     "shell.execute_reply": "2022-02-26T18:20:55.525045Z",
     "shell.execute_reply.started": "2022-02-26T18:12:18.413206Z"
    },
    "papermill": {
     "duration": 0.135074,
     "end_time": "2022-02-26T18:20:55.525215",
     "exception": false,
     "start_time": "2022-02-26T18:20:55.390141",
     "status": "completed"
    },
    "tags": []
   },
   "outputs": [
    {
     "name": "stdout",
     "output_type": "stream",
     "text": [
      "Landslide        0\n",
      "Aspect           1\n",
      "Curvature        3\n",
      "Earthquake       3\n",
      "Elevation        3\n",
      "Flow             1\n",
      "Lithology        4\n",
      "NDVI             2\n",
      "NDWI             3\n",
      "Plan             3\n",
      "Precipitation    5\n",
      "Profile          4\n",
      "Slope            2\n",
      "Name: 350, dtype: int64\n"
     ]
    }
   ],
   "source": [
    "print (LS_df.loc[350])"
   ]
  },
  {
   "cell_type": "code",
   "execution_count": 7,
   "id": "83f7185d",
   "metadata": {
    "execution": {
     "iopub.execute_input": "2022-02-26T18:20:55.784979Z",
     "iopub.status.busy": "2022-02-26T18:20:55.784299Z",
     "iopub.status.idle": "2022-02-26T18:20:55.799158Z",
     "shell.execute_reply": "2022-02-26T18:20:55.799729Z",
     "shell.execute_reply.started": "2022-02-26T18:12:18.428059Z"
    },
    "papermill": {
     "duration": 0.146983,
     "end_time": "2022-02-26T18:20:55.799910",
     "exception": false,
     "start_time": "2022-02-26T18:20:55.652927",
     "status": "completed"
    },
    "tags": []
   },
   "outputs": [
    {
     "name": "stdout",
     "output_type": "stream",
     "text": [
      "Numerical Columns:  Index(['Landslide', 'Aspect', 'Curvature', 'Earthquake', 'Elevation', 'Flow',\n",
      "       'Lithology', 'NDVI', 'NDWI', 'Plan', 'Precipitation', 'Profile',\n",
      "       'Slope'],\n",
      "      dtype='object')\n",
      "Categorical Columns: Index([], dtype='object')\n"
     ]
    }
   ],
   "source": [
    "numerical=LS_df.select_dtypes('number').columns\n",
    "categorical = LS_df.select_dtypes('object').columns\n",
    "print(f'Numerical Columns:  {LS_df[numerical].columns}')\n",
    "print(f'Categorical Columns: {LS_df[categorical].columns}')"
   ]
  },
  {
   "cell_type": "code",
   "execution_count": 8,
   "id": "cc63a652",
   "metadata": {
    "execution": {
     "iopub.execute_input": "2022-02-26T18:20:56.054770Z",
     "iopub.status.busy": "2022-02-26T18:20:56.053786Z",
     "iopub.status.idle": "2022-02-26T18:20:56.059329Z",
     "shell.execute_reply": "2022-02-26T18:20:56.059887Z",
     "shell.execute_reply.started": "2022-02-26T18:12:18.449352Z"
    },
    "papermill": {
     "duration": 0.134923,
     "end_time": "2022-02-26T18:20:56.060058",
     "exception": false,
     "start_time": "2022-02-26T18:20:55.925135",
     "status": "completed"
    },
    "tags": []
   },
   "outputs": [
    {
     "data": {
      "text/plain": [
       "Index(['Landslide', 'Aspect', 'Curvature', 'Earthquake', 'Elevation', 'Flow',\n",
       "       'Lithology', 'NDVI', 'NDWI', 'Plan', 'Precipitation', 'Profile',\n",
       "       'Slope'],\n",
       "      dtype='object')"
      ]
     },
     "execution_count": 8,
     "metadata": {},
     "output_type": "execute_result"
    }
   ],
   "source": [
    "LS_df.columns"
   ]
  },
  {
   "cell_type": "code",
   "execution_count": 9,
   "id": "a2d70d44",
   "metadata": {
    "execution": {
     "iopub.execute_input": "2022-02-26T18:20:56.332162Z",
     "iopub.status.busy": "2022-02-26T18:20:56.317293Z",
     "iopub.status.idle": "2022-02-26T18:20:56.335776Z",
     "shell.execute_reply": "2022-02-26T18:20:56.336246Z",
     "shell.execute_reply.started": "2022-02-26T18:12:18.458648Z"
    },
    "papermill": {
     "duration": 0.149403,
     "end_time": "2022-02-26T18:20:56.336436",
     "exception": false,
     "start_time": "2022-02-26T18:20:56.187033",
     "status": "completed"
    },
    "tags": []
   },
   "outputs": [
    {
     "name": "stdout",
     "output_type": "stream",
     "text": [
      "<class 'pandas.core.frame.DataFrame'>\n",
      "RangeIndex: 1212 entries, 0 to 1211\n",
      "Data columns (total 13 columns):\n",
      " #   Column         Non-Null Count  Dtype\n",
      "---  ------         --------------  -----\n",
      " 0   Landslide      1212 non-null   int64\n",
      " 1   Aspect         1212 non-null   int64\n",
      " 2   Curvature      1212 non-null   int64\n",
      " 3   Earthquake     1212 non-null   int64\n",
      " 4   Elevation      1212 non-null   int64\n",
      " 5   Flow           1212 non-null   int64\n",
      " 6   Lithology      1212 non-null   int64\n",
      " 7   NDVI           1212 non-null   int64\n",
      " 8   NDWI           1212 non-null   int64\n",
      " 9   Plan           1212 non-null   int64\n",
      " 10  Precipitation  1212 non-null   int64\n",
      " 11  Profile        1212 non-null   int64\n",
      " 12  Slope          1212 non-null   int64\n",
      "dtypes: int64(13)\n",
      "memory usage: 123.2 KB\n",
      "None\n"
     ]
    }
   ],
   "source": [
    "print(LS_df.info())"
   ]
  },
  {
   "cell_type": "code",
   "execution_count": 10,
   "id": "e03f5392",
   "metadata": {
    "execution": {
     "iopub.execute_input": "2022-02-26T18:20:56.592718Z",
     "iopub.status.busy": "2022-02-26T18:20:56.592097Z",
     "iopub.status.idle": "2022-02-26T18:20:56.599483Z",
     "shell.execute_reply": "2022-02-26T18:20:56.600015Z",
     "shell.execute_reply.started": "2022-02-26T18:12:18.485580Z"
    },
    "papermill": {
     "duration": 0.137437,
     "end_time": "2022-02-26T18:20:56.600182",
     "exception": false,
     "start_time": "2022-02-26T18:20:56.462745",
     "status": "completed"
    },
    "tags": []
   },
   "outputs": [
    {
     "data": {
      "text/plain": [
       "Landslide        1212\n",
       "Aspect           1212\n",
       "Curvature        1212\n",
       "Earthquake       1212\n",
       "Elevation        1212\n",
       "Flow             1212\n",
       "Lithology        1212\n",
       "NDVI             1212\n",
       "NDWI             1212\n",
       "Plan             1212\n",
       "Precipitation    1212\n",
       "Profile          1212\n",
       "Slope            1212\n",
       "dtype: int64"
      ]
     },
     "execution_count": 10,
     "metadata": {},
     "output_type": "execute_result"
    }
   ],
   "source": [
    "LS_df.count()"
   ]
  },
  {
   "cell_type": "code",
   "execution_count": 11,
   "id": "d2a4d8f8",
   "metadata": {
    "execution": {
     "iopub.execute_input": "2022-02-26T18:20:56.864060Z",
     "iopub.status.busy": "2022-02-26T18:20:56.862957Z",
     "iopub.status.idle": "2022-02-26T18:20:56.906543Z",
     "shell.execute_reply": "2022-02-26T18:20:56.905970Z",
     "shell.execute_reply.started": "2022-02-26T18:12:18.503763Z"
    },
    "papermill": {
     "duration": 0.176456,
     "end_time": "2022-02-26T18:20:56.906689",
     "exception": false,
     "start_time": "2022-02-26T18:20:56.730233",
     "status": "completed"
    },
    "tags": []
   },
   "outputs": [
    {
     "data": {
      "text/html": [
       "<div>\n",
       "<style scoped>\n",
       "    .dataframe tbody tr th:only-of-type {\n",
       "        vertical-align: middle;\n",
       "    }\n",
       "\n",
       "    .dataframe tbody tr th {\n",
       "        vertical-align: top;\n",
       "    }\n",
       "\n",
       "    .dataframe thead th {\n",
       "        text-align: right;\n",
       "    }\n",
       "</style>\n",
       "<table border=\"1\" class=\"dataframe\">\n",
       "  <thead>\n",
       "    <tr style=\"text-align: right;\">\n",
       "      <th></th>\n",
       "      <th>Landslide</th>\n",
       "      <th>Aspect</th>\n",
       "      <th>Curvature</th>\n",
       "      <th>Earthquake</th>\n",
       "      <th>Elevation</th>\n",
       "      <th>Flow</th>\n",
       "      <th>Lithology</th>\n",
       "      <th>NDVI</th>\n",
       "      <th>NDWI</th>\n",
       "      <th>Plan</th>\n",
       "      <th>Precipitation</th>\n",
       "      <th>Profile</th>\n",
       "      <th>Slope</th>\n",
       "    </tr>\n",
       "  </thead>\n",
       "  <tbody>\n",
       "    <tr>\n",
       "      <th>count</th>\n",
       "      <td>1212.000000</td>\n",
       "      <td>1212.000000</td>\n",
       "      <td>1212.000000</td>\n",
       "      <td>1212.000000</td>\n",
       "      <td>1212.000000</td>\n",
       "      <td>1212.000000</td>\n",
       "      <td>1212.000000</td>\n",
       "      <td>1212.000000</td>\n",
       "      <td>1212.000000</td>\n",
       "      <td>1212.000000</td>\n",
       "      <td>1212.000000</td>\n",
       "      <td>1212.000000</td>\n",
       "      <td>1212.000000</td>\n",
       "    </tr>\n",
       "    <tr>\n",
       "      <th>mean</th>\n",
       "      <td>0.500000</td>\n",
       "      <td>2.962046</td>\n",
       "      <td>2.977723</td>\n",
       "      <td>2.102310</td>\n",
       "      <td>2.436469</td>\n",
       "      <td>2.338284</td>\n",
       "      <td>1.948845</td>\n",
       "      <td>3.042904</td>\n",
       "      <td>2.773927</td>\n",
       "      <td>3.059406</td>\n",
       "      <td>3.813531</td>\n",
       "      <td>3.262376</td>\n",
       "      <td>2.811881</td>\n",
       "    </tr>\n",
       "    <tr>\n",
       "      <th>std</th>\n",
       "      <td>0.500206</td>\n",
       "      <td>1.147378</td>\n",
       "      <td>1.099658</td>\n",
       "      <td>0.669812</td>\n",
       "      <td>1.242686</td>\n",
       "      <td>1.112686</td>\n",
       "      <td>1.424345</td>\n",
       "      <td>1.239246</td>\n",
       "      <td>1.299830</td>\n",
       "      <td>1.057287</td>\n",
       "      <td>1.347799</td>\n",
       "      <td>1.039502</td>\n",
       "      <td>1.194229</td>\n",
       "    </tr>\n",
       "    <tr>\n",
       "      <th>min</th>\n",
       "      <td>0.000000</td>\n",
       "      <td>1.000000</td>\n",
       "      <td>1.000000</td>\n",
       "      <td>1.000000</td>\n",
       "      <td>1.000000</td>\n",
       "      <td>1.000000</td>\n",
       "      <td>1.000000</td>\n",
       "      <td>1.000000</td>\n",
       "      <td>1.000000</td>\n",
       "      <td>1.000000</td>\n",
       "      <td>1.000000</td>\n",
       "      <td>1.000000</td>\n",
       "      <td>1.000000</td>\n",
       "    </tr>\n",
       "    <tr>\n",
       "      <th>25%</th>\n",
       "      <td>0.000000</td>\n",
       "      <td>2.000000</td>\n",
       "      <td>2.000000</td>\n",
       "      <td>2.000000</td>\n",
       "      <td>1.000000</td>\n",
       "      <td>2.000000</td>\n",
       "      <td>1.000000</td>\n",
       "      <td>2.000000</td>\n",
       "      <td>2.000000</td>\n",
       "      <td>2.000000</td>\n",
       "      <td>3.000000</td>\n",
       "      <td>3.000000</td>\n",
       "      <td>2.000000</td>\n",
       "    </tr>\n",
       "    <tr>\n",
       "      <th>50%</th>\n",
       "      <td>0.500000</td>\n",
       "      <td>3.000000</td>\n",
       "      <td>3.000000</td>\n",
       "      <td>2.000000</td>\n",
       "      <td>2.000000</td>\n",
       "      <td>2.000000</td>\n",
       "      <td>1.000000</td>\n",
       "      <td>3.000000</td>\n",
       "      <td>3.000000</td>\n",
       "      <td>3.000000</td>\n",
       "      <td>4.000000</td>\n",
       "      <td>3.000000</td>\n",
       "      <td>3.000000</td>\n",
       "    </tr>\n",
       "    <tr>\n",
       "      <th>75%</th>\n",
       "      <td>1.000000</td>\n",
       "      <td>4.000000</td>\n",
       "      <td>4.000000</td>\n",
       "      <td>3.000000</td>\n",
       "      <td>3.000000</td>\n",
       "      <td>3.000000</td>\n",
       "      <td>3.000000</td>\n",
       "      <td>4.000000</td>\n",
       "      <td>4.000000</td>\n",
       "      <td>4.000000</td>\n",
       "      <td>5.000000</td>\n",
       "      <td>4.000000</td>\n",
       "      <td>4.000000</td>\n",
       "    </tr>\n",
       "    <tr>\n",
       "      <th>max</th>\n",
       "      <td>1.000000</td>\n",
       "      <td>5.000000</td>\n",
       "      <td>5.000000</td>\n",
       "      <td>3.000000</td>\n",
       "      <td>5.000000</td>\n",
       "      <td>5.000000</td>\n",
       "      <td>6.000000</td>\n",
       "      <td>5.000000</td>\n",
       "      <td>5.000000</td>\n",
       "      <td>5.000000</td>\n",
       "      <td>5.000000</td>\n",
       "      <td>5.000000</td>\n",
       "      <td>5.000000</td>\n",
       "    </tr>\n",
       "  </tbody>\n",
       "</table>\n",
       "</div>"
      ],
      "text/plain": [
       "         Landslide       Aspect    Curvature   Earthquake    Elevation  \\\n",
       "count  1212.000000  1212.000000  1212.000000  1212.000000  1212.000000   \n",
       "mean      0.500000     2.962046     2.977723     2.102310     2.436469   \n",
       "std       0.500206     1.147378     1.099658     0.669812     1.242686   \n",
       "min       0.000000     1.000000     1.000000     1.000000     1.000000   \n",
       "25%       0.000000     2.000000     2.000000     2.000000     1.000000   \n",
       "50%       0.500000     3.000000     3.000000     2.000000     2.000000   \n",
       "75%       1.000000     4.000000     4.000000     3.000000     3.000000   \n",
       "max       1.000000     5.000000     5.000000     3.000000     5.000000   \n",
       "\n",
       "              Flow    Lithology         NDVI         NDWI         Plan  \\\n",
       "count  1212.000000  1212.000000  1212.000000  1212.000000  1212.000000   \n",
       "mean      2.338284     1.948845     3.042904     2.773927     3.059406   \n",
       "std       1.112686     1.424345     1.239246     1.299830     1.057287   \n",
       "min       1.000000     1.000000     1.000000     1.000000     1.000000   \n",
       "25%       2.000000     1.000000     2.000000     2.000000     2.000000   \n",
       "50%       2.000000     1.000000     3.000000     3.000000     3.000000   \n",
       "75%       3.000000     3.000000     4.000000     4.000000     4.000000   \n",
       "max       5.000000     6.000000     5.000000     5.000000     5.000000   \n",
       "\n",
       "       Precipitation      Profile        Slope  \n",
       "count    1212.000000  1212.000000  1212.000000  \n",
       "mean        3.813531     3.262376     2.811881  \n",
       "std         1.347799     1.039502     1.194229  \n",
       "min         1.000000     1.000000     1.000000  \n",
       "25%         3.000000     3.000000     2.000000  \n",
       "50%         4.000000     3.000000     3.000000  \n",
       "75%         5.000000     4.000000     4.000000  \n",
       "max         5.000000     5.000000     5.000000  "
      ]
     },
     "execution_count": 11,
     "metadata": {},
     "output_type": "execute_result"
    }
   ],
   "source": [
    "LS_df.describe()"
   ]
  },
  {
   "cell_type": "code",
   "execution_count": 12,
   "id": "2b5358e6",
   "metadata": {
    "execution": {
     "iopub.execute_input": "2022-02-26T18:20:57.169013Z",
     "iopub.status.busy": "2022-02-26T18:20:57.168327Z",
     "iopub.status.idle": "2022-02-26T18:20:57.190444Z",
     "shell.execute_reply": "2022-02-26T18:20:57.190984Z",
     "shell.execute_reply.started": "2022-02-26T18:12:18.561986Z"
    },
    "papermill": {
     "duration": 0.156735,
     "end_time": "2022-02-26T18:20:57.191156",
     "exception": false,
     "start_time": "2022-02-26T18:20:57.034421",
     "status": "completed"
    },
    "tags": []
   },
   "outputs": [
    {
     "data": {
      "text/html": [
       "<div>\n",
       "<style scoped>\n",
       "    .dataframe tbody tr th:only-of-type {\n",
       "        vertical-align: middle;\n",
       "    }\n",
       "\n",
       "    .dataframe tbody tr th {\n",
       "        vertical-align: top;\n",
       "    }\n",
       "\n",
       "    .dataframe thead th {\n",
       "        text-align: right;\n",
       "    }\n",
       "</style>\n",
       "<table border=\"1\" class=\"dataframe\">\n",
       "  <thead>\n",
       "    <tr style=\"text-align: right;\">\n",
       "      <th></th>\n",
       "      <th>Landslide</th>\n",
       "      <th>Aspect</th>\n",
       "      <th>Curvature</th>\n",
       "      <th>Earthquake</th>\n",
       "      <th>Elevation</th>\n",
       "      <th>Flow</th>\n",
       "      <th>Lithology</th>\n",
       "      <th>NDVI</th>\n",
       "      <th>NDWI</th>\n",
       "      <th>Plan</th>\n",
       "      <th>Precipitation</th>\n",
       "      <th>Profile</th>\n",
       "      <th>Slope</th>\n",
       "    </tr>\n",
       "  </thead>\n",
       "  <tbody>\n",
       "    <tr>\n",
       "      <th>Landslide</th>\n",
       "      <td>1.000000</td>\n",
       "      <td>-0.008633</td>\n",
       "      <td>-0.173393</td>\n",
       "      <td>0.187313</td>\n",
       "      <td>-0.168049</td>\n",
       "      <td>-0.261124</td>\n",
       "      <td>-0.120538</td>\n",
       "      <td>0.111900</td>\n",
       "      <td>-0.194317</td>\n",
       "      <td>-0.103052</td>\n",
       "      <td>0.280490</td>\n",
       "      <td>0.169928</td>\n",
       "      <td>0.123029</td>\n",
       "    </tr>\n",
       "    <tr>\n",
       "      <th>Aspect</th>\n",
       "      <td>-0.008633</td>\n",
       "      <td>1.000000</td>\n",
       "      <td>-0.024232</td>\n",
       "      <td>0.014727</td>\n",
       "      <td>0.017998</td>\n",
       "      <td>0.024295</td>\n",
       "      <td>0.025086</td>\n",
       "      <td>-0.158561</td>\n",
       "      <td>0.168099</td>\n",
       "      <td>-0.043066</td>\n",
       "      <td>-0.010454</td>\n",
       "      <td>-0.015876</td>\n",
       "      <td>0.048420</td>\n",
       "    </tr>\n",
       "    <tr>\n",
       "      <th>Curvature</th>\n",
       "      <td>-0.173393</td>\n",
       "      <td>-0.024232</td>\n",
       "      <td>1.000000</td>\n",
       "      <td>-0.049595</td>\n",
       "      <td>0.193843</td>\n",
       "      <td>0.025736</td>\n",
       "      <td>0.058319</td>\n",
       "      <td>0.094625</td>\n",
       "      <td>-0.089028</td>\n",
       "      <td>0.815075</td>\n",
       "      <td>-0.104207</td>\n",
       "      <td>-0.806851</td>\n",
       "      <td>0.143316</td>\n",
       "    </tr>\n",
       "    <tr>\n",
       "      <th>Earthquake</th>\n",
       "      <td>0.187313</td>\n",
       "      <td>0.014727</td>\n",
       "      <td>-0.049595</td>\n",
       "      <td>1.000000</td>\n",
       "      <td>0.071308</td>\n",
       "      <td>0.003382</td>\n",
       "      <td>0.095507</td>\n",
       "      <td>-0.134619</td>\n",
       "      <td>0.118588</td>\n",
       "      <td>-0.022582</td>\n",
       "      <td>0.825169</td>\n",
       "      <td>0.049177</td>\n",
       "      <td>0.055050</td>\n",
       "    </tr>\n",
       "    <tr>\n",
       "      <th>Elevation</th>\n",
       "      <td>-0.168049</td>\n",
       "      <td>0.017998</td>\n",
       "      <td>0.193843</td>\n",
       "      <td>0.071308</td>\n",
       "      <td>1.000000</td>\n",
       "      <td>0.026903</td>\n",
       "      <td>0.429702</td>\n",
       "      <td>-0.217003</td>\n",
       "      <td>0.187921</td>\n",
       "      <td>0.104691</td>\n",
       "      <td>-0.003628</td>\n",
       "      <td>-0.228721</td>\n",
       "      <td>0.333029</td>\n",
       "    </tr>\n",
       "    <tr>\n",
       "      <th>Flow</th>\n",
       "      <td>-0.261124</td>\n",
       "      <td>0.024295</td>\n",
       "      <td>0.025736</td>\n",
       "      <td>0.003382</td>\n",
       "      <td>0.026903</td>\n",
       "      <td>1.000000</td>\n",
       "      <td>-0.033881</td>\n",
       "      <td>-0.393805</td>\n",
       "      <td>0.462291</td>\n",
       "      <td>0.041163</td>\n",
       "      <td>0.002451</td>\n",
       "      <td>-0.011119</td>\n",
       "      <td>-0.078842</td>\n",
       "    </tr>\n",
       "    <tr>\n",
       "      <th>Lithology</th>\n",
       "      <td>-0.120538</td>\n",
       "      <td>0.025086</td>\n",
       "      <td>0.058319</td>\n",
       "      <td>0.095507</td>\n",
       "      <td>0.429702</td>\n",
       "      <td>-0.033881</td>\n",
       "      <td>1.000000</td>\n",
       "      <td>-0.129279</td>\n",
       "      <td>0.119080</td>\n",
       "      <td>0.008051</td>\n",
       "      <td>0.005351</td>\n",
       "      <td>-0.048930</td>\n",
       "      <td>0.169103</td>\n",
       "    </tr>\n",
       "    <tr>\n",
       "      <th>NDVI</th>\n",
       "      <td>0.111900</td>\n",
       "      <td>-0.158561</td>\n",
       "      <td>0.094625</td>\n",
       "      <td>-0.134619</td>\n",
       "      <td>-0.217003</td>\n",
       "      <td>-0.393805</td>\n",
       "      <td>-0.129279</td>\n",
       "      <td>1.000000</td>\n",
       "      <td>-0.931590</td>\n",
       "      <td>0.102043</td>\n",
       "      <td>-0.096063</td>\n",
       "      <td>-0.042720</td>\n",
       "      <td>0.041726</td>\n",
       "    </tr>\n",
       "    <tr>\n",
       "      <th>NDWI</th>\n",
       "      <td>-0.194317</td>\n",
       "      <td>0.168099</td>\n",
       "      <td>-0.089028</td>\n",
       "      <td>0.118588</td>\n",
       "      <td>0.187921</td>\n",
       "      <td>0.462291</td>\n",
       "      <td>0.119080</td>\n",
       "      <td>-0.931590</td>\n",
       "      <td>1.000000</td>\n",
       "      <td>-0.097774</td>\n",
       "      <td>0.078201</td>\n",
       "      <td>0.040269</td>\n",
       "      <td>-0.098171</td>\n",
       "    </tr>\n",
       "    <tr>\n",
       "      <th>Plan</th>\n",
       "      <td>-0.103052</td>\n",
       "      <td>-0.043066</td>\n",
       "      <td>0.815075</td>\n",
       "      <td>-0.022582</td>\n",
       "      <td>0.104691</td>\n",
       "      <td>0.041163</td>\n",
       "      <td>0.008051</td>\n",
       "      <td>0.102043</td>\n",
       "      <td>-0.097774</td>\n",
       "      <td>1.000000</td>\n",
       "      <td>-0.072768</td>\n",
       "      <td>-0.487539</td>\n",
       "      <td>0.055292</td>\n",
       "    </tr>\n",
       "    <tr>\n",
       "      <th>Precipitation</th>\n",
       "      <td>0.280490</td>\n",
       "      <td>-0.010454</td>\n",
       "      <td>-0.104207</td>\n",
       "      <td>0.825169</td>\n",
       "      <td>-0.003628</td>\n",
       "      <td>0.002451</td>\n",
       "      <td>0.005351</td>\n",
       "      <td>-0.096063</td>\n",
       "      <td>0.078201</td>\n",
       "      <td>-0.072768</td>\n",
       "      <td>1.000000</td>\n",
       "      <td>0.095657</td>\n",
       "      <td>0.002301</td>\n",
       "    </tr>\n",
       "    <tr>\n",
       "      <th>Profile</th>\n",
       "      <td>0.169928</td>\n",
       "      <td>-0.015876</td>\n",
       "      <td>-0.806851</td>\n",
       "      <td>0.049177</td>\n",
       "      <td>-0.228721</td>\n",
       "      <td>-0.011119</td>\n",
       "      <td>-0.048930</td>\n",
       "      <td>-0.042720</td>\n",
       "      <td>0.040269</td>\n",
       "      <td>-0.487539</td>\n",
       "      <td>0.095657</td>\n",
       "      <td>1.000000</td>\n",
       "      <td>-0.192357</td>\n",
       "    </tr>\n",
       "    <tr>\n",
       "      <th>Slope</th>\n",
       "      <td>0.123029</td>\n",
       "      <td>0.048420</td>\n",
       "      <td>0.143316</td>\n",
       "      <td>0.055050</td>\n",
       "      <td>0.333029</td>\n",
       "      <td>-0.078842</td>\n",
       "      <td>0.169103</td>\n",
       "      <td>0.041726</td>\n",
       "      <td>-0.098171</td>\n",
       "      <td>0.055292</td>\n",
       "      <td>0.002301</td>\n",
       "      <td>-0.192357</td>\n",
       "      <td>1.000000</td>\n",
       "    </tr>\n",
       "  </tbody>\n",
       "</table>\n",
       "</div>"
      ],
      "text/plain": [
       "               Landslide    Aspect  Curvature  Earthquake  Elevation  \\\n",
       "Landslide       1.000000 -0.008633  -0.173393    0.187313  -0.168049   \n",
       "Aspect         -0.008633  1.000000  -0.024232    0.014727   0.017998   \n",
       "Curvature      -0.173393 -0.024232   1.000000   -0.049595   0.193843   \n",
       "Earthquake      0.187313  0.014727  -0.049595    1.000000   0.071308   \n",
       "Elevation      -0.168049  0.017998   0.193843    0.071308   1.000000   \n",
       "Flow           -0.261124  0.024295   0.025736    0.003382   0.026903   \n",
       "Lithology      -0.120538  0.025086   0.058319    0.095507   0.429702   \n",
       "NDVI            0.111900 -0.158561   0.094625   -0.134619  -0.217003   \n",
       "NDWI           -0.194317  0.168099  -0.089028    0.118588   0.187921   \n",
       "Plan           -0.103052 -0.043066   0.815075   -0.022582   0.104691   \n",
       "Precipitation   0.280490 -0.010454  -0.104207    0.825169  -0.003628   \n",
       "Profile         0.169928 -0.015876  -0.806851    0.049177  -0.228721   \n",
       "Slope           0.123029  0.048420   0.143316    0.055050   0.333029   \n",
       "\n",
       "                   Flow  Lithology      NDVI      NDWI      Plan  \\\n",
       "Landslide     -0.261124  -0.120538  0.111900 -0.194317 -0.103052   \n",
       "Aspect         0.024295   0.025086 -0.158561  0.168099 -0.043066   \n",
       "Curvature      0.025736   0.058319  0.094625 -0.089028  0.815075   \n",
       "Earthquake     0.003382   0.095507 -0.134619  0.118588 -0.022582   \n",
       "Elevation      0.026903   0.429702 -0.217003  0.187921  0.104691   \n",
       "Flow           1.000000  -0.033881 -0.393805  0.462291  0.041163   \n",
       "Lithology     -0.033881   1.000000 -0.129279  0.119080  0.008051   \n",
       "NDVI          -0.393805  -0.129279  1.000000 -0.931590  0.102043   \n",
       "NDWI           0.462291   0.119080 -0.931590  1.000000 -0.097774   \n",
       "Plan           0.041163   0.008051  0.102043 -0.097774  1.000000   \n",
       "Precipitation  0.002451   0.005351 -0.096063  0.078201 -0.072768   \n",
       "Profile       -0.011119  -0.048930 -0.042720  0.040269 -0.487539   \n",
       "Slope         -0.078842   0.169103  0.041726 -0.098171  0.055292   \n",
       "\n",
       "               Precipitation   Profile     Slope  \n",
       "Landslide           0.280490  0.169928  0.123029  \n",
       "Aspect             -0.010454 -0.015876  0.048420  \n",
       "Curvature          -0.104207 -0.806851  0.143316  \n",
       "Earthquake          0.825169  0.049177  0.055050  \n",
       "Elevation          -0.003628 -0.228721  0.333029  \n",
       "Flow                0.002451 -0.011119 -0.078842  \n",
       "Lithology           0.005351 -0.048930  0.169103  \n",
       "NDVI               -0.096063 -0.042720  0.041726  \n",
       "NDWI                0.078201  0.040269 -0.098171  \n",
       "Plan               -0.072768 -0.487539  0.055292  \n",
       "Precipitation       1.000000  0.095657  0.002301  \n",
       "Profile             0.095657  1.000000 -0.192357  \n",
       "Slope               0.002301 -0.192357  1.000000  "
      ]
     },
     "execution_count": 12,
     "metadata": {},
     "output_type": "execute_result"
    }
   ],
   "source": [
    "LS_df.corr()"
   ]
  },
  {
   "cell_type": "code",
   "execution_count": 13,
   "id": "8205d32c",
   "metadata": {
    "execution": {
     "iopub.execute_input": "2022-02-26T18:20:57.449754Z",
     "iopub.status.busy": "2022-02-26T18:20:57.448806Z",
     "iopub.status.idle": "2022-02-26T18:20:57.464457Z",
     "shell.execute_reply": "2022-02-26T18:20:57.464973Z",
     "shell.execute_reply.started": "2022-02-26T18:12:18.593641Z"
    },
    "papermill": {
     "duration": 0.146652,
     "end_time": "2022-02-26T18:20:57.465139",
     "exception": false,
     "start_time": "2022-02-26T18:20:57.318487",
     "status": "completed"
    },
    "tags": []
   },
   "outputs": [
    {
     "data": {
      "text/html": [
       "<div>\n",
       "<style scoped>\n",
       "    .dataframe tbody tr th:only-of-type {\n",
       "        vertical-align: middle;\n",
       "    }\n",
       "\n",
       "    .dataframe tbody tr th {\n",
       "        vertical-align: top;\n",
       "    }\n",
       "\n",
       "    .dataframe thead th {\n",
       "        text-align: right;\n",
       "    }\n",
       "</style>\n",
       "<table border=\"1\" class=\"dataframe\">\n",
       "  <thead>\n",
       "    <tr style=\"text-align: right;\">\n",
       "      <th></th>\n",
       "      <th>Landslide</th>\n",
       "      <th>Aspect</th>\n",
       "      <th>Curvature</th>\n",
       "      <th>Earthquake</th>\n",
       "      <th>Elevation</th>\n",
       "      <th>Flow</th>\n",
       "      <th>Lithology</th>\n",
       "      <th>NDVI</th>\n",
       "      <th>NDWI</th>\n",
       "      <th>Plan</th>\n",
       "      <th>Precipitation</th>\n",
       "      <th>Profile</th>\n",
       "      <th>Slope</th>\n",
       "    </tr>\n",
       "  </thead>\n",
       "  <tbody>\n",
       "    <tr>\n",
       "      <th>0</th>\n",
       "      <td>0</td>\n",
       "      <td>3</td>\n",
       "      <td>3</td>\n",
       "      <td>2</td>\n",
       "      <td>2</td>\n",
       "      <td>2</td>\n",
       "      <td>1</td>\n",
       "      <td>4</td>\n",
       "      <td>2</td>\n",
       "      <td>2</td>\n",
       "      <td>3</td>\n",
       "      <td>3</td>\n",
       "      <td>2</td>\n",
       "    </tr>\n",
       "    <tr>\n",
       "      <th>400</th>\n",
       "      <td>0</td>\n",
       "      <td>1</td>\n",
       "      <td>5</td>\n",
       "      <td>2</td>\n",
       "      <td>2</td>\n",
       "      <td>5</td>\n",
       "      <td>1</td>\n",
       "      <td>4</td>\n",
       "      <td>2</td>\n",
       "      <td>5</td>\n",
       "      <td>5</td>\n",
       "      <td>1</td>\n",
       "      <td>4</td>\n",
       "    </tr>\n",
       "    <tr>\n",
       "      <th>401</th>\n",
       "      <td>0</td>\n",
       "      <td>4</td>\n",
       "      <td>3</td>\n",
       "      <td>1</td>\n",
       "      <td>4</td>\n",
       "      <td>3</td>\n",
       "      <td>1</td>\n",
       "      <td>3</td>\n",
       "      <td>3</td>\n",
       "      <td>3</td>\n",
       "      <td>2</td>\n",
       "      <td>3</td>\n",
       "      <td>2</td>\n",
       "    </tr>\n",
       "    <tr>\n",
       "      <th>402</th>\n",
       "      <td>0</td>\n",
       "      <td>3</td>\n",
       "      <td>2</td>\n",
       "      <td>1</td>\n",
       "      <td>2</td>\n",
       "      <td>2</td>\n",
       "      <td>1</td>\n",
       "      <td>4</td>\n",
       "      <td>1</td>\n",
       "      <td>3</td>\n",
       "      <td>1</td>\n",
       "      <td>4</td>\n",
       "      <td>2</td>\n",
       "    </tr>\n",
       "    <tr>\n",
       "      <th>403</th>\n",
       "      <td>0</td>\n",
       "      <td>2</td>\n",
       "      <td>5</td>\n",
       "      <td>1</td>\n",
       "      <td>1</td>\n",
       "      <td>1</td>\n",
       "      <td>3</td>\n",
       "      <td>5</td>\n",
       "      <td>1</td>\n",
       "      <td>4</td>\n",
       "      <td>1</td>\n",
       "      <td>2</td>\n",
       "      <td>2</td>\n",
       "    </tr>\n",
       "    <tr>\n",
       "      <th>...</th>\n",
       "      <td>...</td>\n",
       "      <td>...</td>\n",
       "      <td>...</td>\n",
       "      <td>...</td>\n",
       "      <td>...</td>\n",
       "      <td>...</td>\n",
       "      <td>...</td>\n",
       "      <td>...</td>\n",
       "      <td>...</td>\n",
       "      <td>...</td>\n",
       "      <td>...</td>\n",
       "      <td>...</td>\n",
       "      <td>...</td>\n",
       "    </tr>\n",
       "    <tr>\n",
       "      <th>808</th>\n",
       "      <td>1</td>\n",
       "      <td>4</td>\n",
       "      <td>2</td>\n",
       "      <td>3</td>\n",
       "      <td>2</td>\n",
       "      <td>3</td>\n",
       "      <td>4</td>\n",
       "      <td>3</td>\n",
       "      <td>3</td>\n",
       "      <td>2</td>\n",
       "      <td>5</td>\n",
       "      <td>4</td>\n",
       "      <td>4</td>\n",
       "    </tr>\n",
       "    <tr>\n",
       "      <th>809</th>\n",
       "      <td>1</td>\n",
       "      <td>3</td>\n",
       "      <td>3</td>\n",
       "      <td>2</td>\n",
       "      <td>1</td>\n",
       "      <td>2</td>\n",
       "      <td>1</td>\n",
       "      <td>4</td>\n",
       "      <td>1</td>\n",
       "      <td>4</td>\n",
       "      <td>4</td>\n",
       "      <td>4</td>\n",
       "      <td>5</td>\n",
       "    </tr>\n",
       "    <tr>\n",
       "      <th>810</th>\n",
       "      <td>1</td>\n",
       "      <td>3</td>\n",
       "      <td>3</td>\n",
       "      <td>2</td>\n",
       "      <td>1</td>\n",
       "      <td>2</td>\n",
       "      <td>1</td>\n",
       "      <td>4</td>\n",
       "      <td>2</td>\n",
       "      <td>4</td>\n",
       "      <td>3</td>\n",
       "      <td>4</td>\n",
       "      <td>1</td>\n",
       "    </tr>\n",
       "    <tr>\n",
       "      <th>812</th>\n",
       "      <td>1</td>\n",
       "      <td>3</td>\n",
       "      <td>3</td>\n",
       "      <td>2</td>\n",
       "      <td>1</td>\n",
       "      <td>1</td>\n",
       "      <td>1</td>\n",
       "      <td>5</td>\n",
       "      <td>1</td>\n",
       "      <td>3</td>\n",
       "      <td>3</td>\n",
       "      <td>3</td>\n",
       "      <td>3</td>\n",
       "    </tr>\n",
       "    <tr>\n",
       "      <th>1211</th>\n",
       "      <td>1</td>\n",
       "      <td>3</td>\n",
       "      <td>4</td>\n",
       "      <td>1</td>\n",
       "      <td>3</td>\n",
       "      <td>2</td>\n",
       "      <td>1</td>\n",
       "      <td>4</td>\n",
       "      <td>1</td>\n",
       "      <td>4</td>\n",
       "      <td>1</td>\n",
       "      <td>2</td>\n",
       "      <td>3</td>\n",
       "    </tr>\n",
       "  </tbody>\n",
       "</table>\n",
       "<p>1212 rows × 13 columns</p>\n",
       "</div>"
      ],
      "text/plain": [
       "      Landslide  Aspect  Curvature  Earthquake  Elevation  Flow  Lithology  \\\n",
       "0             0       3          3           2          2     2          1   \n",
       "400           0       1          5           2          2     5          1   \n",
       "401           0       4          3           1          4     3          1   \n",
       "402           0       3          2           1          2     2          1   \n",
       "403           0       2          5           1          1     1          3   \n",
       "...         ...     ...        ...         ...        ...   ...        ...   \n",
       "808           1       4          2           3          2     3          4   \n",
       "809           1       3          3           2          1     2          1   \n",
       "810           1       3          3           2          1     2          1   \n",
       "812           1       3          3           2          1     1          1   \n",
       "1211          1       3          4           1          3     2          1   \n",
       "\n",
       "      NDVI  NDWI  Plan  Precipitation  Profile  Slope  \n",
       "0        4     2     2              3        3      2  \n",
       "400      4     2     5              5        1      4  \n",
       "401      3     3     3              2        3      2  \n",
       "402      4     1     3              1        4      2  \n",
       "403      5     1     4              1        2      2  \n",
       "...    ...   ...   ...            ...      ...    ...  \n",
       "808      3     3     2              5        4      4  \n",
       "809      4     1     4              4        4      5  \n",
       "810      4     2     4              3        4      1  \n",
       "812      5     1     3              3        3      3  \n",
       "1211     4     1     4              1        2      3  \n",
       "\n",
       "[1212 rows x 13 columns]"
      ]
     },
     "execution_count": 13,
     "metadata": {},
     "output_type": "execute_result"
    }
   ],
   "source": [
    "LS_df.sort_values(by=\"Landslide\", ascending=True)"
   ]
  },
  {
   "cell_type": "code",
   "execution_count": 14,
   "id": "052a05d6",
   "metadata": {
    "execution": {
     "iopub.execute_input": "2022-02-26T18:20:57.731021Z",
     "iopub.status.busy": "2022-02-26T18:20:57.730038Z",
     "iopub.status.idle": "2022-02-26T18:20:57.743162Z",
     "shell.execute_reply": "2022-02-26T18:20:57.742542Z",
     "shell.execute_reply.started": "2022-02-26T18:12:18.617739Z"
    },
    "papermill": {
     "duration": 0.147171,
     "end_time": "2022-02-26T18:20:57.743326",
     "exception": false,
     "start_time": "2022-02-26T18:20:57.596155",
     "status": "completed"
    },
    "tags": []
   },
   "outputs": [
    {
     "data": {
      "text/html": [
       "<div>\n",
       "<style scoped>\n",
       "    .dataframe tbody tr th:only-of-type {\n",
       "        vertical-align: middle;\n",
       "    }\n",
       "\n",
       "    .dataframe tbody tr th {\n",
       "        vertical-align: top;\n",
       "    }\n",
       "\n",
       "    .dataframe thead th {\n",
       "        text-align: right;\n",
       "    }\n",
       "</style>\n",
       "<table border=\"1\" class=\"dataframe\">\n",
       "  <thead>\n",
       "    <tr style=\"text-align: right;\">\n",
       "      <th></th>\n",
       "      <th>Landslide</th>\n",
       "      <th>Aspect</th>\n",
       "      <th>Curvature</th>\n",
       "      <th>Earthquake</th>\n",
       "      <th>Elevation</th>\n",
       "      <th>Flow</th>\n",
       "      <th>Lithology</th>\n",
       "      <th>NDVI</th>\n",
       "      <th>NDWI</th>\n",
       "      <th>Plan</th>\n",
       "      <th>Precipitation</th>\n",
       "      <th>Profile</th>\n",
       "      <th>Slope</th>\n",
       "    </tr>\n",
       "  </thead>\n",
       "  <tbody>\n",
       "    <tr>\n",
       "      <th>606</th>\n",
       "      <td>1</td>\n",
       "      <td>1</td>\n",
       "      <td>3</td>\n",
       "      <td>2</td>\n",
       "      <td>2</td>\n",
       "      <td>5</td>\n",
       "      <td>1</td>\n",
       "      <td>4</td>\n",
       "      <td>2</td>\n",
       "      <td>3</td>\n",
       "      <td>5</td>\n",
       "      <td>3</td>\n",
       "      <td>3</td>\n",
       "    </tr>\n",
       "    <tr>\n",
       "      <th>814</th>\n",
       "      <td>1</td>\n",
       "      <td>4</td>\n",
       "      <td>1</td>\n",
       "      <td>2</td>\n",
       "      <td>1</td>\n",
       "      <td>2</td>\n",
       "      <td>1</td>\n",
       "      <td>3</td>\n",
       "      <td>3</td>\n",
       "      <td>1</td>\n",
       "      <td>5</td>\n",
       "      <td>4</td>\n",
       "      <td>1</td>\n",
       "    </tr>\n",
       "    <tr>\n",
       "      <th>812</th>\n",
       "      <td>1</td>\n",
       "      <td>3</td>\n",
       "      <td>3</td>\n",
       "      <td>2</td>\n",
       "      <td>1</td>\n",
       "      <td>1</td>\n",
       "      <td>1</td>\n",
       "      <td>5</td>\n",
       "      <td>1</td>\n",
       "      <td>3</td>\n",
       "      <td>3</td>\n",
       "      <td>3</td>\n",
       "      <td>3</td>\n",
       "    </tr>\n",
       "    <tr>\n",
       "      <th>811</th>\n",
       "      <td>1</td>\n",
       "      <td>3</td>\n",
       "      <td>4</td>\n",
       "      <td>2</td>\n",
       "      <td>1</td>\n",
       "      <td>2</td>\n",
       "      <td>1</td>\n",
       "      <td>4</td>\n",
       "      <td>2</td>\n",
       "      <td>3</td>\n",
       "      <td>5</td>\n",
       "      <td>2</td>\n",
       "      <td>5</td>\n",
       "    </tr>\n",
       "    <tr>\n",
       "      <th>810</th>\n",
       "      <td>1</td>\n",
       "      <td>3</td>\n",
       "      <td>3</td>\n",
       "      <td>2</td>\n",
       "      <td>1</td>\n",
       "      <td>2</td>\n",
       "      <td>1</td>\n",
       "      <td>4</td>\n",
       "      <td>2</td>\n",
       "      <td>4</td>\n",
       "      <td>3</td>\n",
       "      <td>4</td>\n",
       "      <td>1</td>\n",
       "    </tr>\n",
       "  </tbody>\n",
       "</table>\n",
       "</div>"
      ],
      "text/plain": [
       "     Landslide  Aspect  Curvature  Earthquake  Elevation  Flow  Lithology  \\\n",
       "606          1       1          3           2          2     5          1   \n",
       "814          1       4          1           2          1     2          1   \n",
       "812          1       3          3           2          1     1          1   \n",
       "811          1       3          4           2          1     2          1   \n",
       "810          1       3          3           2          1     2          1   \n",
       "\n",
       "     NDVI  NDWI  Plan  Precipitation  Profile  Slope  \n",
       "606     4     2     3              5        3      3  \n",
       "814     3     3     1              5        4      1  \n",
       "812     5     1     3              3        3      3  \n",
       "811     4     2     3              5        2      5  \n",
       "810     4     2     4              3        4      1  "
      ]
     },
     "execution_count": 14,
     "metadata": {},
     "output_type": "execute_result"
    }
   ],
   "source": [
    "LS_df.sort_values(by=\"Landslide\", ascending=False).head()"
   ]
  },
  {
   "cell_type": "code",
   "execution_count": 15,
   "id": "08709dfc",
   "metadata": {
    "execution": {
     "iopub.execute_input": "2022-02-26T18:20:58.012672Z",
     "iopub.status.busy": "2022-02-26T18:20:58.011804Z",
     "iopub.status.idle": "2022-02-26T18:20:58.015624Z",
     "shell.execute_reply": "2022-02-26T18:20:58.014982Z",
     "shell.execute_reply.started": "2022-02-26T18:12:18.637340Z"
    },
    "papermill": {
     "duration": 0.142147,
     "end_time": "2022-02-26T18:20:58.015769",
     "exception": false,
     "start_time": "2022-02-26T18:20:57.873622",
     "status": "completed"
    },
    "tags": []
   },
   "outputs": [
    {
     "data": {
      "text/plain": [
       "Landslide        0\n",
       "Aspect           0\n",
       "Curvature        0\n",
       "Earthquake       0\n",
       "Elevation        0\n",
       "Flow             0\n",
       "Lithology        0\n",
       "NDVI             0\n",
       "NDWI             0\n",
       "Plan             0\n",
       "Precipitation    0\n",
       "Profile          0\n",
       "Slope            0\n",
       "dtype: int64"
      ]
     },
     "execution_count": 15,
     "metadata": {},
     "output_type": "execute_result"
    }
   ],
   "source": [
    "LS_df.isna().sum()"
   ]
  },
  {
   "cell_type": "code",
   "execution_count": 16,
   "id": "10e64c0d",
   "metadata": {
    "execution": {
     "iopub.execute_input": "2022-02-26T18:20:58.282059Z",
     "iopub.status.busy": "2022-02-26T18:20:58.281093Z",
     "iopub.status.idle": "2022-02-26T18:20:58.301203Z",
     "shell.execute_reply": "2022-02-26T18:20:58.301778Z",
     "shell.execute_reply.started": "2022-02-26T18:12:18.648589Z"
    },
    "papermill": {
     "duration": 0.154167,
     "end_time": "2022-02-26T18:20:58.301949",
     "exception": false,
     "start_time": "2022-02-26T18:20:58.147782",
     "status": "completed"
    },
    "tags": []
   },
   "outputs": [
    {
     "data": {
      "text/html": [
       "<div>\n",
       "<style scoped>\n",
       "    .dataframe tbody tr th:only-of-type {\n",
       "        vertical-align: middle;\n",
       "    }\n",
       "\n",
       "    .dataframe tbody tr th {\n",
       "        vertical-align: top;\n",
       "    }\n",
       "\n",
       "    .dataframe thead th {\n",
       "        text-align: right;\n",
       "    }\n",
       "</style>\n",
       "<table border=\"1\" class=\"dataframe\">\n",
       "  <thead>\n",
       "    <tr style=\"text-align: right;\">\n",
       "      <th></th>\n",
       "      <th>Landslide</th>\n",
       "      <th>Aspect</th>\n",
       "      <th>Curvature</th>\n",
       "      <th>Earthquake</th>\n",
       "      <th>Elevation</th>\n",
       "      <th>Flow</th>\n",
       "      <th>Lithology</th>\n",
       "      <th>NDVI</th>\n",
       "      <th>NDWI</th>\n",
       "      <th>Plan</th>\n",
       "      <th>Precipitation</th>\n",
       "      <th>Profile</th>\n",
       "      <th>Slope</th>\n",
       "    </tr>\n",
       "  </thead>\n",
       "  <tbody>\n",
       "    <tr>\n",
       "      <th>0</th>\n",
       "      <td>False</td>\n",
       "      <td>False</td>\n",
       "      <td>False</td>\n",
       "      <td>False</td>\n",
       "      <td>False</td>\n",
       "      <td>False</td>\n",
       "      <td>False</td>\n",
       "      <td>False</td>\n",
       "      <td>False</td>\n",
       "      <td>False</td>\n",
       "      <td>False</td>\n",
       "      <td>False</td>\n",
       "      <td>False</td>\n",
       "    </tr>\n",
       "    <tr>\n",
       "      <th>1</th>\n",
       "      <td>False</td>\n",
       "      <td>False</td>\n",
       "      <td>False</td>\n",
       "      <td>False</td>\n",
       "      <td>False</td>\n",
       "      <td>False</td>\n",
       "      <td>False</td>\n",
       "      <td>False</td>\n",
       "      <td>False</td>\n",
       "      <td>False</td>\n",
       "      <td>False</td>\n",
       "      <td>False</td>\n",
       "      <td>False</td>\n",
       "    </tr>\n",
       "    <tr>\n",
       "      <th>2</th>\n",
       "      <td>False</td>\n",
       "      <td>False</td>\n",
       "      <td>False</td>\n",
       "      <td>False</td>\n",
       "      <td>False</td>\n",
       "      <td>False</td>\n",
       "      <td>False</td>\n",
       "      <td>False</td>\n",
       "      <td>False</td>\n",
       "      <td>False</td>\n",
       "      <td>False</td>\n",
       "      <td>False</td>\n",
       "      <td>False</td>\n",
       "    </tr>\n",
       "    <tr>\n",
       "      <th>3</th>\n",
       "      <td>False</td>\n",
       "      <td>False</td>\n",
       "      <td>False</td>\n",
       "      <td>False</td>\n",
       "      <td>False</td>\n",
       "      <td>False</td>\n",
       "      <td>False</td>\n",
       "      <td>False</td>\n",
       "      <td>False</td>\n",
       "      <td>False</td>\n",
       "      <td>False</td>\n",
       "      <td>False</td>\n",
       "      <td>False</td>\n",
       "    </tr>\n",
       "    <tr>\n",
       "      <th>4</th>\n",
       "      <td>False</td>\n",
       "      <td>False</td>\n",
       "      <td>False</td>\n",
       "      <td>False</td>\n",
       "      <td>False</td>\n",
       "      <td>False</td>\n",
       "      <td>False</td>\n",
       "      <td>False</td>\n",
       "      <td>False</td>\n",
       "      <td>False</td>\n",
       "      <td>False</td>\n",
       "      <td>False</td>\n",
       "      <td>False</td>\n",
       "    </tr>\n",
       "    <tr>\n",
       "      <th>...</th>\n",
       "      <td>...</td>\n",
       "      <td>...</td>\n",
       "      <td>...</td>\n",
       "      <td>...</td>\n",
       "      <td>...</td>\n",
       "      <td>...</td>\n",
       "      <td>...</td>\n",
       "      <td>...</td>\n",
       "      <td>...</td>\n",
       "      <td>...</td>\n",
       "      <td>...</td>\n",
       "      <td>...</td>\n",
       "      <td>...</td>\n",
       "    </tr>\n",
       "    <tr>\n",
       "      <th>1207</th>\n",
       "      <td>False</td>\n",
       "      <td>False</td>\n",
       "      <td>False</td>\n",
       "      <td>False</td>\n",
       "      <td>False</td>\n",
       "      <td>False</td>\n",
       "      <td>False</td>\n",
       "      <td>False</td>\n",
       "      <td>False</td>\n",
       "      <td>False</td>\n",
       "      <td>False</td>\n",
       "      <td>False</td>\n",
       "      <td>False</td>\n",
       "    </tr>\n",
       "    <tr>\n",
       "      <th>1208</th>\n",
       "      <td>False</td>\n",
       "      <td>False</td>\n",
       "      <td>False</td>\n",
       "      <td>False</td>\n",
       "      <td>False</td>\n",
       "      <td>False</td>\n",
       "      <td>False</td>\n",
       "      <td>False</td>\n",
       "      <td>False</td>\n",
       "      <td>False</td>\n",
       "      <td>False</td>\n",
       "      <td>False</td>\n",
       "      <td>False</td>\n",
       "    </tr>\n",
       "    <tr>\n",
       "      <th>1209</th>\n",
       "      <td>False</td>\n",
       "      <td>False</td>\n",
       "      <td>False</td>\n",
       "      <td>False</td>\n",
       "      <td>False</td>\n",
       "      <td>False</td>\n",
       "      <td>False</td>\n",
       "      <td>False</td>\n",
       "      <td>False</td>\n",
       "      <td>False</td>\n",
       "      <td>False</td>\n",
       "      <td>False</td>\n",
       "      <td>False</td>\n",
       "    </tr>\n",
       "    <tr>\n",
       "      <th>1210</th>\n",
       "      <td>False</td>\n",
       "      <td>False</td>\n",
       "      <td>False</td>\n",
       "      <td>False</td>\n",
       "      <td>False</td>\n",
       "      <td>False</td>\n",
       "      <td>False</td>\n",
       "      <td>False</td>\n",
       "      <td>False</td>\n",
       "      <td>False</td>\n",
       "      <td>False</td>\n",
       "      <td>False</td>\n",
       "      <td>False</td>\n",
       "    </tr>\n",
       "    <tr>\n",
       "      <th>1211</th>\n",
       "      <td>False</td>\n",
       "      <td>False</td>\n",
       "      <td>False</td>\n",
       "      <td>False</td>\n",
       "      <td>False</td>\n",
       "      <td>False</td>\n",
       "      <td>False</td>\n",
       "      <td>False</td>\n",
       "      <td>False</td>\n",
       "      <td>False</td>\n",
       "      <td>False</td>\n",
       "      <td>False</td>\n",
       "      <td>False</td>\n",
       "    </tr>\n",
       "  </tbody>\n",
       "</table>\n",
       "<p>1212 rows × 13 columns</p>\n",
       "</div>"
      ],
      "text/plain": [
       "      Landslide  Aspect  Curvature  Earthquake  Elevation   Flow  Lithology  \\\n",
       "0         False   False      False       False      False  False      False   \n",
       "1         False   False      False       False      False  False      False   \n",
       "2         False   False      False       False      False  False      False   \n",
       "3         False   False      False       False      False  False      False   \n",
       "4         False   False      False       False      False  False      False   \n",
       "...         ...     ...        ...         ...        ...    ...        ...   \n",
       "1207      False   False      False       False      False  False      False   \n",
       "1208      False   False      False       False      False  False      False   \n",
       "1209      False   False      False       False      False  False      False   \n",
       "1210      False   False      False       False      False  False      False   \n",
       "1211      False   False      False       False      False  False      False   \n",
       "\n",
       "       NDVI   NDWI   Plan  Precipitation  Profile  Slope  \n",
       "0     False  False  False          False    False  False  \n",
       "1     False  False  False          False    False  False  \n",
       "2     False  False  False          False    False  False  \n",
       "3     False  False  False          False    False  False  \n",
       "4     False  False  False          False    False  False  \n",
       "...     ...    ...    ...            ...      ...    ...  \n",
       "1207  False  False  False          False    False  False  \n",
       "1208  False  False  False          False    False  False  \n",
       "1209  False  False  False          False    False  False  \n",
       "1210  False  False  False          False    False  False  \n",
       "1211  False  False  False          False    False  False  \n",
       "\n",
       "[1212 rows x 13 columns]"
      ]
     },
     "execution_count": 16,
     "metadata": {},
     "output_type": "execute_result"
    }
   ],
   "source": [
    "LS_df.isna()"
   ]
  },
  {
   "cell_type": "code",
   "execution_count": 17,
   "id": "2e81e9c5",
   "metadata": {
    "execution": {
     "iopub.execute_input": "2022-02-26T18:20:58.568012Z",
     "iopub.status.busy": "2022-02-26T18:20:58.567015Z",
     "iopub.status.idle": "2022-02-26T18:20:58.578729Z",
     "shell.execute_reply": "2022-02-26T18:20:58.579311Z",
     "shell.execute_reply.started": "2022-02-26T18:12:18.682085Z"
    },
    "papermill": {
     "duration": 0.146174,
     "end_time": "2022-02-26T18:20:58.579492",
     "exception": false,
     "start_time": "2022-02-26T18:20:58.433318",
     "status": "completed"
    },
    "tags": []
   },
   "outputs": [
    {
     "data": {
      "text/html": [
       "<div>\n",
       "<style scoped>\n",
       "    .dataframe tbody tr th:only-of-type {\n",
       "        vertical-align: middle;\n",
       "    }\n",
       "\n",
       "    .dataframe tbody tr th {\n",
       "        vertical-align: top;\n",
       "    }\n",
       "\n",
       "    .dataframe thead th {\n",
       "        text-align: right;\n",
       "    }\n",
       "</style>\n",
       "<table border=\"1\" class=\"dataframe\">\n",
       "  <thead>\n",
       "    <tr style=\"text-align: right;\">\n",
       "      <th></th>\n",
       "      <th>Landslide</th>\n",
       "      <th>Curvature</th>\n",
       "      <th>Earthquake</th>\n",
       "    </tr>\n",
       "  </thead>\n",
       "  <tbody>\n",
       "    <tr>\n",
       "      <th>100</th>\n",
       "      <td>0</td>\n",
       "      <td>5</td>\n",
       "      <td>1</td>\n",
       "    </tr>\n",
       "    <tr>\n",
       "      <th>101</th>\n",
       "      <td>0</td>\n",
       "      <td>5</td>\n",
       "      <td>3</td>\n",
       "    </tr>\n",
       "    <tr>\n",
       "      <th>102</th>\n",
       "      <td>0</td>\n",
       "      <td>4</td>\n",
       "      <td>1</td>\n",
       "    </tr>\n",
       "    <tr>\n",
       "      <th>103</th>\n",
       "      <td>0</td>\n",
       "      <td>4</td>\n",
       "      <td>1</td>\n",
       "    </tr>\n",
       "    <tr>\n",
       "      <th>104</th>\n",
       "      <td>0</td>\n",
       "      <td>3</td>\n",
       "      <td>1</td>\n",
       "    </tr>\n",
       "    <tr>\n",
       "      <th>...</th>\n",
       "      <td>...</td>\n",
       "      <td>...</td>\n",
       "      <td>...</td>\n",
       "    </tr>\n",
       "    <tr>\n",
       "      <th>246</th>\n",
       "      <td>0</td>\n",
       "      <td>4</td>\n",
       "      <td>2</td>\n",
       "    </tr>\n",
       "    <tr>\n",
       "      <th>247</th>\n",
       "      <td>0</td>\n",
       "      <td>4</td>\n",
       "      <td>2</td>\n",
       "    </tr>\n",
       "    <tr>\n",
       "      <th>248</th>\n",
       "      <td>0</td>\n",
       "      <td>4</td>\n",
       "      <td>1</td>\n",
       "    </tr>\n",
       "    <tr>\n",
       "      <th>249</th>\n",
       "      <td>0</td>\n",
       "      <td>3</td>\n",
       "      <td>1</td>\n",
       "    </tr>\n",
       "    <tr>\n",
       "      <th>250</th>\n",
       "      <td>0</td>\n",
       "      <td>1</td>\n",
       "      <td>1</td>\n",
       "    </tr>\n",
       "  </tbody>\n",
       "</table>\n",
       "<p>151 rows × 3 columns</p>\n",
       "</div>"
      ],
      "text/plain": [
       "     Landslide  Curvature  Earthquake\n",
       "100          0          5           1\n",
       "101          0          5           3\n",
       "102          0          4           1\n",
       "103          0          4           1\n",
       "104          0          3           1\n",
       "..         ...        ...         ...\n",
       "246          0          4           2\n",
       "247          0          4           2\n",
       "248          0          4           1\n",
       "249          0          3           1\n",
       "250          0          1           1\n",
       "\n",
       "[151 rows x 3 columns]"
      ]
     },
     "execution_count": 17,
     "metadata": {},
     "output_type": "execute_result"
    }
   ],
   "source": [
    " df = LS_df.loc[100:250]\n",
    "df[['Landslide', 'Curvature' , 'Earthquake']]"
   ]
  },
  {
   "cell_type": "code",
   "execution_count": 18,
   "id": "135a2112",
   "metadata": {
    "execution": {
     "iopub.execute_input": "2022-02-26T18:20:58.853233Z",
     "iopub.status.busy": "2022-02-26T18:20:58.852405Z",
     "iopub.status.idle": "2022-02-26T18:20:58.855690Z",
     "shell.execute_reply": "2022-02-26T18:20:58.856177Z",
     "shell.execute_reply.started": "2022-02-26T18:12:18.701099Z"
    },
    "papermill": {
     "duration": 0.144765,
     "end_time": "2022-02-26T18:20:58.856344",
     "exception": false,
     "start_time": "2022-02-26T18:20:58.711579",
     "status": "completed"
    },
    "tags": []
   },
   "outputs": [
    {
     "data": {
      "text/plain": [
       "2    656\n",
       "3    340\n",
       "1    216\n",
       "Name: Earthquake, dtype: int64"
      ]
     },
     "execution_count": 18,
     "metadata": {},
     "output_type": "execute_result"
    }
   ],
   "source": [
    "# Analysing Earthquake\n",
    "LS_df[\"Earthquake\"].value_counts()"
   ]
  },
  {
   "cell_type": "code",
   "execution_count": 19,
   "id": "4b84ec60",
   "metadata": {
    "execution": {
     "iopub.execute_input": "2022-02-26T18:20:59.130387Z",
     "iopub.status.busy": "2022-02-26T18:20:59.129319Z",
     "iopub.status.idle": "2022-02-26T18:20:59.135931Z",
     "shell.execute_reply": "2022-02-26T18:20:59.136429Z",
     "shell.execute_reply.started": "2022-02-26T18:12:18.712470Z"
    },
    "papermill": {
     "duration": 0.147856,
     "end_time": "2022-02-26T18:20:59.136637",
     "exception": false,
     "start_time": "2022-02-26T18:20:58.988781",
     "status": "completed"
    },
    "tags": []
   },
   "outputs": [
    {
     "data": {
      "text/plain": [
       "14"
      ]
     },
     "execution_count": 19,
     "metadata": {},
     "output_type": "execute_result"
    }
   ],
   "source": [
    "#Find the duplicates\n",
    "LS_df.duplicated().sum()"
   ]
  },
  {
   "cell_type": "code",
   "execution_count": 20,
   "id": "f971adb1",
   "metadata": {
    "execution": {
     "iopub.execute_input": "2022-02-26T18:20:59.408687Z",
     "iopub.status.busy": "2022-02-26T18:20:59.404874Z",
     "iopub.status.idle": "2022-02-26T18:20:59.410954Z",
     "shell.execute_reply": "2022-02-26T18:20:59.411552Z",
     "shell.execute_reply.started": "2022-02-26T18:12:18.736576Z"
    },
    "papermill": {
     "duration": 0.142367,
     "end_time": "2022-02-26T18:20:59.411723",
     "exception": false,
     "start_time": "2022-02-26T18:20:59.269356",
     "status": "completed"
    },
    "tags": []
   },
   "outputs": [
    {
     "data": {
      "text/plain": [
       "array([2, 3, 4, 1, 5])"
      ]
     },
     "execution_count": 20,
     "metadata": {},
     "output_type": "execute_result"
    }
   ],
   "source": [
    "#unique values\n",
    " \n",
    "LS_df['Flow'].unique()\n",
    " \n",
    "LS_df['Plan'].unique()\n",
    " \n",
    "LS_df['Slope'].unique()"
   ]
  },
  {
   "cell_type": "code",
   "execution_count": 21,
   "id": "d3bf5cf0",
   "metadata": {
    "execution": {
     "iopub.execute_input": "2022-02-26T18:20:59.681379Z",
     "iopub.status.busy": "2022-02-26T18:20:59.680748Z",
     "iopub.status.idle": "2022-02-26T18:20:59.695747Z",
     "shell.execute_reply": "2022-02-26T18:20:59.696245Z",
     "shell.execute_reply.started": "2022-02-26T18:12:18.750690Z"
    },
    "papermill": {
     "duration": 0.151671,
     "end_time": "2022-02-26T18:20:59.696416",
     "exception": false,
     "start_time": "2022-02-26T18:20:59.544745",
     "status": "completed"
    },
    "tags": []
   },
   "outputs": [
    {
     "data": {
      "text/html": [
       "<div>\n",
       "<style scoped>\n",
       "    .dataframe tbody tr th:only-of-type {\n",
       "        vertical-align: middle;\n",
       "    }\n",
       "\n",
       "    .dataframe tbody tr th {\n",
       "        vertical-align: top;\n",
       "    }\n",
       "\n",
       "    .dataframe thead th {\n",
       "        text-align: right;\n",
       "    }\n",
       "</style>\n",
       "<table border=\"1\" class=\"dataframe\">\n",
       "  <thead>\n",
       "    <tr style=\"text-align: right;\">\n",
       "      <th></th>\n",
       "      <th>Landslide</th>\n",
       "      <th>Aspect</th>\n",
       "      <th>Curvature</th>\n",
       "      <th>Earthquake</th>\n",
       "      <th>Elevation</th>\n",
       "      <th>Flow</th>\n",
       "      <th>Lithology</th>\n",
       "      <th>NDVI</th>\n",
       "      <th>NDWI</th>\n",
       "      <th>Plan</th>\n",
       "      <th>Precipitation</th>\n",
       "      <th>Profile</th>\n",
       "      <th>Slope</th>\n",
       "    </tr>\n",
       "  </thead>\n",
       "  <tbody>\n",
       "    <tr>\n",
       "      <th>109</th>\n",
       "      <td>0</td>\n",
       "      <td>2</td>\n",
       "      <td>1</td>\n",
       "      <td>3</td>\n",
       "      <td>2</td>\n",
       "      <td>1</td>\n",
       "      <td>4</td>\n",
       "      <td>2</td>\n",
       "      <td>4</td>\n",
       "      <td>1</td>\n",
       "      <td>5</td>\n",
       "      <td>4</td>\n",
       "      <td>1</td>\n",
       "    </tr>\n",
       "    <tr>\n",
       "      <th>110</th>\n",
       "      <td>0</td>\n",
       "      <td>5</td>\n",
       "      <td>2</td>\n",
       "      <td>2</td>\n",
       "      <td>1</td>\n",
       "      <td>3</td>\n",
       "      <td>1</td>\n",
       "      <td>3</td>\n",
       "      <td>3</td>\n",
       "      <td>2</td>\n",
       "      <td>3</td>\n",
       "      <td>4</td>\n",
       "      <td>2</td>\n",
       "    </tr>\n",
       "    <tr>\n",
       "      <th>115</th>\n",
       "      <td>0</td>\n",
       "      <td>2</td>\n",
       "      <td>3</td>\n",
       "      <td>3</td>\n",
       "      <td>4</td>\n",
       "      <td>1</td>\n",
       "      <td>6</td>\n",
       "      <td>4</td>\n",
       "      <td>2</td>\n",
       "      <td>3</td>\n",
       "      <td>5</td>\n",
       "      <td>4</td>\n",
       "      <td>4</td>\n",
       "    </tr>\n",
       "    <tr>\n",
       "      <th>121</th>\n",
       "      <td>0</td>\n",
       "      <td>2</td>\n",
       "      <td>2</td>\n",
       "      <td>1</td>\n",
       "      <td>1</td>\n",
       "      <td>1</td>\n",
       "      <td>1</td>\n",
       "      <td>3</td>\n",
       "      <td>2</td>\n",
       "      <td>3</td>\n",
       "      <td>1</td>\n",
       "      <td>4</td>\n",
       "      <td>1</td>\n",
       "    </tr>\n",
       "    <tr>\n",
       "      <th>122</th>\n",
       "      <td>0</td>\n",
       "      <td>1</td>\n",
       "      <td>2</td>\n",
       "      <td>2</td>\n",
       "      <td>1</td>\n",
       "      <td>5</td>\n",
       "      <td>1</td>\n",
       "      <td>4</td>\n",
       "      <td>2</td>\n",
       "      <td>3</td>\n",
       "      <td>2</td>\n",
       "      <td>4</td>\n",
       "      <td>3</td>\n",
       "    </tr>\n",
       "  </tbody>\n",
       "</table>\n",
       "</div>"
      ],
      "text/plain": [
       "     Landslide  Aspect  Curvature  Earthquake  Elevation  Flow  Lithology  \\\n",
       "109          0       2          1           3          2     1          4   \n",
       "110          0       5          2           2          1     3          1   \n",
       "115          0       2          3           3          4     1          6   \n",
       "121          0       2          2           1          1     1          1   \n",
       "122          0       1          2           2          1     5          1   \n",
       "\n",
       "     NDVI  NDWI  Plan  Precipitation  Profile  Slope  \n",
       "109     2     4     1              5        4      1  \n",
       "110     3     3     2              3        4      2  \n",
       "115     4     2     3              5        4      4  \n",
       "121     3     2     3              1        4      1  \n",
       "122     4     2     3              2        4      3  "
      ]
     },
     "execution_count": 21,
     "metadata": {},
     "output_type": "execute_result"
    }
   ],
   "source": [
    "#Filter data\n",
    "df[LS_df['Profile']==4].head()"
   ]
  },
  {
   "cell_type": "code",
   "execution_count": 22,
   "id": "b3ffddfc",
   "metadata": {
    "execution": {
     "iopub.execute_input": "2022-02-26T18:20:59.969535Z",
     "iopub.status.busy": "2022-02-26T18:20:59.968865Z",
     "iopub.status.idle": "2022-02-26T18:20:59.975217Z",
     "shell.execute_reply": "2022-02-26T18:20:59.975777Z",
     "shell.execute_reply.started": "2022-02-26T18:12:18.778601Z"
    },
    "papermill": {
     "duration": 0.144655,
     "end_time": "2022-02-26T18:20:59.975968",
     "exception": false,
     "start_time": "2022-02-26T18:20:59.831313",
     "status": "completed"
    },
    "tags": []
   },
   "outputs": [
    {
     "name": "stdout",
     "output_type": "stream",
     "text": [
      "['Landslide', 'Aspect', 'Curvature', 'Earthquake', 'Elevation', 'Flow', 'Lithology', 'NDVI', 'NDWI', 'Plan', 'Precipitation', 'Profile', 'Slope']\n"
     ]
    }
   ],
   "source": [
    "dis_features = [feature for feature in LS_df.columns if len(LS_df[feature].unique()) < 20 ]\n",
    "print(dis_features)"
   ]
  },
  {
   "cell_type": "markdown",
   "id": "f278cfb8",
   "metadata": {
    "papermill": {
     "duration": 0.134897,
     "end_time": "2022-02-26T18:21:00.245232",
     "exception": false,
     "start_time": "2022-02-26T18:21:00.110335",
     "status": "completed"
    },
    "tags": []
   },
   "source": [
    "Data Visualization"
   ]
  },
  {
   "cell_type": "code",
   "execution_count": 23,
   "id": "61045e87",
   "metadata": {
    "execution": {
     "iopub.execute_input": "2022-02-26T18:21:00.519030Z",
     "iopub.status.busy": "2022-02-26T18:21:00.518302Z",
     "iopub.status.idle": "2022-02-26T18:21:01.462423Z",
     "shell.execute_reply": "2022-02-26T18:21:01.462937Z",
     "shell.execute_reply.started": "2022-02-26T18:12:18.789188Z"
    },
    "papermill": {
     "duration": 1.084861,
     "end_time": "2022-02-26T18:21:01.463104",
     "exception": false,
     "start_time": "2022-02-26T18:21:00.378243",
     "status": "completed"
    },
    "tags": []
   },
   "outputs": [
    {
     "data": {
      "image/png": "[encoded data removed]",
      "text/plain": [
       "<Figure size 864x648 with 2 Axes>"
      ]
     },
     "metadata": {
      "needs_background": "light"
     },
     "output_type": "display_data"
    }
   ],
   "source": [
    "import matplotlib.pyplot as plt\n",
    "plt.figure(figsize=(12, 9))\n",
    "corr = df.corr( method = 'spearman')\n",
    "sns.heatmap(corr, annot=True, square=True ,linewidths=.5)\n",
    "plt.yticks(rotation=0)\n",
    "plt.show()"
   ]
  },
  {
   "cell_type": "code",
   "execution_count": 24,
   "id": "e110849d",
   "metadata": {
    "execution": {
     "iopub.execute_input": "2022-02-26T18:21:01.772484Z",
     "iopub.status.busy": "2022-02-26T18:21:01.771820Z",
     "iopub.status.idle": "2022-02-26T18:21:02.066502Z",
     "shell.execute_reply": "2022-02-26T18:21:02.065867Z",
     "shell.execute_reply.started": "2022-02-26T18:12:19.771450Z"
    },
    "papermill": {
     "duration": 0.4661,
     "end_time": "2022-02-26T18:21:02.066643",
     "exception": false,
     "start_time": "2022-02-26T18:21:01.600543",
     "status": "completed"
    },
    "tags": []
   },
   "outputs": [
    {
     "data": {
      "image/png": "[encoded data removed]",
      "text/plain": [
       "<Figure size 432x288 with 2 Axes>"
      ]
     },
     "metadata": {
      "needs_background": "light"
     },
     "output_type": "display_data"
    }
   ],
   "source": [
    "list1 = ['Aspect', 'Earthquake', 'Flow', 'Landslide', 'Slope']\n",
    "sns.heatmap(LS_df[list1].corr(), annot = True, fmt = '.2f')\n",
    "plt.show()\n"
   ]
  },
  {
   "cell_type": "code",
   "execution_count": 25,
   "id": "983e9b36",
   "metadata": {
    "execution": {
     "iopub.execute_input": "2022-02-26T18:21:02.349615Z",
     "iopub.status.busy": "2022-02-26T18:21:02.348935Z",
     "iopub.status.idle": "2022-02-26T18:21:02.826148Z",
     "shell.execute_reply": "2022-02-26T18:21:02.825415Z",
     "shell.execute_reply.started": "2022-02-26T18:12:20.099146Z"
    },
    "papermill": {
     "duration": 0.620652,
     "end_time": "2022-02-26T18:21:02.826316",
     "exception": false,
     "start_time": "2022-02-26T18:21:02.205664",
     "status": "completed"
    },
    "tags": []
   },
   "outputs": [
    {
     "data": {
      "image/png": "[encoded data removed]",
      "text/plain": [
       "<Figure size 432x432 with 1 Axes>"
      ]
     },
     "metadata": {
      "needs_background": "light"
     },
     "output_type": "display_data"
    }
   ],
   "source": [
    "g = sns.factorplot(x = 'NDVI', y = 'NDWI', data = LS_df, kind = 'bar', size = 6)\n",
    "g.set_ylabels('Landslide Prediction Probability')\n",
    "plt.show()"
   ]
  },
  {
   "cell_type": "code",
   "execution_count": 26,
   "id": "862c1e65",
   "metadata": {
    "execution": {
     "iopub.execute_input": "2022-02-26T18:21:03.111313Z",
     "iopub.status.busy": "2022-02-26T18:21:03.110335Z",
     "iopub.status.idle": "2022-02-26T18:21:03.343446Z",
     "shell.execute_reply": "2022-02-26T18:21:03.343981Z",
     "shell.execute_reply.started": "2022-02-26T18:12:20.575397Z"
    },
    "papermill": {
     "duration": 0.377521,
     "end_time": "2022-02-26T18:21:03.344144",
     "exception": false,
     "start_time": "2022-02-26T18:21:02.966623",
     "status": "completed"
    },
    "tags": []
   },
   "outputs": [
    {
     "data": {
      "image/png": "[encoded data removed]",
      "text/plain": [
       "<Figure size 432x288 with 1 Axes>"
      ]
     },
     "metadata": {
      "needs_background": "light"
     },
     "output_type": "display_data"
    }
   ],
   "source": [
    "df_pivot = pd.pivot_table(LS_df, values=\"Slope\",index=\"Flow\",columns=\"Landslide\", aggfunc=np.mean)\n",
    "#Creating a grouped bar chart\n",
    "ax = df_pivot.plot(kind=\"bar\",alpha=0.5)\n",
    "plt.title('Chart title')\n",
    "plt.xlabel('X axis title')\n",
    "plt.ylabel('Y axis title') \n",
    "# Show the plot\n",
    "plt.show()"
   ]
  },
  {
   "cell_type": "code",
   "execution_count": 27,
   "id": "5804c36c",
   "metadata": {
    "execution": {
     "iopub.execute_input": "2022-02-26T18:21:03.629453Z",
     "iopub.status.busy": "2022-02-26T18:21:03.628499Z",
     "iopub.status.idle": "2022-02-26T18:21:03.884749Z",
     "shell.execute_reply": "2022-02-26T18:21:03.885228Z",
     "shell.execute_reply.started": "2022-02-26T18:12:20.835929Z"
    },
    "papermill": {
     "duration": 0.401326,
     "end_time": "2022-02-26T18:21:03.885530",
     "exception": false,
     "start_time": "2022-02-26T18:21:03.484204",
     "status": "completed"
    },
    "tags": []
   },
   "outputs": [
    {
     "data": {
      "text/plain": [
       "<AxesSubplot:xlabel='Aspect', ylabel='Curvature'>"
      ]
     },
     "execution_count": 27,
     "metadata": {},
     "output_type": "execute_result"
    },
    {
     "data": {
      "image/png": "[encoded data removed]",
      "text/plain": [
       "<Figure size 432x288 with 1 Axes>"
      ]
     },
     "metadata": {
      "needs_background": "light"
     },
     "output_type": "display_data"
    }
   ],
   "source": [
    "sns.boxplot(x=\"Aspect\", y=\"Curvature\", data=LS_df)"
   ]
  },
  {
   "cell_type": "code",
   "execution_count": 28,
   "id": "568d4f5d",
   "metadata": {
    "execution": {
     "iopub.execute_input": "2022-02-26T18:21:04.173896Z",
     "iopub.status.busy": "2022-02-26T18:21:04.172930Z",
     "iopub.status.idle": "2022-02-26T18:21:04.489496Z",
     "shell.execute_reply": "2022-02-26T18:21:04.490169Z",
     "shell.execute_reply.started": "2022-02-26T18:12:21.106212Z"
    },
    "papermill": {
     "duration": 0.462073,
     "end_time": "2022-02-26T18:21:04.490359",
     "exception": false,
     "start_time": "2022-02-26T18:21:04.028286",
     "status": "completed"
    },
    "tags": []
   },
   "outputs": [
    {
     "data": {
      "text/plain": [
       "<AxesSubplot:xlabel='Aspect', ylabel='Profile'>"
      ]
     },
     "execution_count": 28,
     "metadata": {},
     "output_type": "execute_result"
    },
    {
     "data": {
      "image/png": "[encoded data removed]",
      "text/plain": [
       "<Figure size 432x288 with 1 Axes>"
      ]
     },
     "metadata": {
      "needs_background": "light"
     },
     "output_type": "display_data"
    }
   ],
   "source": [
    "sns.violinplot(x=\"Aspect\", y=\"Profile\", data= LS_df, size=6)"
   ]
  },
  {
   "cell_type": "code",
   "execution_count": 29,
   "id": "266f4019",
   "metadata": {
    "execution": {
     "iopub.execute_input": "2022-02-26T18:21:04.786442Z",
     "iopub.status.busy": "2022-02-26T18:21:04.785448Z",
     "iopub.status.idle": "2022-02-26T18:21:05.165859Z",
     "shell.execute_reply": "2022-02-26T18:21:05.165205Z",
     "shell.execute_reply.started": "2022-02-26T18:12:21.476918Z"
    },
    "papermill": {
     "duration": 0.532028,
     "end_time": "2022-02-26T18:21:05.166014",
     "exception": false,
     "start_time": "2022-02-26T18:21:04.633986",
     "status": "completed"
    },
    "tags": []
   },
   "outputs": [
    {
     "data": {
      "text/plain": [
       "<seaborn.axisgrid.FacetGrid at 0x7fcd70db4a90>"
      ]
     },
     "execution_count": 29,
     "metadata": {},
     "output_type": "execute_result"
    },
    {
     "data": {
      "image/png": "[encoded data removed]",
      "text/plain": [
       "<Figure size 487.875x432 with 1 Axes>"
      ]
     },
     "metadata": {
      "needs_background": "light"
     },
     "output_type": "display_data"
    }
   ],
   "source": [
    "sns.FacetGrid(LS_df, hue=\"Landslide\", size=6) \\\n",
    "   .map(sns.kdeplot, \"Plan\") \\\n",
    "   .add_legend()"
   ]
  },
  {
   "cell_type": "code",
   "execution_count": 30,
   "id": "6f35f1ac",
   "metadata": {
    "execution": {
     "iopub.execute_input": "2022-02-26T18:21:05.464108Z",
     "iopub.status.busy": "2022-02-26T18:21:05.463381Z",
     "iopub.status.idle": "2022-02-26T18:21:06.270596Z",
     "shell.execute_reply": "2022-02-26T18:21:06.271301Z",
     "shell.execute_reply.started": "2022-02-26T18:12:21.902752Z"
    },
    "papermill": {
     "duration": 0.960668,
     "end_time": "2022-02-26T18:21:06.271501",
     "exception": false,
     "start_time": "2022-02-26T18:21:05.310833",
     "status": "completed"
    },
    "tags": []
   },
   "outputs": [
    {
     "data": {
      "image/png": "[encoded data removed]",
      "text/plain": [
       "<Figure size 1152x1008 with 2 Axes>"
      ]
     },
     "metadata": {},
     "output_type": "display_data"
    }
   ],
   "source": [
    "num_features = ['Curvature', 'Elevation']\n",
    "plt.style.use('fivethirtyeight')\n",
    "\n",
    "plt.figure(figsize=(16, 14))\n",
    "for i, feature in enumerate(num_features):\n",
    "    plt.subplot(2, 2, i+1)\n",
    "    plt.hist(x=[LS_df[feature][LS_df['Landslide'] == 1], LS_df[feature][LS_df['Landslide']==0]],\n",
    "            stacked=True, label=['Landslide', 'Not Landslide'], bins=20, color=['orange', 'b'])\n",
    "    plt.legend()\n",
    "    plt.xlabel(f'{feature}', fontsize=15)\n",
    "    plt.ylabel('Count', fontsize=15)\n",
    "\n",
    "\n",
    "sns.despine()"
   ]
  },
  {
   "cell_type": "code",
   "execution_count": 31,
   "id": "bd96042f",
   "metadata": {
    "execution": {
     "iopub.execute_input": "2022-02-26T18:21:06.585018Z",
     "iopub.status.busy": "2022-02-26T18:21:06.583593Z",
     "iopub.status.idle": "2022-02-26T18:21:06.788307Z",
     "shell.execute_reply": "2022-02-26T18:21:06.787713Z",
     "shell.execute_reply.started": "2022-02-26T18:12:22.587538Z"
    },
    "papermill": {
     "duration": 0.370659,
     "end_time": "2022-02-26T18:21:06.788451",
     "exception": false,
     "start_time": "2022-02-26T18:21:06.417792",
     "status": "completed"
    },
    "tags": []
   },
   "outputs": [
    {
     "data": {
      "image/png": "[encoded data removed]",
      "text/plain": [
       "<Figure size 720x360 with 1 Axes>"
      ]
     },
     "metadata": {},
     "output_type": "display_data"
    }
   ],
   "source": [
    "NDVI_unique=sorted(LS_df.NDVI.unique())\n",
    "NDVI_Profile_values=LS_df.groupby('NDVI')['Profile'].count().values\n",
    "mean_Profile=[]\n",
    "for i,NDVI in enumerate(NDVI_unique):\n",
    "    mean_Profile.append(sum(LS_df[LS_df['NDVI']==NDVI].Profile)/NDVI_Profile_values[i])\n",
    "    \n",
    "plt.figure(figsize=(10,5))\n",
    "sns.pointplot(x=NDVI_unique,y=mean_Profile,color='red',alpha=0.8)\n",
    "plt.xlabel('NDVI',fontsize = 15,color='blue')\n",
    "plt.xticks(rotation=45)\n",
    "plt.ylabel('Profile',fontsize = 15,color='blue')\n",
    "plt.title('NDVI vs Profile',fontsize = 10,color='blue')\n",
    "plt.grid()\n",
    "plt.show()"
   ]
  },
  {
   "cell_type": "code",
   "execution_count": 32,
   "id": "843a19e3",
   "metadata": {
    "execution": {
     "iopub.execute_input": "2022-02-26T18:21:07.117612Z",
     "iopub.status.busy": "2022-02-26T18:21:07.115501Z",
     "iopub.status.idle": "2022-02-26T18:21:07.433350Z",
     "shell.execute_reply": "2022-02-26T18:21:07.432705Z",
     "shell.execute_reply.started": "2022-02-26T18:12:22.808550Z"
    },
    "papermill": {
     "duration": 0.495231,
     "end_time": "2022-02-26T18:21:07.433502",
     "exception": false,
     "start_time": "2022-02-26T18:21:06.938271",
     "status": "completed"
    },
    "tags": []
   },
   "outputs": [
    {
     "data": {
      "image/png": "[encoded data removed]",
      "text/plain": [
       "<Figure size 432x288 with 1 Axes>"
      ]
     },
     "metadata": {},
     "output_type": "display_data"
    },
    {
     "data": {
      "text/plain": [
       "<Figure size 432x288 with 0 Axes>"
      ]
     },
     "metadata": {},
     "output_type": "display_data"
    }
   ],
   "source": [
    "labels = df['Curvature'].astype('category').cat.categories.tolist()\n",
    "counts = df['Curvature'].value_counts()\n",
    "sizes = [counts[var_cat] for var_cat in labels]\n",
    "fig1, ax1 = plt.subplots()\n",
    "ax1.pie(sizes, labels=labels, autopct='%1.1f%%', shadow=True) #autopct is show the % on plot\n",
    "ax1.axis('equal')\n",
    "plt.title('Pieplot of Curvature')\n",
    "plt.show()\n",
    "\n",
    "plt.savefig('pie3.eps', format='eps')"
   ]
  },
  {
   "cell_type": "markdown",
   "id": "eee69978",
   "metadata": {
    "papermill": {
     "duration": 0.149465,
     "end_time": "2022-02-26T18:21:07.732307",
     "exception": false,
     "start_time": "2022-02-26T18:21:07.582842",
     "status": "completed"
    },
    "tags": []
   },
   "source": [
    "# **Feature Selection**"
   ]
  },
  {
   "cell_type": "code",
   "execution_count": 33,
   "id": "6952b4f8",
   "metadata": {
    "execution": {
     "iopub.execute_input": "2022-02-26T18:21:08.039956Z",
     "iopub.status.busy": "2022-02-26T18:21:08.038996Z",
     "iopub.status.idle": "2022-02-26T18:21:08.048705Z",
     "shell.execute_reply": "2022-02-26T18:21:08.049230Z",
     "shell.execute_reply.started": "2022-02-26T18:12:23.002734Z"
    },
    "papermill": {
     "duration": 0.166401,
     "end_time": "2022-02-26T18:21:08.049435",
     "exception": false,
     "start_time": "2022-02-26T18:21:07.883034",
     "status": "completed"
    },
    "tags": []
   },
   "outputs": [
    {
     "name": "stdout",
     "output_type": "stream",
     "text": [
      "Featured hights correlation with survival\n",
      "Feature\tCorrelation\n",
      "Earthquake    0.187313\n",
      "NDVI          0.111900\n",
      "Aspect       -0.008633\n",
      "Lithology    -0.120538\n",
      "Elevation    -0.168049\n",
      "Curvature    -0.173393\n",
      "NDWI         -0.194317\n",
      "Flow         -0.261124\n",
      "Name: Landslide, dtype: float64\n"
     ]
    }
   ],
   "source": [
    "print('Featured hights correlation with survival')\n",
    "print('Feature\\tCorrelation')\n",
    "Landslide_Corr = LS_df.corr()[\"Landslide\"]\n",
    "Landslide_Corr = Landslide_Corr[1:9] # remove the 'Survived'\n",
    "Landslide_Corr= Landslide_Corr[np.argsort(Landslide_Corr, axis = 0)[::-1]] #sort in descending order\n",
    "print(Landslide_Corr)"
   ]
  },
  {
   "cell_type": "code",
   "execution_count": 34,
   "id": "5479e05c",
   "metadata": {
    "execution": {
     "iopub.execute_input": "2022-02-26T18:21:08.353519Z",
     "iopub.status.busy": "2022-02-26T18:21:08.352877Z",
     "iopub.status.idle": "2022-02-26T18:21:08.586204Z",
     "shell.execute_reply": "2022-02-26T18:21:08.585568Z",
     "shell.execute_reply.started": "2022-02-26T18:12:23.032350Z"
    },
    "papermill": {
     "duration": 0.386184,
     "end_time": "2022-02-26T18:21:08.586359",
     "exception": false,
     "start_time": "2022-02-26T18:21:08.200175",
     "status": "completed"
    },
    "tags": []
   },
   "outputs": [
    {
     "data": {
      "image/png": "[encoded data removed]",
      "text/plain": [
       "<Figure size 720x432 with 1 Axes>"
      ]
     },
     "metadata": {},
     "output_type": "display_data"
    }
   ],
   "source": [
    "# Plot the top correlationin a bar chart for east visualisation.\n",
    "width = 0\n",
    "fig, ax = plt.subplots(figsize = (10,6))\n",
    "rects = ax.barh(np.arange(len(Landslide_Corr)), np.array(Landslide_Corr.values), color = 'red')\n",
    "ax.set_yticks(np.arange(len(Landslide_Corr)) + ((width)/1))\n",
    "ax.set_yticklabels(Landslide_Corr.index, rotation ='horizontal')\n",
    "ax.set_xlabel(\"Correlation coefficient\")\n",
    "ax.set_title(\"Correlation Coefficients w.r.t landslide\",fontsize = 14);\n",
    "ax.grid(True)"
   ]
  },
  {
   "cell_type": "code",
   "execution_count": 35,
   "id": "734e584c",
   "metadata": {
    "execution": {
     "iopub.execute_input": "2022-02-26T18:21:08.900797Z",
     "iopub.status.busy": "2022-02-26T18:21:08.898708Z",
     "iopub.status.idle": "2022-02-26T18:21:09.025150Z",
     "shell.execute_reply": "2022-02-26T18:21:09.024649Z",
     "shell.execute_reply.started": "2022-02-26T18:12:23.293069Z"
    },
    "papermill": {
     "duration": 0.288189,
     "end_time": "2022-02-26T18:21:09.025287",
     "exception": false,
     "start_time": "2022-02-26T18:21:08.737098",
     "status": "completed"
    },
    "tags": []
   },
   "outputs": [
    {
     "data": {
      "text/html": [
       "<style type=\"text/css\">\n",
       "#T_7f42a_row0_col1 {\n",
       "  width: 10em;\n",
       "  height: 80%;\n",
       "  background-color: #000000;\n",
       "  color: #f1f1f1;\n",
       "}\n",
       "#T_7f42a_row0_col2 {\n",
       "  background-color: #f7fcf5;\n",
       "  color: #000000;\n",
       "}\n",
       "#T_7f42a_row0_col3 {\n",
       "  background-color: #fff5f0;\n",
       "  color: #000000;\n",
       "}\n",
       "#T_7f42a_row0_col4 {\n",
       "  background-color: #9e0142;\n",
       "  color: #f1f1f1;\n",
       "}\n",
       "#T_7f42a_row0_col5 {\n",
       "  background-color: #00004c;\n",
       "  color: #f1f1f1;\n",
       "}\n",
       "#T_7f42a_row0_col6 {\n",
       "  background-color: #440154;\n",
       "  color: #f1f1f1;\n",
       "}\n",
       "#T_7f42a_row0_col7 {\n",
       "  background-color: #f7fbff;\n",
       "  color: #000000;\n",
       "}\n",
       "#T_7f42a_row1_col1 {\n",
       "  width: 10em;\n",
       "  height: 80%;\n",
       "  background: linear-gradient(90deg,#205ff2 74.3%, transparent 74.3%);\n",
       "  background-color: #c8b1ec;\n",
       "  color: #000000;\n",
       "}\n",
       "#T_7f42a_row1_col2 {\n",
       "  background-color: #2f974e;\n",
       "  color: #f1f1f1;\n",
       "}\n",
       "#T_7f42a_row1_col3, #T_7f42a_row2_col3, #T_7f42a_row3_col3, #T_7f42a_row4_col3, #T_7f42a_row5_col3, #T_7f42a_row6_col3, #T_7f42a_row7_col3, #T_7f42a_row8_col3, #T_7f42a_row9_col3, #T_7f42a_row10_col3, #T_7f42a_row11_col3, #T_7f42a_row12_col3 {\n",
       "  background-color: #67000d;\n",
       "  color: #f1f1f1;\n",
       "}\n",
       "#T_7f42a_row1_col4, #T_7f42a_row2_col4, #T_7f42a_row3_col4, #T_7f42a_row5_col4, #T_7f42a_row7_col4, #T_7f42a_row8_col4, #T_7f42a_row9_col4, #T_7f42a_row12_col4 {\n",
       "  background-color: #bfe5a0;\n",
       "  color: #000000;\n",
       "}\n",
       "#T_7f42a_row1_col5, #T_7f42a_row2_col5, #T_7f42a_row7_col5, #T_7f42a_row8_col5, #T_7f42a_row9_col5, #T_7f42a_row11_col5, #T_7f42a_row12_col5 {\n",
       "  background-color: #ff2525;\n",
       "  color: #f1f1f1;\n",
       "}\n",
       "#T_7f42a_row1_col6, #T_7f42a_row2_col6, #T_7f42a_row7_col6, #T_7f42a_row8_col6, #T_7f42a_row9_col6, #T_7f42a_row11_col6, #T_7f42a_row12_col6 {\n",
       "  background-color: #5ec962;\n",
       "  color: #000000;\n",
       "}\n",
       "#T_7f42a_row1_col7, #T_7f42a_row2_col7, #T_7f42a_row4_col7, #T_7f42a_row5_col7, #T_7f42a_row7_col7, #T_7f42a_row8_col7, #T_7f42a_row9_col7, #T_7f42a_row10_col7, #T_7f42a_row11_col7, #T_7f42a_row12_col7 {\n",
       "  background-color: #1764ab;\n",
       "  color: #f1f1f1;\n",
       "}\n",
       "#T_7f42a_row2_col1 {\n",
       "  width: 10em;\n",
       "  height: 80%;\n",
       "  background: linear-gradient(90deg,#205ff2 74.8%, transparent 74.8%);\n",
       "  background-color: #c7b2ed;\n",
       "  color: #000000;\n",
       "}\n",
       "#T_7f42a_row2_col2 {\n",
       "  background-color: #3ba458;\n",
       "  color: #f1f1f1;\n",
       "}\n",
       "#T_7f42a_row3_col1 {\n",
       "  width: 10em;\n",
       "  height: 80%;\n",
       "  background: linear-gradient(90deg,#205ff2 48.4%, transparent 48.4%);\n",
       "  background-color: #937a40;\n",
       "  color: #f1f1f1;\n",
       "}\n",
       "#T_7f42a_row3_col2 {\n",
       "  background-color: #d8f0d2;\n",
       "  color: #000000;\n",
       "}\n",
       "#T_7f42a_row3_col5, #T_7f42a_row4_col5, #T_7f42a_row5_col5 {\n",
       "  background-color: #b5b5ff;\n",
       "  color: #000000;\n",
       "}\n",
       "#T_7f42a_row3_col6, #T_7f42a_row4_col6, #T_7f42a_row5_col6, #T_7f42a_row6_col6 {\n",
       "  background-color: #21918c;\n",
       "  color: #f1f1f1;\n",
       "}\n",
       "#T_7f42a_row3_col7 {\n",
       "  background-color: #94c4df;\n",
       "  color: #000000;\n",
       "}\n",
       "#T_7f42a_row4_col1 {\n",
       "  width: 10em;\n",
       "  height: 80%;\n",
       "  background: linear-gradient(90deg,#205ff2 58.4%, transparent 58.4%);\n",
       "  background-color: #cc7c86;\n",
       "  color: #f1f1f1;\n",
       "}\n",
       "#T_7f42a_row4_col2 {\n",
       "  background-color: #147e3a;\n",
       "  color: #f1f1f1;\n",
       "}\n",
       "#T_7f42a_row4_col4, #T_7f42a_row6_col4 {\n",
       "  background-color: #fdbf6f;\n",
       "  color: #000000;\n",
       "}\n",
       "#T_7f42a_row5_col1 {\n",
       "  width: 10em;\n",
       "  height: 80%;\n",
       "  background: linear-gradient(90deg,#205ff2 55.5%, transparent 55.5%);\n",
       "  background-color: #c17a70;\n",
       "  color: #f1f1f1;\n",
       "}\n",
       "#T_7f42a_row5_col2 {\n",
       "  background-color: #38a156;\n",
       "  color: #f1f1f1;\n",
       "}\n",
       "#T_7f42a_row6_col1 {\n",
       "  width: 10em;\n",
       "  height: 80%;\n",
       "  background: linear-gradient(90deg,#205ff2 43.7%, transparent 43.7%);\n",
       "  background-color: #6f7b31;\n",
       "  color: #f1f1f1;\n",
       "}\n",
       "#T_7f42a_row6_col2 {\n",
       "  background-color: #00441b;\n",
       "  color: #f1f1f1;\n",
       "}\n",
       "#T_7f42a_row6_col5 {\n",
       "  background-color: #0000b1;\n",
       "  color: #f1f1f1;\n",
       "}\n",
       "#T_7f42a_row6_col7 {\n",
       "  background-color: #08306b;\n",
       "  color: #f1f1f1;\n",
       "}\n",
       "#T_7f42a_row7_col1 {\n",
       "  width: 10em;\n",
       "  height: 80%;\n",
       "  background: linear-gradient(90deg,#205ff2 76.7%, transparent 76.7%);\n",
       "  background-color: #c4bcf1;\n",
       "  color: #000000;\n",
       "}\n",
       "#T_7f42a_row7_col2 {\n",
       "  background-color: #157f3b;\n",
       "  color: #f1f1f1;\n",
       "}\n",
       "#T_7f42a_row8_col1 {\n",
       "  width: 10em;\n",
       "  height: 80%;\n",
       "  background: linear-gradient(90deg,#205ff2 68.6%, transparent 68.6%);\n",
       "  background-color: #d297d2;\n",
       "  color: #f1f1f1;\n",
       "}\n",
       "#T_7f42a_row8_col2 {\n",
       "  background-color: #026f2e;\n",
       "  color: #f1f1f1;\n",
       "}\n",
       "#T_7f42a_row9_col1 {\n",
       "  width: 10em;\n",
       "  height: 80%;\n",
       "  background: linear-gradient(90deg,#205ff2 77.2%, transparent 77.2%);\n",
       "  background-color: #c4bdf1;\n",
       "  color: #000000;\n",
       "}\n",
       "#T_7f42a_row9_col2 {\n",
       "  background-color: #4aaf61;\n",
       "  color: #f1f1f1;\n",
       "}\n",
       "#T_7f42a_row10_col1 {\n",
       "  width: 10em;\n",
       "  height: 80%;\n",
       "  background: linear-gradient(90deg,#205ff2 100.0%, transparent 100.0%);\n",
       "  background-color: #ffffff;\n",
       "  color: #000000;\n",
       "}\n",
       "#T_7f42a_row10_col2 {\n",
       "  background-color: #005f26;\n",
       "  color: #f1f1f1;\n",
       "}\n",
       "#T_7f42a_row10_col4, #T_7f42a_row11_col4 {\n",
       "  background-color: #5e4fa2;\n",
       "  color: #f1f1f1;\n",
       "}\n",
       "#T_7f42a_row10_col5 {\n",
       "  background-color: #800000;\n",
       "  color: #f1f1f1;\n",
       "}\n",
       "#T_7f42a_row10_col6 {\n",
       "  background-color: #fde725;\n",
       "  color: #000000;\n",
       "}\n",
       "#T_7f42a_row11_col1 {\n",
       "  width: 10em;\n",
       "  height: 80%;\n",
       "  background: linear-gradient(90deg,#205ff2 83.4%, transparent 83.4%);\n",
       "  background-color: #c3d9f3;\n",
       "  color: #000000;\n",
       "}\n",
       "#T_7f42a_row11_col2 {\n",
       "  background-color: #52b365;\n",
       "  color: #f1f1f1;\n",
       "}\n",
       "#T_7f42a_row12_col1 {\n",
       "  width: 10em;\n",
       "  height: 80%;\n",
       "  background: linear-gradient(90deg,#205ff2 69.8%, transparent 69.8%);\n",
       "  background-color: #d09cd9;\n",
       "  color: #000000;\n",
       "}\n",
       "#T_7f42a_row12_col2 {\n",
       "  background-color: #228a44;\n",
       "  color: #f1f1f1;\n",
       "}\n",
       "</style>\n",
       "<table id=\"T_7f42a_\">\n",
       "  <thead>\n",
       "    <tr>\n",
       "      <th class=\"blank level0\" >&nbsp;</th>\n",
       "      <th class=\"col_heading level0 col0\" >count</th>\n",
       "      <th class=\"col_heading level0 col1\" >mean</th>\n",
       "      <th class=\"col_heading level0 col2\" >std</th>\n",
       "      <th class=\"col_heading level0 col3\" >min</th>\n",
       "      <th class=\"col_heading level0 col4\" >25%</th>\n",
       "      <th class=\"col_heading level0 col5\" >50%</th>\n",
       "      <th class=\"col_heading level0 col6\" >75%</th>\n",
       "      <th class=\"col_heading level0 col7\" >max</th>\n",
       "    </tr>\n",
       "  </thead>\n",
       "  <tbody>\n",
       "    <tr>\n",
       "      <th id=\"T_7f42a_level0_row0\" class=\"row_heading level0 row0\" >Landslide</th>\n",
       "      <td id=\"T_7f42a_row0_col0\" class=\"data row0 col0\" >1212.000000</td>\n",
       "      <td id=\"T_7f42a_row0_col1\" class=\"data row0 col1\" >0.500000</td>\n",
       "      <td id=\"T_7f42a_row0_col2\" class=\"data row0 col2\" >0.500206</td>\n",
       "      <td id=\"T_7f42a_row0_col3\" class=\"data row0 col3\" >0.000000</td>\n",
       "      <td id=\"T_7f42a_row0_col4\" class=\"data row0 col4\" >0.000000</td>\n",
       "      <td id=\"T_7f42a_row0_col5\" class=\"data row0 col5\" >0.500000</td>\n",
       "      <td id=\"T_7f42a_row0_col6\" class=\"data row0 col6\" >1.000000</td>\n",
       "      <td id=\"T_7f42a_row0_col7\" class=\"data row0 col7\" >1.000000</td>\n",
       "    </tr>\n",
       "    <tr>\n",
       "      <th id=\"T_7f42a_level0_row1\" class=\"row_heading level0 row1\" >Aspect</th>\n",
       "      <td id=\"T_7f42a_row1_col0\" class=\"data row1 col0\" >1212.000000</td>\n",
       "      <td id=\"T_7f42a_row1_col1\" class=\"data row1 col1\" >2.962046</td>\n",
       "      <td id=\"T_7f42a_row1_col2\" class=\"data row1 col2\" >1.147378</td>\n",
       "      <td id=\"T_7f42a_row1_col3\" class=\"data row1 col3\" >1.000000</td>\n",
       "      <td id=\"T_7f42a_row1_col4\" class=\"data row1 col4\" >2.000000</td>\n",
       "      <td id=\"T_7f42a_row1_col5\" class=\"data row1 col5\" >3.000000</td>\n",
       "      <td id=\"T_7f42a_row1_col6\" class=\"data row1 col6\" >4.000000</td>\n",
       "      <td id=\"T_7f42a_row1_col7\" class=\"data row1 col7\" >5.000000</td>\n",
       "    </tr>\n",
       "    <tr>\n",
       "      <th id=\"T_7f42a_level0_row2\" class=\"row_heading level0 row2\" >Curvature</th>\n",
       "      <td id=\"T_7f42a_row2_col0\" class=\"data row2 col0\" >1212.000000</td>\n",
       "      <td id=\"T_7f42a_row2_col1\" class=\"data row2 col1\" >2.977723</td>\n",
       "      <td id=\"T_7f42a_row2_col2\" class=\"data row2 col2\" >1.099658</td>\n",
       "      <td id=\"T_7f42a_row2_col3\" class=\"data row2 col3\" >1.000000</td>\n",
       "      <td id=\"T_7f42a_row2_col4\" class=\"data row2 col4\" >2.000000</td>\n",
       "      <td id=\"T_7f42a_row2_col5\" class=\"data row2 col5\" >3.000000</td>\n",
       "      <td id=\"T_7f42a_row2_col6\" class=\"data row2 col6\" >4.000000</td>\n",
       "      <td id=\"T_7f42a_row2_col7\" class=\"data row2 col7\" >5.000000</td>\n",
       "    </tr>\n",
       "    <tr>\n",
       "      <th id=\"T_7f42a_level0_row3\" class=\"row_heading level0 row3\" >Earthquake</th>\n",
       "      <td id=\"T_7f42a_row3_col0\" class=\"data row3 col0\" >1212.000000</td>\n",
       "      <td id=\"T_7f42a_row3_col1\" class=\"data row3 col1\" >2.102310</td>\n",
       "      <td id=\"T_7f42a_row3_col2\" class=\"data row3 col2\" >0.669812</td>\n",
       "      <td id=\"T_7f42a_row3_col3\" class=\"data row3 col3\" >1.000000</td>\n",
       "      <td id=\"T_7f42a_row3_col4\" class=\"data row3 col4\" >2.000000</td>\n",
       "      <td id=\"T_7f42a_row3_col5\" class=\"data row3 col5\" >2.000000</td>\n",
       "      <td id=\"T_7f42a_row3_col6\" class=\"data row3 col6\" >3.000000</td>\n",
       "      <td id=\"T_7f42a_row3_col7\" class=\"data row3 col7\" >3.000000</td>\n",
       "    </tr>\n",
       "    <tr>\n",
       "      <th id=\"T_7f42a_level0_row4\" class=\"row_heading level0 row4\" >Elevation</th>\n",
       "      <td id=\"T_7f42a_row4_col0\" class=\"data row4 col0\" >1212.000000</td>\n",
       "      <td id=\"T_7f42a_row4_col1\" class=\"data row4 col1\" >2.436469</td>\n",
       "      <td id=\"T_7f42a_row4_col2\" class=\"data row4 col2\" >1.242686</td>\n",
       "      <td id=\"T_7f42a_row4_col3\" class=\"data row4 col3\" >1.000000</td>\n",
       "      <td id=\"T_7f42a_row4_col4\" class=\"data row4 col4\" >1.000000</td>\n",
       "      <td id=\"T_7f42a_row4_col5\" class=\"data row4 col5\" >2.000000</td>\n",
       "      <td id=\"T_7f42a_row4_col6\" class=\"data row4 col6\" >3.000000</td>\n",
       "      <td id=\"T_7f42a_row4_col7\" class=\"data row4 col7\" >5.000000</td>\n",
       "    </tr>\n",
       "    <tr>\n",
       "      <th id=\"T_7f42a_level0_row5\" class=\"row_heading level0 row5\" >Flow</th>\n",
       "      <td id=\"T_7f42a_row5_col0\" class=\"data row5 col0\" >1212.000000</td>\n",
       "      <td id=\"T_7f42a_row5_col1\" class=\"data row5 col1\" >2.338284</td>\n",
       "      <td id=\"T_7f42a_row5_col2\" class=\"data row5 col2\" >1.112686</td>\n",
       "      <td id=\"T_7f42a_row5_col3\" class=\"data row5 col3\" >1.000000</td>\n",
       "      <td id=\"T_7f42a_row5_col4\" class=\"data row5 col4\" >2.000000</td>\n",
       "      <td id=\"T_7f42a_row5_col5\" class=\"data row5 col5\" >2.000000</td>\n",
       "      <td id=\"T_7f42a_row5_col6\" class=\"data row5 col6\" >3.000000</td>\n",
       "      <td id=\"T_7f42a_row5_col7\" class=\"data row5 col7\" >5.000000</td>\n",
       "    </tr>\n",
       "    <tr>\n",
       "      <th id=\"T_7f42a_level0_row6\" class=\"row_heading level0 row6\" >Lithology</th>\n",
       "      <td id=\"T_7f42a_row6_col0\" class=\"data row6 col0\" >1212.000000</td>\n",
       "      <td id=\"T_7f42a_row6_col1\" class=\"data row6 col1\" >1.948845</td>\n",
       "      <td id=\"T_7f42a_row6_col2\" class=\"data row6 col2\" >1.424345</td>\n",
       "      <td id=\"T_7f42a_row6_col3\" class=\"data row6 col3\" >1.000000</td>\n",
       "      <td id=\"T_7f42a_row6_col4\" class=\"data row6 col4\" >1.000000</td>\n",
       "      <td id=\"T_7f42a_row6_col5\" class=\"data row6 col5\" >1.000000</td>\n",
       "      <td id=\"T_7f42a_row6_col6\" class=\"data row6 col6\" >3.000000</td>\n",
       "      <td id=\"T_7f42a_row6_col7\" class=\"data row6 col7\" >6.000000</td>\n",
       "    </tr>\n",
       "    <tr>\n",
       "      <th id=\"T_7f42a_level0_row7\" class=\"row_heading level0 row7\" >NDVI</th>\n",
       "      <td id=\"T_7f42a_row7_col0\" class=\"data row7 col0\" >1212.000000</td>\n",
       "      <td id=\"T_7f42a_row7_col1\" class=\"data row7 col1\" >3.042904</td>\n",
       "      <td id=\"T_7f42a_row7_col2\" class=\"data row7 col2\" >1.239246</td>\n",
       "      <td id=\"T_7f42a_row7_col3\" class=\"data row7 col3\" >1.000000</td>\n",
       "      <td id=\"T_7f42a_row7_col4\" class=\"data row7 col4\" >2.000000</td>\n",
       "      <td id=\"T_7f42a_row7_col5\" class=\"data row7 col5\" >3.000000</td>\n",
       "      <td id=\"T_7f42a_row7_col6\" class=\"data row7 col6\" >4.000000</td>\n",
       "      <td id=\"T_7f42a_row7_col7\" class=\"data row7 col7\" >5.000000</td>\n",
       "    </tr>\n",
       "    <tr>\n",
       "      <th id=\"T_7f42a_level0_row8\" class=\"row_heading level0 row8\" >NDWI</th>\n",
       "      <td id=\"T_7f42a_row8_col0\" class=\"data row8 col0\" >1212.000000</td>\n",
       "      <td id=\"T_7f42a_row8_col1\" class=\"data row8 col1\" >2.773927</td>\n",
       "      <td id=\"T_7f42a_row8_col2\" class=\"data row8 col2\" >1.299830</td>\n",
       "      <td id=\"T_7f42a_row8_col3\" class=\"data row8 col3\" >1.000000</td>\n",
       "      <td id=\"T_7f42a_row8_col4\" class=\"data row8 col4\" >2.000000</td>\n",
       "      <td id=\"T_7f42a_row8_col5\" class=\"data row8 col5\" >3.000000</td>\n",
       "      <td id=\"T_7f42a_row8_col6\" class=\"data row8 col6\" >4.000000</td>\n",
       "      <td id=\"T_7f42a_row8_col7\" class=\"data row8 col7\" >5.000000</td>\n",
       "    </tr>\n",
       "    <tr>\n",
       "      <th id=\"T_7f42a_level0_row9\" class=\"row_heading level0 row9\" >Plan</th>\n",
       "      <td id=\"T_7f42a_row9_col0\" class=\"data row9 col0\" >1212.000000</td>\n",
       "      <td id=\"T_7f42a_row9_col1\" class=\"data row9 col1\" >3.059406</td>\n",
       "      <td id=\"T_7f42a_row9_col2\" class=\"data row9 col2\" >1.057287</td>\n",
       "      <td id=\"T_7f42a_row9_col3\" class=\"data row9 col3\" >1.000000</td>\n",
       "      <td id=\"T_7f42a_row9_col4\" class=\"data row9 col4\" >2.000000</td>\n",
       "      <td id=\"T_7f42a_row9_col5\" class=\"data row9 col5\" >3.000000</td>\n",
       "      <td id=\"T_7f42a_row9_col6\" class=\"data row9 col6\" >4.000000</td>\n",
       "      <td id=\"T_7f42a_row9_col7\" class=\"data row9 col7\" >5.000000</td>\n",
       "    </tr>\n",
       "    <tr>\n",
       "      <th id=\"T_7f42a_level0_row10\" class=\"row_heading level0 row10\" >Precipitation</th>\n",
       "      <td id=\"T_7f42a_row10_col0\" class=\"data row10 col0\" >1212.000000</td>\n",
       "      <td id=\"T_7f42a_row10_col1\" class=\"data row10 col1\" >3.813531</td>\n",
       "      <td id=\"T_7f42a_row10_col2\" class=\"data row10 col2\" >1.347799</td>\n",
       "      <td id=\"T_7f42a_row10_col3\" class=\"data row10 col3\" >1.000000</td>\n",
       "      <td id=\"T_7f42a_row10_col4\" class=\"data row10 col4\" >3.000000</td>\n",
       "      <td id=\"T_7f42a_row10_col5\" class=\"data row10 col5\" >4.000000</td>\n",
       "      <td id=\"T_7f42a_row10_col6\" class=\"data row10 col6\" >5.000000</td>\n",
       "      <td id=\"T_7f42a_row10_col7\" class=\"data row10 col7\" >5.000000</td>\n",
       "    </tr>\n",
       "    <tr>\n",
       "      <th id=\"T_7f42a_level0_row11\" class=\"row_heading level0 row11\" >Profile</th>\n",
       "      <td id=\"T_7f42a_row11_col0\" class=\"data row11 col0\" >1212.000000</td>\n",
       "      <td id=\"T_7f42a_row11_col1\" class=\"data row11 col1\" >3.262376</td>\n",
       "      <td id=\"T_7f42a_row11_col2\" class=\"data row11 col2\" >1.039502</td>\n",
       "      <td id=\"T_7f42a_row11_col3\" class=\"data row11 col3\" >1.000000</td>\n",
       "      <td id=\"T_7f42a_row11_col4\" class=\"data row11 col4\" >3.000000</td>\n",
       "      <td id=\"T_7f42a_row11_col5\" class=\"data row11 col5\" >3.000000</td>\n",
       "      <td id=\"T_7f42a_row11_col6\" class=\"data row11 col6\" >4.000000</td>\n",
       "      <td id=\"T_7f42a_row11_col7\" class=\"data row11 col7\" >5.000000</td>\n",
       "    </tr>\n",
       "    <tr>\n",
       "      <th id=\"T_7f42a_level0_row12\" class=\"row_heading level0 row12\" >Slope</th>\n",
       "      <td id=\"T_7f42a_row12_col0\" class=\"data row12 col0\" >1212.000000</td>\n",
       "      <td id=\"T_7f42a_row12_col1\" class=\"data row12 col1\" >2.811881</td>\n",
       "      <td id=\"T_7f42a_row12_col2\" class=\"data row12 col2\" >1.194229</td>\n",
       "      <td id=\"T_7f42a_row12_col3\" class=\"data row12 col3\" >1.000000</td>\n",
       "      <td id=\"T_7f42a_row12_col4\" class=\"data row12 col4\" >2.000000</td>\n",
       "      <td id=\"T_7f42a_row12_col5\" class=\"data row12 col5\" >3.000000</td>\n",
       "      <td id=\"T_7f42a_row12_col6\" class=\"data row12 col6\" >4.000000</td>\n",
       "      <td id=\"T_7f42a_row12_col7\" class=\"data row12 col7\" >5.000000</td>\n",
       "    </tr>\n",
       "  </tbody>\n",
       "</table>\n"
      ],
      "text/plain": [
       "<pandas.io.formats.style.Styler at 0x7fcd7d186e10>"
      ]
     },
     "execution_count": 35,
     "metadata": {},
     "output_type": "execute_result"
    }
   ],
   "source": [
    "LS_df.loc[:].describe().T.style.bar(subset=['mean'], color='#205ff2')\\\n",
    "                            .background_gradient(subset=['std'], cmap='Greens')\\\n",
    "                            .background_gradient(subset=['25%'], cmap='Spectral')\\\n",
    "                            .background_gradient(subset=['50%'], cmap='seismic')\\\n",
    "                            .background_gradient(subset=['75%'], cmap='viridis')\\\n",
    "                            .background_gradient(subset=['mean'], cmap='cubehelix')\\\n",
    "                            .background_gradient(subset=['min'], cmap='Reds')\\\n",
    "                            .background_gradient(subset=['max'], cmap='Blues')"
   ]
  },
  {
   "cell_type": "markdown",
   "id": "6ad94dac",
   "metadata": {
    "papermill": {
     "duration": 0.152667,
     "end_time": "2022-02-26T18:21:09.330263",
     "exception": false,
     "start_time": "2022-02-26T18:21:09.177596",
     "status": "completed"
    },
    "tags": []
   },
   "source": [
    "**Feature selection wrapper method**"
   ]
  },
  {
   "cell_type": "code",
   "execution_count": 36,
   "id": "51015187",
   "metadata": {
    "execution": {
     "iopub.execute_input": "2022-02-26T18:21:09.638349Z",
     "iopub.status.busy": "2022-02-26T18:21:09.636003Z",
     "iopub.status.idle": "2022-02-26T18:21:09.640046Z",
     "shell.execute_reply": "2022-02-26T18:21:09.640655Z",
     "shell.execute_reply.started": "2022-02-26T18:12:23.382310Z"
    },
    "papermill": {
     "duration": 0.159017,
     "end_time": "2022-02-26T18:21:09.640826",
     "exception": false,
     "start_time": "2022-02-26T18:21:09.481809",
     "status": "completed"
    },
    "tags": []
   },
   "outputs": [],
   "source": [
    "# step forward feature selection\n",
    "\n",
    "from sklearn.model_selection import train_test_split\n",
    "from sklearn.ensemble import RandomForestClassifier\n",
    "from sklearn.metrics import r2_score\n",
    "from mlxtend.feature_selection import SequentialFeatureSelector as SFS"
   ]
  },
  {
   "cell_type": "code",
   "execution_count": 37,
   "id": "cc6c249e",
   "metadata": {
    "execution": {
     "iopub.execute_input": "2022-02-26T18:21:09.949195Z",
     "iopub.status.busy": "2022-02-26T18:21:09.948555Z",
     "iopub.status.idle": "2022-02-26T18:21:09.957639Z",
     "shell.execute_reply": "2022-02-26T18:21:09.958148Z",
     "shell.execute_reply.started": "2022-02-26T18:12:23.392268Z"
    },
    "papermill": {
     "duration": 0.164378,
     "end_time": "2022-02-26T18:21:09.958347",
     "exception": false,
     "start_time": "2022-02-26T18:21:09.793969",
     "status": "completed"
    },
    "tags": []
   },
   "outputs": [
    {
     "data": {
      "text/plain": [
       "(1212, 13)"
      ]
     },
     "execution_count": 37,
     "metadata": {},
     "output_type": "execute_result"
    }
   ],
   "source": [
    "# In practice, feature selection should be done after data pre-processing,\n",
    "# so ideally, all the categorical variables are encoded into numbers,\n",
    "# and then you can assess how deterministic they are of the target\n",
    "# here for simplicity I will use only numerical variables\n",
    "# select numerical columns:\n",
    "\n",
    "numerics = ['int16', 'int32', 'int64', 'float16', 'float32', 'float64']\n",
    "numerical_vars = list(LS_df.select_dtypes(include=numerics).columns)\n",
    "data = LS_df[numerical_vars]\n",
    "data.shape"
   ]
  },
  {
   "cell_type": "code",
   "execution_count": 38,
   "id": "c662db01",
   "metadata": {
    "execution": {
     "iopub.execute_input": "2022-02-26T18:21:10.269658Z",
     "iopub.status.busy": "2022-02-26T18:21:10.268645Z",
     "iopub.status.idle": "2022-02-26T18:21:10.277997Z",
     "shell.execute_reply": "2022-02-26T18:21:10.278441Z",
     "shell.execute_reply.started": "2022-02-26T18:12:23.412148Z"
    },
    "papermill": {
     "duration": 0.165892,
     "end_time": "2022-02-26T18:21:10.278632",
     "exception": false,
     "start_time": "2022-02-26T18:21:10.112740",
     "status": "completed"
    },
    "tags": []
   },
   "outputs": [
    {
     "data": {
      "text/plain": [
       "((848, 12), (364, 12))"
      ]
     },
     "execution_count": 38,
     "metadata": {},
     "output_type": "execute_result"
    }
   ],
   "source": [
    "# separate train and test sets\n",
    "X_train, X_test, y_train, y_test = train_test_split(\n",
    "    LS_df.drop(labels=['Lithology'], axis=1),\n",
    "    LS_df['Lithology'],\n",
    "    test_size=0.3,\n",
    "    random_state=0)\n",
    "\n",
    "X_train.shape, X_test.shape"
   ]
  },
  {
   "cell_type": "code",
   "execution_count": 39,
   "id": "df0ff614",
   "metadata": {
    "execution": {
     "iopub.execute_input": "2022-02-26T18:21:10.592059Z",
     "iopub.status.busy": "2022-02-26T18:21:10.590975Z",
     "iopub.status.idle": "2022-02-26T18:21:10.598255Z",
     "shell.execute_reply": "2022-02-26T18:21:10.599004Z",
     "shell.execute_reply.started": "2022-02-26T18:12:23.428311Z"
    },
    "papermill": {
     "duration": 0.168357,
     "end_time": "2022-02-26T18:21:10.599430",
     "exception": false,
     "start_time": "2022-02-26T18:21:10.431073",
     "status": "completed"
    },
    "tags": []
   },
   "outputs": [
    {
     "name": "stdout",
     "output_type": "stream",
     "text": [
      "correlated features:  4\n"
     ]
    }
   ],
   "source": [
    "# find and remove correlated features\n",
    "def correlation(LS_df, threshold):\n",
    "    col_corr = set()  # Set of all the names of correlated columns\n",
    "    corr_matrix = LS_df.corr()\n",
    "    for i in range(len(corr_matrix.columns)):\n",
    "        for j in range(i):\n",
    "            if abs(corr_matrix.iloc[i, j]) > threshold: # we are interested in absolute coeff value\n",
    "                colname = corr_matrix.columns[i]  # getting the name of column\n",
    "                col_corr.add(colname)\n",
    "    return col_corr\n",
    "corr_features = correlation(X_train, 0.8)\n",
    "print('correlated features: ', len(set(corr_features)) )"
   ]
  },
  {
   "cell_type": "code",
   "execution_count": 40,
   "id": "85e4999b",
   "metadata": {
    "execution": {
     "iopub.execute_input": "2022-02-26T18:21:10.913163Z",
     "iopub.status.busy": "2022-02-26T18:21:10.912514Z",
     "iopub.status.idle": "2022-02-26T18:21:10.920086Z",
     "shell.execute_reply": "2022-02-26T18:21:10.920637Z",
     "shell.execute_reply.started": "2022-02-26T18:12:23.445214Z"
    },
    "papermill": {
     "duration": 0.165738,
     "end_time": "2022-02-26T18:21:10.920829",
     "exception": false,
     "start_time": "2022-02-26T18:21:10.755091",
     "status": "completed"
    },
    "tags": []
   },
   "outputs": [
    {
     "data": {
      "text/plain": [
       "((848, 8), (364, 8))"
      ]
     },
     "execution_count": 40,
     "metadata": {},
     "output_type": "execute_result"
    }
   ],
   "source": [
    "# removed correlated  features\n",
    "X_train.drop(labels=corr_features, axis=1, inplace=True)\n",
    "X_test.drop(labels=corr_features, axis=1, inplace=True)\n",
    "\n",
    "X_train.shape, X_test.shape"
   ]
  },
  {
   "cell_type": "code",
   "execution_count": 41,
   "id": "70992868",
   "metadata": {
    "execution": {
     "iopub.execute_input": "2022-02-26T18:21:11.244313Z",
     "iopub.status.busy": "2022-02-26T18:21:11.243613Z",
     "iopub.status.idle": "2022-02-26T18:21:11.246889Z",
     "shell.execute_reply": "2022-02-26T18:21:11.247585Z",
     "shell.execute_reply.started": "2022-02-26T18:12:23.470713Z"
    },
    "papermill": {
     "duration": 0.162945,
     "end_time": "2022-02-26T18:21:11.247758",
     "exception": false,
     "start_time": "2022-02-26T18:21:11.084813",
     "status": "completed"
    },
    "tags": []
   },
   "outputs": [],
   "source": [
    "X_train.fillna(0, inplace=True)"
   ]
  },
  {
   "cell_type": "code",
   "execution_count": 42,
   "id": "d127fac3",
   "metadata": {
    "execution": {
     "iopub.execute_input": "2022-02-26T18:21:11.562529Z",
     "iopub.status.busy": "2022-02-26T18:21:11.561852Z",
     "iopub.status.idle": "2022-02-26T18:22:12.400862Z",
     "shell.execute_reply": "2022-02-26T18:22:12.401618Z",
     "shell.execute_reply.started": "2022-02-26T18:12:23.478651Z"
    },
    "papermill": {
     "duration": 60.997991,
     "end_time": "2022-02-26T18:22:12.401863",
     "exception": false,
     "start_time": "2022-02-26T18:21:11.403872",
     "status": "completed"
    },
    "tags": []
   },
   "outputs": [
    {
     "name": "stderr",
     "output_type": "stream",
     "text": [
      "[Parallel(n_jobs=1)]: Using backend SequentialBackend with 1 concurrent workers.\n",
      "[Parallel(n_jobs=1)]: Done   1 out of   1 | elapsed:    3.7s remaining:    0.0s\n",
      "[Parallel(n_jobs=1)]: Done   8 out of   8 | elapsed:   15.4s finished\n",
      "\n",
      "[2022-02-26 18:21:26] Features: 1/7 -- score: 0.6261956143404107[Parallel(n_jobs=1)]: Using backend SequentialBackend with 1 concurrent workers.\n",
      "[Parallel(n_jobs=1)]: Done   1 out of   1 | elapsed:    1.6s remaining:    0.0s\n",
      "[Parallel(n_jobs=1)]: Done   7 out of   7 | elapsed:   11.5s finished\n",
      "\n",
      "[2022-02-26 18:21:38] Features: 2/7 -- score: 0.6816289592760182[Parallel(n_jobs=1)]: Using backend SequentialBackend with 1 concurrent workers.\n",
      "[Parallel(n_jobs=1)]: Done   1 out of   1 | elapsed:    1.6s remaining:    0.0s\n",
      "[Parallel(n_jobs=1)]: Done   6 out of   6 | elapsed:   10.0s finished\n",
      "\n",
      "[2022-02-26 18:21:48] Features: 3/7 -- score: 0.6981761225200138[Parallel(n_jobs=1)]: Using backend SequentialBackend with 1 concurrent workers.\n",
      "[Parallel(n_jobs=1)]: Done   1 out of   1 | elapsed:    1.7s remaining:    0.0s\n",
      "[Parallel(n_jobs=1)]: Done   5 out of   5 | elapsed:    8.5s finished\n",
      "\n",
      "[2022-02-26 18:21:56] Features: 4/7 -- score: 0.6839958231813436[Parallel(n_jobs=1)]: Using backend SequentialBackend with 1 concurrent workers.\n",
      "[Parallel(n_jobs=1)]: Done   1 out of   1 | elapsed:    1.7s remaining:    0.0s\n",
      "[Parallel(n_jobs=1)]: Done   4 out of   4 | elapsed:    6.8s finished\n",
      "\n",
      "[2022-02-26 18:22:03] Features: 5/7 -- score: 0.6674973894883397[Parallel(n_jobs=1)]: Using backend SequentialBackend with 1 concurrent workers.\n",
      "[Parallel(n_jobs=1)]: Done   1 out of   1 | elapsed:    1.7s remaining:    0.0s\n",
      "[Parallel(n_jobs=1)]: Done   3 out of   3 | elapsed:    5.2s finished\n",
      "\n",
      "[2022-02-26 18:22:08] Features: 6/7 -- score: 0.671082492168465[Parallel(n_jobs=1)]: Using backend SequentialBackend with 1 concurrent workers.\n",
      "[Parallel(n_jobs=1)]: Done   1 out of   1 | elapsed:    1.7s remaining:    0.0s\n",
      "[Parallel(n_jobs=1)]: Done   2 out of   2 | elapsed:    3.4s finished\n",
      "\n",
      "[2022-02-26 18:22:12] Features: 7/7 -- score: 0.6816846501914375"
     ]
    }
   ],
   "source": [
    "from mlxtend.feature_selection import SequentialFeatureSelector as sfs\n",
    "#Build RF classifier to use in feature selection\n",
    "clf = RandomForestClassifier(n_estimators=100, n_jobs=-1)\n",
    "\n",
    "# Build step forward feature selection\n",
    "sfs1 = sfs(clf,\n",
    "           k_features=7,\n",
    "           forward=True,\n",
    "           floating=False,\n",
    "           verbose=2,\n",
    "           scoring='accuracy',\n",
    "           cv=5)\n",
    "\n",
    "# Perform SFFS\n",
    "sfs1 = sfs1.fit(X_train, y_train)"
   ]
  },
  {
   "cell_type": "code",
   "execution_count": 43,
   "id": "64b6faba",
   "metadata": {
    "execution": {
     "iopub.execute_input": "2022-02-26T18:22:12.729199Z",
     "iopub.status.busy": "2022-02-26T18:22:12.728182Z",
     "iopub.status.idle": "2022-02-26T18:22:12.732824Z",
     "shell.execute_reply": "2022-02-26T18:22:12.733301Z",
     "shell.execute_reply.started": "2022-02-26T18:13:30.340678Z"
    },
    "papermill": {
     "duration": 0.17159,
     "end_time": "2022-02-26T18:22:12.733488",
     "exception": false,
     "start_time": "2022-02-26T18:22:12.561898",
     "status": "completed"
    },
    "tags": []
   },
   "outputs": [
    {
     "name": "stdout",
     "output_type": "stream",
     "text": [
      "[0, 1, 2, 3, 4, 6, 7]\n"
     ]
    },
    {
     "data": {
      "text/plain": [
       "Index(['Landslide', 'Aspect', 'Curvature', 'Earthquake', 'Elevation', 'NDVI',\n",
       "       'Slope'],\n",
       "      dtype='object')"
      ]
     },
     "execution_count": 43,
     "metadata": {},
     "output_type": "execute_result"
    }
   ],
   "source": [
    "# Which features?\n",
    "feat_cols = list(sfs1.k_feature_idx_)\n",
    "print(feat_cols)\n",
    "X_train.columns[list(sfs1.k_feature_idx_)]"
   ]
  },
  {
   "cell_type": "markdown",
   "id": "76c93339",
   "metadata": {
    "papermill": {
     "duration": 0.159065,
     "end_time": "2022-02-26T18:22:13.051912",
     "exception": false,
     "start_time": "2022-02-26T18:22:12.892847",
     "status": "completed"
    },
    "tags": []
   },
   "source": [
    "Backward Elimination"
   ]
  },
  {
   "cell_type": "code",
   "execution_count": 44,
   "id": "eaae26ae",
   "metadata": {
    "execution": {
     "iopub.execute_input": "2022-02-26T18:22:13.381724Z",
     "iopub.status.busy": "2022-02-26T18:22:13.380645Z",
     "iopub.status.idle": "2022-02-26T18:22:52.036685Z",
     "shell.execute_reply": "2022-02-26T18:22:52.037269Z",
     "shell.execute_reply.started": "2022-02-26T18:13:30.352488Z"
    },
    "papermill": {
     "duration": 38.824548,
     "end_time": "2022-02-26T18:22:52.037539",
     "exception": false,
     "start_time": "2022-02-26T18:22:13.212991",
     "status": "completed"
    },
    "tags": []
   },
   "outputs": [
    {
     "name": "stderr",
     "output_type": "stream",
     "text": [
      "[Parallel(n_jobs=1)]: Using backend SequentialBackend with 1 concurrent workers.\n",
      "[Parallel(n_jobs=1)]: Done   1 out of   1 | elapsed:    1.7s remaining:    0.0s\n",
      "[Parallel(n_jobs=1)]: Done   8 out of   8 | elapsed:   14.2s finished\n",
      "\n",
      "[2022-02-26 18:22:29] Features: 7/5 -- score: 0.6852210233205709[Parallel(n_jobs=1)]: Using backend SequentialBackend with 1 concurrent workers.\n",
      "[Parallel(n_jobs=1)]: Done   1 out of   1 | elapsed:    1.7s remaining:    0.0s\n",
      "[Parallel(n_jobs=1)]: Done   7 out of   7 | elapsed:   12.1s finished\n",
      "\n",
      "[2022-02-26 18:22:41] Features: 6/5 -- score: 0.6745701357466063[Parallel(n_jobs=1)]: Using backend SequentialBackend with 1 concurrent workers.\n",
      "[Parallel(n_jobs=1)]: Done   1 out of   1 | elapsed:    1.7s remaining:    0.0s\n",
      "[Parallel(n_jobs=1)]: Done   6 out of   6 | elapsed:   10.4s finished\n",
      "\n",
      "[2022-02-26 18:22:51] Features: 5/5 -- score: 0.649829446571528"
     ]
    }
   ],
   "source": [
    "#Build RF classifier to use in feature selection\n",
    "clf = RandomForestClassifier(n_estimators=100, n_jobs=-1)\n",
    "\n",
    "# Build step forward feature selection\n",
    "sfs2 = sfs(clf,\n",
    "           k_features=5,\n",
    "           forward=False,\n",
    "           floating=False,\n",
    "           verbose=2,\n",
    "           scoring='accuracy',\n",
    "           cv=5)\n",
    "\n",
    "# Perform SFFS\n",
    "sfs2 = sfs2.fit(X_train, y_train)"
   ]
  },
  {
   "cell_type": "code",
   "execution_count": 45,
   "id": "becef1fb",
   "metadata": {
    "execution": {
     "iopub.execute_input": "2022-02-26T18:22:52.376166Z",
     "iopub.status.busy": "2022-02-26T18:22:52.375492Z",
     "iopub.status.idle": "2022-02-26T18:22:52.383690Z",
     "shell.execute_reply": "2022-02-26T18:22:52.382894Z",
     "shell.execute_reply.started": "2022-02-26T18:14:13.817222Z"
    },
    "papermill": {
     "duration": 0.175576,
     "end_time": "2022-02-26T18:22:52.383880",
     "exception": false,
     "start_time": "2022-02-26T18:22:52.208304",
     "status": "completed"
    },
    "tags": []
   },
   "outputs": [
    {
     "data": {
      "text/plain": [
       "Index(['Aspect', 'Earthquake', 'Elevation', 'NDVI', 'Slope'], dtype='object')"
      ]
     },
     "execution_count": 45,
     "metadata": {},
     "output_type": "execute_result"
    }
   ],
   "source": [
    "sfs2.k_feature_idx_\n",
    "X_train.columns[list(sfs2.k_feature_idx_)]"
   ]
  },
  {
   "cell_type": "markdown",
   "id": "e1e62952",
   "metadata": {
    "papermill": {
     "duration": 0.165473,
     "end_time": "2022-02-26T18:22:52.723883",
     "exception": false,
     "start_time": "2022-02-26T18:22:52.558410",
     "status": "completed"
    },
    "tags": []
   },
   "source": [
    " **Feature Selection Method2**"
   ]
  },
  {
   "cell_type": "code",
   "execution_count": 46,
   "id": "e49f0927",
   "metadata": {
    "execution": {
     "iopub.execute_input": "2022-02-26T18:22:53.060563Z",
     "iopub.status.busy": "2022-02-26T18:22:53.059821Z",
     "iopub.status.idle": "2022-02-26T18:22:53.263301Z",
     "shell.execute_reply": "2022-02-26T18:22:53.262588Z",
     "shell.execute_reply.started": "2022-02-26T18:14:13.826217Z"
    },
    "papermill": {
     "duration": 0.376411,
     "end_time": "2022-02-26T18:22:53.263444",
     "exception": false,
     "start_time": "2022-02-26T18:22:52.887033",
     "status": "completed"
    },
    "tags": []
   },
   "outputs": [],
   "source": [
    "from matplotlib.colors import ListedColormap\n",
    "from sklearn.model_selection import train_test_split\n",
    "from sklearn.preprocessing import StandardScaler\n",
    "from sklearn.datasets import make_moons, make_circles, make_classification\n",
    "from sklearn.linear_model import LogisticRegression\n",
    "from sklearn.model_selection import GridSearchCV\n",
    "from sklearn.pipeline import make_pipeline\n",
    "from sklearn.preprocessing import KBinsDiscretizer\n",
    "from sklearn.svm import SVC, LinearSVC\n",
    "from sklearn.ensemble import GradientBoostingClassifier\n",
    "from sklearn.utils._testing import ignore_warnings\n",
    "from sklearn.exceptions import ConvergenceWarning\n",
    "from sklearn import ensemble"
   ]
  },
  {
   "cell_type": "code",
   "execution_count": 47,
   "id": "1088ef88",
   "metadata": {
    "execution": {
     "iopub.execute_input": "2022-02-26T18:22:53.595252Z",
     "iopub.status.busy": "2022-02-26T18:22:53.594588Z",
     "iopub.status.idle": "2022-02-26T18:23:04.996149Z",
     "shell.execute_reply": "2022-02-26T18:23:04.996650Z",
     "shell.execute_reply.started": "2022-02-26T18:14:13.840883Z"
    },
    "papermill": {
     "duration": 11.569629,
     "end_time": "2022-02-26T18:23:04.996846",
     "exception": false,
     "start_time": "2022-02-26T18:22:53.427217",
     "status": "completed"
    },
    "tags": []
   },
   "outputs": [
    {
     "name": "stdout",
     "output_type": "stream",
     "text": [
      "Collecting pca\r\n",
      "  Downloading pca-1.6.3-py3-none-any.whl (25 kB)\r\n",
      "Requirement already satisfied: pandas in /opt/conda/lib/python3.7/site-packages (from pca) (1.3.5)\r\n",
      "Collecting colourmap\r\n",
      "  Downloading colourmap-0.1.1-py3-none-any.whl (5.5 kB)\r\n",
      "Requirement already satisfied: tqdm in /opt/conda/lib/python3.7/site-packages (from pca) (4.62.3)\r\n",
      "Requirement already satisfied: scipy in /opt/conda/lib/python3.7/site-packages (from pca) (1.7.3)\r\n",
      "Requirement already satisfied: numpy in /opt/conda/lib/python3.7/site-packages (from pca) (1.20.3)\r\n",
      "Requirement already satisfied: matplotlib in /opt/conda/lib/python3.7/site-packages (from pca) (3.5.1)\r\n",
      "Requirement already satisfied: sklearn in /opt/conda/lib/python3.7/site-packages (from pca) (0.0)\r\n",
      "Collecting wget\r\n",
      "  Downloading wget-3.2.zip (10 kB)\r\n",
      "  Preparing metadata (setup.py) ... \u001b[?25l-\b \bdone\r\n",
      "\u001b[?25hRequirement already satisfied: pyparsing>=2.2.1 in /opt/conda/lib/python3.7/site-packages (from matplotlib->pca) (3.0.6)\r\n",
      "Requirement already satisfied: packaging>=20.0 in /opt/conda/lib/python3.7/site-packages (from matplotlib->pca) (21.3)\r\n",
      "Requirement already satisfied: python-dateutil>=2.7 in /opt/conda/lib/python3.7/site-packages (from matplotlib->pca) (2.8.2)\r\n",
      "Requirement already satisfied: kiwisolver>=1.0.1 in /opt/conda/lib/python3.7/site-packages (from matplotlib->pca) (1.3.2)\r\n",
      "Requirement already satisfied: fonttools>=4.22.0 in /opt/conda/lib/python3.7/site-packages (from matplotlib->pca) (4.28.4)\r\n",
      "Requirement already satisfied: pillow>=6.2.0 in /opt/conda/lib/python3.7/site-packages (from matplotlib->pca) (8.2.0)\r\n",
      "Requirement already satisfied: cycler>=0.10 in /opt/conda/lib/python3.7/site-packages (from matplotlib->pca) (0.11.0)\r\n",
      "Requirement already satisfied: pytz>=2017.3 in /opt/conda/lib/python3.7/site-packages (from pandas->pca) (2021.3)\r\n",
      "Requirement already satisfied: scikit-learn in /opt/conda/lib/python3.7/site-packages (from sklearn->pca) (0.23.2)\r\n",
      "Requirement already satisfied: six>=1.5 in /opt/conda/lib/python3.7/site-packages (from python-dateutil>=2.7->matplotlib->pca) (1.16.0)\r\n",
      "Requirement already satisfied: threadpoolctl>=2.0.0 in /opt/conda/lib/python3.7/site-packages (from scikit-learn->sklearn->pca) (3.0.0)\r\n",
      "Requirement already satisfied: joblib>=0.11 in /opt/conda/lib/python3.7/site-packages (from scikit-learn->sklearn->pca) (1.1.0)\r\n",
      "Building wheels for collected packages: wget\r\n",
      "  Building wheel for wget (setup.py) ... \u001b[?25l-\b \b\\\b \bdone\r\n",
      "\u001b[?25h  Created wheel for wget: filename=wget-3.2-py3-none-any.whl size=9672 sha256=408bc5e8b7db1b99fb895e27a767825a429dbd56782508010fcdbc54ee5e546f\r\n",
      "  Stored in directory: /root/.cache/pip/wheels/a1/b6/7c/0e63e34eb06634181c63adacca38b79ff8f35c37e3c13e3c02\r\n",
      "Successfully built wget\r\n",
      "Installing collected packages: wget, colourmap, pca\r\n",
      "Successfully installed colourmap-0.1.1 pca-1.6.3 wget-3.2\r\n",
      "\u001b[33mWARNING: Running pip as the 'root' user can result in broken permissions and conflicting behaviour with the system package manager. It is recommended to use a virtual environment instead: https://pip.pypa.io/warnings/venv\u001b[0m\r\n"
     ]
    }
   ],
   "source": [
    "!pip install pca"
   ]
  },
  {
   "cell_type": "code",
   "execution_count": 48,
   "id": "d1f7703c",
   "metadata": {
    "execution": {
     "iopub.execute_input": "2022-02-26T18:23:05.344440Z",
     "iopub.status.busy": "2022-02-26T18:23:05.343775Z",
     "iopub.status.idle": "2022-02-26T18:23:05.422120Z",
     "shell.execute_reply": "2022-02-26T18:23:05.422602Z",
     "shell.execute_reply.started": "2022-02-26T18:14:23.275337Z"
    },
    "papermill": {
     "duration": 0.256361,
     "end_time": "2022-02-26T18:23:05.422788",
     "exception": false,
     "start_time": "2022-02-26T18:23:05.166427",
     "status": "completed"
    },
    "tags": []
   },
   "outputs": [
    {
     "name": "stdout",
     "output_type": "stream",
     "text": [
      "[pca] >Processing dataframe..\n",
      "[pca] >The PCA reduction is performed to capture [95.0%] explained variance using the [12] columns of the input data.\n",
      "[pca] >Fitting using PCA..\n",
      "[pca] >Computing loadings and PCs..\n",
      "[pca] >Computing explained variance..\n",
      "[pca] >Number of components is [8] that covers the [95.00%] explained variance.\n",
      "[pca] >The PCA reduction is performed on the [12] columns of the input dataframe.\n",
      "[pca] >Fitting using PCA..\n",
      "[pca] >Computing loadings and PCs..\n",
      "[pca] >Outlier detection using Hotelling T2 test with alpha=[0.05] and n_components=[8]\n",
      "[pca] >Outlier detection using SPE/DmodX with n_std=[2]\n",
      "     PC        feature   loading  type\n",
      "0   PC1           NDWI  0.603969  best\n",
      "1   PC2      Lithology  0.814822  best\n",
      "2   PC3  Precipitation -0.794379  best\n",
      "3   PC4      Curvature -0.519935  best\n",
      "4   PC5         Aspect  0.839231  best\n",
      "5   PC6          Slope -0.850993  best\n",
      "6   PC7           Flow -0.623933  best\n",
      "7   PC8           Flow -0.558439  best\n",
      "8   PC3     Earthquake -0.335349  weak\n",
      "9   PC8      Elevation -0.550979  weak\n",
      "10  PC1           NDVI -0.565148  weak\n",
      "11  PC4           Plan -0.492946  weak\n",
      "12  PC4        Profile  0.428444  weak\n"
     ]
    }
   ],
   "source": [
    "from pca import pca\n",
    "\n",
    "X_pca = df.loc[:, df.columns != 'Landslide']\n",
    "\n",
    "# scaler = StandardScaler()\n",
    "# scaler.fit(X_pca)\n",
    "# X_pca = scaler.transform(X_pca)\n",
    "\n",
    "model = pca()\n",
    "out = model.fit_transform(X_pca)\n",
    "\n",
    "print(out['topfeat'])"
   ]
  },
  {
   "cell_type": "code",
   "execution_count": 49,
   "id": "c03aa36a",
   "metadata": {
    "execution": {
     "iopub.execute_input": "2022-02-26T18:23:05.765675Z",
     "iopub.status.busy": "2022-02-26T18:23:05.764919Z",
     "iopub.status.idle": "2022-02-26T18:23:06.080019Z",
     "shell.execute_reply": "2022-02-26T18:23:06.079502Z",
     "shell.execute_reply.started": "2022-02-26T18:14:23.378852Z"
    },
    "papermill": {
     "duration": 0.488019,
     "end_time": "2022-02-26T18:23:06.080164",
     "exception": false,
     "start_time": "2022-02-26T18:23:05.592145",
     "status": "completed"
    },
    "tags": []
   },
   "outputs": [
    {
     "data": {
      "image/png": "[encoded data removed]",
      "text/plain": [
       "<Figure size 1080x720 with 1 Axes>"
      ]
     },
     "metadata": {},
     "output_type": "display_data"
    },
    {
     "data": {
      "text/plain": [
       "<Figure size 432x288 with 0 Axes>"
      ]
     },
     "metadata": {},
     "output_type": "display_data"
    }
   ],
   "source": [
    "model.plot()\n",
    "\n",
    "plt.savefig('pca1.eps', format='eps')"
   ]
  },
  {
   "cell_type": "markdown",
   "id": "2e92cf4f",
   "metadata": {
    "papermill": {
     "duration": 0.175151,
     "end_time": "2022-02-26T18:23:06.428062",
     "exception": false,
     "start_time": "2022-02-26T18:23:06.252911",
     "status": "completed"
    },
    "tags": []
   },
   "source": [
    "# **Feature Importance**"
   ]
  },
  {
   "cell_type": "code",
   "execution_count": 50,
   "id": "6a8f7d91",
   "metadata": {
    "execution": {
     "iopub.execute_input": "2022-02-26T18:23:06.787827Z",
     "iopub.status.busy": "2022-02-26T18:23:06.786814Z",
     "iopub.status.idle": "2022-02-26T18:23:07.020047Z",
     "shell.execute_reply": "2022-02-26T18:23:07.019314Z",
     "shell.execute_reply.started": "2022-02-26T18:14:23.728674Z"
    },
    "papermill": {
     "duration": 0.417491,
     "end_time": "2022-02-26T18:23:07.020194",
     "exception": false,
     "start_time": "2022-02-26T18:23:06.602703",
     "status": "completed"
    },
    "tags": []
   },
   "outputs": [
    {
     "name": "stdout",
     "output_type": "stream",
     "text": [
      "Feature: 0, Score: 0.19600\n",
      "Feature: 1, Score: 0.10096\n",
      "Feature: 2, Score: 0.02443\n",
      "Feature: 3, Score: 0.05521\n",
      "Feature: 4, Score: 0.14132\n",
      "Feature: 5, Score: 0.02339\n",
      "Feature: 6, Score: 0.01945\n",
      "Feature: 7, Score: 0.01398\n",
      "Feature: 8, Score: 0.00499\n",
      "Feature: 9, Score: 0.01925\n",
      "Feature: 10, Score: 0.02099\n",
      "Feature: 11, Score: 0.36349\n",
      "Feature: 12, Score: 0.01654\n"
     ]
    },
    {
     "data": {
      "image/png": "[encoded data removed]",
      "text/plain": [
       "<Figure size 432x288 with 1 Axes>"
      ]
     },
     "metadata": {},
     "output_type": "display_data"
    }
   ],
   "source": [
    "from sklearn.datasets import make_classification\n",
    "from sklearn.tree import DecisionTreeClassifier\n",
    "from matplotlib import pyplot\n",
    "# define dataset\n",
    "X, y = make_classification(n_samples=1000, n_features=13, n_informative=5, n_redundant=5, random_state=1)\n",
    "# define the model\n",
    "model = DecisionTreeClassifier()\n",
    "# fit the model\n",
    "model.fit(X, y)\n",
    "# get importance\n",
    "importance = model.feature_importances_\n",
    "# summarize feature importance\n",
    "for i,v in enumerate(importance):\n",
    "\tprint('Feature: %0d, Score: %.5f' % (i,v))\n",
    "# plot feature importance\n",
    "pyplot.barh([x for x in range(len(importance))], importance)\n",
    "pyplot.show()"
   ]
  },
  {
   "cell_type": "code",
   "execution_count": 51,
   "id": "40ec5f0f",
   "metadata": {
    "execution": {
     "iopub.execute_input": "2022-02-26T18:23:07.374687Z",
     "iopub.status.busy": "2022-02-26T18:23:07.373718Z",
     "iopub.status.idle": "2022-02-26T18:23:07.919005Z",
     "shell.execute_reply": "2022-02-26T18:23:07.918331Z",
     "shell.execute_reply.started": "2022-02-26T18:14:23.937574Z"
    },
    "papermill": {
     "duration": 0.723738,
     "end_time": "2022-02-26T18:23:07.919179",
     "exception": false,
     "start_time": "2022-02-26T18:23:07.195441",
     "status": "completed"
    },
    "tags": []
   },
   "outputs": [
    {
     "name": "stdout",
     "output_type": "stream",
     "text": [
      "Feature: 0, Score: 0.15242\n",
      "Feature: 1, Score: 0.09074\n",
      "Feature: 2, Score: 0.04115\n",
      "Feature: 3, Score: 0.08292\n",
      "Feature: 4, Score: 0.06731\n",
      "Feature: 5, Score: 0.05499\n",
      "Feature: 6, Score: 0.01810\n",
      "Feature: 7, Score: 0.11692\n",
      "Feature: 8, Score: 0.02352\n",
      "Feature: 9, Score: 0.11958\n",
      "Feature: 10, Score: 0.02314\n",
      "Feature: 11, Score: 0.14847\n",
      "Feature: 12, Score: 0.06076\n"
     ]
    },
    {
     "data": {
      "image/png": "[encoded data removed]",
      "text/plain": [
       "<Figure size 432x288 with 1 Axes>"
      ]
     },
     "metadata": {},
     "output_type": "display_data"
    }
   ],
   "source": [
    "# random forest for feature importance on a classification problem\n",
    "from sklearn.datasets import make_classification\n",
    "from sklearn.ensemble import RandomForestClassifier\n",
    "from matplotlib import pyplot\n",
    "# define dataset\n",
    "X, y = make_classification(n_samples=1000, n_features=13, n_informative=5, n_redundant=5, random_state=1)\n",
    "# define the model\n",
    "model = RandomForestClassifier()\n",
    "# fit the model\n",
    "model.fit(X, y)\n",
    "# get importance\n",
    "importance = model.feature_importances_\n",
    "# summarize feature importance\n",
    "for i,v in enumerate(importance):\n",
    "\tprint('Feature: %0d, Score: %.5f' % (i,v))\n",
    "# plot feature importance\n",
    "pyplot.barh([x for x in range(len(importance))], importance)\n",
    "pyplot.show()"
   ]
  },
  {
   "cell_type": "markdown",
   "id": "6c2a13d7",
   "metadata": {
    "papermill": {
     "duration": 0.174392,
     "end_time": "2022-02-26T18:23:08.269578",
     "exception": false,
     "start_time": "2022-02-26T18:23:08.095186",
     "status": "completed"
    },
    "tags": []
   },
   "source": [
    "# **Feature Engineering**"
   ]
  },
  {
   "cell_type": "markdown",
   "id": "b3cb783b",
   "metadata": {
    "papermill": {
     "duration": 0.175608,
     "end_time": "2022-02-26T18:23:08.622676",
     "exception": false,
     "start_time": "2022-02-26T18:23:08.447068",
     "status": "completed"
    },
    "tags": []
   },
   "source": [
    "Creating a new column tigger by adding slope , flow and self"
   ]
  },
  {
   "cell_type": "code",
   "execution_count": 52,
   "id": "99b7639b",
   "metadata": {
    "execution": {
     "iopub.execute_input": "2022-02-26T18:23:08.979951Z",
     "iopub.status.busy": "2022-02-26T18:23:08.978935Z",
     "iopub.status.idle": "2022-02-26T18:23:08.984294Z",
     "shell.execute_reply": "2022-02-26T18:23:08.984933Z",
     "shell.execute_reply.started": "2022-02-26T18:14:24.491887Z"
    },
    "papermill": {
     "duration": 0.185126,
     "end_time": "2022-02-26T18:23:08.985130",
     "exception": false,
     "start_time": "2022-02-26T18:23:08.800004",
     "status": "completed"
    },
    "tags": []
   },
   "outputs": [],
   "source": [
    "LS_df['trigger'] = LS_df['Slope'] + LS_df['Flow']+1"
   ]
  },
  {
   "cell_type": "code",
   "execution_count": 53,
   "id": "7902db31",
   "metadata": {
    "execution": {
     "iopub.execute_input": "2022-02-26T18:23:09.340039Z",
     "iopub.status.busy": "2022-02-26T18:23:09.339018Z",
     "iopub.status.idle": "2022-02-26T18:23:09.364598Z",
     "shell.execute_reply": "2022-02-26T18:23:09.365201Z",
     "shell.execute_reply.started": "2022-02-26T18:14:24.500120Z"
    },
    "papermill": {
     "duration": 0.204495,
     "end_time": "2022-02-26T18:23:09.365385",
     "exception": false,
     "start_time": "2022-02-26T18:23:09.160890",
     "status": "completed"
    },
    "tags": []
   },
   "outputs": [],
   "source": [
    "LS_df['time'] = LS_df.apply(lambda x: ['morning','night'] if x['Landslide'] < 15 else x['Earthquake'],axis=1)"
   ]
  },
  {
   "cell_type": "code",
   "execution_count": 54,
   "id": "369f3df4",
   "metadata": {
    "execution": {
     "iopub.execute_input": "2022-02-26T18:23:09.725131Z",
     "iopub.status.busy": "2022-02-26T18:23:09.724082Z",
     "iopub.status.idle": "2022-02-26T18:23:09.748042Z",
     "shell.execute_reply": "2022-02-26T18:23:09.747505Z",
     "shell.execute_reply.started": "2022-02-26T18:14:24.536879Z"
    },
    "papermill": {
     "duration": 0.204461,
     "end_time": "2022-02-26T18:23:09.748193",
     "exception": false,
     "start_time": "2022-02-26T18:23:09.543732",
     "status": "completed"
    },
    "tags": []
   },
   "outputs": [
    {
     "data": {
      "text/html": [
       "<div>\n",
       "<style scoped>\n",
       "    .dataframe tbody tr th:only-of-type {\n",
       "        vertical-align: middle;\n",
       "    }\n",
       "\n",
       "    .dataframe tbody tr th {\n",
       "        vertical-align: top;\n",
       "    }\n",
       "\n",
       "    .dataframe thead th {\n",
       "        text-align: right;\n",
       "    }\n",
       "</style>\n",
       "<table border=\"1\" class=\"dataframe\">\n",
       "  <thead>\n",
       "    <tr style=\"text-align: right;\">\n",
       "      <th></th>\n",
       "      <th>Landslide</th>\n",
       "      <th>Aspect</th>\n",
       "      <th>Curvature</th>\n",
       "      <th>Earthquake</th>\n",
       "      <th>Elevation</th>\n",
       "      <th>Flow</th>\n",
       "      <th>Lithology</th>\n",
       "      <th>NDVI</th>\n",
       "      <th>NDWI</th>\n",
       "      <th>Plan</th>\n",
       "      <th>Precipitation</th>\n",
       "      <th>Profile</th>\n",
       "      <th>Slope</th>\n",
       "      <th>trigger</th>\n",
       "      <th>time</th>\n",
       "    </tr>\n",
       "  </thead>\n",
       "  <tbody>\n",
       "    <tr>\n",
       "      <th>606</th>\n",
       "      <td>1</td>\n",
       "      <td>1</td>\n",
       "      <td>3</td>\n",
       "      <td>2</td>\n",
       "      <td>2</td>\n",
       "      <td>5</td>\n",
       "      <td>1</td>\n",
       "      <td>4</td>\n",
       "      <td>2</td>\n",
       "      <td>3</td>\n",
       "      <td>5</td>\n",
       "      <td>3</td>\n",
       "      <td>3</td>\n",
       "      <td>9</td>\n",
       "      <td>[morning, night]</td>\n",
       "    </tr>\n",
       "    <tr>\n",
       "      <th>607</th>\n",
       "      <td>1</td>\n",
       "      <td>1</td>\n",
       "      <td>3</td>\n",
       "      <td>2</td>\n",
       "      <td>2</td>\n",
       "      <td>4</td>\n",
       "      <td>1</td>\n",
       "      <td>4</td>\n",
       "      <td>2</td>\n",
       "      <td>4</td>\n",
       "      <td>5</td>\n",
       "      <td>4</td>\n",
       "      <td>3</td>\n",
       "      <td>8</td>\n",
       "      <td>[morning, night]</td>\n",
       "    </tr>\n",
       "    <tr>\n",
       "      <th>608</th>\n",
       "      <td>1</td>\n",
       "      <td>3</td>\n",
       "      <td>3</td>\n",
       "      <td>3</td>\n",
       "      <td>3</td>\n",
       "      <td>2</td>\n",
       "      <td>1</td>\n",
       "      <td>3</td>\n",
       "      <td>3</td>\n",
       "      <td>3</td>\n",
       "      <td>5</td>\n",
       "      <td>3</td>\n",
       "      <td>3</td>\n",
       "      <td>6</td>\n",
       "      <td>[morning, night]</td>\n",
       "    </tr>\n",
       "    <tr>\n",
       "      <th>609</th>\n",
       "      <td>1</td>\n",
       "      <td>1</td>\n",
       "      <td>3</td>\n",
       "      <td>3</td>\n",
       "      <td>2</td>\n",
       "      <td>4</td>\n",
       "      <td>1</td>\n",
       "      <td>2</td>\n",
       "      <td>4</td>\n",
       "      <td>3</td>\n",
       "      <td>5</td>\n",
       "      <td>2</td>\n",
       "      <td>5</td>\n",
       "      <td>10</td>\n",
       "      <td>[morning, night]</td>\n",
       "    </tr>\n",
       "    <tr>\n",
       "      <th>610</th>\n",
       "      <td>1</td>\n",
       "      <td>5</td>\n",
       "      <td>3</td>\n",
       "      <td>3</td>\n",
       "      <td>2</td>\n",
       "      <td>4</td>\n",
       "      <td>1</td>\n",
       "      <td>2</td>\n",
       "      <td>4</td>\n",
       "      <td>3</td>\n",
       "      <td>5</td>\n",
       "      <td>4</td>\n",
       "      <td>5</td>\n",
       "      <td>10</td>\n",
       "      <td>[morning, night]</td>\n",
       "    </tr>\n",
       "    <tr>\n",
       "      <th>...</th>\n",
       "      <td>...</td>\n",
       "      <td>...</td>\n",
       "      <td>...</td>\n",
       "      <td>...</td>\n",
       "      <td>...</td>\n",
       "      <td>...</td>\n",
       "      <td>...</td>\n",
       "      <td>...</td>\n",
       "      <td>...</td>\n",
       "      <td>...</td>\n",
       "      <td>...</td>\n",
       "      <td>...</td>\n",
       "      <td>...</td>\n",
       "      <td>...</td>\n",
       "      <td>...</td>\n",
       "    </tr>\n",
       "    <tr>\n",
       "      <th>1207</th>\n",
       "      <td>1</td>\n",
       "      <td>4</td>\n",
       "      <td>2</td>\n",
       "      <td>1</td>\n",
       "      <td>4</td>\n",
       "      <td>2</td>\n",
       "      <td>5</td>\n",
       "      <td>1</td>\n",
       "      <td>5</td>\n",
       "      <td>3</td>\n",
       "      <td>2</td>\n",
       "      <td>4</td>\n",
       "      <td>2</td>\n",
       "      <td>5</td>\n",
       "      <td>[morning, night]</td>\n",
       "    </tr>\n",
       "    <tr>\n",
       "      <th>1208</th>\n",
       "      <td>1</td>\n",
       "      <td>4</td>\n",
       "      <td>5</td>\n",
       "      <td>1</td>\n",
       "      <td>5</td>\n",
       "      <td>3</td>\n",
       "      <td>5</td>\n",
       "      <td>1</td>\n",
       "      <td>5</td>\n",
       "      <td>5</td>\n",
       "      <td>2</td>\n",
       "      <td>1</td>\n",
       "      <td>5</td>\n",
       "      <td>9</td>\n",
       "      <td>[morning, night]</td>\n",
       "    </tr>\n",
       "    <tr>\n",
       "      <th>1209</th>\n",
       "      <td>1</td>\n",
       "      <td>3</td>\n",
       "      <td>4</td>\n",
       "      <td>1</td>\n",
       "      <td>5</td>\n",
       "      <td>2</td>\n",
       "      <td>5</td>\n",
       "      <td>2</td>\n",
       "      <td>3</td>\n",
       "      <td>3</td>\n",
       "      <td>2</td>\n",
       "      <td>2</td>\n",
       "      <td>5</td>\n",
       "      <td>8</td>\n",
       "      <td>[morning, night]</td>\n",
       "    </tr>\n",
       "    <tr>\n",
       "      <th>1210</th>\n",
       "      <td>1</td>\n",
       "      <td>2</td>\n",
       "      <td>2</td>\n",
       "      <td>1</td>\n",
       "      <td>3</td>\n",
       "      <td>1</td>\n",
       "      <td>1</td>\n",
       "      <td>5</td>\n",
       "      <td>1</td>\n",
       "      <td>1</td>\n",
       "      <td>1</td>\n",
       "      <td>3</td>\n",
       "      <td>3</td>\n",
       "      <td>5</td>\n",
       "      <td>[morning, night]</td>\n",
       "    </tr>\n",
       "    <tr>\n",
       "      <th>1211</th>\n",
       "      <td>1</td>\n",
       "      <td>3</td>\n",
       "      <td>4</td>\n",
       "      <td>1</td>\n",
       "      <td>3</td>\n",
       "      <td>2</td>\n",
       "      <td>1</td>\n",
       "      <td>4</td>\n",
       "      <td>1</td>\n",
       "      <td>4</td>\n",
       "      <td>1</td>\n",
       "      <td>2</td>\n",
       "      <td>3</td>\n",
       "      <td>6</td>\n",
       "      <td>[morning, night]</td>\n",
       "    </tr>\n",
       "  </tbody>\n",
       "</table>\n",
       "<p>606 rows × 15 columns</p>\n",
       "</div>"
      ],
      "text/plain": [
       "      Landslide  Aspect  Curvature  Earthquake  Elevation  Flow  Lithology  \\\n",
       "606           1       1          3           2          2     5          1   \n",
       "607           1       1          3           2          2     4          1   \n",
       "608           1       3          3           3          3     2          1   \n",
       "609           1       1          3           3          2     4          1   \n",
       "610           1       5          3           3          2     4          1   \n",
       "...         ...     ...        ...         ...        ...   ...        ...   \n",
       "1207          1       4          2           1          4     2          5   \n",
       "1208          1       4          5           1          5     3          5   \n",
       "1209          1       3          4           1          5     2          5   \n",
       "1210          1       2          2           1          3     1          1   \n",
       "1211          1       3          4           1          3     2          1   \n",
       "\n",
       "      NDVI  NDWI  Plan  Precipitation  Profile  Slope  trigger  \\\n",
       "606      4     2     3              5        3      3        9   \n",
       "607      4     2     4              5        4      3        8   \n",
       "608      3     3     3              5        3      3        6   \n",
       "609      2     4     3              5        2      5       10   \n",
       "610      2     4     3              5        4      5       10   \n",
       "...    ...   ...   ...            ...      ...    ...      ...   \n",
       "1207     1     5     3              2        4      2        5   \n",
       "1208     1     5     5              2        1      5        9   \n",
       "1209     2     3     3              2        2      5        8   \n",
       "1210     5     1     1              1        3      3        5   \n",
       "1211     4     1     4              1        2      3        6   \n",
       "\n",
       "                  time  \n",
       "606   [morning, night]  \n",
       "607   [morning, night]  \n",
       "608   [morning, night]  \n",
       "609   [morning, night]  \n",
       "610   [morning, night]  \n",
       "...                ...  \n",
       "1207  [morning, night]  \n",
       "1208  [morning, night]  \n",
       "1209  [morning, night]  \n",
       "1210  [morning, night]  \n",
       "1211  [morning, night]  \n",
       "\n",
       "[606 rows x 15 columns]"
      ]
     },
     "execution_count": 54,
     "metadata": {},
     "output_type": "execute_result"
    }
   ],
   "source": [
    "#displaying only the morning,night time\n",
    "LS_df[LS_df.Landslide>0]"
   ]
  },
  {
   "cell_type": "code",
   "execution_count": 55,
   "id": "b31d874a",
   "metadata": {
    "execution": {
     "iopub.execute_input": "2022-02-26T18:23:10.114843Z",
     "iopub.status.busy": "2022-02-26T18:23:10.113994Z",
     "iopub.status.idle": "2022-02-26T18:23:10.116133Z",
     "shell.execute_reply": "2022-02-26T18:23:10.116612Z",
     "shell.execute_reply.started": "2022-02-26T18:14:24.567424Z"
    },
    "papermill": {
     "duration": 0.190839,
     "end_time": "2022-02-26T18:23:10.116791",
     "exception": false,
     "start_time": "2022-02-26T18:23:09.925952",
     "status": "completed"
    },
    "tags": []
   },
   "outputs": [],
   "source": [
    "LS_df['landslide_size'] = LS_df.groupby('Curvature')['Flow'].transform(max) - LS_df.Curvature +1 "
   ]
  },
  {
   "cell_type": "code",
   "execution_count": 56,
   "id": "6ad06f11",
   "metadata": {
    "execution": {
     "iopub.execute_input": "2022-02-26T18:23:10.473715Z",
     "iopub.status.busy": "2022-02-26T18:23:10.472979Z",
     "iopub.status.idle": "2022-02-26T18:23:10.485011Z",
     "shell.execute_reply": "2022-02-26T18:23:10.485478Z",
     "shell.execute_reply.started": "2022-02-26T18:14:24.579910Z"
    },
    "papermill": {
     "duration": 0.192526,
     "end_time": "2022-02-26T18:23:10.485672",
     "exception": false,
     "start_time": "2022-02-26T18:23:10.293146",
     "status": "completed"
    },
    "tags": []
   },
   "outputs": [
    {
     "name": "stdout",
     "output_type": "stream",
     "text": [
      "<class 'pandas.core.frame.DataFrame'>\n",
      "RangeIndex: 1212 entries, 0 to 1211\n",
      "Data columns (total 16 columns):\n",
      " #   Column          Non-Null Count  Dtype \n",
      "---  ------          --------------  ----- \n",
      " 0   Landslide       1212 non-null   int64 \n",
      " 1   Aspect          1212 non-null   int64 \n",
      " 2   Curvature       1212 non-null   int64 \n",
      " 3   Earthquake      1212 non-null   int64 \n",
      " 4   Elevation       1212 non-null   int64 \n",
      " 5   Flow            1212 non-null   int64 \n",
      " 6   Lithology       1212 non-null   int64 \n",
      " 7   NDVI            1212 non-null   int64 \n",
      " 8   NDWI            1212 non-null   int64 \n",
      " 9   Plan            1212 non-null   int64 \n",
      " 10  Precipitation   1212 non-null   int64 \n",
      " 11  Profile         1212 non-null   int64 \n",
      " 12  Slope           1212 non-null   int64 \n",
      " 13  trigger         1212 non-null   int64 \n",
      " 14  time            1212 non-null   object\n",
      " 15  landslide_size  1212 non-null   int64 \n",
      "dtypes: int64(15), object(1)\n",
      "memory usage: 151.6+ KB\n"
     ]
    }
   ],
   "source": [
    "LS_df.shape\n",
    "LS_df.info()"
   ]
  },
  {
   "cell_type": "code",
   "execution_count": 57,
   "id": "88e292f8",
   "metadata": {
    "execution": {
     "iopub.execute_input": "2022-02-26T18:23:10.842764Z",
     "iopub.status.busy": "2022-02-26T18:23:10.842047Z",
     "iopub.status.idle": "2022-02-26T18:23:10.863888Z",
     "shell.execute_reply": "2022-02-26T18:23:10.864357Z",
     "shell.execute_reply.started": "2022-02-26T18:14:24.598958Z"
    },
    "papermill": {
     "duration": 0.202421,
     "end_time": "2022-02-26T18:23:10.864558",
     "exception": false,
     "start_time": "2022-02-26T18:23:10.662137",
     "status": "completed"
    },
    "tags": []
   },
   "outputs": [
    {
     "name": "stdout",
     "output_type": "stream",
     "text": [
      "<class 'pandas.core.frame.DataFrame'>\n",
      "RangeIndex: 1212 entries, 0 to 1211\n",
      "Data columns (total 16 columns):\n",
      " #   Column          Non-Null Count  Dtype\n",
      "---  ------          --------------  -----\n",
      " 0   Landslide       1212 non-null   int64\n",
      " 1   Aspect          1212 non-null   int64\n",
      " 2   Curvature       1212 non-null   int64\n",
      " 3   Earthquake      1212 non-null   int64\n",
      " 4   Elevation       1212 non-null   int64\n",
      " 5   Flow            1212 non-null   int64\n",
      " 6   Lithology       1212 non-null   int64\n",
      " 7   NDVI            1212 non-null   int64\n",
      " 8   NDWI            1212 non-null   int64\n",
      " 9   Plan            1212 non-null   int64\n",
      " 10  Precipitation   1212 non-null   int64\n",
      " 11  Profile         1212 non-null   int64\n",
      " 12  Slope           1212 non-null   int64\n",
      " 13  trigger         1212 non-null   int64\n",
      " 14  time            1212 non-null   int8 \n",
      " 15  landslide_size  1212 non-null   int64\n",
      "dtypes: int64(15), int8(1)\n",
      "memory usage: 143.3 KB\n"
     ]
    }
   ],
   "source": [
    "LS_df['time']= pd.cut(LS_df['Landslide'] , 4).cat.codes\n",
    "LS_df.info()"
   ]
  },
  {
   "cell_type": "code",
   "execution_count": 58,
   "id": "7c3aeb66",
   "metadata": {
    "execution": {
     "iopub.execute_input": "2022-02-26T18:23:11.221320Z",
     "iopub.status.busy": "2022-02-26T18:23:11.220663Z",
     "iopub.status.idle": "2022-02-26T18:23:11.225364Z",
     "shell.execute_reply": "2022-02-26T18:23:11.225832Z",
     "shell.execute_reply.started": "2022-02-26T18:14:24.625787Z"
    },
    "papermill": {
     "duration": 0.184355,
     "end_time": "2022-02-26T18:23:11.226003",
     "exception": false,
     "start_time": "2022-02-26T18:23:11.041648",
     "status": "completed"
    },
    "tags": []
   },
   "outputs": [],
   "source": [
    "LS_df1 = LS_df.drop(['Profile','trigger', 'time','landslide_size'], axis=1, inplace=True)"
   ]
  },
  {
   "cell_type": "code",
   "execution_count": 59,
   "id": "613385dc",
   "metadata": {
    "execution": {
     "iopub.execute_input": "2022-02-26T18:23:11.584484Z",
     "iopub.status.busy": "2022-02-26T18:23:11.583839Z",
     "iopub.status.idle": "2022-02-26T18:23:11.599501Z",
     "shell.execute_reply": "2022-02-26T18:23:11.599993Z",
     "shell.execute_reply.started": "2022-02-26T18:14:24.640644Z"
    },
    "papermill": {
     "duration": 0.196194,
     "end_time": "2022-02-26T18:23:11.600165",
     "exception": false,
     "start_time": "2022-02-26T18:23:11.403971",
     "status": "completed"
    },
    "tags": []
   },
   "outputs": [
    {
     "data": {
      "text/html": [
       "<div>\n",
       "<style scoped>\n",
       "    .dataframe tbody tr th:only-of-type {\n",
       "        vertical-align: middle;\n",
       "    }\n",
       "\n",
       "    .dataframe tbody tr th {\n",
       "        vertical-align: top;\n",
       "    }\n",
       "\n",
       "    .dataframe thead th {\n",
       "        text-align: right;\n",
       "    }\n",
       "</style>\n",
       "<table border=\"1\" class=\"dataframe\">\n",
       "  <thead>\n",
       "    <tr style=\"text-align: right;\">\n",
       "      <th></th>\n",
       "      <th>Precipitation</th>\n",
       "      <th>Flow</th>\n",
       "      <th>Earthquake</th>\n",
       "      <th>Aspect</th>\n",
       "      <th>Lithology</th>\n",
       "      <th>Plan</th>\n",
       "      <th>NDWI</th>\n",
       "      <th>Slope</th>\n",
       "      <th>Curvature</th>\n",
       "      <th>Elevation</th>\n",
       "      <th>NDVI</th>\n",
       "    </tr>\n",
       "  </thead>\n",
       "  <tbody>\n",
       "    <tr>\n",
       "      <th>0</th>\n",
       "      <td>3</td>\n",
       "      <td>2</td>\n",
       "      <td>2</td>\n",
       "      <td>3</td>\n",
       "      <td>1</td>\n",
       "      <td>2</td>\n",
       "      <td>2</td>\n",
       "      <td>2</td>\n",
       "      <td>3</td>\n",
       "      <td>2</td>\n",
       "      <td>4</td>\n",
       "    </tr>\n",
       "    <tr>\n",
       "      <th>1</th>\n",
       "      <td>5</td>\n",
       "      <td>1</td>\n",
       "      <td>2</td>\n",
       "      <td>1</td>\n",
       "      <td>1</td>\n",
       "      <td>5</td>\n",
       "      <td>2</td>\n",
       "      <td>2</td>\n",
       "      <td>5</td>\n",
       "      <td>3</td>\n",
       "      <td>4</td>\n",
       "    </tr>\n",
       "    <tr>\n",
       "      <th>2</th>\n",
       "      <td>5</td>\n",
       "      <td>2</td>\n",
       "      <td>3</td>\n",
       "      <td>3</td>\n",
       "      <td>4</td>\n",
       "      <td>4</td>\n",
       "      <td>2</td>\n",
       "      <td>2</td>\n",
       "      <td>4</td>\n",
       "      <td>2</td>\n",
       "      <td>3</td>\n",
       "    </tr>\n",
       "    <tr>\n",
       "      <th>3</th>\n",
       "      <td>5</td>\n",
       "      <td>5</td>\n",
       "      <td>3</td>\n",
       "      <td>1</td>\n",
       "      <td>1</td>\n",
       "      <td>3</td>\n",
       "      <td>4</td>\n",
       "      <td>3</td>\n",
       "      <td>3</td>\n",
       "      <td>3</td>\n",
       "      <td>2</td>\n",
       "    </tr>\n",
       "    <tr>\n",
       "      <th>4</th>\n",
       "      <td>3</td>\n",
       "      <td>4</td>\n",
       "      <td>2</td>\n",
       "      <td>5</td>\n",
       "      <td>1</td>\n",
       "      <td>3</td>\n",
       "      <td>4</td>\n",
       "      <td>4</td>\n",
       "      <td>4</td>\n",
       "      <td>1</td>\n",
       "      <td>2</td>\n",
       "    </tr>\n",
       "    <tr>\n",
       "      <th>...</th>\n",
       "      <td>...</td>\n",
       "      <td>...</td>\n",
       "      <td>...</td>\n",
       "      <td>...</td>\n",
       "      <td>...</td>\n",
       "      <td>...</td>\n",
       "      <td>...</td>\n",
       "      <td>...</td>\n",
       "      <td>...</td>\n",
       "      <td>...</td>\n",
       "      <td>...</td>\n",
       "    </tr>\n",
       "    <tr>\n",
       "      <th>1207</th>\n",
       "      <td>2</td>\n",
       "      <td>2</td>\n",
       "      <td>1</td>\n",
       "      <td>4</td>\n",
       "      <td>5</td>\n",
       "      <td>3</td>\n",
       "      <td>5</td>\n",
       "      <td>2</td>\n",
       "      <td>2</td>\n",
       "      <td>4</td>\n",
       "      <td>1</td>\n",
       "    </tr>\n",
       "    <tr>\n",
       "      <th>1208</th>\n",
       "      <td>2</td>\n",
       "      <td>3</td>\n",
       "      <td>1</td>\n",
       "      <td>4</td>\n",
       "      <td>5</td>\n",
       "      <td>5</td>\n",
       "      <td>5</td>\n",
       "      <td>5</td>\n",
       "      <td>5</td>\n",
       "      <td>5</td>\n",
       "      <td>1</td>\n",
       "    </tr>\n",
       "    <tr>\n",
       "      <th>1209</th>\n",
       "      <td>2</td>\n",
       "      <td>2</td>\n",
       "      <td>1</td>\n",
       "      <td>3</td>\n",
       "      <td>5</td>\n",
       "      <td>3</td>\n",
       "      <td>3</td>\n",
       "      <td>5</td>\n",
       "      <td>4</td>\n",
       "      <td>5</td>\n",
       "      <td>2</td>\n",
       "    </tr>\n",
       "    <tr>\n",
       "      <th>1210</th>\n",
       "      <td>1</td>\n",
       "      <td>1</td>\n",
       "      <td>1</td>\n",
       "      <td>2</td>\n",
       "      <td>1</td>\n",
       "      <td>1</td>\n",
       "      <td>1</td>\n",
       "      <td>3</td>\n",
       "      <td>2</td>\n",
       "      <td>3</td>\n",
       "      <td>5</td>\n",
       "    </tr>\n",
       "    <tr>\n",
       "      <th>1211</th>\n",
       "      <td>1</td>\n",
       "      <td>2</td>\n",
       "      <td>1</td>\n",
       "      <td>3</td>\n",
       "      <td>1</td>\n",
       "      <td>4</td>\n",
       "      <td>1</td>\n",
       "      <td>3</td>\n",
       "      <td>4</td>\n",
       "      <td>3</td>\n",
       "      <td>4</td>\n",
       "    </tr>\n",
       "  </tbody>\n",
       "</table>\n",
       "<p>1212 rows × 11 columns</p>\n",
       "</div>"
      ],
      "text/plain": [
       "      Precipitation  Flow  Earthquake  Aspect  Lithology  Plan  NDWI  Slope  \\\n",
       "0                 3     2           2       3          1     2     2      2   \n",
       "1                 5     1           2       1          1     5     2      2   \n",
       "2                 5     2           3       3          4     4     2      2   \n",
       "3                 5     5           3       1          1     3     4      3   \n",
       "4                 3     4           2       5          1     3     4      4   \n",
       "...             ...   ...         ...     ...        ...   ...   ...    ...   \n",
       "1207              2     2           1       4          5     3     5      2   \n",
       "1208              2     3           1       4          5     5     5      5   \n",
       "1209              2     2           1       3          5     3     3      5   \n",
       "1210              1     1           1       2          1     1     1      3   \n",
       "1211              1     2           1       3          1     4     1      3   \n",
       "\n",
       "      Curvature  Elevation  NDVI  \n",
       "0             3          2     4  \n",
       "1             5          3     4  \n",
       "2             4          2     3  \n",
       "3             3          3     2  \n",
       "4             4          1     2  \n",
       "...         ...        ...   ...  \n",
       "1207          2          4     1  \n",
       "1208          5          5     1  \n",
       "1209          4          5     2  \n",
       "1210          2          3     5  \n",
       "1211          4          3     4  \n",
       "\n",
       "[1212 rows x 11 columns]"
      ]
     },
     "execution_count": 59,
     "metadata": {},
     "output_type": "execute_result"
    }
   ],
   "source": [
    "#creat dataset in features and target variable\n",
    "feature_columns = [ 'Precipitation','Flow', 'Earthquake','Aspect' ,'Lithology','Plan','NDWI' ,'Slope' ,'Curvature','Elevation','NDVI']\n",
    "X = LS_df[feature_columns] # training Features (Predectors)\n",
    "y = LS_df['Landslide']     # Target variable\n",
    "X"
   ]
  },
  {
   "cell_type": "code",
   "execution_count": 60,
   "id": "6556ccd0",
   "metadata": {
    "execution": {
     "iopub.execute_input": "2022-02-26T18:23:11.958605Z",
     "iopub.status.busy": "2022-02-26T18:23:11.957914Z",
     "iopub.status.idle": "2022-02-26T18:23:11.963937Z",
     "shell.execute_reply": "2022-02-26T18:23:11.964480Z",
     "shell.execute_reply.started": "2022-02-26T18:14:24.668987Z"
    },
    "papermill": {
     "duration": 0.186334,
     "end_time": "2022-02-26T18:23:11.964646",
     "exception": false,
     "start_time": "2022-02-26T18:23:11.778312",
     "status": "completed"
    },
    "tags": []
   },
   "outputs": [
    {
     "data": {
      "text/plain": [
       "0       0\n",
       "1       0\n",
       "2       0\n",
       "3       0\n",
       "4       0\n",
       "       ..\n",
       "1207    1\n",
       "1208    1\n",
       "1209    1\n",
       "1210    1\n",
       "1211    1\n",
       "Name: Landslide, Length: 1212, dtype: int64"
      ]
     },
     "execution_count": 60,
     "metadata": {},
     "output_type": "execute_result"
    }
   ],
   "source": [
    "y"
   ]
  },
  {
   "cell_type": "markdown",
   "id": "87656a8f",
   "metadata": {
    "papermill": {
     "duration": 0.176618,
     "end_time": "2022-02-26T18:23:12.319884",
     "exception": false,
     "start_time": "2022-02-26T18:23:12.143266",
     "status": "completed"
    },
    "tags": []
   },
   "source": [
    "# **Modelling**"
   ]
  },
  {
   "cell_type": "markdown",
   "id": "2d62cfb8",
   "metadata": {
    "papermill": {
     "duration": 0.180418,
     "end_time": "2022-02-26T18:23:12.681407",
     "exception": false,
     "start_time": "2022-02-26T18:23:12.500989",
     "status": "completed"
    },
    "tags": []
   },
   "source": [
    "**1)Decision-Tree & Random-forest Classifier**"
   ]
  },
  {
   "cell_type": "code",
   "execution_count": 61,
   "id": "8e0f29b3",
   "metadata": {
    "execution": {
     "iopub.execute_input": "2022-02-26T18:23:13.042843Z",
     "iopub.status.busy": "2022-02-26T18:23:13.042160Z",
     "iopub.status.idle": "2022-02-26T18:23:13.055888Z",
     "shell.execute_reply": "2022-02-26T18:23:13.056422Z",
     "shell.execute_reply.started": "2022-02-26T18:14:24.679130Z"
    },
    "papermill": {
     "duration": 0.194491,
     "end_time": "2022-02-26T18:23:13.056615",
     "exception": false,
     "start_time": "2022-02-26T18:23:12.862124",
     "status": "completed"
    },
    "tags": []
   },
   "outputs": [],
   "source": [
    "X = LS_df.iloc[:,1:12]\n",
    "y = LS_df.Landslide\n",
    "from sklearn.model_selection import train_test_split\n",
    "X_train, X_test, y_train, y_test = train_test_split(X, y, stratify = LS_df.Landslide, random_state=0)\n",
    "\n",
    "from sklearn.tree import DecisionTreeClassifier\n",
    "clf_dt = DecisionTreeClassifier(\n",
    "    max_depth=4, criterion='gini', random_state=200)\n",
    "clf_dt.fit(X_train, y_train)\n",
    "dt_pred = clf_dt.predict(X_test)"
   ]
  },
  {
   "cell_type": "code",
   "execution_count": 62,
   "id": "e2a2b6f1",
   "metadata": {
    "execution": {
     "iopub.execute_input": "2022-02-26T18:23:13.415161Z",
     "iopub.status.busy": "2022-02-26T18:23:13.414490Z",
     "iopub.status.idle": "2022-02-26T18:23:13.430660Z",
     "shell.execute_reply": "2022-02-26T18:23:13.429876Z",
     "shell.execute_reply.started": "2022-02-26T18:14:24.700327Z"
    },
    "papermill": {
     "duration": 0.196108,
     "end_time": "2022-02-26T18:23:13.430862",
     "exception": false,
     "start_time": "2022-02-26T18:23:13.234754",
     "status": "completed"
    },
    "tags": []
   },
   "outputs": [
    {
     "name": "stdout",
     "output_type": "stream",
     "text": [
      "Accuracy: 0.7062706270627063\n",
      "Precision: 0.6648936170212766\n",
      "Recall: 0.8278145695364238\n",
      "              precision    recall  f1-score   support\n",
      "\n",
      "           0       0.77      0.59      0.67       152\n",
      "           1       0.66      0.83      0.74       151\n",
      "\n",
      "    accuracy                           0.71       303\n",
      "   macro avg       0.72      0.71      0.70       303\n",
      "weighted avg       0.72      0.71      0.70       303\n",
      "\n"
     ]
    }
   ],
   "source": [
    "from sklearn.metrics import accuracy_score\n",
    "accuracy_dt = accuracy_score(y_test,dt_pred)\n",
    "print(\"Accuracy: {}\".format(accuracy_dt))\n",
    "\n",
    "from sklearn.metrics import precision_score\n",
    "precision_dt=precision_score(y_test,dt_pred)\n",
    "print(\"Precision: {}\".format(precision_dt))\n",
    "\n",
    "from sklearn.metrics import recall_score\n",
    "recall_dt = recall_score(y_test,dt_pred)\n",
    "print(\"Recall: {}\".format(recall_dt))\n",
    "\n",
    "\n",
    "\n",
    "#classification_report\n",
    "from sklearn.metrics import classification_report\n",
    "print(classification_report(y_test,dt_pred))"
   ]
  },
  {
   "cell_type": "markdown",
   "id": "74057699",
   "metadata": {
    "papermill": {
     "duration": 0.207955,
     "end_time": "2022-02-26T18:23:13.819266",
     "exception": false,
     "start_time": "2022-02-26T18:23:13.611311",
     "status": "completed"
    },
    "tags": []
   },
   "source": [
    " Random forest"
   ]
  },
  {
   "cell_type": "code",
   "execution_count": 63,
   "id": "13de4edb",
   "metadata": {
    "execution": {
     "iopub.execute_input": "2022-02-26T18:23:14.185791Z",
     "iopub.status.busy": "2022-02-26T18:23:14.185130Z",
     "iopub.status.idle": "2022-02-26T18:23:14.445577Z",
     "shell.execute_reply": "2022-02-26T18:23:14.444948Z",
     "shell.execute_reply.started": "2022-02-26T18:14:24.721365Z"
    },
    "papermill": {
     "duration": 0.44552,
     "end_time": "2022-02-26T18:23:14.445731",
     "exception": false,
     "start_time": "2022-02-26T18:23:14.000211",
     "status": "completed"
    },
    "tags": []
   },
   "outputs": [
    {
     "name": "stdout",
     "output_type": "stream",
     "text": [
      "(848, 11) (848,)\n",
      "(364, 11) (364,)\n"
     ]
    }
   ],
   "source": [
    "xtrain, xtest, ytrain, ytest =  train_test_split(X, y, test_size=0.3,random_state=100, shuffle=True)\n",
    "print(xtrain.shape, ytrain.shape)\n",
    "print(xtest.shape, ytest.shape)\n",
    "\n",
    "from sklearn.ensemble import RandomForestClassifier\n",
    "clf_rf = RandomForestClassifier(random_state=350)\n",
    "clf_rf.fit(xtrain, ytrain)\n",
    "rf_pred = clf_rf.predict(xtest)"
   ]
  },
  {
   "cell_type": "code",
   "execution_count": 64,
   "id": "8b039c02",
   "metadata": {
    "execution": {
     "iopub.execute_input": "2022-02-26T18:23:14.808755Z",
     "iopub.status.busy": "2022-02-26T18:23:14.807744Z",
     "iopub.status.idle": "2022-02-26T18:23:14.819582Z",
     "shell.execute_reply": "2022-02-26T18:23:14.818774Z",
     "shell.execute_reply.started": "2022-02-26T18:14:25.012955Z"
    },
    "papermill": {
     "duration": 0.195664,
     "end_time": "2022-02-26T18:23:14.819777",
     "exception": false,
     "start_time": "2022-02-26T18:23:14.624113",
     "status": "completed"
    },
    "tags": []
   },
   "outputs": [
    {
     "name": "stdout",
     "output_type": "stream",
     "text": [
      "Accuracy: 0.782967032967033\n",
      "Precision: 0.8\n",
      "Recall: 0.7608695652173914\n"
     ]
    }
   ],
   "source": [
    "from sklearn.metrics import accuracy_score\n",
    "accuracy_dt = accuracy_score(ytest,rf_pred)\n",
    "print(\"Accuracy: {}\".format(accuracy_dt))\n",
    "\n",
    "from sklearn.metrics import precision_score\n",
    "precision_dt=precision_score(ytest,rf_pred)\n",
    "print(\"Precision: {}\".format(precision_dt))\n",
    "\n",
    "from sklearn.metrics import recall_score\n",
    "recall_dt = recall_score(ytest,rf_pred)\n",
    "print(\"Recall: {}\".format(recall_dt))"
   ]
  },
  {
   "cell_type": "code",
   "execution_count": 65,
   "id": "ce32bdf5",
   "metadata": {
    "execution": {
     "iopub.execute_input": "2022-02-26T18:23:15.185238Z",
     "iopub.status.busy": "2022-02-26T18:23:15.184259Z",
     "iopub.status.idle": "2022-02-26T18:23:15.193761Z",
     "shell.execute_reply": "2022-02-26T18:23:15.194264Z",
     "shell.execute_reply.started": "2022-02-26T18:14:25.029210Z"
    },
    "papermill": {
     "duration": 0.194133,
     "end_time": "2022-02-26T18:23:15.194438",
     "exception": false,
     "start_time": "2022-02-26T18:23:15.000305",
     "status": "completed"
    },
    "tags": []
   },
   "outputs": [
    {
     "name": "stdout",
     "output_type": "stream",
     "text": [
      "              precision    recall  f1-score   support\n",
      "\n",
      "           0       0.77      0.81      0.79       180\n",
      "           1       0.80      0.76      0.78       184\n",
      "\n",
      "    accuracy                           0.78       364\n",
      "   macro avg       0.78      0.78      0.78       364\n",
      "weighted avg       0.78      0.78      0.78       364\n",
      "\n"
     ]
    }
   ],
   "source": [
    "from sklearn.metrics import classification_report\n",
    "print(classification_report(ytest,rf_pred))"
   ]
  },
  {
   "cell_type": "markdown",
   "id": "a7a1e60b",
   "metadata": {
    "papermill": {
     "duration": 0.1812,
     "end_time": "2022-02-26T18:23:15.554976",
     "exception": false,
     "start_time": "2022-02-26T18:23:15.373776",
     "status": "completed"
    },
    "tags": []
   },
   "source": [
    "Confusion_Matrix For Cross_val_predict"
   ]
  },
  {
   "cell_type": "code",
   "execution_count": 66,
   "id": "2432539c",
   "metadata": {
    "execution": {
     "iopub.execute_input": "2022-02-26T18:23:15.926079Z",
     "iopub.status.busy": "2022-02-26T18:23:15.925328Z",
     "iopub.status.idle": "2022-02-26T18:23:21.021080Z",
     "shell.execute_reply": "2022-02-26T18:23:21.020525Z",
     "shell.execute_reply.started": "2022-02-26T18:14:25.044292Z"
    },
    "papermill": {
     "duration": 5.286531,
     "end_time": "2022-02-26T18:23:21.021211",
     "exception": false,
     "start_time": "2022-02-26T18:23:15.734680",
     "status": "completed"
    },
    "tags": []
   },
   "outputs": [
    {
     "name": "stdout",
     "output_type": "stream",
     "text": [
      "Scores: [0.79120879 0.76923077 0.82417582 0.74725275 0.8021978  0.74725275\n",
      " 0.78021978 0.75824176 0.75824176 0.8       ]\n",
      "Mean: 0.7778021978021977\n",
      "Standard Deviation: 0.024757244289081864\n"
     ]
    },
    {
     "data": {
      "text/plain": [
       "<AxesSubplot:>"
      ]
     },
     "execution_count": 66,
     "metadata": {},
     "output_type": "execute_result"
    },
    {
     "data": {
      "image/png": "[encoded data removed]",
      "text/plain": [
       "<Figure size 576x432 with 2 Axes>"
      ]
     },
     "metadata": {},
     "output_type": "display_data"
    }
   ],
   "source": [
    "from sklearn.model_selection import cross_val_score\n",
    "rfc_cv = RandomForestClassifier(n_estimators=100)\n",
    "scores = cross_val_score(rfc_cv, X_train, y_train, cv=10, scoring = \"accuracy\")\n",
    "print(\"Scores:\", scores)\n",
    "print(\"Mean:\", scores.mean())\n",
    "print(\"Standard Deviation:\", scores.std())\n",
    "\n",
    "from sklearn.model_selection import cross_val_score, cross_val_predict\n",
    "y_pred_cross_val = cross_val_predict(rfc_cv, X_train, y_train, cv=10)\n",
    "conf_matrix_cross_val = confusion_matrix(y_train, y_pred_cross_val)\n",
    "\n",
    "plt.figure(figsize=(8,6))\n",
    "group_names = ['True Negatives', 'False Positives','False Negatives','True Positives']\n",
    "group_counts = ['{0:0.0f}'.format(value) for value in conf_matrix_cross_val.flatten()]\n",
    "group_percentages = ['{0:.2%}'.format(value) for value in conf_matrix_cross_val.flatten()/np.sum(conf_matrix_cross_val)]\n",
    "labels = [f'{v1}\\n{v2}\\n{v3}' for v1, v2, v3 in\n",
    "          zip(group_names,group_counts,group_percentages)]\n",
    "labels = np.asarray(labels).reshape(2,2)\n",
    "sns.heatmap(conf_matrix_cross_val, annot=labels, fmt= '', cmap=\"rocket_r\")"
   ]
  },
  {
   "cell_type": "markdown",
   "id": "bac90d74",
   "metadata": {
    "papermill": {
     "duration": 0.181425,
     "end_time": "2022-02-26T18:23:21.387967",
     "exception": false,
     "start_time": "2022-02-26T18:23:21.206542",
     "status": "completed"
    },
    "tags": []
   },
   "source": [
    "**2)Neural Network & 1-D CNN Classifier**"
   ]
  },
  {
   "cell_type": "code",
   "execution_count": 67,
   "id": "6ae610c4",
   "metadata": {
    "execution": {
     "iopub.execute_input": "2022-02-26T18:23:21.756571Z",
     "iopub.status.busy": "2022-02-26T18:23:21.755859Z",
     "iopub.status.idle": "2022-02-26T18:23:21.767862Z",
     "shell.execute_reply": "2022-02-26T18:23:21.768456Z",
     "shell.execute_reply.started": "2022-02-26T18:14:30.530283Z"
    },
    "papermill": {
     "duration": 0.197625,
     "end_time": "2022-02-26T18:23:21.768645",
     "exception": false,
     "start_time": "2022-02-26T18:23:21.571020",
     "status": "completed"
    },
    "tags": []
   },
   "outputs": [
    {
     "name": "stdout",
     "output_type": "stream",
     "text": [
      "(105, 11)\n",
      "(105,)\n",
      "(46, 11)\n"
     ]
    }
   ],
   "source": [
    "b = df['Landslide']\n",
    "a = df.drop(['Landslide', 'Curvature'], axis=1)\n",
    "\n",
    "# data scaling\n",
    "from sklearn.preprocessing import StandardScaler ,RobustScaler\n",
    "standardizer = StandardScaler()\n",
    "a = standardizer.fit_transform(a)\n",
    "\n",
    "# Splitting the dataset for training and testing process\n",
    "X, Xt ,Y, Yt = train_test_split(a, b, test_size=0.30, random_state=30)\n",
    "print(X.shape)\n",
    "print(Y.shape)\n",
    "print(Xt.shape)\n"
   ]
  },
  {
   "cell_type": "code",
   "execution_count": 68,
   "id": "dca492e3",
   "metadata": {
    "execution": {
     "iopub.execute_input": "2022-02-26T18:23:22.138329Z",
     "iopub.status.busy": "2022-02-26T18:23:22.137617Z",
     "iopub.status.idle": "2022-02-26T18:23:27.803826Z",
     "shell.execute_reply": "2022-02-26T18:23:27.804303Z",
     "shell.execute_reply.started": "2022-02-26T18:14:30.548940Z"
    },
    "papermill": {
     "duration": 5.851892,
     "end_time": "2022-02-26T18:23:27.804508",
     "exception": false,
     "start_time": "2022-02-26T18:23:21.952616",
     "status": "completed"
    },
    "tags": []
   },
   "outputs": [
    {
     "name": "stdout",
     "output_type": "stream",
     "text": [
      "Model: \"sequential\"\n",
      "_________________________________________________________________\n",
      "Layer (type)                 Output Shape              Param #   \n",
      "=================================================================\n",
      "dense (Dense)                (None, 512)               6144      \n",
      "_________________________________________________________________\n",
      "dropout (Dropout)            (None, 512)               0         \n",
      "_________________________________________________________________\n",
      "dense_1 (Dense)              (None, 256)               131328    \n",
      "_________________________________________________________________\n",
      "dropout_1 (Dropout)          (None, 256)               0         \n",
      "_________________________________________________________________\n",
      "dense_2 (Dense)              (None, 128)               32896     \n",
      "_________________________________________________________________\n",
      "dropout_2 (Dropout)          (None, 128)               0         \n",
      "_________________________________________________________________\n",
      "dense_3 (Dense)              (None, 100)               12900     \n",
      "_________________________________________________________________\n",
      "dropout_3 (Dropout)          (None, 100)               0         \n",
      "_________________________________________________________________\n",
      "dense_4 (Dense)              (None, 1)                 101       \n",
      "=================================================================\n",
      "Total params: 183,369\n",
      "Trainable params: 183,369\n",
      "Non-trainable params: 0\n",
      "_________________________________________________________________\n"
     ]
    },
    {
     "name": "stderr",
     "output_type": "stream",
     "text": [
      "2022-02-26 18:23:27.672839: I tensorflow/core/common_runtime/process_util.cc:146] Creating new thread pool with default inter op setting: 2. Tune using inter_op_parallelism_threads for best performance.\n"
     ]
    }
   ],
   "source": [
    "from keras.models import Sequential\n",
    "from keras.layers import Dense, Dropout,Input,AlphaDropout\n",
    "#Model Building\n",
    "n = X.shape[1]\n",
    "# build a model\n",
    "model = Sequential()\n",
    "model.add(Input(shape=(n, )))\n",
    "model.add(Dense(512, activation='relu')) # Add an input shape! (features,)\n",
    "model.add(Dropout(0.5))\n",
    "model.add(Dense(256, activation='relu'))\n",
    "model.add(Dropout(0.5))\n",
    "model.add(Dense(128, activation='relu'))\n",
    "model.add(Dropout(0.5))\n",
    "model.add(Dense(100, activation='relu'))\n",
    "model.add(Dropout(0.5))\n",
    "model.add(Dense(1, activation='sigmoid'))\n",
    "# compile the model\n",
    "model.compile(optimizer='Adam', \n",
    "              loss='binary_crossentropy',\n",
    "              metrics=['accuracy'])\n",
    "\n",
    "model.summary()"
   ]
  },
  {
   "cell_type": "code",
   "execution_count": 69,
   "id": "e8902ded",
   "metadata": {
    "execution": {
     "iopub.execute_input": "2022-02-26T18:23:28.182610Z",
     "iopub.status.busy": "2022-02-26T18:23:28.181631Z",
     "iopub.status.idle": "2022-02-26T18:23:38.339155Z",
     "shell.execute_reply": "2022-02-26T18:23:38.339722Z",
     "shell.execute_reply.started": "2022-02-26T18:14:30.647480Z"
    },
    "papermill": {
     "duration": 10.351026,
     "end_time": "2022-02-26T18:23:38.339918",
     "exception": false,
     "start_time": "2022-02-26T18:23:27.988892",
     "status": "completed"
    },
    "tags": []
   },
   "outputs": [
    {
     "name": "stderr",
     "output_type": "stream",
     "text": [
      "2022-02-26 18:23:28.627809: I tensorflow/compiler/mlir/mlir_graph_optimization_pass.cc:185] None of the MLIR Optimization Passes are enabled (registered 2)\n"
     ]
    },
    {
     "name": "stdout",
     "output_type": "stream",
     "text": [
      "Epoch 1/150\n",
      "4/4 [==============================] - 1s 90ms/step - loss: 0.6349 - accuracy: 0.6277 - val_loss: 0.4976 - val_accuracy: 1.0000\n",
      "Epoch 2/150\n",
      "4/4 [==============================] - 0s 17ms/step - loss: 0.3946 - accuracy: 0.9681 - val_loss: 0.2756 - val_accuracy: 1.0000\n",
      "Epoch 3/150\n",
      "4/4 [==============================] - 0s 17ms/step - loss: 0.1706 - accuracy: 1.0000 - val_loss: 0.0906 - val_accuracy: 1.0000\n",
      "Epoch 4/150\n",
      "4/4 [==============================] - 0s 16ms/step - loss: 0.0604 - accuracy: 1.0000 - val_loss: 0.0171 - val_accuracy: 1.0000\n",
      "Epoch 5/150\n",
      "4/4 [==============================] - 0s 15ms/step - loss: 0.0146 - accuracy: 1.0000 - val_loss: 0.0027 - val_accuracy: 1.0000\n",
      "Epoch 6/150\n",
      "4/4 [==============================] - 0s 16ms/step - loss: 0.0046 - accuracy: 1.0000 - val_loss: 5.0023e-04 - val_accuracy: 1.0000\n",
      "Epoch 7/150\n",
      "4/4 [==============================] - 0s 16ms/step - loss: 0.0011 - accuracy: 1.0000 - val_loss: 1.2394e-04 - val_accuracy: 1.0000\n",
      "Epoch 8/150\n",
      "4/4 [==============================] - 0s 16ms/step - loss: 8.2741e-04 - accuracy: 1.0000 - val_loss: 4.1368e-05 - val_accuracy: 1.0000\n",
      "Epoch 9/150\n",
      "4/4 [==============================] - 0s 16ms/step - loss: 2.3626e-04 - accuracy: 1.0000 - val_loss: 1.7916e-05 - val_accuracy: 1.0000\n",
      "Epoch 10/150\n",
      "4/4 [==============================] - 0s 16ms/step - loss: 8.7710e-05 - accuracy: 1.0000 - val_loss: 9.7482e-06 - val_accuracy: 1.0000\n",
      "Epoch 11/150\n",
      "4/4 [==============================] - 0s 16ms/step - loss: 6.2729e-05 - accuracy: 1.0000 - val_loss: 6.3038e-06 - val_accuracy: 1.0000\n",
      "Epoch 12/150\n",
      "4/4 [==============================] - 0s 16ms/step - loss: 4.3015e-05 - accuracy: 1.0000 - val_loss: 4.6223e-06 - val_accuracy: 1.0000\n",
      "Epoch 13/150\n",
      "4/4 [==============================] - 0s 15ms/step - loss: 5.0582e-05 - accuracy: 1.0000 - val_loss: 3.7124e-06 - val_accuracy: 1.0000\n",
      "Epoch 14/150\n",
      "4/4 [==============================] - 0s 16ms/step - loss: 3.9133e-05 - accuracy: 1.0000 - val_loss: 3.1758e-06 - val_accuracy: 1.0000\n",
      "Epoch 15/150\n",
      "4/4 [==============================] - 0s 16ms/step - loss: 2.3623e-05 - accuracy: 1.0000 - val_loss: 2.8456e-06 - val_accuracy: 1.0000\n",
      "Epoch 16/150\n",
      "4/4 [==============================] - 0s 16ms/step - loss: 1.8503e-05 - accuracy: 1.0000 - val_loss: 2.6340e-06 - val_accuracy: 1.0000\n",
      "Epoch 17/150\n",
      "4/4 [==============================] - 0s 19ms/step - loss: 2.8781e-05 - accuracy: 1.0000 - val_loss: 2.4930e-06 - val_accuracy: 1.0000\n",
      "Epoch 18/150\n",
      "4/4 [==============================] - 0s 15ms/step - loss: 2.8207e-05 - accuracy: 1.0000 - val_loss: 2.3939e-06 - val_accuracy: 1.0000\n",
      "Epoch 19/150\n",
      "4/4 [==============================] - 0s 15ms/step - loss: 3.9864e-05 - accuracy: 1.0000 - val_loss: 2.3188e-06 - val_accuracy: 1.0000\n",
      "\n",
      "Epoch 00019: ReduceLROnPlateau reducing learning rate to 0.0005000000237487257.\n",
      "Epoch 20/150\n",
      "4/4 [==============================] - 0s 15ms/step - loss: 4.9514e-05 - accuracy: 1.0000 - val_loss: 2.2880e-06 - val_accuracy: 1.0000\n",
      "Epoch 21/150\n",
      "4/4 [==============================] - 0s 15ms/step - loss: 5.4109e-05 - accuracy: 1.0000 - val_loss: 2.2591e-06 - val_accuracy: 1.0000\n",
      "Epoch 22/150\n",
      "4/4 [==============================] - 0s 15ms/step - loss: 1.5514e-05 - accuracy: 1.0000 - val_loss: 2.2370e-06 - val_accuracy: 1.0000\n",
      "Epoch 23/150\n",
      "4/4 [==============================] - 0s 15ms/step - loss: 3.6373e-05 - accuracy: 1.0000 - val_loss: 2.2172e-06 - val_accuracy: 1.0000\n",
      "Epoch 24/150\n",
      "4/4 [==============================] - 0s 16ms/step - loss: 3.1406e-05 - accuracy: 1.0000 - val_loss: 2.2002e-06 - val_accuracy: 1.0000\n",
      "Epoch 25/150\n",
      "4/4 [==============================] - 0s 15ms/step - loss: 4.2560e-05 - accuracy: 1.0000 - val_loss: 2.1835e-06 - val_accuracy: 1.0000\n",
      "Epoch 26/150\n",
      "4/4 [==============================] - 0s 15ms/step - loss: 1.5642e-04 - accuracy: 1.0000 - val_loss: 2.1561e-06 - val_accuracy: 1.0000\n",
      "Epoch 27/150\n",
      "4/4 [==============================] - 0s 15ms/step - loss: 1.1126e-04 - accuracy: 1.0000 - val_loss: 2.1249e-06 - val_accuracy: 1.0000\n",
      "Epoch 28/150\n",
      "4/4 [==============================] - 0s 15ms/step - loss: 1.8472e-05 - accuracy: 1.0000 - val_loss: 2.0972e-06 - val_accuracy: 1.0000\n",
      "Epoch 29/150\n",
      "4/4 [==============================] - 0s 15ms/step - loss: 4.4615e-05 - accuracy: 1.0000 - val_loss: 2.0735e-06 - val_accuracy: 1.0000\n",
      "\n",
      "Epoch 00029: ReduceLROnPlateau reducing learning rate to 0.0002500000118743628.\n",
      "Epoch 30/150\n",
      "4/4 [==============================] - 0s 16ms/step - loss: 2.8944e-05 - accuracy: 1.0000 - val_loss: 2.0635e-06 - val_accuracy: 1.0000\n",
      "Epoch 31/150\n",
      "4/4 [==============================] - 0s 15ms/step - loss: 1.2354e-05 - accuracy: 1.0000 - val_loss: 2.0552e-06 - val_accuracy: 1.0000\n",
      "Epoch 32/150\n",
      "4/4 [==============================] - 0s 15ms/step - loss: 3.8179e-05 - accuracy: 1.0000 - val_loss: 2.0474e-06 - val_accuracy: 1.0000\n",
      "Epoch 33/150\n",
      "4/4 [==============================] - 0s 15ms/step - loss: 4.2667e-05 - accuracy: 1.0000 - val_loss: 2.0387e-06 - val_accuracy: 1.0000\n",
      "Epoch 34/150\n",
      "4/4 [==============================] - 0s 15ms/step - loss: 1.9236e-04 - accuracy: 1.0000 - val_loss: 2.0232e-06 - val_accuracy: 1.0000\n",
      "Epoch 35/150\n",
      "4/4 [==============================] - 0s 15ms/step - loss: 1.6411e-05 - accuracy: 1.0000 - val_loss: 2.0096e-06 - val_accuracy: 1.0000\n",
      "Epoch 36/150\n",
      "4/4 [==============================] - 0s 16ms/step - loss: 2.4056e-05 - accuracy: 1.0000 - val_loss: 1.9988e-06 - val_accuracy: 1.0000\n",
      "Epoch 37/150\n",
      "4/4 [==============================] - 0s 15ms/step - loss: 8.8017e-06 - accuracy: 1.0000 - val_loss: 1.9905e-06 - val_accuracy: 1.0000\n",
      "Epoch 38/150\n",
      "4/4 [==============================] - 0s 15ms/step - loss: 3.0019e-05 - accuracy: 1.0000 - val_loss: 1.9830e-06 - val_accuracy: 1.0000\n",
      "Epoch 39/150\n",
      "4/4 [==============================] - 0s 17ms/step - loss: 6.0707e-05 - accuracy: 1.0000 - val_loss: 1.9749e-06 - val_accuracy: 1.0000\n",
      "\n",
      "Epoch 00039: ReduceLROnPlateau reducing learning rate to 0.0001250000059371814.\n",
      "Epoch 40/150\n",
      "4/4 [==============================] - 0s 16ms/step - loss: 4.0294e-05 - accuracy: 1.0000 - val_loss: 1.9700e-06 - val_accuracy: 1.0000\n",
      "Epoch 41/150\n",
      "4/4 [==============================] - 0s 15ms/step - loss: 5.1053e-05 - accuracy: 1.0000 - val_loss: 1.9646e-06 - val_accuracy: 1.0000\n",
      "Epoch 42/150\n",
      "4/4 [==============================] - 0s 15ms/step - loss: 2.1864e-05 - accuracy: 1.0000 - val_loss: 1.9596e-06 - val_accuracy: 1.0000\n",
      "Epoch 43/150\n",
      "4/4 [==============================] - 0s 16ms/step - loss: 3.8783e-05 - accuracy: 1.0000 - val_loss: 1.9549e-06 - val_accuracy: 1.0000\n",
      "Epoch 44/150\n",
      "4/4 [==============================] - 0s 16ms/step - loss: 5.5695e-05 - accuracy: 1.0000 - val_loss: 1.9500e-06 - val_accuracy: 1.0000\n",
      "Epoch 45/150\n",
      "4/4 [==============================] - 0s 16ms/step - loss: 1.3346e-04 - accuracy: 1.0000 - val_loss: 1.9427e-06 - val_accuracy: 1.0000\n",
      "Epoch 46/150\n",
      "4/4 [==============================] - 0s 16ms/step - loss: 4.2145e-05 - accuracy: 1.0000 - val_loss: 1.9360e-06 - val_accuracy: 1.0000\n",
      "Epoch 47/150\n",
      "4/4 [==============================] - 0s 15ms/step - loss: 2.2671e-05 - accuracy: 1.0000 - val_loss: 1.9298e-06 - val_accuracy: 1.0000\n",
      "Epoch 48/150\n",
      "4/4 [==============================] - 0s 15ms/step - loss: 1.8830e-05 - accuracy: 1.0000 - val_loss: 1.9248e-06 - val_accuracy: 1.0000\n",
      "Epoch 49/150\n",
      "4/4 [==============================] - 0s 15ms/step - loss: 2.5647e-05 - accuracy: 1.0000 - val_loss: 1.9207e-06 - val_accuracy: 1.0000\n",
      "\n",
      "Epoch 00049: ReduceLROnPlateau reducing learning rate to 6.25000029685907e-05.\n",
      "Epoch 50/150\n",
      "4/4 [==============================] - 0s 15ms/step - loss: 5.0474e-05 - accuracy: 1.0000 - val_loss: 1.9186e-06 - val_accuracy: 1.0000\n",
      "Epoch 51/150\n",
      "4/4 [==============================] - 0s 15ms/step - loss: 5.3183e-05 - accuracy: 1.0000 - val_loss: 1.9158e-06 - val_accuracy: 1.0000\n",
      "Epoch 52/150\n",
      "4/4 [==============================] - 0s 15ms/step - loss: 8.1842e-05 - accuracy: 1.0000 - val_loss: 1.9124e-06 - val_accuracy: 1.0000\n",
      "Epoch 53/150\n",
      "4/4 [==============================] - 0s 15ms/step - loss: 1.1239e-04 - accuracy: 1.0000 - val_loss: 1.9080e-06 - val_accuracy: 1.0000\n",
      "Epoch 54/150\n",
      "4/4 [==============================] - 0s 15ms/step - loss: 5.4267e-05 - accuracy: 1.0000 - val_loss: 1.9042e-06 - val_accuracy: 1.0000\n",
      "Epoch 55/150\n",
      "4/4 [==============================] - 0s 15ms/step - loss: 1.6091e-05 - accuracy: 1.0000 - val_loss: 1.9012e-06 - val_accuracy: 1.0000\n",
      "Epoch 56/150\n",
      "4/4 [==============================] - 0s 15ms/step - loss: 3.7950e-05 - accuracy: 1.0000 - val_loss: 1.8985e-06 - val_accuracy: 1.0000\n",
      "Epoch 57/150\n",
      "4/4 [==============================] - 0s 16ms/step - loss: 1.0479e-04 - accuracy: 1.0000 - val_loss: 1.8951e-06 - val_accuracy: 1.0000\n",
      "Epoch 58/150\n",
      "4/4 [==============================] - 0s 15ms/step - loss: 9.1235e-05 - accuracy: 1.0000 - val_loss: 1.8895e-06 - val_accuracy: 1.0000\n",
      "Epoch 59/150\n",
      "4/4 [==============================] - 0s 15ms/step - loss: 1.8762e-05 - accuracy: 1.0000 - val_loss: 1.8853e-06 - val_accuracy: 1.0000\n",
      "\n",
      "Epoch 00059: ReduceLROnPlateau reducing learning rate to 3.125000148429535e-05.\n",
      "Epoch 60/150\n",
      "4/4 [==============================] - 0s 15ms/step - loss: 2.6199e-05 - accuracy: 1.0000 - val_loss: 1.8836e-06 - val_accuracy: 1.0000\n",
      "Epoch 61/150\n",
      "4/4 [==============================] - 0s 15ms/step - loss: 6.1515e-05 - accuracy: 1.0000 - val_loss: 1.8819e-06 - val_accuracy: 1.0000\n",
      "Epoch 62/150\n",
      "4/4 [==============================] - 0s 15ms/step - loss: 2.9647e-05 - accuracy: 1.0000 - val_loss: 1.8802e-06 - val_accuracy: 1.0000\n",
      "Epoch 63/150\n",
      "4/4 [==============================] - 0s 15ms/step - loss: 1.4256e-05 - accuracy: 1.0000 - val_loss: 1.8787e-06 - val_accuracy: 1.0000\n",
      "Epoch 64/150\n",
      "4/4 [==============================] - 0s 16ms/step - loss: 1.9728e-05 - accuracy: 1.0000 - val_loss: 1.8774e-06 - val_accuracy: 1.0000\n",
      "Epoch 65/150\n",
      "4/4 [==============================] - 0s 16ms/step - loss: 2.1435e-05 - accuracy: 1.0000 - val_loss: 1.8763e-06 - val_accuracy: 1.0000\n",
      "Epoch 66/150\n",
      "4/4 [==============================] - 0s 15ms/step - loss: 6.3265e-05 - accuracy: 1.0000 - val_loss: 1.8752e-06 - val_accuracy: 1.0000\n",
      "Epoch 67/150\n",
      "4/4 [==============================] - 0s 15ms/step - loss: 1.6569e-04 - accuracy: 1.0000 - val_loss: 1.8731e-06 - val_accuracy: 1.0000\n",
      "Epoch 68/150\n",
      "4/4 [==============================] - 0s 15ms/step - loss: 3.3299e-05 - accuracy: 1.0000 - val_loss: 1.8705e-06 - val_accuracy: 1.0000\n",
      "Epoch 69/150\n",
      "4/4 [==============================] - 0s 16ms/step - loss: 7.2446e-05 - accuracy: 1.0000 - val_loss: 1.8679e-06 - val_accuracy: 1.0000\n",
      "\n",
      "Epoch 00069: ReduceLROnPlateau reducing learning rate to 1.5625000742147677e-05.\n",
      "Epoch 70/150\n",
      "4/4 [==============================] - 0s 16ms/step - loss: 5.5027e-05 - accuracy: 1.0000 - val_loss: 1.8667e-06 - val_accuracy: 1.0000\n",
      "Epoch 71/150\n",
      "4/4 [==============================] - 0s 16ms/step - loss: 3.8214e-05 - accuracy: 1.0000 - val_loss: 1.8656e-06 - val_accuracy: 1.0000\n",
      "Epoch 72/150\n",
      "4/4 [==============================] - 0s 17ms/step - loss: 5.6824e-05 - accuracy: 1.0000 - val_loss: 1.8645e-06 - val_accuracy: 1.0000\n",
      "Epoch 73/150\n",
      "4/4 [==============================] - 0s 16ms/step - loss: 2.2564e-05 - accuracy: 1.0000 - val_loss: 1.8635e-06 - val_accuracy: 1.0000\n",
      "Epoch 74/150\n",
      "4/4 [==============================] - 0s 16ms/step - loss: 3.3165e-05 - accuracy: 1.0000 - val_loss: 1.8627e-06 - val_accuracy: 1.0000\n",
      "Epoch 75/150\n",
      "4/4 [==============================] - 0s 16ms/step - loss: 9.6620e-05 - accuracy: 1.0000 - val_loss: 1.8617e-06 - val_accuracy: 1.0000\n",
      "Epoch 76/150\n",
      "4/4 [==============================] - 0s 16ms/step - loss: 1.4077e-04 - accuracy: 1.0000 - val_loss: 1.8603e-06 - val_accuracy: 1.0000\n",
      "Epoch 77/150\n",
      "4/4 [==============================] - 0s 15ms/step - loss: 2.9198e-05 - accuracy: 1.0000 - val_loss: 1.8590e-06 - val_accuracy: 1.0000\n",
      "Epoch 78/150\n",
      "4/4 [==============================] - 0s 15ms/step - loss: 7.9608e-05 - accuracy: 1.0000 - val_loss: 1.8578e-06 - val_accuracy: 1.0000\n",
      "Epoch 79/150\n",
      "4/4 [==============================] - 0s 15ms/step - loss: 9.1594e-05 - accuracy: 1.0000 - val_loss: 1.8565e-06 - val_accuracy: 1.0000\n",
      "\n",
      "Epoch 00079: ReduceLROnPlateau reducing learning rate to 7.812500371073838e-06.\n",
      "Epoch 80/150\n",
      "4/4 [==============================] - 0s 15ms/step - loss: 2.9908e-05 - accuracy: 1.0000 - val_loss: 1.8558e-06 - val_accuracy: 1.0000\n",
      "Epoch 81/150\n",
      "4/4 [==============================] - 0s 15ms/step - loss: 5.1165e-04 - accuracy: 1.0000 - val_loss: 1.8547e-06 - val_accuracy: 1.0000\n",
      "Epoch 82/150\n",
      "4/4 [==============================] - 0s 15ms/step - loss: 6.4435e-05 - accuracy: 1.0000 - val_loss: 1.8538e-06 - val_accuracy: 1.0000\n",
      "Epoch 83/150\n",
      "4/4 [==============================] - 0s 16ms/step - loss: 2.3200e-04 - accuracy: 1.0000 - val_loss: 1.8527e-06 - val_accuracy: 1.0000\n",
      "Epoch 84/150\n",
      "4/4 [==============================] - 0s 15ms/step - loss: 1.3782e-05 - accuracy: 1.0000 - val_loss: 1.8518e-06 - val_accuracy: 1.0000\n",
      "Epoch 85/150\n",
      "4/4 [==============================] - 0s 15ms/step - loss: 1.1303e-04 - accuracy: 1.0000 - val_loss: 1.8509e-06 - val_accuracy: 1.0000\n",
      "Epoch 86/150\n",
      "4/4 [==============================] - 0s 15ms/step - loss: 5.8381e-05 - accuracy: 1.0000 - val_loss: 1.8500e-06 - val_accuracy: 1.0000\n",
      "Epoch 87/150\n",
      "4/4 [==============================] - 0s 15ms/step - loss: 3.0260e-05 - accuracy: 1.0000 - val_loss: 1.8494e-06 - val_accuracy: 1.0000\n",
      "Epoch 88/150\n",
      "4/4 [==============================] - 0s 15ms/step - loss: 5.0694e-05 - accuracy: 1.0000 - val_loss: 1.8488e-06 - val_accuracy: 1.0000\n",
      "Epoch 89/150\n",
      "4/4 [==============================] - 0s 15ms/step - loss: 4.2712e-05 - accuracy: 1.0000 - val_loss: 1.8482e-06 - val_accuracy: 1.0000\n",
      "\n",
      "Epoch 00089: ReduceLROnPlateau reducing learning rate to 3.906250185536919e-06.\n",
      "Epoch 90/150\n",
      "4/4 [==============================] - 0s 16ms/step - loss: 6.6136e-05 - accuracy: 1.0000 - val_loss: 1.8479e-06 - val_accuracy: 1.0000\n",
      "Epoch 91/150\n",
      "4/4 [==============================] - 0s 15ms/step - loss: 2.1767e-05 - accuracy: 1.0000 - val_loss: 1.8477e-06 - val_accuracy: 1.0000\n",
      "Epoch 92/150\n",
      "4/4 [==============================] - 0s 16ms/step - loss: 1.7462e-04 - accuracy: 1.0000 - val_loss: 1.8474e-06 - val_accuracy: 1.0000\n",
      "Epoch 93/150\n",
      "4/4 [==============================] - 0s 16ms/step - loss: 8.5944e-06 - accuracy: 1.0000 - val_loss: 1.8470e-06 - val_accuracy: 1.0000\n",
      "Epoch 94/150\n",
      "4/4 [==============================] - 0s 15ms/step - loss: 1.5968e-04 - accuracy: 1.0000 - val_loss: 1.8466e-06 - val_accuracy: 1.0000\n",
      "Epoch 95/150\n",
      "4/4 [==============================] - 0s 16ms/step - loss: 2.1279e-05 - accuracy: 1.0000 - val_loss: 1.8463e-06 - val_accuracy: 1.0000\n",
      "Epoch 96/150\n",
      "4/4 [==============================] - 0s 15ms/step - loss: 3.9277e-05 - accuracy: 1.0000 - val_loss: 1.8460e-06 - val_accuracy: 1.0000\n",
      "Epoch 97/150\n",
      "4/4 [==============================] - 0s 16ms/step - loss: 3.7468e-05 - accuracy: 1.0000 - val_loss: 1.8458e-06 - val_accuracy: 1.0000\n",
      "Epoch 98/150\n",
      "4/4 [==============================] - 0s 16ms/step - loss: 3.2407e-04 - accuracy: 1.0000 - val_loss: 1.8454e-06 - val_accuracy: 1.0000\n",
      "Epoch 99/150\n",
      "4/4 [==============================] - 0s 16ms/step - loss: 4.4338e-05 - accuracy: 1.0000 - val_loss: 1.8447e-06 - val_accuracy: 1.0000\n",
      "\n",
      "Epoch 00099: ReduceLROnPlateau reducing learning rate to 1.9531250927684596e-06.\n",
      "Epoch 100/150\n",
      "4/4 [==============================] - 0s 15ms/step - loss: 1.0124e-05 - accuracy: 1.0000 - val_loss: 1.8445e-06 - val_accuracy: 1.0000\n",
      "Epoch 101/150\n",
      "4/4 [==============================] - 0s 16ms/step - loss: 1.4143e-05 - accuracy: 1.0000 - val_loss: 1.8443e-06 - val_accuracy: 1.0000\n",
      "Epoch 102/150\n",
      "4/4 [==============================] - 0s 15ms/step - loss: 1.9763e-05 - accuracy: 1.0000 - val_loss: 1.8442e-06 - val_accuracy: 1.0000\n",
      "Epoch 103/150\n",
      "4/4 [==============================] - 0s 18ms/step - loss: 1.6740e-05 - accuracy: 1.0000 - val_loss: 1.8441e-06 - val_accuracy: 1.0000\n",
      "Epoch 104/150\n",
      "4/4 [==============================] - 0s 27ms/step - loss: 1.5512e-05 - accuracy: 1.0000 - val_loss: 1.8440e-06 - val_accuracy: 1.0000\n",
      "Epoch 105/150\n",
      "4/4 [==============================] - 0s 17ms/step - loss: 7.6841e-05 - accuracy: 1.0000 - val_loss: 1.8439e-06 - val_accuracy: 1.0000\n",
      "Epoch 106/150\n",
      "4/4 [==============================] - 0s 16ms/step - loss: 2.2655e-05 - accuracy: 1.0000 - val_loss: 1.8438e-06 - val_accuracy: 1.0000\n",
      "Epoch 107/150\n",
      "4/4 [==============================] - 0s 15ms/step - loss: 4.2248e-05 - accuracy: 1.0000 - val_loss: 1.8436e-06 - val_accuracy: 1.0000\n",
      "Epoch 108/150\n",
      "4/4 [==============================] - 0s 15ms/step - loss: 2.8310e-05 - accuracy: 1.0000 - val_loss: 1.8435e-06 - val_accuracy: 1.0000\n",
      "Epoch 109/150\n",
      "4/4 [==============================] - 0s 15ms/step - loss: 1.1168e-04 - accuracy: 1.0000 - val_loss: 1.8434e-06 - val_accuracy: 1.0000\n",
      "\n",
      "Epoch 00109: ReduceLROnPlateau reducing learning rate to 9.765625463842298e-07.\n",
      "Epoch 110/150\n",
      "4/4 [==============================] - 0s 16ms/step - loss: 1.3286e-05 - accuracy: 1.0000 - val_loss: 1.8433e-06 - val_accuracy: 1.0000\n",
      "Epoch 111/150\n",
      "4/4 [==============================] - 0s 16ms/step - loss: 7.2828e-05 - accuracy: 1.0000 - val_loss: 1.8433e-06 - val_accuracy: 1.0000\n",
      "Epoch 112/150\n",
      "4/4 [==============================] - 0s 15ms/step - loss: 1.5225e-04 - accuracy: 1.0000 - val_loss: 1.8432e-06 - val_accuracy: 1.0000\n",
      "Epoch 113/150\n",
      "4/4 [==============================] - 0s 16ms/step - loss: 1.6876e-05 - accuracy: 1.0000 - val_loss: 1.8431e-06 - val_accuracy: 1.0000\n",
      "Epoch 114/150\n",
      "4/4 [==============================] - 0s 16ms/step - loss: 9.1547e-06 - accuracy: 1.0000 - val_loss: 1.8430e-06 - val_accuracy: 1.0000\n",
      "Epoch 115/150\n",
      "4/4 [==============================] - 0s 15ms/step - loss: 2.3693e-05 - accuracy: 1.0000 - val_loss: 1.8430e-06 - val_accuracy: 1.0000\n",
      "Epoch 116/150\n",
      "4/4 [==============================] - 0s 15ms/step - loss: 1.2915e-05 - accuracy: 1.0000 - val_loss: 1.8430e-06 - val_accuracy: 1.0000\n",
      "Epoch 117/150\n",
      "4/4 [==============================] - 0s 15ms/step - loss: 8.9981e-05 - accuracy: 1.0000 - val_loss: 1.8429e-06 - val_accuracy: 1.0000\n",
      "Epoch 118/150\n",
      "4/4 [==============================] - 0s 16ms/step - loss: 3.6284e-05 - accuracy: 1.0000 - val_loss: 1.8428e-06 - val_accuracy: 1.0000\n",
      "Epoch 119/150\n",
      "4/4 [==============================] - 0s 15ms/step - loss: 2.1275e-05 - accuracy: 1.0000 - val_loss: 1.8428e-06 - val_accuracy: 1.0000\n",
      "\n",
      "Epoch 00119: ReduceLROnPlateau reducing learning rate to 4.882812731921149e-07.\n",
      "Epoch 120/150\n",
      "4/4 [==============================] - 0s 17ms/step - loss: 2.5595e-05 - accuracy: 1.0000 - val_loss: 1.8428e-06 - val_accuracy: 1.0000\n",
      "Epoch 121/150\n",
      "4/4 [==============================] - 0s 16ms/step - loss: 3.9090e-05 - accuracy: 1.0000 - val_loss: 1.8427e-06 - val_accuracy: 1.0000\n",
      "Epoch 122/150\n",
      "4/4 [==============================] - 0s 16ms/step - loss: 3.6447e-05 - accuracy: 1.0000 - val_loss: 1.8427e-06 - val_accuracy: 1.0000\n",
      "Epoch 123/150\n",
      "4/4 [==============================] - 0s 15ms/step - loss: 4.9249e-05 - accuracy: 1.0000 - val_loss: 1.8427e-06 - val_accuracy: 1.0000\n",
      "Epoch 124/150\n",
      "4/4 [==============================] - 0s 16ms/step - loss: 1.7672e-05 - accuracy: 1.0000 - val_loss: 1.8427e-06 - val_accuracy: 1.0000\n",
      "Epoch 125/150\n",
      "4/4 [==============================] - 0s 16ms/step - loss: 9.9885e-05 - accuracy: 1.0000 - val_loss: 1.8427e-06 - val_accuracy: 1.0000\n",
      "Epoch 126/150\n",
      "4/4 [==============================] - 0s 15ms/step - loss: 1.1469e-05 - accuracy: 1.0000 - val_loss: 1.8426e-06 - val_accuracy: 1.0000\n",
      "Epoch 127/150\n",
      "4/4 [==============================] - 0s 16ms/step - loss: 6.1585e-05 - accuracy: 1.0000 - val_loss: 1.8426e-06 - val_accuracy: 1.0000\n",
      "Epoch 128/150\n",
      "4/4 [==============================] - 0s 15ms/step - loss: 3.6307e-05 - accuracy: 1.0000 - val_loss: 1.8426e-06 - val_accuracy: 1.0000\n",
      "Epoch 129/150\n",
      "4/4 [==============================] - 0s 15ms/step - loss: 3.0033e-05 - accuracy: 1.0000 - val_loss: 1.8425e-06 - val_accuracy: 1.0000\n",
      "\n",
      "Epoch 00129: ReduceLROnPlateau reducing learning rate to 2.4414063659605745e-07.\n",
      "Epoch 130/150\n",
      "4/4 [==============================] - 0s 15ms/step - loss: 1.2583e-05 - accuracy: 1.0000 - val_loss: 1.8425e-06 - val_accuracy: 1.0000\n",
      "Epoch 131/150\n",
      "4/4 [==============================] - 0s 16ms/step - loss: 2.4987e-05 - accuracy: 1.0000 - val_loss: 1.8425e-06 - val_accuracy: 1.0000\n",
      "Epoch 132/150\n",
      "4/4 [==============================] - 0s 16ms/step - loss: 3.1088e-05 - accuracy: 1.0000 - val_loss: 1.8425e-06 - val_accuracy: 1.0000\n",
      "Epoch 133/150\n",
      "4/4 [==============================] - 0s 16ms/step - loss: 5.8944e-05 - accuracy: 1.0000 - val_loss: 1.8425e-06 - val_accuracy: 1.0000\n",
      "Epoch 134/150\n",
      "4/4 [==============================] - 0s 15ms/step - loss: 1.9016e-04 - accuracy: 1.0000 - val_loss: 1.8425e-06 - val_accuracy: 1.0000\n",
      "Epoch 135/150\n",
      "4/4 [==============================] - 0s 15ms/step - loss: 4.4259e-05 - accuracy: 1.0000 - val_loss: 1.8424e-06 - val_accuracy: 1.0000\n",
      "Epoch 136/150\n",
      "4/4 [==============================] - 0s 15ms/step - loss: 2.0058e-04 - accuracy: 1.0000 - val_loss: 1.8424e-06 - val_accuracy: 1.0000\n",
      "Epoch 137/150\n",
      "4/4 [==============================] - 0s 15ms/step - loss: 4.2939e-05 - accuracy: 1.0000 - val_loss: 1.8424e-06 - val_accuracy: 1.0000\n",
      "Epoch 138/150\n",
      "4/4 [==============================] - 0s 16ms/step - loss: 2.2843e-04 - accuracy: 1.0000 - val_loss: 1.8424e-06 - val_accuracy: 1.0000\n",
      "Epoch 139/150\n",
      "4/4 [==============================] - 0s 16ms/step - loss: 2.1935e-05 - accuracy: 1.0000 - val_loss: 1.8423e-06 - val_accuracy: 1.0000\n",
      "\n",
      "Epoch 00139: ReduceLROnPlateau reducing learning rate to 1.2207031829802872e-07.\n",
      "Epoch 140/150\n",
      "4/4 [==============================] - 0s 16ms/step - loss: 3.6512e-05 - accuracy: 1.0000 - val_loss: 1.8423e-06 - val_accuracy: 1.0000\n",
      "Epoch 141/150\n",
      "4/4 [==============================] - 0s 15ms/step - loss: 1.5509e-05 - accuracy: 1.0000 - val_loss: 1.8423e-06 - val_accuracy: 1.0000\n",
      "Epoch 142/150\n",
      "4/4 [==============================] - 0s 16ms/step - loss: 3.1772e-05 - accuracy: 1.0000 - val_loss: 1.8423e-06 - val_accuracy: 1.0000\n",
      "Epoch 143/150\n",
      "4/4 [==============================] - 0s 16ms/step - loss: 3.2567e-05 - accuracy: 1.0000 - val_loss: 1.8423e-06 - val_accuracy: 1.0000\n",
      "Epoch 144/150\n",
      "4/4 [==============================] - 0s 15ms/step - loss: 4.1887e-05 - accuracy: 1.0000 - val_loss: 1.8423e-06 - val_accuracy: 1.0000\n",
      "Epoch 145/150\n",
      "4/4 [==============================] - 0s 15ms/step - loss: 5.2602e-05 - accuracy: 1.0000 - val_loss: 1.8423e-06 - val_accuracy: 1.0000\n",
      "Epoch 146/150\n",
      "4/4 [==============================] - 0s 15ms/step - loss: 3.5188e-05 - accuracy: 1.0000 - val_loss: 1.8423e-06 - val_accuracy: 1.0000\n",
      "Epoch 147/150\n",
      "4/4 [==============================] - 0s 15ms/step - loss: 7.0268e-05 - accuracy: 1.0000 - val_loss: 1.8423e-06 - val_accuracy: 1.0000\n",
      "Epoch 148/150\n",
      "4/4 [==============================] - 0s 16ms/step - loss: 2.4690e-05 - accuracy: 1.0000 - val_loss: 1.8423e-06 - val_accuracy: 1.0000\n",
      "Epoch 149/150\n",
      "4/4 [==============================] - 0s 15ms/step - loss: 9.1792e-05 - accuracy: 1.0000 - val_loss: 1.8423e-06 - val_accuracy: 1.0000\n",
      "\n",
      "Epoch 00149: ReduceLROnPlateau reducing learning rate to 6.103515914901436e-08.\n",
      "Epoch 150/150\n",
      "4/4 [==============================] - 0s 16ms/step - loss: 1.1241e-04 - accuracy: 1.0000 - val_loss: 1.8423e-06 - val_accuracy: 1.0000\n"
     ]
    }
   ],
   "source": [
    "from keras.callbacks import EarlyStopping\n",
    "# early stopping callback (model training)\n",
    "# This callback will stop the training when there is no improvement in \n",
    "from tensorflow.keras.callbacks import LearningRateScheduler, ReduceLROnPlateau\n",
    "# the validation loss for 10 consecutive epochs. \n",
    "lr = ReduceLROnPlateau(monitor=\"val_loss\", factor=0.5, patience=10, verbose=1)\n",
    "es = EarlyStopping(monitor='val_loss', \n",
    "                                   mode='min', # don't minimize the accuracy!\n",
    "                                   patience=35,\n",
    "                                   restore_best_weights=True,verbose=1)\n",
    "\n",
    "# now we just update our model fit call\n",
    "history = model.fit(X,\n",
    "                    Y,\n",
    "                    callbacks=[lr,es],\n",
    "                    epochs=150, # you can set this to a big number!\n",
    "                    batch_size=25,\n",
    "                    validation_split=0.1,\n",
    "                    shuffle=True,\n",
    "                    verbose=1)"
   ]
  },
  {
   "cell_type": "code",
   "execution_count": 70,
   "id": "a59f8dc3",
   "metadata": {
    "execution": {
     "iopub.execute_input": "2022-02-26T18:23:38.931536Z",
     "iopub.status.busy": "2022-02-26T18:23:38.930560Z",
     "iopub.status.idle": "2022-02-26T18:23:39.247480Z",
     "shell.execute_reply": "2022-02-26T18:23:39.246947Z",
     "shell.execute_reply.started": "2022-02-26T18:14:42.293943Z"
    },
    "papermill": {
     "duration": 0.613872,
     "end_time": "2022-02-26T18:23:39.247629",
     "exception": false,
     "start_time": "2022-02-26T18:23:38.633757",
     "status": "completed"
    },
    "tags": []
   },
   "outputs": [
    {
     "name": "stdout",
     "output_type": "stream",
     "text": [
      "2/2 [==============================] - 0s 6ms/step - loss: 7.3760e-06 - accuracy: 1.0000\n"
     ]
    },
    {
     "data": {
      "text/plain": [
       "Text(0, 0.5, 'Loss')"
      ]
     },
     "execution_count": 70,
     "metadata": {},
     "output_type": "execute_result"
    },
    {
     "data": {
      "image/png": "[encoded data removed]",
      "text/plain": [
       "<Figure size 432x288 with 1 Axes>"
      ]
     },
     "metadata": {},
     "output_type": "display_data"
    }
   ],
   "source": [
    "#Evaluation on Test data\n",
    "result = model.evaluate(Xt, Yt, batch_size=32)\n",
    "\n",
    "#Plotting Loss and Validation-Loss\n",
    "plt.plot(history.history['loss'])\n",
    "plt.plot(history.history['val_loss'])\n",
    "plt.legend([\"loss\",\"val_loss\"])\n",
    "plt.title('Loss Vs Val_loss')\n",
    "plt.xlabel('Epoch')\n",
    "plt.ylabel('Loss')"
   ]
  },
  {
   "cell_type": "code",
   "execution_count": 71,
   "id": "6d4f329e",
   "metadata": {
    "execution": {
     "iopub.execute_input": "2022-02-26T18:23:39.844092Z",
     "iopub.status.busy": "2022-02-26T18:23:39.843413Z",
     "iopub.status.idle": "2022-02-26T18:23:40.076545Z",
     "shell.execute_reply": "2022-02-26T18:23:40.077137Z",
     "shell.execute_reply.started": "2022-02-26T18:14:42.598354Z"
    },
    "papermill": {
     "duration": 0.532738,
     "end_time": "2022-02-26T18:23:40.077305",
     "exception": false,
     "start_time": "2022-02-26T18:23:39.544567",
     "status": "completed"
    },
    "tags": []
   },
   "outputs": [
    {
     "data": {
      "text/plain": [
       "Text(0, 0.5, 'Accuracy')"
      ]
     },
     "execution_count": 71,
     "metadata": {},
     "output_type": "execute_result"
    },
    {
     "data": {
      "image/png": "[encoded data removed]",
      "text/plain": [
       "<Figure size 432x288 with 1 Axes>"
      ]
     },
     "metadata": {},
     "output_type": "display_data"
    }
   ],
   "source": [
    "#Plotting Accuracy and Validation-Accuracy\n",
    "plt.plot(history.history['accuracy'])\n",
    "plt.plot(history.history['val_accuracy'])\n",
    "plt.legend([\"accuracy\",\"val_accuracy\"])\n",
    "plt.title('Accuracy Vs Val_Accuracy')\n",
    "plt.xlabel('Epoch')\n",
    "plt.ylabel('Accuracy')\n"
   ]
  },
  {
   "cell_type": "code",
   "execution_count": 72,
   "id": "3b59e8b3",
   "metadata": {
    "execution": {
     "iopub.execute_input": "2022-02-26T18:23:40.678945Z",
     "iopub.status.busy": "2022-02-26T18:23:40.678273Z",
     "iopub.status.idle": "2022-02-26T18:23:40.942206Z",
     "shell.execute_reply": "2022-02-26T18:23:40.942720Z",
     "shell.execute_reply.started": "2022-02-26T18:14:42.831515Z"
    },
    "papermill": {
     "duration": 0.569936,
     "end_time": "2022-02-26T18:23:40.942902",
     "exception": false,
     "start_time": "2022-02-26T18:23:40.372966",
     "status": "completed"
    },
    "tags": []
   },
   "outputs": [
    {
     "name": "stdout",
     "output_type": "stream",
     "text": [
      "[[46]]\n",
      "              precision    recall  f1-score   support\n",
      "\n",
      "           0       1.00      1.00      1.00        46\n",
      "\n",
      "    accuracy                           1.00        46\n",
      "   macro avg       1.00      1.00      1.00        46\n",
      "weighted avg       1.00      1.00      1.00        46\n",
      "\n",
      "0.0\n",
      "0.0\n"
     ]
    }
   ],
   "source": [
    "#Confusion Matrix and Classification Report\n",
    "from sklearn.metrics import confusion_matrix\n",
    "from sklearn.metrics import classification_report\n",
    "\n",
    "# see how these are numbers between 0 and 1? \n",
    "model.predict(Xt) # prob of successes (survival)\n",
    "np.round(model.predict(Xt),0) # 1 and 0 (survival or not)\n",
    "Y # 1 and 0 (survival or not)\n",
    "\n",
    "# so we need to round to a whole number (0 or 1),\n",
    "# or the confusion matrix won't work!\n",
    "preds = np.round(model.predict(Xt),0)\n",
    "\n",
    "# confusion matrix\n",
    "print(confusion_matrix(Yt, preds)) # order matters! (actual, predicted)\n",
    "\n",
    "## array([[490,  59],   ([[TN, FP],\n",
    "##       [105, 235]])     [Fn, TP]])\n",
    "import sklearn.metrics as metrics\n",
    "print(classification_report(Yt, preds))\n",
    "print(metrics.recall_score(Yt, preds))\n",
    "\n",
    "print(metrics.precision_score(Yt, preds))\n",
    "\n",
    "\n"
   ]
  },
  {
   "cell_type": "markdown",
   "id": "740a4546",
   "metadata": {
    "papermill": {
     "duration": 0.299404,
     "end_time": "2022-02-26T18:23:41.603885",
     "exception": false,
     "start_time": "2022-02-26T18:23:41.304481",
     "status": "completed"
    },
    "tags": []
   },
   "source": [
    "**3)GBM &LIGHTGBM Classifier**"
   ]
  },
  {
   "cell_type": "code",
   "execution_count": 73,
   "id": "d322024f",
   "metadata": {
    "execution": {
     "iopub.execute_input": "2022-02-26T18:23:42.205197Z",
     "iopub.status.busy": "2022-02-26T18:23:42.204532Z",
     "iopub.status.idle": "2022-02-26T18:23:42.211591Z",
     "shell.execute_reply": "2022-02-26T18:23:42.212128Z",
     "shell.execute_reply.started": "2022-02-26T18:14:43.117901Z"
    },
    "papermill": {
     "duration": 0.310807,
     "end_time": "2022-02-26T18:23:42.212299",
     "exception": false,
     "start_time": "2022-02-26T18:23:41.901492",
     "status": "completed"
    },
    "tags": []
   },
   "outputs": [],
   "source": [
    "feature_columns = [ 'Precipitation','Flow', 'Earthquake','Aspect' ,'Lithology','Plan','NDWI' ,'Slope' ,'Curvature','Elevation','NDVI']\n",
    "df1 = LS_df[feature_columns] # training Features (Predectors)\n",
    "y = LS_df['Landslide']     # Target variable\n",
    "df1\n",
    "y\n",
    "X_train, X_test, y_train, y_test = train_test_split(df1, y, test_size=0.2)"
   ]
  },
  {
   "cell_type": "code",
   "execution_count": 74,
   "id": "ace02f2d",
   "metadata": {
    "execution": {
     "iopub.execute_input": "2022-02-26T18:23:42.816006Z",
     "iopub.status.busy": "2022-02-26T18:23:42.812040Z",
     "iopub.status.idle": "2022-02-26T18:23:42.948071Z",
     "shell.execute_reply": "2022-02-26T18:23:42.947391Z",
     "shell.execute_reply.started": "2022-02-26T18:14:43.130430Z"
    },
    "papermill": {
     "duration": 0.43762,
     "end_time": "2022-02-26T18:23:42.948217",
     "exception": false,
     "start_time": "2022-02-26T18:23:42.510597",
     "status": "completed"
    },
    "tags": []
   },
   "outputs": [
    {
     "data": {
      "text/html": [
       "<style type='text/css'>\n",
       ".datatable table.frame { margin-bottom: 0; }\n",
       ".datatable table.frame thead { border-bottom: none; }\n",
       ".datatable table.frame tr.coltypes td {  color: #FFFFFF;  line-height: 6px;  padding: 0 0.5em;}\n",
       ".datatable .bool    { background: #DDDD99; }\n",
       ".datatable .object  { background: #565656; }\n",
       ".datatable .int     { background: #5D9E5D; }\n",
       ".datatable .float   { background: #4040CC; }\n",
       ".datatable .str     { background: #CC4040; }\n",
       ".datatable .time    { background: #40CC40; }\n",
       ".datatable .row_index {  background: var(--jp-border-color3);  border-right: 1px solid var(--jp-border-color0);  color: var(--jp-ui-font-color3);  font-size: 9px;}\n",
       ".datatable .frame tbody td { text-align: left; }\n",
       ".datatable .frame tr.coltypes .row_index {  background: var(--jp-border-color0);}\n",
       ".datatable th:nth-child(2) { padding-left: 12px; }\n",
       ".datatable .hellipsis {  color: var(--jp-cell-editor-border-color);}\n",
       ".datatable .vellipsis {  background: var(--jp-layout-color0);  color: var(--jp-cell-editor-border-color);}\n",
       ".datatable .na {  color: var(--jp-cell-editor-border-color);  font-size: 80%;}\n",
       ".datatable .sp {  opacity: 0.25;}\n",
       ".datatable .footer { font-size: 9px; }\n",
       ".datatable .frame_dimensions {  background: var(--jp-border-color3);  border-top: 1px solid var(--jp-border-color0);  color: var(--jp-ui-font-color3);  display: inline-block;  opacity: 0.6;  padding: 1px 10px 1px 5px;}\n",
       "</style>\n"
      ],
      "text/plain": [
       "<IPython.core.display.HTML object>"
      ]
     },
     "metadata": {},
     "output_type": "display_data"
    }
   ],
   "source": [
    "from sklearn.ensemble import GradientBoostingClassifier\n",
    "from lightgbm import LGBMClassifier\n",
    "from sklearn.model_selection import cross_val_score\n",
    "from sklearn.model_selection import RepeatedStratifiedKFold\n",
    "import matplotlib.pyplot as plt\n",
    "import seaborn as sns\n",
    "\n",
    "from sklearn.neighbors import KNeighborsClassifier\n",
    "from sklearn.metrics import matthews_corrcoef\n",
    "from sklearn.metrics import f1_score\n",
    "from sklearn.metrics import accuracy_score\n",
    "from sklearn.metrics import recall_score\n",
    "from sklearn.metrics import precision_score\n",
    "from sklearn.metrics import precision_recall_curve\n",
    "from sklearn.metrics import roc_auc_score\n",
    "\n",
    "from sklearn.model_selection import GridSearchCV"
   ]
  },
  {
   "cell_type": "code",
   "execution_count": 75,
   "id": "1f055cdd",
   "metadata": {
    "execution": {
     "iopub.execute_input": "2022-02-26T18:23:43.556450Z",
     "iopub.status.busy": "2022-02-26T18:23:43.549039Z",
     "iopub.status.idle": "2022-02-26T18:23:43.667526Z",
     "shell.execute_reply": "2022-02-26T18:23:43.668066Z",
     "shell.execute_reply.started": "2022-02-26T18:14:43.145197Z"
    },
    "papermill": {
     "duration": 0.420782,
     "end_time": "2022-02-26T18:23:43.668240",
     "exception": false,
     "start_time": "2022-02-26T18:23:43.247458",
     "status": "completed"
    },
    "tags": []
   },
   "outputs": [
    {
     "name": "stdout",
     "output_type": "stream",
     "text": [
      "Accuracy of the GBM on test set: 0.782\n",
      "              precision    recall  f1-score   support\n",
      "\n",
      "           0       0.76      0.78      0.77       115\n",
      "           1       0.80      0.78      0.79       128\n",
      "\n",
      "    accuracy                           0.78       243\n",
      "   macro avg       0.78      0.78      0.78       243\n",
      "weighted avg       0.78      0.78      0.78       243\n",
      "\n"
     ]
    }
   ],
   "source": [
    "baseline_gbm = GradientBoostingClassifier(learning_rate=0.1, n_estimators=100,max_depth=3, min_samples_split=2, \n",
    "                                          min_samples_leaf=1, subsample=1,max_features='sqrt', random_state=10)\n",
    "baseline_gbm.fit(X_train,y_train)\n",
    "predictors_gbm=list(X_train)\n",
    "# feat_imp_gbm = pd.Series(baseline_gbm.feature_importances_, predictors_gbm).sort_values(ascending=False)\n",
    "# feat_imp_gbm.plot(kind='bar', title='Importance of Features Using GBM')\n",
    "# plt.ylabel('Feature Importance Score')\n",
    "print('Accuracy of the GBM on test set: {:.3f}'.format(baseline_gbm.score(X_test, y_test)))\n",
    "pred_gbm=baseline_gbm.predict(X_test)\n",
    "print(classification_report(y_test, pred_gbm))"
   ]
  },
  {
   "cell_type": "code",
   "execution_count": 76,
   "id": "4d0d12f0",
   "metadata": {
    "execution": {
     "iopub.execute_input": "2022-02-26T18:23:44.273793Z",
     "iopub.status.busy": "2022-02-26T18:23:44.273149Z",
     "iopub.status.idle": "2022-02-26T18:23:44.362955Z",
     "shell.execute_reply": "2022-02-26T18:23:44.364363Z",
     "shell.execute_reply.started": "2022-02-26T18:14:43.291434Z"
    },
    "papermill": {
     "duration": 0.39631,
     "end_time": "2022-02-26T18:23:44.364601",
     "exception": false,
     "start_time": "2022-02-26T18:23:43.968291",
     "status": "completed"
    },
    "tags": []
   },
   "outputs": [
    {
     "name": "stdout",
     "output_type": "stream",
     "text": [
      "[LightGBM] [Warning] min_data_in_leaf is set with min_samples_leaf=1, min_child_samples=20 will be ignored. Current value: min_data_in_leaf=1\n",
      "Accuracy of the LGBM on test set: 0.790\n",
      "              precision    recall  f1-score   support\n",
      "\n",
      "           0       0.78      0.78      0.78       115\n",
      "           1       0.80      0.80      0.80       128\n",
      "\n",
      "    accuracy                           0.79       243\n",
      "   macro avg       0.79      0.79      0.79       243\n",
      "weighted avg       0.79      0.79      0.79       243\n",
      "\n"
     ]
    }
   ],
   "source": [
    "baseline_lgbm = LGBMClassifier(learning_rate=0.1, n_estimators=100,max_depth=3, \n",
    "                          #min_samples_split=2, \n",
    "                          min_samples_leaf=1, subsample=1,\n",
    "                          #max_features='sqrt', \n",
    "                          random_state=10)\n",
    "baseline_lgbm.fit(X_train,y_train)\n",
    "predictors_lgbm=list(X_train)\n",
    "# feat_imp_lgbm = pd.Series(baseline_lgbm.feature_importances_, predictors_lgbm).sort_values(ascending=False)\n",
    "# feat_imp_lgbm.plot(kind='bar', title='Importance of Features Using LGBM')\n",
    "# plt.ylabel('Feature Importance Score')\n",
    "print('Accuracy of the LGBM on test set: {:.3f}'.format(baseline_lgbm.score(X_test, y_test)))\n",
    "pred_lgbm=baseline_lgbm.predict(X_test)\n",
    "print(classification_report(y_test, pred_lgbm))"
   ]
  },
  {
   "cell_type": "markdown",
   "id": "ee38a2ff",
   "metadata": {
    "papermill": {
     "duration": 0.298413,
     "end_time": "2022-02-26T18:23:44.967065",
     "exception": false,
     "start_time": "2022-02-26T18:23:44.668652",
     "status": "completed"
    },
    "tags": []
   },
   "source": [
    "Tuning of Models"
   ]
  },
  {
   "cell_type": "code",
   "execution_count": 77,
   "id": "d58a75c3",
   "metadata": {
    "execution": {
     "iopub.execute_input": "2022-02-26T18:23:45.571853Z",
     "iopub.status.busy": "2022-02-26T18:23:45.571177Z",
     "iopub.status.idle": "2022-02-26T18:25:34.840749Z",
     "shell.execute_reply": "2022-02-26T18:25:34.839995Z",
     "shell.execute_reply.started": "2022-02-26T18:14:43.353265Z"
    },
    "papermill": {
     "duration": 109.571974,
     "end_time": "2022-02-26T18:25:34.840922",
     "exception": false,
     "start_time": "2022-02-26T18:23:45.268948",
     "status": "completed"
    },
    "tags": []
   },
   "outputs": [],
   "source": [
    "p_test3 = {'learning_rate':[0.15,0.1,0.05,0.01,0.005,0.001], 'n_estimators':[50,100,250,500,750,1000,1250,1500,1750]}\n",
    "\n",
    "tuning = GridSearchCV(estimator =GradientBoostingClassifier(max_depth=4, min_samples_split=2, min_samples_leaf=1, \n",
    "                                                            subsample=1,max_features='sqrt', random_state=10), \n",
    "                                                            param_grid = p_test3, scoring='accuracy',n_jobs=4,\n",
    "                                                            iid=False, cv=5)\n",
    "tuning.fit(X_train,y_train)\n",
    "tuning.best_params_, tuning.best_score_\n",
    "learning_rate_gbm = tuning.best_params_.get(\"learning_rate\")\n",
    "n_estimators_gbm = tuning.best_params_.get(\"n_estimators\")"
   ]
  },
  {
   "cell_type": "code",
   "execution_count": 78,
   "id": "e0b82b5c",
   "metadata": {
    "execution": {
     "iopub.execute_input": "2022-02-26T18:25:35.445602Z",
     "iopub.status.busy": "2022-02-26T18:25:35.444933Z",
     "iopub.status.idle": "2022-02-26T18:26:10.145976Z",
     "shell.execute_reply": "2022-02-26T18:26:10.146608Z",
     "shell.execute_reply.started": "2022-02-26T18:16:44.110344Z"
    },
    "papermill": {
     "duration": 35.003862,
     "end_time": "2022-02-26T18:26:10.146830",
     "exception": false,
     "start_time": "2022-02-26T18:25:35.142968",
     "status": "completed"
    },
    "tags": []
   },
   "outputs": [
    {
     "name": "stdout",
     "output_type": "stream",
     "text": [
      "[LightGBM] [Warning] min_data_in_leaf is set with min_samples_leaf=1, min_child_samples=20 will be ignored. Current value: min_data_in_leaf=1\n",
      "[LightGBM] [Warning] min_data_in_leaf is set with min_samples_leaf=1, min_child_samples=20 will be ignored. Current value: min_data_in_leaf=1\n",
      "[LightGBM] [Warning] min_data_in_leaf is set with min_samples_leaf=1, min_child_samples=20 will be ignored. Current value: min_data_in_leaf=1\n",
      "[LightGBM] [Warning] min_data_in_leaf is set with min_samples_leaf=1, min_child_samples=20 will be ignored. Current value: min_data_in_leaf=1\n",
      "[LightGBM] [Warning] min_data_in_leaf is set with min_samples_leaf=1, min_child_samples=20 will be ignored. Current value: min_data_in_leaf=1\n",
      "[LightGBM] [Warning] min_data_in_leaf is set with min_samples_leaf=1, min_child_samples=20 will be ignored. Current value: min_data_in_leaf=1\n",
      "[LightGBM] [Warning] min_data_in_leaf is set with min_samples_leaf=1, min_child_samples=20 will be ignored. Current value: min_data_in_leaf=1\n",
      "[LightGBM] [Warning] min_data_in_leaf is set with min_samples_leaf=1, min_child_samples=20 will be ignored. Current value: min_data_in_leaf=1\n",
      "[LightGBM] [Warning] min_data_in_leaf is set with min_samples_leaf=1, min_child_samples=20 will be ignored. Current value: min_data_in_leaf=1\n",
      "[LightGBM] [Warning] min_data_in_leaf is set with min_samples_leaf=1, min_child_samples=20 will be ignored. Current value: min_data_in_leaf=1\n",
      "[LightGBM] [Warning] min_data_in_leaf is set with min_samples_leaf=1, min_child_samples=20 will be ignored. Current value: min_data_in_leaf=1\n",
      "[LightGBM] [Warning] min_data_in_leaf is set with min_samples_leaf=1, min_child_samples=20 will be ignored. Current value: min_data_in_leaf=1\n",
      "[LightGBM] [Warning] min_data_in_leaf is set with min_samples_leaf=1, min_child_samples=20 will be ignored. Current value: min_data_in_leaf=1\n",
      "[LightGBM] [Warning] min_data_in_leaf is set with min_samples_leaf=1, min_child_samples=20 will be ignored. Current value: min_data_in_leaf=1\n",
      "[LightGBM] [Warning] min_data_in_leaf is set with min_samples_leaf=1, min_child_samples=20 will be ignored. Current value: min_data_in_leaf=1\n",
      "[LightGBM] [Warning] min_data_in_leaf is set with min_samples_leaf=1, min_child_samples=20 will be ignored. Current value: min_data_in_leaf=1\n",
      "[LightGBM] [Warning] min_data_in_leaf is set with min_samples_leaf=1, min_child_samples=20 will be ignored. Current value: min_data_in_leaf=1\n",
      "[LightGBM] [Warning] min_data_in_leaf is set with min_samples_leaf=1, min_child_samples=20 will be ignored. Current value: min_data_in_leaf=1\n",
      "[LightGBM] [Warning] min_data_in_leaf is set with min_samples_leaf=1, min_child_samples=20 will be ignored. Current value: min_data_in_leaf=1\n",
      "[LightGBM] [Warning] min_data_in_leaf is set with min_samples_leaf=1, min_child_samples=20 will be ignored. Current value: min_data_in_leaf=1\n",
      "[LightGBM] [Warning] min_data_in_leaf is set with min_samples_leaf=1, min_child_samples=20 will be ignored. Current value: min_data_in_leaf=1\n",
      "[LightGBM] [Warning] min_data_in_leaf is set with min_samples_leaf=1, min_child_samples=20 will be ignored. Current value: min_data_in_leaf=1\n",
      "[LightGBM] [Warning] min_data_in_leaf is set with min_samples_leaf=1, min_child_samples=20 will be ignored. Current value: min_data_in_leaf=1\n",
      "[LightGBM] [Warning] min_data_in_leaf is set with min_samples_leaf=1, min_child_samples=20 will be ignored. Current value: min_data_in_leaf=1\n",
      "[LightGBM] [Warning] min_data_in_leaf is set with min_samples_leaf=1, min_child_samples=20 will be ignored. Current value: min_data_in_leaf=1\n",
      "[LightGBM] [Warning] min_data_in_leaf is set with min_samples_leaf=1, min_child_samples=20 will be ignored. Current value: min_data_in_leaf=1\n",
      "[LightGBM] [Warning] min_data_in_leaf is set with min_samples_leaf=1, min_child_samples=20 will be ignored. Current value: min_data_in_leaf=1\n",
      "[LightGBM] [Warning] min_data_in_leaf is set with min_samples_leaf=1, min_child_samples=20 will be ignored. Current value: min_data_in_leaf=1\n",
      "[LightGBM] [Warning] min_data_in_leaf is set with min_samples_leaf=1, min_child_samples=20 will be ignored. Current value: min_data_in_leaf=1\n",
      "[LightGBM] [Warning] min_data_in_leaf is set with min_samples_leaf=1, min_child_samples=20 will be ignored. Current value: min_data_in_leaf=1\n",
      "[LightGBM] [Warning] min_data_in_leaf is set with min_samples_leaf=1, min_child_samples=20 will be ignored. Current value: min_data_in_leaf=1\n",
      "[LightGBM] [Warning] min_data_in_leaf is set with min_samples_leaf=1, min_child_samples=20 will be ignored. Current value: min_data_in_leaf=1\n",
      "[LightGBM] [Warning] min_data_in_leaf is set with min_samples_leaf=1, min_child_samples=20 will be ignored. Current value: min_data_in_leaf=1\n",
      "[LightGBM] [Warning] min_data_in_leaf is set with min_samples_leaf=1, min_child_samples=20 will be ignored. Current value: min_data_in_leaf=1\n",
      "[LightGBM] [Warning] min_data_in_leaf is set with min_samples_leaf=1, min_child_samples=20 will be ignored. Current value: min_data_in_leaf=1\n",
      "[LightGBM] [Warning] min_data_in_leaf is set with min_samples_leaf=1, min_child_samples=20 will be ignored. Current value: min_data_in_leaf=1\n",
      "[LightGBM] [Warning] min_data_in_leaf is set with min_samples_leaf=1, min_child_samples=20 will be ignored. Current value: min_data_in_leaf=1\n",
      "[LightGBM] [Warning] min_data_in_leaf is set with min_samples_leaf=1, min_child_samples=20 will be ignored. Current value: min_data_in_leaf=1\n",
      "[LightGBM] [Warning] min_data_in_leaf is set with min_samples_leaf=1, min_child_samples=20 will be ignored. Current value: min_data_in_leaf=1\n",
      "[LightGBM] [Warning] min_data_in_leaf is set with min_samples_leaf=1, min_child_samples=20 will be ignored. Current value: min_data_in_leaf=1\n",
      "[LightGBM] [Warning] min_data_in_leaf is set with min_samples_leaf=1, min_child_samples=20 will be ignored. Current value: min_data_in_leaf=1\n",
      "[LightGBM] [Warning] min_data_in_leaf is set with min_samples_leaf=1, min_child_samples=20 will be ignored. Current value: min_data_in_leaf=1\n",
      "[LightGBM] [Warning] min_data_in_leaf is set with min_samples_leaf=1, min_child_samples=20 will be ignored. Current value: min_data_in_leaf=1\n",
      "[LightGBM] [Warning] min_data_in_leaf is set with min_samples_leaf=1, min_child_samples=20 will be ignored. Current value: min_data_in_leaf=1\n",
      "[LightGBM] [Warning] min_data_in_leaf is set with min_samples_leaf=1, min_child_samples=20 will be ignored. Current value: min_data_in_leaf=1\n",
      "[LightGBM] [Warning] min_data_in_leaf is set with min_samples_leaf=1, min_child_samples=20 will be ignored. Current value: min_data_in_leaf=1\n",
      "[LightGBM] [Warning] min_data_in_leaf is set with min_samples_leaf=1, min_child_samples=20 will be ignored. Current value: min_data_in_leaf=1\n",
      "[LightGBM] [Warning] min_data_in_leaf is set with min_samples_leaf=1, min_child_samples=20 will be ignored. Current value: min_data_in_leaf=1\n",
      "[LightGBM] [Warning] min_data_in_leaf is set with min_samples_leaf=1, min_child_samples=20 will be ignored. Current value: min_data_in_leaf=1\n",
      "[LightGBM] [Warning] min_data_in_leaf is set with min_samples_leaf=1, min_child_samples=20 will be ignored. Current value: min_data_in_leaf=1\n",
      "[LightGBM] [Warning] min_data_in_leaf is set with min_samples_leaf=1, min_child_samples=20 will be ignored. Current value: min_data_in_leaf=1\n",
      "[LightGBM] [Warning] min_data_in_leaf is set with min_samples_leaf=1, min_child_samples=20 will be ignored. Current value: min_data_in_leaf=1\n",
      "[LightGBM] [Warning] min_data_in_leaf is set with min_samples_leaf=1, min_child_samples=20 will be ignored. Current value: min_data_in_leaf=1\n",
      "[LightGBM] [Warning] min_data_in_leaf is set with min_samples_leaf=1, min_child_samples=20 will be ignored. Current value: min_data_in_leaf=1\n",
      "[LightGBM] [Warning] min_data_in_leaf is set with min_samples_leaf=1, min_child_samples=20 will be ignored. Current value: min_data_in_leaf=1\n",
      "[LightGBM] [Warning] min_data_in_leaf is set with min_samples_leaf=1, min_child_samples=20 will be ignored. Current value: min_data_in_leaf=1\n",
      "[LightGBM] [Warning] min_data_in_leaf is set with min_samples_leaf=1, min_child_samples=20 will be ignored. Current value: min_data_in_leaf=1\n",
      "[LightGBM] [Warning] min_data_in_leaf is set with min_samples_leaf=1, min_child_samples=20 will be ignored. Current value: min_data_in_leaf=1[LightGBM] [Warning] min_data_in_leaf is set with min_samples_leaf=1, min_child_samples=20 will be ignored. Current value: min_data_in_leaf=1\n",
      "[LightGBM] [Warning] min_data_in_leaf is set with min_samples_leaf=1, min_child_samples=20 will be ignored. Current value: min_data_in_leaf=1\n",
      "[LightGBM] [Warning] min_data_in_leaf is set with min_samples_leaf=1, min_child_samples=20 will be ignored. Current value: min_data_in_leaf=1\n",
      "[LightGBM] [Warning] min_data_in_leaf is set with min_samples_leaf=1, min_child_samples=20 will be ignored. Current value: min_data_in_leaf=1\n",
      "[LightGBM] [Warning] min_data_in_leaf is set with min_samples_leaf=1, min_child_samples=20 will be ignored. Current value: min_data_in_leaf=1\n",
      "[LightGBM] [Warning] min_data_in_leaf is set with min_samples_leaf=1, min_child_samples=20 will be ignored. Current value: min_data_in_leaf=1\n",
      "[LightGBM] [Warning] min_data_in_leaf is set with min_samples_leaf=1, min_child_samples=20 will be ignored. Current value: min_data_in_leaf=1\n",
      "[LightGBM] [Warning] min_data_in_leaf is set with min_samples_leaf=1, min_child_samples=20 will be ignored. Current value: min_data_in_leaf=1\n",
      "[LightGBM] [Warning] min_data_in_leaf is set with min_samples_leaf=1, min_child_samples=20 will be ignored. Current value: min_data_in_leaf=1\n",
      "[LightGBM] [Warning] min_data_in_leaf is set with min_samples_leaf=1, min_child_samples=20 will be ignored. Current value: min_data_in_leaf=1\n",
      "[LightGBM] [Warning] min_data_in_leaf is set with min_samples_leaf=1, min_child_samples=20 will be ignored. Current value: min_data_in_leaf=1\n",
      "[LightGBM] [Warning] min_data_in_leaf is set with min_samples_leaf=1, min_child_samples=20 will be ignored. Current value: min_data_in_leaf=1\n",
      "[LightGBM] [Warning] min_data_in_leaf is set with min_samples_leaf=1, min_child_samples=20 will be ignored. Current value: min_data_in_leaf=1\n",
      "[LightGBM] [Warning] min_data_in_leaf is set with min_samples_leaf=1, min_child_samples=20 will be ignored. Current value: min_data_in_leaf=1\n",
      "[LightGBM] [Warning] min_data_in_leaf is set with min_samples_leaf=1, min_child_samples=20 will be ignored. Current value: min_data_in_leaf=1\n",
      "[LightGBM] [Warning] min_data_in_leaf is set with min_samples_leaf=1, min_child_samples=20 will be ignored. Current value: min_data_in_leaf=1\n",
      "[LightGBM] [Warning] min_data_in_leaf is set with min_samples_leaf=1, min_child_samples=20 will be ignored. Current value: min_data_in_leaf=1\n",
      "[LightGBM] [Warning] min_data_in_leaf is set with min_samples_leaf=1, min_child_samples=20 will be ignored. Current value: min_data_in_leaf=1\n",
      "[LightGBM] [Warning] min_data_in_leaf is set with min_samples_leaf=1, min_child_samples=20 will be ignored. Current value: min_data_in_leaf=1\n",
      "[LightGBM] [Warning] min_data_in_leaf is set with min_samples_leaf=1, min_child_samples=20 will be ignored. Current value: min_data_in_leaf=1\n",
      "[LightGBM] [Warning] min_data_in_leaf is set with min_samples_leaf=1, min_child_samples=20 will be ignored. Current value: min_data_in_leaf=1\n",
      "[LightGBM] [Warning] min_data_in_leaf is set with min_samples_leaf=1, min_child_samples=20 will be ignored. Current value: min_data_in_leaf=1\n",
      "[LightGBM] [Warning] min_data_in_leaf is set with min_samples_leaf=1, min_child_samples=20 will be ignored. Current value: min_data_in_leaf=1\n",
      "[LightGBM] [Warning] min_data_in_leaf is set with min_samples_leaf=1, min_child_samples=20 will be ignored. Current value: min_data_in_leaf=1\n",
      "[LightGBM] [Warning] min_data_in_leaf is set with min_samples_leaf=1, min_child_samples=20 will be ignored. Current value: min_data_in_leaf=1\n",
      "[LightGBM] [Warning] min_data_in_leaf is set with min_samples_leaf=1, min_child_samples=20 will be ignored. Current value: min_data_in_leaf=1\n",
      "[LightGBM] [Warning] min_data_in_leaf is set with min_samples_leaf=1, min_child_samples=20 will be ignored. Current value: min_data_in_leaf=1\n",
      "[LightGBM] [Warning] min_data_in_leaf is set with min_samples_leaf=1, min_child_samples=20 will be ignored. Current value: min_data_in_leaf=1\n",
      "[LightGBM] [Warning] min_data_in_leaf is set with min_samples_leaf=1, min_child_samples=20 will be ignored. Current value: min_data_in_leaf=1\n",
      "[LightGBM] [Warning] min_data_in_leaf is set with min_samples_leaf=1, min_child_samples=20 will be ignored. Current value: min_data_in_leaf=1\n",
      "[LightGBM] [Warning] min_data_in_leaf is set with min_samples_leaf=1, min_child_samples=20 will be ignored. Current value: min_data_in_leaf=1\n",
      "[LightGBM] [Warning] min_data_in_leaf is set with min_samples_leaf=1, min_child_samples=20 will be ignored. Current value: min_data_in_leaf=1\n",
      "[LightGBM] [Warning] min_data_in_leaf is set with min_samples_leaf=1, min_child_samples=20 will be ignored. Current value: min_data_in_leaf=1\n",
      "[LightGBM] [Warning] min_data_in_leaf is set with min_samples_leaf=1, min_child_samples=20 will be ignored. Current value: min_data_in_leaf=1\n",
      "[LightGBM] [Warning] min_data_in_leaf is set with min_samples_leaf=1, min_child_samples=20 will be ignored. Current value: min_data_in_leaf=1\n",
      "[LightGBM] [Warning] min_data_in_leaf is set with min_samples_leaf=1, min_child_samples=20 will be ignored. Current value: min_data_in_leaf=1\n",
      "[LightGBM] [Warning] min_data_in_leaf is set with min_samples_leaf=1, min_child_samples=20 will be ignored. Current value: min_data_in_leaf=1\n",
      "[LightGBM] [Warning] min_data_in_leaf is set with min_samples_leaf=1, min_child_samples=20 will be ignored. Current value: min_data_in_leaf=1\n",
      "[LightGBM] [Warning] min_data_in_leaf is set with min_samples_leaf=1, min_child_samples=20 will be ignored. Current value: min_data_in_leaf=1\n",
      "[LightGBM] [Warning] min_data_in_leaf is set with min_samples_leaf=1, min_child_samples=20 will be ignored. Current value: min_data_in_leaf=1\n",
      "[LightGBM] [Warning] min_data_in_leaf is set with min_samples_leaf=1, min_child_samples=20 will be ignored. Current value: min_data_in_leaf=1\n",
      "[LightGBM] [Warning] min_data_in_leaf is set with min_samples_leaf=1, min_child_samples=20 will be ignored. Current value: min_data_in_leaf=1\n",
      "[LightGBM] [Warning] min_data_in_leaf is set with min_samples_leaf=1, min_child_samples=20 will be ignored. Current value: min_data_in_leaf=1\n",
      "[LightGBM] [Warning] min_data_in_leaf is set with min_samples_leaf=1, min_child_samples=20 will be ignored. Current value: min_data_in_leaf=1\n",
      "[LightGBM] [Warning] min_data_in_leaf is set with min_samples_leaf=1, min_child_samples=20 will be ignored. Current value: min_data_in_leaf=1\n",
      "[LightGBM] [Warning] min_data_in_leaf is set with min_samples_leaf=1, min_child_samples=20 will be ignored. Current value: min_data_in_leaf=1\n",
      "[LightGBM] [Warning] min_data_in_leaf is set with min_samples_leaf=1, min_child_samples=20 will be ignored. Current value: min_data_in_leaf=1\n",
      "[LightGBM] [Warning] min_data_in_leaf is set with min_samples_leaf=1, min_child_samples=20 will be ignored. Current value: min_data_in_leaf=1\n",
      "[LightGBM] [Warning] min_data_in_leaf is set with min_samples_leaf=1, min_child_samples=20 will be ignored. Current value: min_data_in_leaf=1\n",
      "[LightGBM] [Warning] min_data_in_leaf is set with min_samples_leaf=1, min_child_samples=20 will be ignored. Current value: min_data_in_leaf=1\n",
      "[LightGBM] [Warning] min_data_in_leaf is set with min_samples_leaf=1, min_child_samples=20 will be ignored. Current value: min_data_in_leaf=1\n",
      "[LightGBM] [Warning] min_data_in_leaf is set with min_samples_leaf=1, min_child_samples=20 will be ignored. Current value: min_data_in_leaf=1\n",
      "[LightGBM] [Warning] min_data_in_leaf is set with min_samples_leaf=1, min_child_samples=20 will be ignored. Current value: min_data_in_leaf=1\n",
      "[LightGBM] [Warning] min_data_in_leaf is set with min_samples_leaf=1, min_child_samples=20 will be ignored. Current value: min_data_in_leaf=1\n",
      "[LightGBM] [Warning] min_data_in_leaf is set with min_samples_leaf=1, min_child_samples=20 will be ignored. Current value: min_data_in_leaf=1\n",
      "[LightGBM] [Warning] min_data_in_leaf is set with min_samples_leaf=1, min_child_samples=20 will be ignored. Current value: min_data_in_leaf=1\n",
      "[LightGBM] [Warning] min_data_in_leaf is set with min_samples_leaf=1, min_child_samples=20 will be ignored. Current value: min_data_in_leaf=1\n",
      "[LightGBM] [Warning] min_data_in_leaf is set with min_samples_leaf=1, min_child_samples=20 will be ignored. Current value: min_data_in_leaf=1[LightGBM] [Warning] min_data_in_leaf is set with min_samples_leaf=1, min_child_samples=20 will be ignored. Current value: min_data_in_leaf=1\n",
      "[LightGBM] [Warning] min_data_in_leaf is set with min_samples_leaf=1, min_child_samples=20 will be ignored. Current value: min_data_in_leaf=1\n",
      "[LightGBM] [Warning] min_data_in_leaf is set with min_samples_leaf=1, min_child_samples=20 will be ignored. Current value: min_data_in_leaf=1\n",
      "[LightGBM] [Warning] min_data_in_leaf is set with min_samples_leaf=1, min_child_samples=20 will be ignored. Current value: min_data_in_leaf=1\n",
      "[LightGBM] [Warning] min_data_in_leaf is set with min_samples_leaf=1, min_child_samples=20 will be ignored. Current value: min_data_in_leaf=1\n",
      "[LightGBM] [Warning] min_data_in_leaf is set with min_samples_leaf=1, min_child_samples=20 will be ignored. Current value: min_data_in_leaf=1\n",
      "[LightGBM] [Warning] min_data_in_leaf is set with min_samples_leaf=1, min_child_samples=20 will be ignored. Current value: min_data_in_leaf=1\n",
      "[LightGBM] [Warning] min_data_in_leaf is set with min_samples_leaf=1, min_child_samples=20 will be ignored. Current value: min_data_in_leaf=1\n",
      "[LightGBM] [Warning] min_data_in_leaf is set with min_samples_leaf=1, min_child_samples=20 will be ignored. Current value: min_data_in_leaf=1\n",
      "[LightGBM] [Warning] min_data_in_leaf is set with min_samples_leaf=1, min_child_samples=20 will be ignored. Current value: min_data_in_leaf=1\n",
      "[LightGBM] [Warning] min_data_in_leaf is set with min_samples_leaf=1, min_child_samples=20 will be ignored. Current value: min_data_in_leaf=1\n",
      "[LightGBM] [Warning] min_data_in_leaf is set with min_samples_leaf=1, min_child_samples=20 will be ignored. Current value: min_data_in_leaf=1\n",
      "[LightGBM] [Warning] min_data_in_leaf is set with min_samples_leaf=1, min_child_samples=20 will be ignored. Current value: min_data_in_leaf=1\n",
      "[LightGBM] [Warning] min_data_in_leaf is set with min_samples_leaf=1, min_child_samples=20 will be ignored. Current value: min_data_in_leaf=1\n",
      "[LightGBM] [Warning] min_data_in_leaf is set with min_samples_leaf=1, min_child_samples=20 will be ignored. Current value: min_data_in_leaf=1\n",
      "[LightGBM] [Warning] min_data_in_leaf is set with min_samples_leaf=1, min_child_samples=20 will be ignored. Current value: min_data_in_leaf=1\n",
      "[LightGBM] [Warning] min_data_in_leaf is set with min_samples_leaf=1, min_child_samples=20 will be ignored. Current value: min_data_in_leaf=1\n",
      "[LightGBM] [Warning] min_data_in_leaf is set with min_samples_leaf=1, min_child_samples=20 will be ignored. Current value: min_data_in_leaf=1\n",
      "[LightGBM] [Warning] min_data_in_leaf is set with min_samples_leaf=1, min_child_samples=20 will be ignored. Current value: min_data_in_leaf=1\n",
      "[LightGBM] [Warning] min_data_in_leaf is set with min_samples_leaf=1, min_child_samples=20 will be ignored. Current value: min_data_in_leaf=1\n",
      "[LightGBM] [Warning] min_data_in_leaf is set with min_samples_leaf=1, min_child_samples=20 will be ignored. Current value: min_data_in_leaf=1\n",
      "[LightGBM] [Warning] min_data_in_leaf is set with min_samples_leaf=1, min_child_samples=20 will be ignored. Current value: min_data_in_leaf=1\n",
      "[LightGBM] [Warning] min_data_in_leaf is set with min_samples_leaf=1, min_child_samples=20 will be ignored. Current value: min_data_in_leaf=1\n",
      "[LightGBM] [Warning] min_data_in_leaf is set with min_samples_leaf=1, min_child_samples=20 will be ignored. Current value: min_data_in_leaf=1\n",
      "[LightGBM] [Warning] min_data_in_leaf is set with min_samples_leaf=1, min_child_samples=20 will be ignored. Current value: min_data_in_leaf=1\n",
      "[LightGBM] [Warning] min_data_in_leaf is set with min_samples_leaf=1, min_child_samples=20 will be ignored. Current value: min_data_in_leaf=1\n",
      "[LightGBM] [Warning] min_data_in_leaf is set with min_samples_leaf=1, min_child_samples=20 will be ignored. Current value: min_data_in_leaf=1\n",
      "[LightGBM] [Warning] min_data_in_leaf is set with min_samples_leaf=1, min_child_samples=20 will be ignored. Current value: min_data_in_leaf=1\n",
      "[LightGBM] [Warning] min_data_in_leaf is set with min_samples_leaf=1, min_child_samples=20 will be ignored. Current value: min_data_in_leaf=1\n",
      "[LightGBM] [Warning] min_data_in_leaf is set with min_samples_leaf=1, min_child_samples=20 will be ignored. Current value: min_data_in_leaf=1\n",
      "[LightGBM] [Warning] min_data_in_leaf is set with min_samples_leaf=1, min_child_samples=20 will be ignored. Current value: min_data_in_leaf=1\n",
      "[LightGBM] [Warning] min_data_in_leaf is set with min_samples_leaf=1, min_child_samples=20 will be ignored. Current value: min_data_in_leaf=1\n",
      "[LightGBM] [Warning] min_data_in_leaf is set with min_samples_leaf=1, min_child_samples=20 will be ignored. Current value: min_data_in_leaf=1\n",
      "[LightGBM] [Warning] min_data_in_leaf is set with min_samples_leaf=1, min_child_samples=20 will be ignored. Current value: min_data_in_leaf=1\n",
      "[LightGBM] [Warning] min_data_in_leaf is set with min_samples_leaf=1, min_child_samples=20 will be ignored. Current value: min_data_in_leaf=1\n",
      "[LightGBM] [Warning] min_data_in_leaf is set with min_samples_leaf=1, min_child_samples=20 will be ignored. Current value: min_data_in_leaf=1\n",
      "[LightGBM] [Warning] min_data_in_leaf is set with min_samples_leaf=1, min_child_samples=20 will be ignored. Current value: min_data_in_leaf=1\n",
      "[LightGBM] [Warning] min_data_in_leaf is set with min_samples_leaf=1, min_child_samples=20 will be ignored. Current value: min_data_in_leaf=1\n",
      "[LightGBM] [Warning] min_data_in_leaf is set with min_samples_leaf=1, min_child_samples=20 will be ignored. Current value: min_data_in_leaf=1\n",
      "[LightGBM] [Warning] min_data_in_leaf is set with min_samples_leaf=1, min_child_samples=20 will be ignored. Current value: min_data_in_leaf=1\n",
      "[LightGBM] [Warning] min_data_in_leaf is set with min_samples_leaf=1, min_child_samples=20 will be ignored. Current value: min_data_in_leaf=1\n",
      "[LightGBM] [Warning] min_data_in_leaf is set with min_samples_leaf=1, min_child_samples=20 will be ignored. Current value: min_data_in_leaf=1\n",
      "[LightGBM] [Warning] min_data_in_leaf is set with min_samples_leaf=1, min_child_samples=20 will be ignored. Current value: min_data_in_leaf=1\n",
      "[LightGBM] [Warning] min_data_in_leaf is set with min_samples_leaf=1, min_child_samples=20 will be ignored. Current value: min_data_in_leaf=1\n",
      "[LightGBM] [Warning] min_data_in_leaf is set with min_samples_leaf=1, min_child_samples=20 will be ignored. Current value: min_data_in_leaf=1\n",
      "[LightGBM] [Warning] min_data_in_leaf is set with min_samples_leaf=1, min_child_samples=20 will be ignored. Current value: min_data_in_leaf=1\n",
      "[LightGBM] [Warning] min_data_in_leaf is set with min_samples_leaf=1, min_child_samples=20 will be ignored. Current value: min_data_in_leaf=1\n",
      "[LightGBM] [Warning] min_data_in_leaf is set with min_samples_leaf=1, min_child_samples=20 will be ignored. Current value: min_data_in_leaf=1\n",
      "[LightGBM] [Warning] min_data_in_leaf is set with min_samples_leaf=1, min_child_samples=20 will be ignored. Current value: min_data_in_leaf=1\n",
      "[LightGBM] [Warning] min_data_in_leaf is set with min_samples_leaf=1, min_child_samples=20 will be ignored. Current value: min_data_in_leaf=1\n",
      "[LightGBM] [Warning] min_data_in_leaf is set with min_samples_leaf=1, min_child_samples=20 will be ignored. Current value: min_data_in_leaf=1\n",
      "[LightGBM] [Warning] min_data_in_leaf is set with min_samples_leaf=1, min_child_samples=20 will be ignored. Current value: min_data_in_leaf=1\n",
      "[LightGBM] [Warning] min_data_in_leaf is set with min_samples_leaf=1, min_child_samples=20 will be ignored. Current value: min_data_in_leaf=1\n",
      "[LightGBM] [Warning] min_data_in_leaf is set with min_samples_leaf=1, min_child_samples=20 will be ignored. Current value: min_data_in_leaf=1\n",
      "[LightGBM] [Warning] min_data_in_leaf is set with min_samples_leaf=1, min_child_samples=20 will be ignored. Current value: min_data_in_leaf=1\n",
      "[LightGBM] [Warning] min_data_in_leaf is set with min_samples_leaf=1, min_child_samples=20 will be ignored. Current value: min_data_in_leaf=1\n",
      "[LightGBM] [Warning] min_data_in_leaf is set with min_samples_leaf=1, min_child_samples=20 will be ignored. Current value: min_data_in_leaf=1\n",
      "[LightGBM] [Warning] min_data_in_leaf is set with min_samples_leaf=1, min_child_samples=20 will be ignored. Current value: min_data_in_leaf=1[LightGBM] [Warning] min_data_in_leaf is set with min_samples_leaf=1, min_child_samples=20 will be ignored. Current value: min_data_in_leaf=1\n",
      "[LightGBM] [Warning] min_data_in_leaf is set with min_samples_leaf=1, min_child_samples=20 will be ignored. Current value: min_data_in_leaf=1\n",
      "[LightGBM] [Warning] min_data_in_leaf is set with min_samples_leaf=1, min_child_samples=20 will be ignored. Current value: min_data_in_leaf=1\n",
      "[LightGBM] [Warning] min_data_in_leaf is set with min_samples_leaf=1, min_child_samples=20 will be ignored. Current value: min_data_in_leaf=1\n",
      "[LightGBM] [Warning] min_data_in_leaf is set with min_samples_leaf=1, min_child_samples=20 will be ignored. Current value: min_data_in_leaf=1\n",
      "[LightGBM] [Warning] min_data_in_leaf is set with min_samples_leaf=1, min_child_samples=20 will be ignored. Current value: min_data_in_leaf=1\n",
      "[LightGBM] [Warning] min_data_in_leaf is set with min_samples_leaf=1, min_child_samples=20 will be ignored. Current value: min_data_in_leaf=1\n",
      "[LightGBM] [Warning] min_data_in_leaf is set with min_samples_leaf=1, min_child_samples=20 will be ignored. Current value: min_data_in_leaf=1\n",
      "[LightGBM] [Warning] min_data_in_leaf is set with min_samples_leaf=1, min_child_samples=20 will be ignored. Current value: min_data_in_leaf=1\n",
      "[LightGBM] [Warning] min_data_in_leaf is set with min_samples_leaf=1, min_child_samples=20 will be ignored. Current value: min_data_in_leaf=1\n",
      "[LightGBM] [Warning] min_data_in_leaf is set with min_samples_leaf=1, min_child_samples=20 will be ignored. Current value: min_data_in_leaf=1\n",
      "[LightGBM] [Warning] min_data_in_leaf is set with min_samples_leaf=1, min_child_samples=20 will be ignored. Current value: min_data_in_leaf=1\n",
      "[LightGBM] [Warning] min_data_in_leaf is set with min_samples_leaf=1, min_child_samples=20 will be ignored. Current value: min_data_in_leaf=1\n",
      "[LightGBM] [Warning] min_data_in_leaf is set with min_samples_leaf=1, min_child_samples=20 will be ignored. Current value: min_data_in_leaf=1\n",
      "[LightGBM] [Warning] min_data_in_leaf is set with min_samples_leaf=1, min_child_samples=20 will be ignored. Current value: min_data_in_leaf=1\n",
      "[LightGBM] [Warning] min_data_in_leaf is set with min_samples_leaf=1, min_child_samples=20 will be ignored. Current value: min_data_in_leaf=1\n",
      "[LightGBM] [Warning] min_data_in_leaf is set with min_samples_leaf=1, min_child_samples=20 will be ignored. Current value: min_data_in_leaf=1\n",
      "[LightGBM] [Warning] min_data_in_leaf is set with min_samples_leaf=1, min_child_samples=20 will be ignored. Current value: min_data_in_leaf=1\n",
      "[LightGBM] [Warning] min_data_in_leaf is set with min_samples_leaf=1, min_child_samples=20 will be ignored. Current value: min_data_in_leaf=1\n",
      "[LightGBM] [Warning] min_data_in_leaf is set with min_samples_leaf=1, min_child_samples=20 will be ignored. Current value: min_data_in_leaf=1\n",
      "[LightGBM] [Warning] min_data_in_leaf is set with min_samples_leaf=1, min_child_samples=20 will be ignored. Current value: min_data_in_leaf=1\n",
      "[LightGBM] [Warning] min_data_in_leaf is set with min_samples_leaf=1, min_child_samples=20 will be ignored. Current value: min_data_in_leaf=1\n",
      "[LightGBM] [Warning] min_data_in_leaf is set with min_samples_leaf=1, min_child_samples=20 will be ignored. Current value: min_data_in_leaf=1\n",
      "[LightGBM] [Warning] min_data_in_leaf is set with min_samples_leaf=1, min_child_samples=20 will be ignored. Current value: min_data_in_leaf=1\n",
      "[LightGBM] [Warning] min_data_in_leaf is set with min_samples_leaf=1, min_child_samples=20 will be ignored. Current value: min_data_in_leaf=1\n",
      "[LightGBM] [Warning] min_data_in_leaf is set with min_samples_leaf=1, min_child_samples=20 will be ignored. Current value: min_data_in_leaf=1\n",
      "[LightGBM] [Warning] min_data_in_leaf is set with min_samples_leaf=1, min_child_samples=20 will be ignored. Current value: min_data_in_leaf=1\n",
      "[LightGBM] [Warning] min_data_in_leaf is set with min_samples_leaf=1, min_child_samples=20 will be ignored. Current value: min_data_in_leaf=1\n",
      "[LightGBM] [Warning] min_data_in_leaf is set with min_samples_leaf=1, min_child_samples=20 will be ignored. Current value: min_data_in_leaf=1\n",
      "[LightGBM] [Warning] min_data_in_leaf is set with min_samples_leaf=1, min_child_samples=20 will be ignored. Current value: min_data_in_leaf=1\n",
      "[LightGBM] [Warning] min_data_in_leaf is set with min_samples_leaf=1, min_child_samples=20 will be ignored. Current value: min_data_in_leaf=1\n",
      "[LightGBM] [Warning] min_data_in_leaf is set with min_samples_leaf=1, min_child_samples=20 will be ignored. Current value: min_data_in_leaf=1\n",
      "[LightGBM] [Warning] min_data_in_leaf is set with min_samples_leaf=1, min_child_samples=20 will be ignored. Current value: min_data_in_leaf=1\n",
      "[LightGBM] [Warning] min_data_in_leaf is set with min_samples_leaf=1, min_child_samples=20 will be ignored. Current value: min_data_in_leaf=1\n",
      "[LightGBM] [Warning] min_data_in_leaf is set with min_samples_leaf=1, min_child_samples=20 will be ignored. Current value: min_data_in_leaf=1\n",
      "[LightGBM] [Warning] min_data_in_leaf is set with min_samples_leaf=1, min_child_samples=20 will be ignored. Current value: min_data_in_leaf=1\n",
      "[LightGBM] [Warning] min_data_in_leaf is set with min_samples_leaf=1, min_child_samples=20 will be ignored. Current value: min_data_in_leaf=1\n",
      "[LightGBM] [Warning] min_data_in_leaf is set with min_samples_leaf=1, min_child_samples=20 will be ignored. Current value: min_data_in_leaf=1\n",
      "[LightGBM] [Warning] min_data_in_leaf is set with min_samples_leaf=1, min_child_samples=20 will be ignored. Current value: min_data_in_leaf=1\n",
      "[LightGBM] [Warning] min_data_in_leaf is set with min_samples_leaf=1, min_child_samples=20 will be ignored. Current value: min_data_in_leaf=1\n",
      "[LightGBM] [Warning] min_data_in_leaf is set with min_samples_leaf=1, min_child_samples=20 will be ignored. Current value: min_data_in_leaf=1\n",
      "[LightGBM] [Warning] min_data_in_leaf is set with min_samples_leaf=1, min_child_samples=20 will be ignored. Current value: min_data_in_leaf=1\n",
      "[LightGBM] [Warning] min_data_in_leaf is set with min_samples_leaf=1, min_child_samples=20 will be ignored. Current value: min_data_in_leaf=1\n",
      "[LightGBM] [Warning] min_data_in_leaf is set with min_samples_leaf=1, min_child_samples=20 will be ignored. Current value: min_data_in_leaf=1\n",
      "[LightGBM] [Warning] min_data_in_leaf is set with min_samples_leaf=1, min_child_samples=20 will be ignored. Current value: min_data_in_leaf=1\n",
      "[LightGBM] [Warning] min_data_in_leaf is set with min_samples_leaf=1, min_child_samples=20 will be ignored. Current value: min_data_in_leaf=1\n",
      "[LightGBM] [Warning] min_data_in_leaf is set with min_samples_leaf=1, min_child_samples=20 will be ignored. Current value: min_data_in_leaf=1\n",
      "[LightGBM] [Warning] min_data_in_leaf is set with min_samples_leaf=1, min_child_samples=20 will be ignored. Current value: min_data_in_leaf=1\n",
      "[LightGBM] [Warning] min_data_in_leaf is set with min_samples_leaf=1, min_child_samples=20 will be ignored. Current value: min_data_in_leaf=1\n",
      "[LightGBM] [Warning] min_data_in_leaf is set with min_samples_leaf=1, min_child_samples=20 will be ignored. Current value: min_data_in_leaf=1\n",
      "[LightGBM] [Warning] min_data_in_leaf is set with min_samples_leaf=1, min_child_samples=20 will be ignored. Current value: min_data_in_leaf=1\n",
      "[LightGBM] [Warning] min_data_in_leaf is set with min_samples_leaf=1, min_child_samples=20 will be ignored. Current value: min_data_in_leaf=1\n",
      "[LightGBM] [Warning] min_data_in_leaf is set with min_samples_leaf=1, min_child_samples=20 will be ignored. Current value: min_data_in_leaf=1\n",
      "[LightGBM] [Warning] min_data_in_leaf is set with min_samples_leaf=1, min_child_samples=20 will be ignored. Current value: min_data_in_leaf=1\n",
      "[LightGBM] [Warning] min_data_in_leaf is set with min_samples_leaf=1, min_child_samples=20 will be ignored. Current value: min_data_in_leaf=1\n",
      "[LightGBM] [Warning] min_data_in_leaf is set with min_samples_leaf=1, min_child_samples=20 will be ignored. Current value: min_data_in_leaf=1\n",
      "[LightGBM] [Warning] min_data_in_leaf is set with min_samples_leaf=1, min_child_samples=20 will be ignored. Current value: min_data_in_leaf=1\n",
      "[LightGBM] [Warning] min_data_in_leaf is set with min_samples_leaf=1, min_child_samples=20 will be ignored. Current value: min_data_in_leaf=1[LightGBM] [Warning] min_data_in_leaf is set with min_samples_leaf=1, min_child_samples=20 will be ignored. Current value: min_data_in_leaf=1\n"
     ]
    }
   ],
   "source": [
    "p_test3a = {'learning_rate':[0.15,0.1,0.05,0.01,0.005,0.001], 'n_estimators':[50,100,250,500,750,1000,1250,1500,1750]}\n",
    "\n",
    "tuning = GridSearchCV(estimator =LGBMClassifier(max_depth=4, min_samples_leaf=1, \n",
    "                                                subsample=1, random_state=10), \n",
    "                                                param_grid = p_test3a, scoring='accuracy',n_jobs=4,\n",
    "                                                iid=False, cv=5)\n",
    "tuning.fit(X_train,y_train)\n",
    "tuning.best_params_, tuning.best_score_\n",
    "learning_rate_lgbm = tuning.best_params_.get(\"learning_rate\")\n",
    "n_estimators_lgbm = tuning.best_params_.get(\"n_estimators\")"
   ]
  },
  {
   "cell_type": "markdown",
   "id": "879f31b7",
   "metadata": {
    "papermill": {
     "duration": 0.305205,
     "end_time": "2022-02-26T18:26:10.751800",
     "exception": false,
     "start_time": "2022-02-26T18:26:10.446595",
     "status": "completed"
    },
    "tags": []
   },
   "source": [
    "max_depth"
   ]
  },
  {
   "cell_type": "code",
   "execution_count": 79,
   "id": "b74907de",
   "metadata": {
    "execution": {
     "iopub.execute_input": "2022-02-26T18:26:11.360387Z",
     "iopub.status.busy": "2022-02-26T18:26:11.356434Z",
     "iopub.status.idle": "2022-02-26T18:26:30.799988Z",
     "shell.execute_reply": "2022-02-26T18:26:30.799418Z",
     "shell.execute_reply.started": "2022-02-26T18:17:20.265936Z"
    },
    "papermill": {
     "duration": 19.745539,
     "end_time": "2022-02-26T18:26:30.800140",
     "exception": false,
     "start_time": "2022-02-26T18:26:11.054601",
     "status": "completed"
    },
    "tags": []
   },
   "outputs": [],
   "source": [
    "p_test2 = {'max_depth':[2,3,4,5,6,7] }\n",
    "tuning = GridSearchCV(estimator =GradientBoostingClassifier(learning_rate=learning_rate_gbm,n_estimators=n_estimators_gbm,\n",
    "                                                            min_samples_split=2, \n",
    "                                                            min_samples_leaf=1, subsample=1,max_features='sqrt',\n",
    "                                                            random_state=10), \n",
    "                                                            param_grid = p_test2, scoring='accuracy',n_jobs=4,\n",
    "                                                            iid=False, cv=5)\n",
    "tuning.fit(X_train,y_train)\n",
    "tuning.best_params_, tuning.best_score_\n",
    "max_depth_gbm = tuning.best_params_.get(\"max_depth\")"
   ]
  },
  {
   "cell_type": "code",
   "execution_count": 80,
   "id": "3e2e8850",
   "metadata": {
    "execution": {
     "iopub.execute_input": "2022-02-26T18:26:31.412060Z",
     "iopub.status.busy": "2022-02-26T18:26:31.411365Z",
     "iopub.status.idle": "2022-02-26T18:26:40.528752Z",
     "shell.execute_reply": "2022-02-26T18:26:40.529353Z",
     "shell.execute_reply.started": "2022-02-26T18:17:23.191715Z"
    },
    "papermill": {
     "duration": 9.424766,
     "end_time": "2022-02-26T18:26:40.529575",
     "exception": false,
     "start_time": "2022-02-26T18:26:31.104809",
     "status": "completed"
    },
    "tags": []
   },
   "outputs": [],
   "source": [
    "p_test2a = {'max_depth':[2,3,4,5,6,7] }\n",
    "tuning = GridSearchCV(estimator =LGBMClassifier(learning_rate=learning_rate_lgbm,n_estimators=n_estimators_lgbm, \n",
    "                                                min_samples_leaf=1, subsample=1, random_state=10), \n",
    "                                                param_grid = p_test2, scoring='accuracy',n_jobs=4,\n",
    "                                                iid=False, cv=5)\n",
    "tuning.fit(X_train,y_train)\n",
    "tuning.best_params_, tuning.best_score_\n",
    "max_depth_lgbm = tuning.best_params_.get(\"max_depth\")"
   ]
  },
  {
   "cell_type": "code",
   "execution_count": 81,
   "id": "b0c699e4",
   "metadata": {
    "execution": {
     "iopub.execute_input": "2022-02-26T18:26:41.141404Z",
     "iopub.status.busy": "2022-02-26T18:26:41.140433Z",
     "iopub.status.idle": "2022-02-26T18:26:42.147989Z",
     "shell.execute_reply": "2022-02-26T18:26:42.148829Z",
     "shell.execute_reply.started": "2022-02-26T18:17:23.667868Z"
    },
    "papermill": {
     "duration": 1.316152,
     "end_time": "2022-02-26T18:26:42.149084",
     "exception": false,
     "start_time": "2022-02-26T18:26:40.832932",
     "status": "completed"
    },
    "tags": []
   },
   "outputs": [
    {
     "name": "stdout",
     "output_type": "stream",
     "text": [
      "Accuracy of the GBM on test set: 0.786\n",
      "              precision    recall  f1-score   support\n",
      "\n",
      "           0       0.76      0.80      0.78       115\n",
      "           1       0.81      0.77      0.79       128\n",
      "\n",
      "    accuracy                           0.79       243\n",
      "   macro avg       0.79      0.79      0.79       243\n",
      "weighted avg       0.79      0.79      0.79       243\n",
      "\n"
     ]
    }
   ],
   "source": [
    "#First Evaluation of New Model on Test Set\n",
    "model1 = GradientBoostingClassifier(learning_rate=learning_rate_gbm, n_estimators=n_estimators_gbm,max_depth=max_depth_gbm, \n",
    "                                    min_samples_split=2, \n",
    "                                    min_samples_leaf=1, subsample=1,max_features='sqrt', random_state=10)\n",
    "model1.fit(X_train,y_train)\n",
    "predictors=list(X_train)\n",
    "# feat_imp = pd.Series(model1.feature_importances_, predictors).sort_values(ascending=False)\n",
    "# feat_imp.plot(kind='bar', title='Importance of Features')\n",
    "# plt.ylabel('Feature Importance Score')\n",
    "print('Accuracy of the GBM on test set: {:.3f}'.format(model1.score(X_test, y_test)))\n",
    "pred=model1.predict(X_test)\n",
    "print(classification_report(y_test, pred))"
   ]
  },
  {
   "cell_type": "code",
   "execution_count": 82,
   "id": "5f5a2736",
   "metadata": {
    "execution": {
     "iopub.execute_input": "2022-02-26T18:26:42.786964Z",
     "iopub.status.busy": "2022-02-26T18:26:42.785960Z",
     "iopub.status.idle": "2022-02-26T18:26:43.342618Z",
     "shell.execute_reply": "2022-02-26T18:26:43.343168Z",
     "shell.execute_reply.started": "2022-02-26T18:17:23.837029Z"
    },
    "papermill": {
     "duration": 0.888912,
     "end_time": "2022-02-26T18:26:43.343359",
     "exception": false,
     "start_time": "2022-02-26T18:26:42.454447",
     "status": "completed"
    },
    "tags": []
   },
   "outputs": [
    {
     "name": "stdout",
     "output_type": "stream",
     "text": [
      "Accuracy of the LGBM on test set: 0.790\n",
      "              precision    recall  f1-score   support\n",
      "\n",
      "           0       0.77      0.79      0.78       115\n",
      "           1       0.81      0.79      0.80       128\n",
      "\n",
      "    accuracy                           0.79       243\n",
      "   macro avg       0.79      0.79      0.79       243\n",
      "weighted avg       0.79      0.79      0.79       243\n",
      "\n"
     ]
    }
   ],
   "source": [
    "model1_lgbm = LGBMClassifier(learning_rate=learning_rate_lgbm, n_estimators=n_estimators_lgbm,max_depth=max_depth_lgbm,  \n",
    "                             min_samples_leaf=1, subsample=1, random_state=10)\n",
    "model1_lgbm.fit(X_train,y_train)\n",
    "predictors=list(X_train)\n",
    "# feat_imp = pd.Series(model1_lgbm.feature_importances_, predictors).sort_values(ascending=False)\n",
    "# feat_imp.plot(kind='bar', title='Importance of Features')\n",
    "# plt.ylabel('Feature Importance Score')\n",
    "print('Accuracy of the LGBM on test set: {:.3f}'.format(model1_lgbm.score(X_test, y_test)))\n",
    "pred=model1_lgbm.predict(X_test)\n",
    "print(classification_report(y_test, pred))"
   ]
  },
  {
   "cell_type": "code",
   "execution_count": 83,
   "id": "c7e5f187",
   "metadata": {
    "execution": {
     "iopub.execute_input": "2022-02-26T18:26:43.961448Z",
     "iopub.status.busy": "2022-02-26T18:26:43.959419Z",
     "iopub.status.idle": "2022-02-26T18:28:08.476680Z",
     "shell.execute_reply": "2022-02-26T18:28:08.477277Z",
     "shell.execute_reply.started": "2022-02-26T18:17:23.893918Z"
    },
    "papermill": {
     "duration": 84.831507,
     "end_time": "2022-02-26T18:28:08.477508",
     "exception": false,
     "start_time": "2022-02-26T18:26:43.646001",
     "status": "completed"
    },
    "tags": []
   },
   "outputs": [
    {
     "name": "stdout",
     "output_type": "stream",
     "text": [
      "[LightGBM] [Warning] min_data_in_leaf is set with min_samples_leaf=1, min_child_samples=20 will be ignored. Current value: min_data_in_leaf=1\n"
     ]
    }
   ],
   "source": [
    "#Min Sample Split and Min Samples Leaf\n",
    "p_test4 = {'min_samples_split':[2,4,6,8,10,20,40,60,100], 'min_samples_leaf':[1,3,5,7,9]}\n",
    "\n",
    "tuning = GridSearchCV(estimator =GradientBoostingClassifier(learning_rate=learning_rate_gbm, n_estimators=n_estimators_gbm,\n",
    "                                                            max_depth=max_depth_gbm, \n",
    "                                                            subsample=1,max_features='sqrt', random_state=10), \n",
    "                                                            param_grid = p_test4, scoring='accuracy',n_jobs=4,\n",
    "                                                            iid=False, cv=5)\n",
    "tuning.fit(X_train,y_train)\n",
    "tuning.best_params_, tuning.best_score_\n",
    "min_samples_leaf_gbm = tuning.best_params_.get(\"min_samples_leaf\")\n",
    "\n",
    "p_test4a = {'min_samples_leaf':[1,3,5,7,9]}\n",
    "\n",
    "tuning = GridSearchCV(estimator =LGBMClassifier(learning_rate=learning_rate_lgbm, n_estimators=n_estimators_lgbm,\n",
    "                                                max_depth=max_depth_lgbm, \n",
    "                                                subsample=1, random_state=10), \n",
    "                                                param_grid = p_test4a, scoring='accuracy',n_jobs=4,\n",
    "                                                iid=False, cv=5)\n",
    "tuning.fit(X_train,y_train)\n",
    "tuning.best_params_, tuning.best_score_\n",
    "min_samples_leaf_lgbm = tuning.best_params_.get(\"min_samples_leaf\")\n",
    "\n"
   ]
  },
  {
   "cell_type": "code",
   "execution_count": 84,
   "id": "03ad9028",
   "metadata": {
    "execution": {
     "iopub.execute_input": "2022-02-26T18:28:09.100998Z",
     "iopub.status.busy": "2022-02-26T18:28:09.099926Z",
     "iopub.status.idle": "2022-02-26T18:28:46.053521Z",
     "shell.execute_reply": "2022-02-26T18:28:46.054098Z",
     "shell.execute_reply.started": "2022-02-26T18:17:36.478000Z"
    },
    "papermill": {
     "duration": 37.271944,
     "end_time": "2022-02-26T18:28:46.054324",
     "exception": false,
     "start_time": "2022-02-26T18:28:08.782380",
     "status": "completed"
    },
    "tags": []
   },
   "outputs": [],
   "source": [
    "#Max Features\n",
    "p_test5 = {'max_features':[2,3,4,5,6,7]}\n",
    "tuning = GridSearchCV(estimator =GradientBoostingClassifier(learning_rate=learning_rate_gbm, n_estimators=n_estimators_gbm,\n",
    "                                                            max_depth=max_depth_gbm, \n",
    "                                                            min_samples_split=20, min_samples_leaf=min_samples_leaf_gbm, \n",
    "                                                            subsample=1, \n",
    "                                                            random_state=10), param_grid = p_test5, scoring='accuracy',\n",
    "                                                            n_jobs=4,iid=False, cv=5)\n",
    "tuning.fit(X_train,y_train)\n",
    "tuning.best_params_, tuning.best_score_\n",
    "max_features_gbm = tuning.best_params_.get(\"max_features\")\n",
    "\n",
    "#Subsample\n",
    "p_test6= {'subsample':[0.7,0.75,0.8,0.85,0.9,0.95,1]}\n",
    "\n",
    "tuning = GridSearchCV(estimator =GradientBoostingClassifier(learning_rate=learning_rate_gbm, n_estimators=n_estimators_gbm,\n",
    "                                                            max_depth=max_depth_gbm, \n",
    "                                                            min_samples_split=20, min_samples_leaf=min_samples_leaf_gbm,\n",
    "                                                            max_features=max_features_gbm , \n",
    "                                                            random_state=10), param_grid = p_test6, scoring='accuracy',\n",
    "                                                            n_jobs=4,iid=False, cv=5)\n",
    "tuning.fit(X_train,y_train)\n",
    "tuning.best_params_, tuning.best_score_\n",
    "subsample_gbm = tuning.best_params_.get(\"subsample\")\n",
    "\n",
    "p_test6a= {'subsample':[0.7,0.75,0.8,0.85,0.9,0.95,1]}\n",
    "\n",
    "tuning = GridSearchCV(estimator =LGBMClassifier(learning_rate=learning_rate_lgbm, n_estimators=n_estimators_lgbm,\n",
    "                                                max_depth=max_depth_lgbm, \n",
    "                                                min_samples_leaf=min_samples_leaf_lgbm,\n",
    "                                                random_state=10), param_grid = p_test6, scoring='accuracy',\n",
    "                                                n_jobs=4,iid=False, cv=5)\n",
    "tuning.fit(X_train,y_train)\n",
    "tuning.best_params_, tuning.best_score_\n",
    "subsample_lgbm = tuning.best_params_.get(\"subsample\")\n",
    "\n"
   ]
  },
  {
   "cell_type": "code",
   "execution_count": 85,
   "id": "0ac876c3",
   "metadata": {
    "execution": {
     "iopub.execute_input": "2022-02-26T18:28:46.669496Z",
     "iopub.status.busy": "2022-02-26T18:28:46.668823Z",
     "iopub.status.idle": "2022-02-26T18:31:34.290354Z",
     "shell.execute_reply": "2022-02-26T18:31:34.291029Z",
     "shell.execute_reply.started": "2022-02-26T18:17:41.158471Z"
    },
    "papermill": {
     "duration": 167.930785,
     "end_time": "2022-02-26T18:31:34.291279",
     "exception": false,
     "start_time": "2022-02-26T18:28:46.360494",
     "status": "completed"
    },
    "tags": []
   },
   "outputs": [
    {
     "name": "stdout",
     "output_type": "stream",
     "text": [
      "\n",
      "[LightGBM] [Warning] min_data_in_leaf is set with min_samples_leaf=1, min_child_samples=20 will be ignored. Current value: min_data_in_leaf=1\n",
      "[LightGBM] [Warning] min_data_in_leaf is set with min_samples_leaf=1, min_child_samples=20 will be ignored. Current value: min_data_in_leaf=1\n",
      "[LightGBM] [Warning] min_data_in_leaf is set with min_samples_leaf=1, min_child_samples=20 will be ignored. Current value: min_data_in_leaf=1\n",
      "[LightGBM] [Warning] min_data_in_leaf is set with min_samples_leaf=1, min_child_samples=20 will be ignored. Current value: min_data_in_leaf=1\n",
      "[LightGBM] [Warning] min_data_in_leaf is set with min_samples_leaf=1, min_child_samples=20 will be ignored. Current value: min_data_in_leaf=1\n",
      "[LightGBM] [Warning] min_data_in_leaf is set with min_samples_leaf=1, min_child_samples=20 will be ignored. Current value: min_data_in_leaf=1\n",
      "[LightGBM] [Warning] min_data_in_leaf is set with min_samples_leaf=1, min_child_samples=20 will be ignored. Current value: min_data_in_leaf=1\n",
      "[LightGBM] [Warning] min_data_in_leaf is set with min_samples_leaf=1, min_child_samples=20 will be ignored. Current value: min_data_in_leaf=1\n",
      "[LightGBM] [Warning] min_data_in_leaf is set with min_samples_leaf=1, min_child_samples=20 will be ignored. Current value: min_data_in_leaf=1\n",
      "[LightGBM] [Warning] min_data_in_leaf is set with min_samples_leaf=1, min_child_samples=20 will be ignored. Current value: min_data_in_leaf=1\n",
      "[LightGBM] [Warning] min_data_in_leaf is set with min_samples_leaf=1, min_child_samples=20 will be ignored. Current value: min_data_in_leaf=1\n",
      "[LightGBM] [Warning] min_data_in_leaf is set with min_samples_leaf=1, min_child_samples=20 will be ignored. Current value: min_data_in_leaf=1\n",
      "[LightGBM] [Warning] min_data_in_leaf is set with min_samples_leaf=1, min_child_samples=20 will be ignored. Current value: min_data_in_leaf=1\n",
      "[LightGBM] [Warning] min_data_in_leaf is set with min_samples_leaf=1, min_child_samples=20 will be ignored. Current value: min_data_in_leaf=1\n",
      "[LightGBM] [Warning] min_data_in_leaf is set with min_samples_leaf=1, min_child_samples=20 will be ignored. Current value: min_data_in_leaf=1\n",
      "[LightGBM] [Warning] min_data_in_leaf is set with min_samples_leaf=1, min_child_samples=20 will be ignored. Current value: min_data_in_leaf=1\n",
      "[LightGBM] [Warning] min_data_in_leaf is set with min_samples_leaf=1, min_child_samples=20 will be ignored. Current value: min_data_in_leaf=1\n",
      "[LightGBM] [Warning] min_data_in_leaf is set with min_samples_leaf=1, min_child_samples=20 will be ignored. Current value: min_data_in_leaf=1\n",
      "[LightGBM] [Warning] min_data_in_leaf is set with min_samples_leaf=1, min_child_samples=20 will be ignored. Current value: min_data_in_leaf=1\n",
      "[LightGBM] [Warning] min_data_in_leaf is set with min_samples_leaf=1, min_child_samples=20 will be ignored. Current value: min_data_in_leaf=1\n",
      "[LightGBM] [Warning] min_data_in_leaf is set with min_samples_leaf=1, min_child_samples=20 will be ignored. Current value: min_data_in_leaf=1\n",
      "[LightGBM] [Warning] min_data_in_leaf is set with min_samples_leaf=1, min_child_samples=20 will be ignored. Current value: min_data_in_leaf=1\n",
      "[LightGBM] [Warning] min_data_in_leaf is set with min_samples_leaf=1, min_child_samples=20 will be ignored. Current value: min_data_in_leaf=1\n",
      "[LightGBM] [Warning] min_data_in_leaf is set with min_samples_leaf=1, min_child_samples=20 will be ignored. Current value: min_data_in_leaf=1\n",
      "[LightGBM] [Warning] min_data_in_leaf is set with min_samples_leaf=1, min_child_samples=20 will be ignored. Current value: min_data_in_leaf=1\n",
      "[LightGBM] [Warning] min_data_in_leaf is set with min_samples_leaf=1, min_child_samples=20 will be ignored. Current value: min_data_in_leaf=1\n",
      "[LightGBM] [Warning] min_data_in_leaf is set with min_samples_leaf=1, min_child_samples=20 will be ignored. Current value: min_data_in_leaf=1\n",
      "[LightGBM] [Warning] min_data_in_leaf is set with min_samples_leaf=1, min_child_samples=20 will be ignored. Current value: min_data_in_leaf=1\n",
      "[LightGBM] [Warning] min_data_in_leaf is set with min_samples_leaf=1, min_child_samples=20 will be ignored. Current value: min_data_in_leaf=1\n",
      "[LightGBM] [Warning] min_data_in_leaf is set with min_samples_leaf=1, min_child_samples=20 will be ignored. Current value: min_data_in_leaf=1\n",
      "[LightGBM] [Warning] min_data_in_leaf is set with min_samples_leaf=3, min_child_samples=20 will be ignored. Current value: min_data_in_leaf=3\n",
      "[LightGBM] [Warning] min_data_in_leaf is set with min_samples_leaf=7, min_child_samples=20 will be ignored. Current value: min_data_in_leaf=7\n",
      "[LightGBM] [Warning] min_data_in_leaf is set with min_samples_leaf=7, min_child_samples=20 will be ignored. Current value: min_data_in_leaf=7\n",
      "[LightGBM] [Warning] min_data_in_leaf is set with min_samples_leaf=9, min_child_samples=20 will be ignored. Current value: min_data_in_leaf=9\n",
      "[LightGBM] [Warning] min_data_in_leaf is set with min_samples_leaf=1, min_child_samples=20 will be ignored. Current value: min_data_in_leaf=1\n",
      "[LightGBM] [Warning] min_data_in_leaf is set with min_samples_leaf=1, min_child_samples=20 will be ignored. Current value: min_data_in_leaf=1\n",
      "[LightGBM] [Warning] min_data_in_leaf is set with min_samples_leaf=1, min_child_samples=20 will be ignored. Current value: min_data_in_leaf=1\n",
      "[LightGBM] [Warning] min_data_in_leaf is set with min_samples_leaf=1, min_child_samples=20 will be ignored. Current value: min_data_in_leaf=1\n",
      "[LightGBM] [Warning] min_data_in_leaf is set with min_samples_leaf=1, min_child_samples=20 will be ignored. Current value: min_data_in_leaf=1\n",
      "[LightGBM] [Warning] min_data_in_leaf is set with min_samples_leaf=1, min_child_samples=20 will be ignored. Current value: min_data_in_leaf=1\n",
      "[LightGBM] [Warning] min_data_in_leaf is set with min_samples_leaf=1, min_child_samples=20 will be ignored. Current value: min_data_in_leaf=1\n",
      "[LightGBM] [Warning] min_data_in_leaf is set with min_samples_leaf=1, min_child_samples=20 will be ignored. Current value: min_data_in_leaf=1\n",
      "[LightGBM] [Warning] min_data_in_leaf is set with min_samples_leaf=1, min_child_samples=20 will be ignored. Current value: min_data_in_leaf=1\n",
      "[LightGBM] [Warning] min_data_in_leaf is set with min_samples_leaf=1, min_child_samples=20 will be ignored. Current value: min_data_in_leaf=1\n",
      "[LightGBM] [Warning] min_data_in_leaf is set with min_samples_leaf=1, min_child_samples=20 will be ignored. Current value: min_data_in_leaf=1\n",
      "[LightGBM] [Warning] min_data_in_leaf is set with min_samples_leaf=1, min_child_samples=20 will be ignored. Current value: min_data_in_leaf=1\n",
      "[LightGBM] [Warning] min_data_in_leaf is set with min_samples_leaf=1, min_child_samples=20 will be ignored. Current value: min_data_in_leaf=1\n",
      "[LightGBM] [Warning] min_data_in_leaf is set with min_samples_leaf=1, min_child_samples=20 will be ignored. Current value: min_data_in_leaf=1\n",
      "[LightGBM] [Warning] min_data_in_leaf is set with min_samples_leaf=1, min_child_samples=20 will be ignored. Current value: min_data_in_leaf=1\n",
      "[LightGBM] [Warning] min_data_in_leaf is set with min_samples_leaf=1, min_child_samples=20 will be ignored. Current value: min_data_in_leaf=1\n",
      "[LightGBM] [Warning] min_data_in_leaf is set with min_samples_leaf=1, min_child_samples=20 will be ignored. Current value: min_data_in_leaf=1\n",
      "[LightGBM] [Warning] min_data_in_leaf is set with min_samples_leaf=1, min_child_samples=20 will be ignored. Current value: min_data_in_leaf=1\n",
      "[LightGBM] [Warning] min_data_in_leaf is set with min_samples_leaf=1, min_child_samples=20 will be ignored. Current value: min_data_in_leaf=1\n",
      "[LightGBM] [Warning] min_data_in_leaf is set with min_samples_leaf=1, min_child_samples=20 will be ignored. Current value: min_data_in_leaf=1\n",
      "[LightGBM] [Warning] min_data_in_leaf is set with min_samples_leaf=1, min_child_samples=20 will be ignored. Current value: min_data_in_leaf=1\n",
      "[LightGBM] [Warning] min_data_in_leaf is set with min_samples_leaf=1, min_child_samples=20 will be ignored. Current value: min_data_in_leaf=1\n",
      "[LightGBM] [Warning] min_data_in_leaf is set with min_samples_leaf=1, min_child_samples=20 will be ignored. Current value: min_data_in_leaf=1\n",
      "[LightGBM] [Warning] min_data_in_leaf is set with min_samples_leaf=1, min_child_samples=20 will be ignored. Current value: min_data_in_leaf=1\n",
      "[LightGBM] [Warning] min_data_in_leaf is set with min_samples_leaf=1, min_child_samples=20 will be ignored. Current value: min_data_in_leaf=1\n",
      "[LightGBM] [Warning] min_data_in_leaf is set with min_samples_leaf=1, min_child_samples=20 will be ignored. Current value: min_data_in_leaf=1\n",
      "[LightGBM] [Warning] min_data_in_leaf is set with min_samples_leaf=1, min_child_samples=20 will be ignored. Current value: min_data_in_leaf=1\n",
      "[LightGBM] [Warning] min_data_in_leaf is set with min_samples_leaf=1, min_child_samples=20 will be ignored. Current value: min_data_in_leaf=1\n",
      "[LightGBM] [Warning] min_data_in_leaf is set with min_samples_leaf=1, min_child_samples=20 will be ignored. Current value: min_data_in_leaf=1\n",
      "[LightGBM] [Warning] min_data_in_leaf is set with min_samples_leaf=1, min_child_samples=20 will be ignored. Current value: min_data_in_leaf=1\n",
      "[LightGBM] [Warning] min_data_in_leaf is set with min_samples_leaf=1, min_child_samples=20 will be ignored. Current value: min_data_in_leaf=1\n",
      "[LightGBM] [Warning] min_data_in_leaf is set with min_samples_leaf=1, min_child_samples=20 will be ignored. Current value: min_data_in_leaf=1\n",
      "[LightGBM] [Warning] min_data_in_leaf is set with min_samples_leaf=1, min_child_samples=20 will be ignored. Current value: min_data_in_leaf=1\n",
      "[LightGBM] [Warning] min_data_in_leaf is set with min_samples_leaf=1, min_child_samples=20 will be ignored. Current value: min_data_in_leaf=1\n",
      "[LightGBM] [Warning] min_data_in_leaf is set with min_samples_leaf=1, min_child_samples=20 will be ignored. Current value: min_data_in_leaf=1\n",
      "[LightGBM] [Warning] min_data_in_leaf is set with min_samples_leaf=1, min_child_samples=20 will be ignored. Current value: min_data_in_leaf=1\n",
      "[LightGBM] [Warning] min_data_in_leaf is set with min_samples_leaf=1, min_child_samples=20 will be ignored. Current value: min_data_in_leaf=1\n",
      "[LightGBM] [Warning] min_data_in_leaf is set with min_samples_leaf=1, min_child_samples=20 will be ignored. Current value: min_data_in_leaf=1\n",
      "[LightGBM] [Warning] min_data_in_leaf is set with min_samples_leaf=1, min_child_samples=20 will be ignored. Current value: min_data_in_leaf=1\n",
      "[LightGBM] [Warning] min_data_in_leaf is set with min_samples_leaf=1, min_child_samples=20 will be ignored. Current value: min_data_in_leaf=1\n",
      "[LightGBM] [Warning] min_data_in_leaf is set with min_samples_leaf=1, min_child_samples=20 will be ignored. Current value: min_data_in_leaf=1\n",
      "[LightGBM] [Warning] min_data_in_leaf is set with min_samples_leaf=1, min_child_samples=20 will be ignored. Current value: min_data_in_leaf=1\n",
      "[LightGBM] [Warning] min_data_in_leaf is set with min_samples_leaf=1, min_child_samples=20 will be ignored. Current value: min_data_in_leaf=1\n",
      "[LightGBM] [Warning] min_data_in_leaf is set with min_samples_leaf=1, min_child_samples=20 will be ignored. Current value: min_data_in_leaf=1\n",
      "[LightGBM] [Warning] min_data_in_leaf is set with min_samples_leaf=3, min_child_samples=20 will be ignored. Current value: min_data_in_leaf=3\n",
      "[LightGBM] [Warning] min_data_in_leaf is set with min_samples_leaf=5, min_child_samples=20 will be ignored. Current value: min_data_in_leaf=5\n",
      "[LightGBM] [Warning] min_data_in_leaf is set with min_samples_leaf=5, min_child_samples=20 will be ignored. Current value: min_data_in_leaf=5\n",
      "[LightGBM] [Warning] min_data_in_leaf is set with min_samples_leaf=7, min_child_samples=20 will be ignored. Current value: min_data_in_leaf=7\n",
      "[LightGBM] [Warning] min_data_in_leaf is set with min_samples_leaf=9, min_child_samples=20 will be ignored. Current value: min_data_in_leaf=9\n",
      "[LightGBM] [Warning] min_data_in_leaf is set with min_samples_leaf=1, min_child_samples=20 will be ignored. Current value: min_data_in_leaf=1\n",
      "[LightGBM] [Warning] min_data_in_leaf is set with min_samples_leaf=1, min_child_samples=20 will be ignored. Current value: min_data_in_leaf=1\n",
      "[LightGBM] [Warning] min_data_in_leaf is set with min_samples_leaf=1, min_child_samples=20 will be ignored. Current value: min_data_in_leaf=1\n",
      "[LightGBM] [Warning] min_data_in_leaf is set with min_samples_leaf=1, min_child_samples=20 will be ignored. Current value: min_data_in_leaf=1\n",
      "[LightGBM] [Warning] min_data_in_leaf is set with min_samples_leaf=1, min_child_samples=20 will be ignored. Current value: min_data_in_leaf=1\n",
      "[LightGBM] [Warning] min_data_in_leaf is set with min_samples_leaf=1, min_child_samples=20 will be ignored. Current value: min_data_in_leaf=1\n",
      "[LightGBM] [Warning] min_data_in_leaf is set with min_samples_leaf=1, min_child_samples=20 will be ignored. Current value: min_data_in_leaf=1\n",
      "[LightGBM] [Warning] min_data_in_leaf is set with min_samples_leaf=1, min_child_samples=20 will be ignored. Current value: min_data_in_leaf=1\n",
      "[LightGBM] [Warning] min_data_in_leaf is set with min_samples_leaf=1, min_child_samples=20 will be ignored. Current value: min_data_in_leaf=1\n",
      "[LightGBM] [Warning] min_data_in_leaf is set with min_samples_leaf=1, min_child_samples=20 will be ignored. Current value: min_data_in_leaf=1\n",
      "[LightGBM] [Warning] min_data_in_leaf is set with min_samples_leaf=1, min_child_samples=20 will be ignored. Current value: min_data_in_leaf=1\n",
      "[LightGBM] [Warning] min_data_in_leaf is set with min_samples_leaf=1, min_child_samples=20 will be ignored. Current value: min_data_in_leaf=1\n",
      "[LightGBM] [Warning] min_data_in_leaf is set with min_samples_leaf=1, min_child_samples=20 will be ignored. Current value: min_data_in_leaf=1\n",
      "[LightGBM] [Warning] min_data_in_leaf is set with min_samples_leaf=1, min_child_samples=20 will be ignored. Current value: min_data_in_leaf=1\n",
      "[LightGBM] [Warning] min_data_in_leaf is set with min_samples_leaf=1, min_child_samples=20 will be ignored. Current value: min_data_in_leaf=1\n",
      "[LightGBM] [Warning] min_data_in_leaf is set with min_samples_leaf=1, min_child_samples=20 will be ignored. Current value: min_data_in_leaf=1\n",
      "[LightGBM] [Warning] min_data_in_leaf is set with min_samples_leaf=1, min_child_samples=20 will be ignored. Current value: min_data_in_leaf=1\n",
      "[LightGBM] [Warning] min_data_in_leaf is set with min_samples_leaf=1, min_child_samples=20 will be ignored. Current value: min_data_in_leaf=1\n",
      "[LightGBM] [Warning] min_data_in_leaf is set with min_samples_leaf=1, min_child_samples=20 will be ignored. Current value: min_data_in_leaf=1\n",
      "[LightGBM] [Warning] min_data_in_leaf is set with min_samples_leaf=1, min_child_samples=20 will be ignored. Current value: min_data_in_leaf=1\n",
      "[LightGBM] [Warning] min_data_in_leaf is set with min_samples_leaf=1, min_child_samples=20 will be ignored. Current value: min_data_in_leaf=1\n",
      "[LightGBM] [Warning] min_data_in_leaf is set with min_samples_leaf=1, min_child_samples=20 will be ignored. Current value: min_data_in_leaf=1\n",
      "[LightGBM] [Warning] min_data_in_leaf is set with min_samples_leaf=1, min_child_samples=20 will be ignored. Current value: min_data_in_leaf=1\n",
      "[LightGBM] [Warning] min_data_in_leaf is set with min_samples_leaf=1, min_child_samples=20 will be ignored. Current value: min_data_in_leaf=1\n",
      "[LightGBM] [Warning] min_data_in_leaf is set with min_samples_leaf=1, min_child_samples=20 will be ignored. Current value: min_data_in_leaf=1\n",
      "[LightGBM] [Warning] min_data_in_leaf is set with min_samples_leaf=1, min_child_samples=20 will be ignored. Current value: min_data_in_leaf=1\n",
      "[LightGBM] [Warning] min_data_in_leaf is set with min_samples_leaf=1, min_child_samples=20 will be ignored. Current value: min_data_in_leaf=1\n",
      "[LightGBM] [Warning] min_data_in_leaf is set with min_samples_leaf=1, min_child_samples=20 will be ignored. Current value: min_data_in_leaf=1\n",
      "[LightGBM] [Warning] min_data_in_leaf is set with min_samples_leaf=1, min_child_samples=20 will be ignored. Current value: min_data_in_leaf=1\n",
      "[LightGBM] [Warning] min_data_in_leaf is set with min_samples_leaf=1, min_child_samples=20 will be ignored. Current value: min_data_in_leaf=1\n",
      "[LightGBM] [Warning] min_data_in_leaf is set with min_samples_leaf=1, min_child_samples=20 will be ignored. Current value: min_data_in_leaf=1\n",
      "[LightGBM] [Warning] min_data_in_leaf is set with min_samples_leaf=1, min_child_samples=20 will be ignored. Current value: min_data_in_leaf=1\n",
      "[LightGBM] [Warning] min_data_in_leaf is set with min_samples_leaf=1, min_child_samples=20 will be ignored. Current value: min_data_in_leaf=1\n",
      "[LightGBM] [Warning] min_data_in_leaf is set with min_samples_leaf=1, min_child_samples=20 will be ignored. Current value: min_data_in_leaf=1\n",
      "[LightGBM] [Warning] min_data_in_leaf is set with min_samples_leaf=1, min_child_samples=20 will be ignored. Current value: min_data_in_leaf=1\n",
      "[LightGBM] [Warning] min_data_in_leaf is set with min_samples_leaf=1, min_child_samples=20 will be ignored. Current value: min_data_in_leaf=1\n",
      "[LightGBM] [Warning] min_data_in_leaf is set with min_samples_leaf=1, min_child_samples=20 will be ignored. Current value: min_data_in_leaf=1\n",
      "[LightGBM] [Warning] min_data_in_leaf is set with min_samples_leaf=1, min_child_samples=20 will be ignored. Current value: min_data_in_leaf=1\n",
      "[LightGBM] [Warning] min_data_in_leaf is set with min_samples_leaf=1, min_child_samples=20 will be ignored. Current value: min_data_in_leaf=1\n",
      "[LightGBM] [Warning] min_data_in_leaf is set with min_samples_leaf=1, min_child_samples=20 will be ignored. Current value: min_data_in_leaf=1\n",
      "[LightGBM] [Warning] min_data_in_leaf is set with min_samples_leaf=1, min_child_samples=20 will be ignored. Current value: min_data_in_leaf=1\n",
      "[LightGBM] [Warning] min_data_in_leaf is set with min_samples_leaf=1, min_child_samples=20 will be ignored. Current value: min_data_in_leaf=1\n",
      "[LightGBM] [Warning] min_data_in_leaf is set with min_samples_leaf=1, min_child_samples=20 will be ignored. Current value: min_data_in_leaf=1\n",
      "[LightGBM] [Warning] min_data_in_leaf is set with min_samples_leaf=1, min_child_samples=20 will be ignored. Current value: min_data_in_leaf=1\n",
      "[LightGBM] [Warning] min_data_in_leaf is set with min_samples_leaf=1, min_child_samples=20 will be ignored. Current value: min_data_in_leaf=1\n",
      "[LightGBM] [Warning] min_data_in_leaf is set with min_samples_leaf=1, min_child_samples=20 will be ignored. Current value: min_data_in_leaf=1\n",
      "[LightGBM] [Warning] min_data_in_leaf is set with min_samples_leaf=1, min_child_samples=20 will be ignored. Current value: min_data_in_leaf=1\n",
      "[LightGBM] [Warning] min_data_in_leaf is set with min_samples_leaf=3, min_child_samples=20 will be ignored. Current value: min_data_in_leaf=3\n",
      "[LightGBM] [Warning] min_data_in_leaf is set with min_samples_leaf=3, min_child_samples=20 will be ignored. Current value: min_data_in_leaf=3\n",
      "[LightGBM] [Warning] min_data_in_leaf is set with min_samples_leaf=5, min_child_samples=20 will be ignored. Current value: min_data_in_leaf=5\n",
      "[LightGBM] [Warning] min_data_in_leaf is set with min_samples_leaf=7, min_child_samples=20 will be ignored. Current value: min_data_in_leaf=7\n",
      "[LightGBM] [Warning] min_data_in_leaf is set with min_samples_leaf=9, min_child_samples=20 will be ignored. Current value: min_data_in_leaf=9\n",
      "[LightGBM] [Warning] min_data_in_leaf is set with min_samples_leaf=9, min_child_samples=20 will be ignored. Current value: min_data_in_leaf=9\n",
      "[LightGBM] [Warning] min_data_in_leaf is set with min_samples_leaf=1, min_child_samples=20 will be ignored. Current value: min_data_in_leaf=1\n",
      "[LightGBM] [Warning] min_data_in_leaf is set with min_samples_leaf=1, min_child_samples=20 will be ignored. Current value: min_data_in_leaf=1\n",
      "[LightGBM] [Warning] min_data_in_leaf is set with min_samples_leaf=1, min_child_samples=20 will be ignored. Current value: min_data_in_leaf=1\n",
      "[LightGBM] [Warning] min_data_in_leaf is set with min_samples_leaf=1, min_child_samples=20 will be ignored. Current value: min_data_in_leaf=1\n",
      "[LightGBM] [Warning] min_data_in_leaf is set with min_samples_leaf=1, min_child_samples=20 will be ignored. Current value: min_data_in_leaf=1\n",
      "[LightGBM] [Warning] min_data_in_leaf is set with min_samples_leaf=1, min_child_samples=20 will be ignored. Current value: min_data_in_leaf=1\n",
      "[LightGBM] [Warning] min_data_in_leaf is set with min_samples_leaf=1, min_child_samples=20 will be ignored. Current value: min_data_in_leaf=1\n",
      "[LightGBM] [Warning] min_data_in_leaf is set with min_samples_leaf=1, min_child_samples=20 will be ignored. Current value: min_data_in_leaf=1\n",
      "[LightGBM] [Warning] min_data_in_leaf is set with min_samples_leaf=1, min_child_samples=20 will be ignored. Current value: min_data_in_leaf=1\n",
      "[LightGBM] [Warning] min_data_in_leaf is set with min_samples_leaf=1, min_child_samples=20 will be ignored. Current value: min_data_in_leaf=1\n",
      "[LightGBM] [Warning] min_data_in_leaf is set with min_samples_leaf=1, min_child_samples=20 will be ignored. Current value: min_data_in_leaf=1\n",
      "[LightGBM] [Warning] min_data_in_leaf is set with min_samples_leaf=1, min_child_samples=20 will be ignored. Current value: min_data_in_leaf=1\n",
      "[LightGBM] [Warning] min_data_in_leaf is set with min_samples_leaf=1, min_child_samples=20 will be ignored. Current value: min_data_in_leaf=1\n",
      "[LightGBM] [Warning] min_data_in_leaf is set with min_samples_leaf=1, min_child_samples=20 will be ignored. Current value: min_data_in_leaf=1\n",
      "[LightGBM] [Warning] min_data_in_leaf is set with min_samples_leaf=1, min_child_samples=20 will be ignored. Current value: min_data_in_leaf=1\n",
      "[LightGBM] [Warning] min_data_in_leaf is set with min_samples_leaf=1, min_child_samples=20 will be ignored. Current value: min_data_in_leaf=1\n",
      "[LightGBM] [Warning] min_data_in_leaf is set with min_samples_leaf=1, min_child_samples=20 will be ignored. Current value: min_data_in_leaf=1\n",
      "[LightGBM] [Warning] min_data_in_leaf is set with min_samples_leaf=1, min_child_samples=20 will be ignored. Current value: min_data_in_leaf=1\n",
      "[LightGBM] [Warning] min_data_in_leaf is set with min_samples_leaf=1, min_child_samples=20 will be ignored. Current value: min_data_in_leaf=1\n",
      "[LightGBM] [Warning] min_data_in_leaf is set with min_samples_leaf=1, min_child_samples=20 will be ignored. Current value: min_data_in_leaf=1\n",
      "[LightGBM] [Warning] min_data_in_leaf is set with min_samples_leaf=1, min_child_samples=20 will be ignored. Current value: min_data_in_leaf=1\n",
      "[LightGBM] [Warning] min_data_in_leaf is set with min_samples_leaf=1, min_child_samples=20 will be ignored. Current value: min_data_in_leaf=1\n",
      "[LightGBM] [Warning] min_data_in_leaf is set with min_samples_leaf=1, min_child_samples=20 will be ignored. Current value: min_data_in_leaf=1\n",
      "[LightGBM] [Warning] min_data_in_leaf is set with min_samples_leaf=1, min_child_samples=20 will be ignored. Current value: min_data_in_leaf=1\n",
      "[LightGBM] [Warning] min_data_in_leaf is set with min_samples_leaf=1, min_child_samples=20 will be ignored. Current value: min_data_in_leaf=1\n",
      "[LightGBM] [Warning] min_data_in_leaf is set with min_samples_leaf=1, min_child_samples=20 will be ignored. Current value: min_data_in_leaf=1\n",
      "[LightGBM] [Warning] min_data_in_leaf is set with min_samples_leaf=1, min_child_samples=20 will be ignored. Current value: min_data_in_leaf=1\n",
      "[LightGBM] [Warning] min_data_in_leaf is set with min_samples_leaf=1, min_child_samples=20 will be ignored. Current value: min_data_in_leaf=1\n",
      "[LightGBM] [Warning] min_data_in_leaf is set with min_samples_leaf=1, min_child_samples=20 will be ignored. Current value: min_data_in_leaf=1\n",
      "[LightGBM] [Warning] min_data_in_leaf is set with min_samples_leaf=1, min_child_samples=20 will be ignored. Current value: min_data_in_leaf=1\n",
      "[LightGBM] [Warning] min_data_in_leaf is set with min_samples_leaf=1, min_child_samples=20 will be ignored. Current value: min_data_in_leaf=1\n",
      "[LightGBM] [Warning] min_data_in_leaf is set with min_samples_leaf=1, min_child_samples=20 will be ignored. Current value: min_data_in_leaf=1\n",
      "[LightGBM] [Warning] min_data_in_leaf is set with min_samples_leaf=1, min_child_samples=20 will be ignored. Current value: min_data_in_leaf=1\n",
      "[LightGBM] [Warning] min_data_in_leaf is set with min_samples_leaf=1, min_child_samples=20 will be ignored. Current value: min_data_in_leaf=1\n",
      "[LightGBM] [Warning] min_data_in_leaf is set with min_samples_leaf=1, min_child_samples=20 will be ignored. Current value: min_data_in_leaf=1\n",
      "[LightGBM] [Warning] min_data_in_leaf is set with min_samples_leaf=1, min_child_samples=20 will be ignored. Current value: min_data_in_leaf=1\n",
      "[LightGBM] [Warning] min_data_in_leaf is set with min_samples_leaf=1, min_child_samples=20 will be ignored. Current value: min_data_in_leaf=1\n",
      "[LightGBM] [Warning] min_data_in_leaf is set with min_samples_leaf=1, min_child_samples=20 will be ignored. Current value: min_data_in_leaf=1\n",
      "[LightGBM] [Warning] min_data_in_leaf is set with min_samples_leaf=1, min_child_samples=20 will be ignored. Current value: min_data_in_leaf=1\n",
      "[LightGBM] [Warning] min_data_in_leaf is set with min_samples_leaf=1, min_child_samples=20 will be ignored. Current value: min_data_in_leaf=1\n",
      "[LightGBM] [Warning] min_data_in_leaf is set with min_samples_leaf=1, min_child_samples=20 will be ignored. Current value: min_data_in_leaf=1\n",
      "[LightGBM] [Warning] min_data_in_leaf is set with min_samples_leaf=1, min_child_samples=20 will be ignored. Current value: min_data_in_leaf=1\n",
      "[LightGBM] [Warning] min_data_in_leaf is set with min_samples_leaf=1, min_child_samples=20 will be ignored. Current value: min_data_in_leaf=1\n",
      "[LightGBM] [Warning] min_data_in_leaf is set with min_samples_leaf=1, min_child_samples=20 will be ignored. Current value: min_data_in_leaf=1\n",
      "[LightGBM] [Warning] min_data_in_leaf is set with min_samples_leaf=1, min_child_samples=20 will be ignored. Current value: min_data_in_leaf=1\n",
      "[LightGBM] [Warning] min_data_in_leaf is set with min_samples_leaf=1, min_child_samples=20 will be ignored. Current value: min_data_in_leaf=1\n",
      "[LightGBM] [Warning] min_data_in_leaf is set with min_samples_leaf=1, min_child_samples=20 will be ignored. Current value: min_data_in_leaf=1\n",
      "[LightGBM] [Warning] min_data_in_leaf is set with min_samples_leaf=3, min_child_samples=20 will be ignored. Current value: min_data_in_leaf=3\n",
      "[LightGBM] [Warning] min_data_in_leaf is set with min_samples_leaf=5, min_child_samples=20 will be ignored. Current value: min_data_in_leaf=5\n",
      "[LightGBM] [Warning] min_data_in_leaf is set with min_samples_leaf=5, min_child_samples=20 will be ignored. Current value: min_data_in_leaf=5\n",
      "[LightGBM] [Warning] min_data_in_leaf is set with min_samples_leaf=7, min_child_samples=20 will be ignored. Current value: min_data_in_leaf=7\n",
      "[LightGBM] [Warning] min_data_in_leaf is set with min_samples_leaf=9, min_child_samples=20 will be ignored. Current value: min_data_in_leaf=9\n",
      "[LightGBM] [Warning] min_data_in_leaf is set with min_samples_leaf=1, min_child_samples=20 will be ignored. Current value: min_data_in_leaf=1\n",
      "[LightGBM] [Warning] min_data_in_leaf is set with min_samples_leaf=1, min_child_samples=20 will be ignored. Current value: min_data_in_leaf=1\n",
      "[LightGBM] [Warning] min_data_in_leaf is set with min_samples_leaf=1, min_child_samples=20 will be ignored. Current value: min_data_in_leaf=1\n",
      "[LightGBM] [Warning] min_data_in_leaf is set with min_samples_leaf=1, min_child_samples=20 will be ignored. Current value: min_data_in_leaf=1\n",
      "[LightGBM] [Warning] min_data_in_leaf is set with min_samples_leaf=1, min_child_samples=20 will be ignored. Current value: min_data_in_leaf=1\n",
      "[LightGBM] [Warning] min_data_in_leaf is set with min_samples_leaf=1, min_child_samples=20 will be ignored. Current value: min_data_in_leaf=1\n",
      "[LightGBM] [Warning] min_data_in_leaf is set with min_samples_leaf=1, min_child_samples=20 will be ignored. Current value: min_data_in_leaf=1\n",
      "[LightGBM] [Warning] min_data_in_leaf is set with min_samples_leaf=1, min_child_samples=20 will be ignored. Current value: min_data_in_leaf=1\n",
      "[LightGBM] [Warning] min_data_in_leaf is set with min_samples_leaf=1, min_child_samples=20 will be ignored. Current value: min_data_in_leaf=1\n",
      "[LightGBM] [Warning] min_data_in_leaf is set with min_samples_leaf=1, min_child_samples=20 will be ignored. Current value: min_data_in_leaf=1\n",
      "[LightGBM] [Warning] min_data_in_leaf is set with min_samples_leaf=1, min_child_samples=20 will be ignored. Current value: min_data_in_leaf=1\n",
      "[LightGBM] [Warning] min_data_in_leaf is set with min_samples_leaf=1, min_child_samples=20 will be ignored. Current value: min_data_in_leaf=1\n",
      "[LightGBM] [Warning] min_data_in_leaf is set with min_samples_leaf=1, min_child_samples=20 will be ignored. Current value: min_data_in_leaf=1\n",
      "[LightGBM] [Warning] min_data_in_leaf is set with min_samples_leaf=1, min_child_samples=20 will be ignored. Current value: min_data_in_leaf=1\n",
      "[LightGBM] [Warning] min_data_in_leaf is set with min_samples_leaf=1, min_child_samples=20 will be ignored. Current value: min_data_in_leaf=1\n",
      "[LightGBM] [Warning] min_data_in_leaf is set with min_samples_leaf=1, min_child_samples=20 will be ignored. Current value: min_data_in_leaf=1\n",
      "[LightGBM] [Warning] min_data_in_leaf is set with min_samples_leaf=1, min_child_samples=20 will be ignored. Current value: min_data_in_leaf=1\n",
      "[LightGBM] [Warning] min_data_in_leaf is set with min_samples_leaf=1, min_child_samples=20 will be ignored. Current value: min_data_in_leaf=1\n",
      "[LightGBM] [Warning] min_data_in_leaf is set with min_samples_leaf=1, min_child_samples=20 will be ignored. Current value: min_data_in_leaf=1\n",
      "[LightGBM] [Warning] min_data_in_leaf is set with min_samples_leaf=1, min_child_samples=20 will be ignored. Current value: min_data_in_leaf=1\n",
      "[LightGBM] [Warning] min_data_in_leaf is set with min_samples_leaf=1, min_child_samples=20 will be ignored. Current value: min_data_in_leaf=1\n",
      "[LightGBM] [Warning] min_data_in_leaf is set with min_samples_leaf=1, min_child_samples=20 will be ignored. Current value: min_data_in_leaf=1\n",
      "[LightGBM] [Warning] min_data_in_leaf is set with min_samples_leaf=1, min_child_samples=20 will be ignored. Current value: min_data_in_leaf=1\n",
      "[LightGBM] [Warning] min_data_in_leaf is set with min_samples_leaf=1, min_child_samples=20 will be ignored. Current value: min_data_in_leaf=1\n",
      "[LightGBM] [Warning] min_data_in_leaf is set with min_samples_leaf=1, min_child_samples=20 will be ignored. Current value: min_data_in_leaf=1\n",
      "[LightGBM] [Warning] min_data_in_leaf is set with min_samples_leaf=1, min_child_samples=20 will be ignored. Current value: min_data_in_leaf=1\n",
      "[LightGBM] [Warning] min_data_in_leaf is set with min_samples_leaf=1, min_child_samples=20 will be ignored. Current value: min_data_in_leaf=1\n",
      "[LightGBM] [Warning] min_data_in_leaf is set with min_samples_leaf=1, min_child_samples=20 will be ignored. Current value: min_data_in_leaf=1\n",
      "[LightGBM] [Warning] min_data_in_leaf is set with min_samples_leaf=1, min_child_samples=20 will be ignored. Current value: min_data_in_leaf=1\n",
      "[LightGBM] [Warning] min_data_in_leaf is set with min_samples_leaf=1, min_child_samples=20 will be ignored. Current value: min_data_in_leaf=1\n",
      "[LightGBM] [Warning] min_data_in_leaf is set with min_samples_leaf=1, min_child_samples=20 will be ignored. Current value: min_data_in_leaf=1\n",
      "[LightGBM] [Warning] min_data_in_leaf is set with min_samples_leaf=1, min_child_samples=20 will be ignored. Current value: min_data_in_leaf=1\n",
      "[LightGBM] [Warning] min_data_in_leaf is set with min_samples_leaf=1, min_child_samples=20 will be ignored. Current value: min_data_in_leaf=1\n",
      "[LightGBM] [Warning] min_data_in_leaf is set with min_samples_leaf=1, min_child_samples=20 will be ignored. Current value: min_data_in_leaf=1\n",
      "[LightGBM] [Warning] min_data_in_leaf is set with min_samples_leaf=1, min_child_samples=20 will be ignored. Current value: min_data_in_leaf=1\n",
      "[LightGBM] [Warning] min_data_in_leaf is set with min_samples_leaf=1, min_child_samples=20 will be ignored. Current value: min_data_in_leaf=1\n",
      "[LightGBM] [Warning] min_data_in_leaf is set with min_samples_leaf=1, min_child_samples=20 will be ignored. Current value: min_data_in_leaf=1\n",
      "[LightGBM] [Warning] min_data_in_leaf is set with min_samples_leaf=1, min_child_samples=20 will be ignored. Current value: min_data_in_leaf=1\n",
      "[LightGBM] [Warning] min_data_in_leaf is set with min_samples_leaf=1, min_child_samples=20 will be ignored. Current value: min_data_in_leaf=1\n",
      "[LightGBM] [Warning] min_data_in_leaf is set with min_samples_leaf=1, min_child_samples=20 will be ignored. Current value: min_data_in_leaf=1\n",
      "[LightGBM] [Warning] min_data_in_leaf is set with min_samples_leaf=1, min_child_samples=20 will be ignored. Current value: min_data_in_leaf=1\n",
      "[LightGBM] [Warning] min_data_in_leaf is set with min_samples_leaf=1, min_child_samples=20 will be ignored. Current value: min_data_in_leaf=1\n",
      "[LightGBM] [Warning] min_data_in_leaf is set with min_samples_leaf=1, min_child_samples=20 will be ignored. Current value: min_data_in_leaf=1\n",
      "[LightGBM] [Warning] min_data_in_leaf is set with min_samples_leaf=1, min_child_samples=20 will be ignored. Current value: min_data_in_leaf=1"
     ]
    }
   ],
   "source": [
    "#random_state\n",
    "p_test7= {'random_state':list(range(0,101,2))}\n",
    "\n",
    "tuning = GridSearchCV(estimator =GradientBoostingClassifier(learning_rate=learning_rate_gbm, n_estimators=n_estimators_gbm,\n",
    "                                                            max_depth=max_depth_gbm, \n",
    "                                                            min_samples_split=20, min_samples_leaf=min_samples_leaf_gbm,\n",
    "                                                            max_features=max_features_gbm , \n",
    "                                                            subsample=subsample_gbm), param_grid = p_test7, \n",
    "                                                            scoring='accuracy',\n",
    "                                                            n_jobs=4,iid=False, cv=5)\n",
    "tuning.fit(X_train,y_train)\n",
    "tuning.best_params_, tuning.best_score_\n",
    "random_state_gbm = tuning.best_params_.get(\"random_state\")\n",
    "\n",
    "\n",
    "p_test7a= {'random_state':list(range(0,101,2))}\n",
    "\n",
    "tuning = GridSearchCV(estimator =LGBMClassifier(learning_rate=learning_rate_lgbm, n_estimators=n_estimators_lgbm,\n",
    "                                                max_depth=max_depth_lgbm, min_samples_leaf=min_samples_leaf_lgbm, \n",
    "                                                subsample=subsample_lgbm), param_grid = p_test7a, scoring='accuracy',\n",
    "                                                n_jobs=4,iid=False, cv=5)\n",
    "tuning.fit(X_train,y_train)\n",
    "tuning.best_params_, tuning.best_score_\n",
    "random_state_lgbm = tuning.best_params_.get(\"random_state\")\n",
    "\n",
    "\n",
    "\n"
   ]
  },
  {
   "cell_type": "code",
   "execution_count": 86,
   "id": "dfb7ca73",
   "metadata": {
    "execution": {
     "iopub.execute_input": "2022-02-26T18:31:34.910950Z",
     "iopub.status.busy": "2022-02-26T18:31:34.910181Z",
     "iopub.status.idle": "2022-02-26T18:31:34.932517Z",
     "shell.execute_reply": "2022-02-26T18:31:34.933048Z",
     "shell.execute_reply.started": "2022-02-26T18:17:58.834755Z"
    },
    "papermill": {
     "duration": 0.334051,
     "end_time": "2022-02-26T18:31:34.933224",
     "exception": false,
     "start_time": "2022-02-26T18:31:34.599173",
     "status": "completed"
    },
    "tags": []
   },
   "outputs": [
    {
     "data": {
      "text/html": [
       "<div>\n",
       "<style scoped>\n",
       "    .dataframe tbody tr th:only-of-type {\n",
       "        vertical-align: middle;\n",
       "    }\n",
       "\n",
       "    .dataframe tbody tr th {\n",
       "        vertical-align: top;\n",
       "    }\n",
       "\n",
       "    .dataframe thead th {\n",
       "        text-align: right;\n",
       "    }\n",
       "</style>\n",
       "<table border=\"1\" class=\"dataframe\">\n",
       "  <thead>\n",
       "    <tr style=\"text-align: right;\">\n",
       "      <th></th>\n",
       "      <th>Name</th>\n",
       "      <th>learning_rate</th>\n",
       "      <th>n_estimators</th>\n",
       "      <th>max_depth</th>\n",
       "      <th>min_samples_leaf</th>\n",
       "      <th>max_features</th>\n",
       "      <th>subsample_gbm</th>\n",
       "      <th>random_state</th>\n",
       "    </tr>\n",
       "  </thead>\n",
       "  <tbody>\n",
       "    <tr>\n",
       "      <th>0</th>\n",
       "      <td>GBM</td>\n",
       "      <td>0.010</td>\n",
       "      <td>750</td>\n",
       "      <td>4</td>\n",
       "      <td>3</td>\n",
       "      <td>6</td>\n",
       "      <td>0.85</td>\n",
       "      <td>70</td>\n",
       "    </tr>\n",
       "    <tr>\n",
       "      <th>1</th>\n",
       "      <td>LGBM</td>\n",
       "      <td>0.005</td>\n",
       "      <td>1500</td>\n",
       "      <td>4</td>\n",
       "      <td>1</td>\n",
       "      <td>--</td>\n",
       "      <td>0.70</td>\n",
       "      <td>0</td>\n",
       "    </tr>\n",
       "  </tbody>\n",
       "</table>\n",
       "</div>"
      ],
      "text/plain": [
       "   Name  learning_rate  n_estimators  max_depth  min_samples_leaf  \\\n",
       "0   GBM          0.010           750          4                 3   \n",
       "1  LGBM          0.005          1500          4                 1   \n",
       "\n",
       "  max_features  subsample_gbm  random_state  \n",
       "0            6           0.85            70  \n",
       "1           --           0.70             0  "
      ]
     },
     "execution_count": 86,
     "metadata": {},
     "output_type": "execute_result"
    }
   ],
   "source": [
    "#Optimal Parameters\n",
    "a1 = []\n",
    "a2 = []\n",
    "a3 = []\n",
    "a4 = []\n",
    "a5 = []\n",
    "a6 = []\n",
    "a7 = []\n",
    "a8 = []\n",
    "\n",
    "\n",
    "a1.append('GBM')\n",
    "a2.append(learning_rate_gbm)\n",
    "a3.append(n_estimators_gbm)\n",
    "a4.append(max_depth_gbm)\n",
    "a5.append(min_samples_leaf_gbm)\n",
    "a6.append(max_features_gbm)\n",
    "a7.append(subsample_gbm)\n",
    "a8.append(random_state_gbm)\n",
    "opt_par = pd.DataFrame({'Name': a1, 'learning_rate': a2, 'n_estimators': a3,\n",
    "                         'max_depth': a4, 'min_samples_leaf': a5, 'max_features': a6,\n",
    "                         'subsample_gbm': a7, 'random_state': a8})\n",
    "\n",
    "a1.append('LGBM')\n",
    "a2.append(learning_rate_lgbm)\n",
    "a3.append(n_estimators_lgbm)\n",
    "a4.append(max_depth_lgbm)\n",
    "a5.append(min_samples_leaf_lgbm)\n",
    "a6.append('--')\n",
    "a7.append(subsample_lgbm)\n",
    "a8.append(random_state_lgbm)\n",
    "\n",
    "opt_par = pd.DataFrame({'Name': a1, 'learning_rate': a2, 'n_estimators': a3,\n",
    "                         'max_depth': a4, 'min_samples_leaf': a5, 'max_features': a6,\n",
    "                         'subsample_gbm': a7, 'random_state': a8})\n",
    "\n",
    "opt_par\n",
    "\n"
   ]
  },
  {
   "cell_type": "code",
   "execution_count": 87,
   "id": "02cc427d",
   "metadata": {
    "execution": {
     "iopub.execute_input": "2022-02-26T18:31:35.551248Z",
     "iopub.status.busy": "2022-02-26T18:31:35.550211Z",
     "iopub.status.idle": "2022-02-26T18:31:36.849271Z",
     "shell.execute_reply": "2022-02-26T18:31:36.848692Z",
     "shell.execute_reply.started": "2022-02-26T18:17:58.865133Z"
    },
    "papermill": {
     "duration": 1.610684,
     "end_time": "2022-02-26T18:31:36.849413",
     "exception": false,
     "start_time": "2022-02-26T18:31:35.238729",
     "status": "completed"
    },
    "tags": []
   },
   "outputs": [
    {
     "name": "stdout",
     "output_type": "stream",
     "text": [
      "Accuracy of the GBM on test set: 0.778\n",
      "              precision    recall  f1-score   support\n",
      "\n",
      "           0       0.76      0.78      0.77       115\n",
      "           1       0.80      0.77      0.79       128\n",
      "\n",
      "    accuracy                           0.78       243\n",
      "   macro avg       0.78      0.78      0.78       243\n",
      "weighted avg       0.78      0.78      0.78       243\n",
      "\n"
     ]
    }
   ],
   "source": [
    "#Evaluation of Final Model on Test Set\n",
    "new=GradientBoostingClassifier(learning_rate=learning_rate_gbm, n_estimators=n_estimators_gbm,\n",
    "                               max_depth=max_depth_gbm, min_samples_split=20, min_samples_leaf=min_samples_leaf_gbm,\n",
    "                               max_features=max_features_gbm, subsample=subsample_gbm, random_state=random_state_gbm)\n",
    "new.fit(X_train,y_train)\n",
    "predictors=list(X_train)\n",
    "# feat_imp = pd.Series(new.feature_importances_, predictors).sort_values(ascending=False)\n",
    "# feat_imp.plot(kind='bar', title='Importance of Features')\n",
    "# plt.ylabel('Feature Importance Score')\n",
    "print('Accuracy of the GBM on test set: {:.3f}'.format(new.score(X_test, y_test)))\n",
    "pred=new.predict(X_test)\n",
    "print(classification_report(y_test, pred))"
   ]
  },
  {
   "cell_type": "code",
   "execution_count": 88,
   "id": "8dd91b6e",
   "metadata": {
    "execution": {
     "iopub.execute_input": "2022-02-26T18:31:37.464890Z",
     "iopub.status.busy": "2022-02-26T18:31:37.464174Z",
     "iopub.status.idle": "2022-02-26T18:31:38.038064Z",
     "shell.execute_reply": "2022-02-26T18:31:38.038643Z",
     "shell.execute_reply.started": "2022-02-26T18:17:59.023381Z"
    },
    "papermill": {
     "duration": 0.880614,
     "end_time": "2022-02-26T18:31:38.038845",
     "exception": false,
     "start_time": "2022-02-26T18:31:37.158231",
     "status": "completed"
    },
    "tags": []
   },
   "outputs": [
    {
     "name": "stdout",
     "output_type": "stream",
     "text": [
      "Accuracy of the LGBM on test set: 0.790\n",
      "              precision    recall  f1-score   support\n",
      "\n",
      "           0       0.77      0.79      0.78       115\n",
      "           1       0.81      0.79      0.80       128\n",
      "\n",
      "    accuracy                           0.79       243\n",
      "   macro avg       0.79      0.79      0.79       243\n",
      "weighted avg       0.79      0.79      0.79       243\n",
      "\n"
     ]
    }
   ],
   "source": [
    "new_lgbm=LGBMClassifier(learning_rate=learning_rate_lgbm, n_estimators=n_estimators_lgbm,max_depth=max_depth_lgbm,\n",
    "                        min_samples_leaf=min_samples_leaf_lgbm, subsample=subsample_lgbm, random_state=random_state_lgbm)\n",
    "new_lgbm.fit(X_train,y_train)\n",
    "predictors=list(X_train)\n",
    "# feat_imp = pd.Series(new_lgbm.feature_importances_, predictors).sort_values(ascending=False)\n",
    "# feat_imp.plot(kind='bar', title='Importance of Features')\n",
    "# plt.ylabel('Feature Importance Score')\n",
    "print('Accuracy of the LGBM on test set: {:.3f}'.format(new_lgbm.score(X_test, y_test)))\n",
    "pred=new_lgbm.predict(X_test)\n",
    "print(classification_report(y_test, pred))"
   ]
  },
  {
   "cell_type": "code",
   "execution_count": 89,
   "id": "948b94d3",
   "metadata": {
    "execution": {
     "iopub.execute_input": "2022-02-26T18:31:38.668226Z",
     "iopub.status.busy": "2022-02-26T18:31:38.667108Z",
     "iopub.status.idle": "2022-02-26T18:31:41.305454Z",
     "shell.execute_reply": "2022-02-26T18:31:41.305954Z",
     "shell.execute_reply.started": "2022-02-26T18:17:59.082666Z"
    },
    "papermill": {
     "duration": 2.961173,
     "end_time": "2022-02-26T18:31:41.306131",
     "exception": false,
     "start_time": "2022-02-26T18:31:38.344958",
     "status": "completed"
    },
    "tags": []
   },
   "outputs": [
    {
     "data": {
      "image/png": "[encoded data removed]",
      "text/plain": [
       "<Figure size 432x288 with 1 Axes>"
      ]
     },
     "metadata": {},
     "output_type": "display_data"
    },
    {
     "data": {
      "text/plain": [
       "<Figure size 432x288 with 0 Axes>"
      ]
     },
     "metadata": {},
     "output_type": "display_data"
    }
   ],
   "source": [
    "#Comparison of ROC AUC\n",
    "from sklearn import metrics\n",
    "from sklearn.metrics import roc_auc_score\n",
    "from sklearn.metrics import roc_curve \n",
    "\n",
    "\n",
    "#run models\n",
    "baseline = GradientBoostingClassifier(learning_rate=0.1, n_estimators=100,max_depth=3, min_samples_split=2, \n",
    "                                      min_samples_leaf=1, subsample=1,max_features='sqrt', random_state=10)\n",
    "baseline.fit(X_train,y_train)\n",
    "\n",
    "model1 = GradientBoostingClassifier(learning_rate=learning_rate_gbm, n_estimators=n_estimators_gbm,max_depth=max_depth_gbm, \n",
    "                                    min_samples_split=2, \n",
    "                                    min_samples_leaf=1, subsample=1,max_features='sqrt', random_state=10)\n",
    "model1.fit(X_train,y_train)\n",
    "\n",
    "new=GradientBoostingClassifier(learning_rate=learning_rate_gbm, n_estimators=n_estimators_gbm,\n",
    "                               max_depth=max_depth_gbm, min_samples_split=20, min_samples_leaf=min_samples_leaf_gbm,\n",
    "                               max_features=max_features_gbm, subsample=subsample_gbm, random_state=random_state_gbm)\n",
    "new.fit(X_train,y_train)\n",
    "\n",
    "#calculate values for ROC AUC plot\n",
    "#baseline model\n",
    "baseline_roc_auc = roc_auc_score(y_test, baseline.predict(X_test))\n",
    "fprB, tprB, thresholdsB = roc_curve(y_test, baseline.predict_proba(X_test)[:,1])\n",
    "#model 1\n",
    "model1_roc_auc = roc_auc_score(y_test, model1.predict(X_test))\n",
    "fpr1, tpr1, thresholds1 = roc_curve(y_test, model1.predict_proba(X_test)[:,1])\n",
    "#new tuned model \n",
    "new_roc_auc = roc_auc_score(y_test, new.predict(X_test))\n",
    "fprnew, tprnew, thresholds_new = roc_curve(y_test, new.predict_proba(X_test)[:,1])\n",
    "plt.figure()\n",
    "plt.plot(fprB, tprB, label='GBM Baseline (area = %0.2f)' % baseline_roc_auc)\n",
    "plt.plot(fpr1, tpr1, label='GBM Model 1 (area = %0.2f)' % model1_roc_auc)\n",
    "plt.plot(fprnew, tprnew, label='GBM Final Model (area = %0.2f)' % new_roc_auc)\n",
    "\n",
    "plt.plot([0, 1], [0, 1],'r--')\n",
    "plt.xlim([0.0, 1.0])\n",
    "plt.ylim([0.0, 1.05])\n",
    "plt.xlabel('False Positive Rate')\n",
    "plt.ylabel('True Positive Rate')\n",
    "plt.title('Receiver Operating Characteristic of GBM')\n",
    "plt.legend(loc=\"lower right\")\n",
    "plt.savefig('Log_ROC')\n",
    "plt.show()\n",
    "\n",
    "plt.savefig('roc1.eps', format='eps')"
   ]
  },
  {
   "cell_type": "code",
   "execution_count": 90,
   "id": "06457ada",
   "metadata": {
    "execution": {
     "iopub.execute_input": "2022-02-26T18:31:41.938125Z",
     "iopub.status.busy": "2022-02-26T18:31:41.937444Z",
     "iopub.status.idle": "2022-02-26T18:31:43.427574Z",
     "shell.execute_reply": "2022-02-26T18:31:43.427034Z",
     "shell.execute_reply.started": "2022-02-26T18:17:59.764609Z"
    },
    "papermill": {
     "duration": 1.805879,
     "end_time": "2022-02-26T18:31:43.427734",
     "exception": false,
     "start_time": "2022-02-26T18:31:41.621855",
     "status": "completed"
    },
    "tags": []
   },
   "outputs": [
    {
     "name": "stdout",
     "output_type": "stream",
     "text": [
      "Accuracy of the GBM on test set for Baseline Model: 0.782\n",
      "Accuracy of the GBM on test set for Model1: 0.786\n",
      "Accuracy of the GBM on test set for New Model: 0.778\n",
      "[LightGBM] [Warning] min_data_in_leaf is set with min_samples_leaf=1, min_child_samples=20 will be ignored. Current value: min_data_in_leaf=1\n"
     ]
    },
    {
     "data": {
      "image/png": "[encoded data removed]",
      "text/plain": [
       "<Figure size 432x288 with 1 Axes>"
      ]
     },
     "metadata": {},
     "output_type": "display_data"
    },
    {
     "data": {
      "text/plain": [
       "<Figure size 432x288 with 0 Axes>"
      ]
     },
     "metadata": {},
     "output_type": "display_data"
    }
   ],
   "source": [
    "print('Accuracy of the GBM on test set for Baseline Model: {:.3f}'.format(baseline.score(X_test, y_test)))\n",
    "print('Accuracy of the GBM on test set for Model1: {:.3f}'.format(model1.score(X_test, y_test)))\n",
    "print('Accuracy of the GBM on test set for New Model: {:.3f}'.format(new.score(X_test, y_test)))\n",
    "\n",
    "#run models\n",
    "baseline_lgbm = LGBMClassifier(learning_rate=0.1, n_estimators=100,max_depth=3, \n",
    "                               min_samples_leaf=1, subsample=1, random_state=10)\n",
    "baseline_lgbm.fit(X_train,y_train)\n",
    "\n",
    "model1_lgbm = LGBMClassifier(learning_rate=learning_rate_lgbm, n_estimators=n_estimators_lgbm,max_depth=max_depth_lgbm,  \n",
    "                             min_samples_leaf=1, subsample=1, random_state=10)\n",
    "model1_lgbm.fit(X_train,y_train)\n",
    "\n",
    "new_lgbm=LGBMClassifier(learning_rate=learning_rate_lgbm, n_estimators=n_estimators_lgbm,max_depth=max_depth_lgbm,\n",
    "                        min_samples_leaf=min_samples_leaf_lgbm, subsample=subsample_lgbm, random_state=random_state_lgbm)\n",
    "new_lgbm.fit(X_train,y_train)\n",
    "\n",
    "#calculate values for ROC AUC plot\n",
    "#baseline model\n",
    "baseline_lgbm_roc_auc = roc_auc_score(y_test, baseline_lgbm.predict(X_test))\n",
    "fprB, tprB, thresholdsB = roc_curve(y_test, baseline_lgbm.predict_proba(X_test)[:,1])\n",
    "#model 1\n",
    "model1_lgbm_roc_auc = roc_auc_score(y_test, model1_lgbm.predict(X_test))\n",
    "fpr1, tpr1, thresholds1 = roc_curve(y_test, model1_lgbm.predict_proba(X_test)[:,1])\n",
    "#new tuned model \n",
    "new_lgbm_roc_auc = roc_auc_score(y_test, new_lgbm.predict(X_test))\n",
    "fprnew, tprnew, thresholds_new = roc_curve(y_test, new_lgbm.predict_proba(X_test)[:,1])\n",
    "plt.figure()\n",
    "plt.plot(fprB, tprB, label='LGBM Baseline (area = %0.2f)' % baseline_roc_auc)\n",
    "plt.plot(fpr1, tpr1, label='LGBM Model 1 (area = %0.2f)' % model1_roc_auc)\n",
    "plt.plot(fprnew, tprnew, label='LGBM Final Model (area = %0.2f)' % new_roc_auc)\n",
    "\n",
    "plt.plot([0, 1], [0, 1],'r--')\n",
    "plt.xlim([0.0, 1.0])\n",
    "plt.ylim([0.0, 1.05])\n",
    "plt.xlabel('False Positive Rate')\n",
    "plt.ylabel('True Positive Rate')\n",
    "plt.title('Receiver Operating Characteristic of LGBM')\n",
    "plt.legend(loc=\"lower right\")\n",
    "plt.savefig('Log_ROC')\n",
    "plt.show()\n",
    "\n",
    "plt.savefig('roc2.eps', format='eps')"
   ]
  },
  {
   "cell_type": "markdown",
   "id": "1c3c22a6",
   "metadata": {
    "execution": {
     "iopub.execute_input": "2022-02-26T12:15:08.664062Z",
     "iopub.status.busy": "2022-02-26T12:15:08.663683Z",
     "iopub.status.idle": "2022-02-26T12:15:08.672178Z",
     "shell.execute_reply": "2022-02-26T12:15:08.670662Z",
     "shell.execute_reply.started": "2022-02-26T12:15:08.664024Z"
    },
    "papermill": {
     "duration": 0.314735,
     "end_time": "2022-02-26T18:31:44.055134",
     "exception": false,
     "start_time": "2022-02-26T18:31:43.740399",
     "status": "completed"
    },
    "tags": []
   },
   "source": [
    "**4)XGBOST & CATBOST Classifier**"
   ]
  },
  {
   "cell_type": "code",
   "execution_count": 91,
   "id": "97d5b48f",
   "metadata": {
    "execution": {
     "iopub.execute_input": "2022-02-26T18:31:44.689634Z",
     "iopub.status.busy": "2022-02-26T18:31:44.688982Z",
     "iopub.status.idle": "2022-02-26T18:31:44.792893Z",
     "shell.execute_reply": "2022-02-26T18:31:44.793561Z",
     "shell.execute_reply.started": "2022-02-26T18:18:00.191247Z"
    },
    "papermill": {
     "duration": 0.420007,
     "end_time": "2022-02-26T18:31:44.793759",
     "exception": false,
     "start_time": "2022-02-26T18:31:44.373752",
     "status": "completed"
    },
    "tags": []
   },
   "outputs": [],
   "source": [
    "import xgboost as xgb\n",
    "from sklearn.model_selection import train_test_split , GridSearchCV\n",
    "from sklearn.metrics import accuracy_score\n",
    "\n",
    "#define data_dmatrix\n",
    "data_dmatrix = xgb.DMatrix(data=X,label=y)"
   ]
  },
  {
   "cell_type": "code",
   "execution_count": 92,
   "id": "9340f516",
   "metadata": {
    "execution": {
     "iopub.execute_input": "2022-02-26T18:31:45.426847Z",
     "iopub.status.busy": "2022-02-26T18:31:45.426157Z",
     "iopub.status.idle": "2022-02-26T18:31:45.435260Z",
     "shell.execute_reply": "2022-02-26T18:31:45.434701Z",
     "shell.execute_reply.started": "2022-02-26T18:18:00.207596Z"
    },
    "papermill": {
     "duration": 0.328149,
     "end_time": "2022-02-26T18:31:45.435416",
     "exception": false,
     "start_time": "2022-02-26T18:31:45.107267",
     "status": "completed"
    },
    "tags": []
   },
   "outputs": [],
   "source": [
    "b = df['Landslide']\n",
    "a = df.drop(['Landslide', 'Curvature'], axis=1)\n",
    "\n",
    "# data scaling\n",
    "from sklearn.preprocessing import StandardScaler ,RobustScaler\n",
    "standardizer = StandardScaler()\n",
    "a = standardizer.fit_transform(a)\n",
    "\n",
    "\n",
    "test_size = 0.33\n",
    "\n",
    "X_train, X_test, y_train, y_test = train_test_split(a, b, test_size=test_size, random_state=50 , stratify =b)"
   ]
  },
  {
   "cell_type": "code",
   "execution_count": 93,
   "id": "7b604afb",
   "metadata": {
    "execution": {
     "iopub.execute_input": "2022-02-26T18:31:46.081027Z",
     "iopub.status.busy": "2022-02-26T18:31:46.080286Z",
     "iopub.status.idle": "2022-02-26T18:31:46.837760Z",
     "shell.execute_reply": "2022-02-26T18:31:46.837104Z",
     "shell.execute_reply.started": "2022-02-26T18:18:00.233392Z"
    },
    "papermill": {
     "duration": 1.086822,
     "end_time": "2022-02-26T18:31:46.837904",
     "exception": false,
     "start_time": "2022-02-26T18:31:45.751082",
     "status": "completed"
    },
    "tags": []
   },
   "outputs": [
    {
     "name": "stdout",
     "output_type": "stream",
     "text": [
      "[18:31:46] WARNING: ../src/learner.cc:1115: Starting in XGBoost 1.3.0, the default evaluation metric used with the objective 'binary:logistic' was changed from 'error' to 'logloss'. Explicitly set eval_metric if you'd like to restore the old behavior.\n"
     ]
    },
    {
     "data": {
      "text/plain": [
       "XGBClassifier(alpha=10, base_score=0.5, booster='gbtree', colsample_bylevel=1,\n",
       "              colsample_bynode=1, colsample_bytree=1, enable_categorical=False,\n",
       "              gamma=0, gpu_id=-1, importance_type=None,\n",
       "              interaction_constraints='', learning_rate=0.05, max_delta_step=0,\n",
       "              max_depth=6, min_child_weight=1, missing=nan,\n",
       "              monotone_constraints='()', n_estimators=200, n_jobs=4,\n",
       "              num_parallel_tree=1, predictor='auto', random_state=0,\n",
       "              reg_alpha=10, reg_lambda=1, scale_pos_weight=1, subsample=1,\n",
       "              tree_method='exact', validate_parameters=1, verbosity=None)"
      ]
     },
     "execution_count": 93,
     "metadata": {},
     "output_type": "execute_result"
    }
   ],
   "source": [
    "from xgboost import XGBClassifier\n",
    "\n",
    "\n",
    "# declare parameters\n",
    "params = {\n",
    "            'objective':'binary:logistic',\n",
    "            'max_depth': 6,\n",
    "            'alpha': 10,\n",
    "            'learning_rate': 0.05,\n",
    "            'n_estimators':200\n",
    "        }         \n",
    "           \n",
    "          \n",
    "# instantiate the classifier \n",
    "xgb_clf = XGBClassifier(**params)\n",
    "\n",
    "\n",
    "# fit the classifier to the training data\n",
    "xgb_clf.fit(X_train, y_train)"
   ]
  },
  {
   "cell_type": "code",
   "execution_count": 94,
   "id": "8ec7750e",
   "metadata": {
    "execution": {
     "iopub.execute_input": "2022-02-26T18:31:47.474887Z",
     "iopub.status.busy": "2022-02-26T18:31:47.473843Z",
     "iopub.status.idle": "2022-02-26T18:31:47.489088Z",
     "shell.execute_reply": "2022-02-26T18:31:47.489632Z",
     "shell.execute_reply.started": "2022-02-26T18:18:01.052315Z"
    },
    "papermill": {
     "duration": 0.333211,
     "end_time": "2022-02-26T18:31:47.489847",
     "exception": false,
     "start_time": "2022-02-26T18:31:47.156636",
     "status": "completed"
    },
    "tags": []
   },
   "outputs": [
    {
     "name": "stdout",
     "output_type": "stream",
     "text": [
      "XGBClassifier(alpha=10, base_score=0.5, booster='gbtree', colsample_bylevel=1,\n",
      "              colsample_bynode=1, colsample_bytree=1, enable_categorical=False,\n",
      "              gamma=0, gpu_id=-1, importance_type=None,\n",
      "              interaction_constraints='', learning_rate=0.05, max_delta_step=0,\n",
      "              max_depth=6, min_child_weight=1, missing=nan,\n",
      "              monotone_constraints='()', n_estimators=200, n_jobs=4,\n",
      "              num_parallel_tree=1, predictor='auto', random_state=0,\n",
      "              reg_alpha=10, reg_lambda=1, scale_pos_weight=1, subsample=1,\n",
      "              tree_method='exact', validate_parameters=1, verbosity=None)\n"
     ]
    }
   ],
   "source": [
    "print(xgb_clf)\n",
    "\n",
    "\n",
    "# make predictions on test data\n",
    "\n",
    "y_pred = xgb_clf.predict(X_test)"
   ]
  },
  {
   "cell_type": "code",
   "execution_count": 95,
   "id": "7ac8b4a5",
   "metadata": {
    "execution": {
     "iopub.execute_input": "2022-02-26T18:31:48.125948Z",
     "iopub.status.busy": "2022-02-26T18:31:48.125246Z",
     "iopub.status.idle": "2022-02-26T18:31:48.128332Z",
     "shell.execute_reply": "2022-02-26T18:31:48.127804Z",
     "shell.execute_reply.started": "2022-02-26T18:18:01.078132Z"
    },
    "papermill": {
     "duration": 0.322651,
     "end_time": "2022-02-26T18:31:48.128487",
     "exception": false,
     "start_time": "2022-02-26T18:31:47.805836",
     "status": "completed"
    },
    "tags": []
   },
   "outputs": [
    {
     "name": "stdout",
     "output_type": "stream",
     "text": [
      "XGBoost model accuracy score: 1.0000\n"
     ]
    }
   ],
   "source": [
    "from sklearn.metrics import accuracy_score\n",
    "\n",
    "print('XGBoost model accuracy score: {0:0.4f}'. format(accuracy_score(y_test, y_pred)))"
   ]
  },
  {
   "cell_type": "code",
   "execution_count": 96,
   "id": "774a4f87",
   "metadata": {
    "execution": {
     "iopub.execute_input": "2022-02-26T18:31:48.756865Z",
     "iopub.status.busy": "2022-02-26T18:31:48.756196Z",
     "iopub.status.idle": "2022-02-26T18:31:48.906550Z",
     "shell.execute_reply": "2022-02-26T18:31:48.905976Z",
     "shell.execute_reply.started": "2022-02-26T18:18:01.088330Z"
    },
    "papermill": {
     "duration": 0.464876,
     "end_time": "2022-02-26T18:31:48.906707",
     "exception": false,
     "start_time": "2022-02-26T18:31:48.441831",
     "status": "completed"
    },
    "tags": []
   },
   "outputs": [
    {
     "name": "stdout",
     "output_type": "stream",
     "text": [
      "[18:31:48] WARNING: ../src/metric/auc.cc:307: Dataset contains only positive or negative samples.\n",
      "[18:31:48] WARNING: ../src/metric/auc.cc:307: Dataset contains only positive or negative samples.\n",
      "[18:31:48] WARNING: ../src/metric/auc.cc:307: Dataset contains only positive or negative samples.\n",
      "[18:31:48] WARNING: ../src/metric/auc.cc:307: Dataset contains only positive or negative samples.\n",
      "[18:31:48] WARNING: ../src/metric/auc.cc:307: Dataset contains only positive or negative samples.\n",
      "[18:31:48] WARNING: ../src/metric/auc.cc:307: Dataset contains only positive or negative samples.\n",
      "[18:31:48] WARNING: ../src/metric/auc.cc:307: Dataset contains only positive or negative samples.\n",
      "[18:31:48] WARNING: ../src/metric/auc.cc:307: Dataset contains only positive or negative samples.\n",
      "[18:31:48] WARNING: ../src/metric/auc.cc:307: Dataset contains only positive or negative samples.\n",
      "[18:31:48] WARNING: ../src/metric/auc.cc:307: Dataset contains only positive or negative samples.\n",
      "[18:31:48] WARNING: ../src/metric/auc.cc:307: Dataset contains only positive or negative samples.\n",
      "[18:31:48] WARNING: ../src/metric/auc.cc:307: Dataset contains only positive or negative samples.\n",
      "[18:31:48] WARNING: ../src/metric/auc.cc:307: Dataset contains only positive or negative samples.\n",
      "[18:31:48] WARNING: ../src/metric/auc.cc:307: Dataset contains only positive or negative samples.\n",
      "[18:31:48] WARNING: ../src/metric/auc.cc:307: Dataset contains only positive or negative samples.\n",
      "[18:31:48] WARNING: ../src/metric/auc.cc:307: Dataset contains only positive or negative samples.\n"
     ]
    },
    {
     "data": {
      "text/plain": [
       "XGBClassifier(base_score=0.5, booster='gbtree', colsample_bylevel=1,\n",
       "              colsample_bynode=1, colsample_bytree=1, enable_categorical=False,\n",
       "              gamma=0, gpu_id=-1, importance_type=None,\n",
       "              interaction_constraints='', learning_rate=0.03, max_delta_step=0,\n",
       "              max_depth=6, min_child_weight=1, missing=nan,\n",
       "              monotone_constraints='()', n_estimators=100, n_jobs=4,\n",
       "              num_parallel_tree=1, predictor='auto', random_state=7,\n",
       "              reg_alpha=0, reg_lambda=1, scale_pos_weight=1, seed=7,\n",
       "              subsample=1, tree_method='exact', validate_parameters=1,\n",
       "              verbosity=None)"
      ]
     },
     "execution_count": 96,
     "metadata": {},
     "output_type": "execute_result"
    }
   ],
   "source": [
    "clf_xgBoost = xgb.XGBClassifier(\n",
    "   seed= 7,\n",
    "objective = 'binary:logistic',\n",
    "    learning_rate = 0.03\n",
    ")\n",
    "clf_xgBoost.fit(X_train, y_train, early_stopping_rounds=15,\n",
    "               eval_metric= 'auc',eval_set =[(X_test ,y_test)] ,verbose=0 )"
   ]
  },
  {
   "cell_type": "code",
   "execution_count": 97,
   "id": "bd56a528",
   "metadata": {
    "execution": {
     "iopub.execute_input": "2022-02-26T18:31:49.539425Z",
     "iopub.status.busy": "2022-02-26T18:31:49.538420Z",
     "iopub.status.idle": "2022-02-26T18:31:49.557238Z",
     "shell.execute_reply": "2022-02-26T18:31:49.557881Z",
     "shell.execute_reply.started": "2022-02-26T18:18:01.268126Z"
    },
    "papermill": {
     "duration": 0.335688,
     "end_time": "2022-02-26T18:31:49.558078",
     "exception": false,
     "start_time": "2022-02-26T18:31:49.222390",
     "status": "completed"
    },
    "tags": []
   },
   "outputs": [
    {
     "name": "stdout",
     "output_type": "stream",
     "text": [
      "              precision    recall  f1-score   support\n",
      "\n",
      "           0       1.00      1.00      1.00        50\n",
      "\n",
      "    accuracy                           1.00        50\n",
      "   macro avg       1.00      1.00      1.00        50\n",
      "weighted avg       1.00      1.00      1.00        50\n",
      "\n",
      "[[50]]\n"
     ]
    }
   ],
   "source": [
    "from sklearn import metrics\n",
    "expected_y  = y_test\n",
    "predicted_y = clf_xgBoost.predict(X_test)\n",
    "\n",
    "print(metrics.classification_report(expected_y, predicted_y))\n",
    "print(metrics.confusion_matrix(expected_y, predicted_y))\n"
   ]
  },
  {
   "cell_type": "code",
   "execution_count": 98,
   "id": "787c785c",
   "metadata": {
    "execution": {
     "iopub.execute_input": "2022-02-26T18:31:50.195435Z",
     "iopub.status.busy": "2022-02-26T18:31:50.194709Z",
     "iopub.status.idle": "2022-02-26T18:31:50.339294Z",
     "shell.execute_reply": "2022-02-26T18:31:50.339804Z",
     "shell.execute_reply.started": "2022-02-26T18:18:01.295559Z"
    },
    "papermill": {
     "duration": 0.46874,
     "end_time": "2022-02-26T18:31:50.339976",
     "exception": false,
     "start_time": "2022-02-26T18:31:49.871236",
     "status": "completed"
    },
    "tags": []
   },
   "outputs": [
    {
     "name": "stdout",
     "output_type": "stream",
     "text": [
      "[18:31:50] WARNING: ../src/metric/auc.cc:307: Dataset contains only positive or negative samples.\n",
      "[18:31:50] WARNING: ../src/metric/auc.cc:307: Dataset contains only positive or negative samples.\n",
      "[18:31:50] WARNING: ../src/metric/auc.cc:307: Dataset contains only positive or negative samples.\n",
      "[18:31:50] WARNING: ../src/metric/auc.cc:307: Dataset contains only positive or negative samples.\n",
      "[18:31:50] WARNING: ../src/metric/auc.cc:307: Dataset contains only positive or negative samples.\n",
      "[18:31:50] WARNING: ../src/metric/auc.cc:307: Dataset contains only positive or negative samples.\n",
      "[18:31:50] WARNING: ../src/metric/auc.cc:307: Dataset contains only positive or negative samples.\n",
      "[18:31:50] WARNING: ../src/metric/auc.cc:307: Dataset contains only positive or negative samples.\n",
      "[18:31:50] WARNING: ../src/metric/auc.cc:307: Dataset contains only positive or negative samples.\n",
      "[18:31:50] WARNING: ../src/metric/auc.cc:307: Dataset contains only positive or negative samples.\n",
      "[18:31:50] WARNING: ../src/metric/auc.cc:307: Dataset contains only positive or negative samples.\n",
      "[18:31:50] WARNING: ../src/metric/auc.cc:307: Dataset contains only positive or negative samples.\n",
      "[18:31:50] WARNING: ../src/metric/auc.cc:307: Dataset contains only positive or negative samples.\n",
      "[18:31:50] WARNING: ../src/metric/auc.cc:307: Dataset contains only positive or negative samples.\n",
      "[18:31:50] WARNING: ../src/metric/auc.cc:307: Dataset contains only positive or negative samples.\n",
      "[18:31:50] WARNING: ../src/metric/auc.cc:307: Dataset contains only positive or negative samples.\n"
     ]
    },
    {
     "data": {
      "text/plain": [
       "XGBClassifier(base_score=0.5, booster='gbtree', colsample_bylevel=1,\n",
       "              colsample_bynode=1, colsample_bytree=1, enable_categorical=False,\n",
       "              gamma=0, gpu_id=-1, importance_type=None,\n",
       "              interaction_constraints='', learning_rate=0.1, max_delta_step=0,\n",
       "              max_depth=6, min_child_weight=1, missing=nan,\n",
       "              monotone_constraints='()', n_estimators=200, n_jobs=4,\n",
       "              num_parallel_tree=1, predictor='auto', random_state=0,\n",
       "              reg_alpha=0.1, reg_lambda=1, scale_pos_weight=1, seed=7,\n",
       "              subsample=1, tree_method='exact', validate_parameters=1,\n",
       "              verbosity=None)"
      ]
     },
     "execution_count": 98,
     "metadata": {},
     "output_type": "execute_result"
    }
   ],
   "source": [
    "clfxgBoost = xgb.XGBClassifier(\n",
    "   base_score=0.5, booster='gbtree',\n",
    "              gamma=0, learning_rate=0.1, max_depth= 6,\n",
    "              monotone_constraints='()', n_estimators= 200,\n",
    "    num_parallel_tree=1, predictor='auto', random_state=0,\n",
    "              reg_alpha=0.1, reg_lambda=1, scale_pos_weight=1, seed=7,\n",
    "              subsample=1, tree_method='exact', validate_parameters=1,\n",
    "              \n",
    ")\n",
    "clfxgBoost.fit(X_train, y_train, verbose = 0, early_stopping_rounds=15,\n",
    "               eval_metric= 'auc',eval_set =[(X_test ,y_test)] )"
   ]
  },
  {
   "cell_type": "markdown",
   "id": "006dc464",
   "metadata": {
    "papermill": {
     "duration": 0.326236,
     "end_time": "2022-02-26T18:31:50.992119",
     "exception": false,
     "start_time": "2022-02-26T18:31:50.665883",
     "status": "completed"
    },
    "tags": []
   },
   "source": [
    "# **Compare Classifier Models Accuracy**"
   ]
  },
  {
   "cell_type": "code",
   "execution_count": 99,
   "id": "afa1c478",
   "metadata": {
    "execution": {
     "iopub.execute_input": "2022-02-26T18:31:51.630664Z",
     "iopub.status.busy": "2022-02-26T18:31:51.630030Z",
     "iopub.status.idle": "2022-02-26T18:31:51.638748Z",
     "shell.execute_reply": "2022-02-26T18:31:51.639323Z",
     "shell.execute_reply.started": "2022-02-26T18:18:01.463358Z"
    },
    "papermill": {
     "duration": 0.328393,
     "end_time": "2022-02-26T18:31:51.639520",
     "exception": false,
     "start_time": "2022-02-26T18:31:51.311127",
     "status": "completed"
    },
    "tags": []
   },
   "outputs": [
    {
     "data": {
      "text/plain": [
       "0       0\n",
       "1       0\n",
       "2       0\n",
       "3       0\n",
       "4       0\n",
       "       ..\n",
       "1207    1\n",
       "1208    1\n",
       "1209    1\n",
       "1210    1\n",
       "1211    1\n",
       "Name: Landslide, Length: 1212, dtype: int64"
      ]
     },
     "execution_count": 99,
     "metadata": {},
     "output_type": "execute_result"
    }
   ],
   "source": [
    "#creat dataset in features and target variable\n",
    "feature_columns = ['Flow', 'Earthquake','Aspect' ,'Lithology','Plan','NDWI' ,'Slope' ,'Curvature','Elevation','NDVI']\n",
    "X = LS_df[feature_columns] # training Features (Predectors)\n",
    "y = LS_df['Landslide']     # Target variable\n",
    "X\n",
    "y"
   ]
  },
  {
   "cell_type": "code",
   "execution_count": 100,
   "id": "21e85ebf",
   "metadata": {
    "execution": {
     "iopub.execute_input": "2022-02-26T18:31:52.276082Z",
     "iopub.status.busy": "2022-02-26T18:31:52.275400Z",
     "iopub.status.idle": "2022-02-26T18:31:52.282217Z",
     "shell.execute_reply": "2022-02-26T18:31:52.282892Z",
     "shell.execute_reply.started": "2022-02-26T18:18:01.475375Z"
    },
    "papermill": {
     "duration": 0.326096,
     "end_time": "2022-02-26T18:31:52.283069",
     "exception": false,
     "start_time": "2022-02-26T18:31:51.956973",
     "status": "completed"
    },
    "tags": []
   },
   "outputs": [],
   "source": [
    "from sklearn.model_selection import train_test_split\n",
    "# split X and y into training and testing sets\n",
    "X_train,X_val,y_train,y_val=train_test_split(X,y,test_size=0.20,random_state=20)\n"
   ]
  },
  {
   "cell_type": "code",
   "execution_count": 101,
   "id": "04857ca6",
   "metadata": {
    "execution": {
     "iopub.execute_input": "2022-02-26T18:31:52.917751Z",
     "iopub.status.busy": "2022-02-26T18:31:52.917099Z",
     "iopub.status.idle": "2022-02-26T18:31:52.928672Z",
     "shell.execute_reply": "2022-02-26T18:31:52.929367Z",
     "shell.execute_reply.started": "2022-02-26T18:18:01.488037Z"
    },
    "papermill": {
     "duration": 0.329687,
     "end_time": "2022-02-26T18:31:52.929559",
     "exception": false,
     "start_time": "2022-02-26T18:31:52.599872",
     "status": "completed"
    },
    "tags": []
   },
   "outputs": [
    {
     "name": "stdout",
     "output_type": "stream",
     "text": [
      "73.25\n"
     ]
    }
   ],
   "source": [
    "#test the accuracy of Decision Tree\n",
    "\n",
    "\n",
    "decisiontree = DecisionTreeClassifier()\n",
    "decisiontree.fit(X_train, y_train)\n",
    "y_pred = decisiontree.predict(X_val)\n",
    "acc_decisiontree = round(accuracy_score(y_pred, y_val) * 100, 2)\n",
    "print(acc_decisiontree)"
   ]
  },
  {
   "cell_type": "code",
   "execution_count": 102,
   "id": "70e97e47",
   "metadata": {
    "execution": {
     "iopub.execute_input": "2022-02-26T18:31:53.565348Z",
     "iopub.status.busy": "2022-02-26T18:31:53.564708Z",
     "iopub.status.idle": "2022-02-26T18:31:53.832917Z",
     "shell.execute_reply": "2022-02-26T18:31:53.833432Z",
     "shell.execute_reply.started": "2022-02-26T18:18:01.514126Z"
    },
    "papermill": {
     "duration": 0.586895,
     "end_time": "2022-02-26T18:31:53.833626",
     "exception": false,
     "start_time": "2022-02-26T18:31:53.246731",
     "status": "completed"
    },
    "tags": []
   },
   "outputs": [
    {
     "name": "stdout",
     "output_type": "stream",
     "text": [
      "80.25\n"
     ]
    }
   ],
   "source": [
    "# test the accuracy of Random Forest\n",
    "randomforest = RandomForestClassifier()\n",
    "randomforest.fit(X_train, y_train)\n",
    "y_pred = randomforest.predict(X_val)\n",
    "acc_randomforest = round(accuracy_score(y_pred, y_val) * 100, 2)\n",
    "print(acc_randomforest)"
   ]
  },
  {
   "cell_type": "code",
   "execution_count": 103,
   "id": "cbacebad",
   "metadata": {
    "execution": {
     "iopub.execute_input": "2022-02-26T18:31:54.471666Z",
     "iopub.status.busy": "2022-02-26T18:31:54.470939Z",
     "iopub.status.idle": "2022-02-26T18:31:54.617764Z",
     "shell.execute_reply": "2022-02-26T18:31:54.617171Z",
     "shell.execute_reply.started": "2022-02-26T18:18:02.281895Z"
    },
    "papermill": {
     "duration": 0.4636,
     "end_time": "2022-02-26T18:31:54.617938",
     "exception": false,
     "start_time": "2022-02-26T18:31:54.154338",
     "status": "completed"
    },
    "tags": []
   },
   "outputs": [
    {
     "name": "stdout",
     "output_type": "stream",
     "text": [
      "80.66\n"
     ]
    }
   ],
   "source": [
    "from sklearn.ensemble import GradientBoostingClassifier\n",
    "# test the accuracy of Gradient Boosting Classifier\n",
    "gbc = GradientBoostingClassifier()\n",
    "gbc.fit(X_train, y_train)\n",
    "y_pred = gbc.predict(X_val)\n",
    "acc_gbc = round(accuracy_score(y_pred, y_val) * 100, 2)\n",
    "print(acc_gbc)"
   ]
  },
  {
   "cell_type": "code",
   "execution_count": 104,
   "id": "2cd2138a",
   "metadata": {
    "execution": {
     "iopub.execute_input": "2022-02-26T18:31:55.261419Z",
     "iopub.status.busy": "2022-02-26T18:31:55.258041Z",
     "iopub.status.idle": "2022-02-26T18:31:55.751721Z",
     "shell.execute_reply": "2022-02-26T18:31:55.751116Z",
     "shell.execute_reply.started": "2022-02-26T18:18:02.434704Z"
    },
    "papermill": {
     "duration": 0.815226,
     "end_time": "2022-02-26T18:31:55.751887",
     "exception": false,
     "start_time": "2022-02-26T18:31:54.936661",
     "status": "completed"
    },
    "tags": []
   },
   "outputs": [
    {
     "name": "stdout",
     "output_type": "stream",
     "text": [
      "82.3\n"
     ]
    }
   ],
   "source": [
    "from catboost import CatBoostClassifier, cv, Pool\n",
    "\n",
    "clf =CatBoostClassifier(eval_metric='Accuracy',use_best_model=True,random_seed=2)\n",
    "clf.fit(X_train,y_train, eval_set=(X_val,y_val), early_stopping_rounds=100,verbose=False)\n",
    "#,cat_features=cate_features_index,\n",
    "y_pred = clf.predict(X_val)\n",
    "acc_clf = round(accuracy_score(y_pred, y_val) * 100, 2)\n",
    "print(acc_clf)"
   ]
  },
  {
   "cell_type": "code",
   "execution_count": 105,
   "id": "6422cda1",
   "metadata": {
    "execution": {
     "iopub.execute_input": "2022-02-26T18:31:56.399926Z",
     "iopub.status.busy": "2022-02-26T18:31:56.398895Z",
     "iopub.status.idle": "2022-02-26T18:31:56.408936Z",
     "shell.execute_reply": "2022-02-26T18:31:56.408362Z",
     "shell.execute_reply.started": "2022-02-26T18:18:02.718261Z"
    },
    "papermill": {
     "duration": 0.337606,
     "end_time": "2022-02-26T18:31:56.409085",
     "exception": false,
     "start_time": "2022-02-26T18:31:56.071479",
     "status": "completed"
    },
    "tags": []
   },
   "outputs": [
    {
     "data": {
      "text/html": [
       "<div>\n",
       "<style scoped>\n",
       "    .dataframe tbody tr th:only-of-type {\n",
       "        vertical-align: middle;\n",
       "    }\n",
       "\n",
       "    .dataframe tbody tr th {\n",
       "        vertical-align: top;\n",
       "    }\n",
       "\n",
       "    .dataframe thead th {\n",
       "        text-align: right;\n",
       "    }\n",
       "</style>\n",
       "<table border=\"1\" class=\"dataframe\">\n",
       "  <thead>\n",
       "    <tr style=\"text-align: right;\">\n",
       "      <th></th>\n",
       "      <th>Model</th>\n",
       "      <th>Accuracy</th>\n",
       "    </tr>\n",
       "  </thead>\n",
       "  <tbody>\n",
       "    <tr>\n",
       "      <th>3</th>\n",
       "      <td>Cat Boost Classifier</td>\n",
       "      <td>82.30</td>\n",
       "    </tr>\n",
       "    <tr>\n",
       "      <th>2</th>\n",
       "      <td>Gradient Boosting Classifier</td>\n",
       "      <td>80.66</td>\n",
       "    </tr>\n",
       "    <tr>\n",
       "      <th>0</th>\n",
       "      <td>Random Forest</td>\n",
       "      <td>80.25</td>\n",
       "    </tr>\n",
       "    <tr>\n",
       "      <th>1</th>\n",
       "      <td>Decision Tree</td>\n",
       "      <td>73.25</td>\n",
       "    </tr>\n",
       "  </tbody>\n",
       "</table>\n",
       "</div>"
      ],
      "text/plain": [
       "                          Model  Accuracy\n",
       "3          Cat Boost Classifier     82.30\n",
       "2  Gradient Boosting Classifier     80.66\n",
       "0                 Random Forest     80.25\n",
       "1                 Decision Tree     73.25"
      ]
     },
     "execution_count": 105,
     "metadata": {},
     "output_type": "execute_result"
    }
   ],
   "source": [
    " #Let's compare the accuracies of each model\n",
    "\n",
    "models = pd.DataFrame({\n",
    "    'Model': [ 'Random Forest', 'Decision Tree',  'Gradient Boosting Classifier','Cat Boost Classifier'],\n",
    "    'Accuracy': [ acc_randomforest, acc_decisiontree, acc_gbc, acc_clf]})\n",
    "models.sort_values(by='Accuracy', ascending=False)"
   ]
  },
  {
   "cell_type": "code",
   "execution_count": null,
   "id": "a2951409",
   "metadata": {
    "papermill": {
     "duration": 0.319538,
     "end_time": "2022-02-26T18:31:57.057829",
     "exception": false,
     "start_time": "2022-02-26T18:31:56.738291",
     "status": "completed"
    },
    "tags": []
   },
   "outputs": [],
   "source": []
  }
 ],
 "metadata": {
  "kernelspec": {
   "display_name": "Python 3",
   "language": "python",
   "name": "python3"
  },
  "language_info": {
   "codemirror_mode": {
    "name": "ipython",
    "version": 3
   },
   "file_extension": ".py",
   "mimetype": "text/x-python",
   "name": "python",
   "nbconvert_exporter": "python",
   "pygments_lexer": "ipython3",
   "version": "3.7.12"
  },
  "papermill": {
   "default_parameters": {},
   "duration": 700.700027,
   "end_time": "2022-02-26T18:31:59.996505",
   "environment_variables": {},
   "exception": null,
   "input_path": "__notebook__.ipynb",
   "output_path": "__notebook__.ipynb",
   "parameters": {},
   "start_time": "2022-02-26T18:20:19.296478",
   "version": "2.3.3"
  }
 },
 "nbformat": 4,
 "nbformat_minor": 5
}
